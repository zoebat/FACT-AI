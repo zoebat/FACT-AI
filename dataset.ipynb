{
 "cells": [
  {
   "cell_type": "code",
   "execution_count": 1,
   "metadata": {},
   "outputs": [],
   "source": [
    "from collections import namedtuple\n",
    "\n",
    "import numpy as np\n",
    "import pandas as pd\n",
    "from rdt.transformers import NumericalTransformer, OneHotEncodingTransformer\n",
    "import matplotlib.pyplot as plt"
   ]
  },
  {
   "cell_type": "code",
   "execution_count": 2,
   "metadata": {},
   "outputs": [],
   "source": [
    "SpanInfo = namedtuple('SpanInfo', ['dim', 'activation_fn'])\n",
    "ColumnTransformInfo = namedtuple(\n",
    "    'ColumnTransformInfo', [\n",
    "        'column_name', 'column_type', 'transform', 'output_info', 'output_dimensions'\n",
    "    ]\n",
    ")"
   ]
  },
  {
   "cell_type": "code",
   "execution_count": 32,
   "metadata": {},
   "outputs": [],
   "source": [
    "\"\"\"DataTransformer module.\"\"\"\n",
    "\n",
    "from collections import namedtuple\n",
    "\n",
    "import numpy as np\n",
    "import pandas as pd\n",
    "from rdt.transformers import BayesGMMTransformer, OneHotEncodingTransformer\n",
    "\n",
    "SpanInfo = namedtuple('SpanInfo', ['dim', 'activation_fn'])\n",
    "ColumnTransformInfo = namedtuple(\n",
    "    'ColumnTransformInfo', [\n",
    "        'column_name', 'column_type', 'transform', 'output_info', 'output_dimensions'\n",
    "    ]\n",
    ")\n",
    "\n",
    "\n",
    "class DataTransformer(object):\n",
    "    \"\"\"Data Transformer.\n",
    "\n",
    "    Model continuous columns with a BayesianGMM and normalized to a scalar [0, 1] and a vector.\n",
    "    Discrete columns are encoded using a scikit-learn OneHotEncoder.\n",
    "    \"\"\"\n",
    "\n",
    "    def __init__(self, max_clusters=5, weight_threshold=0.005):\n",
    "        \"\"\"Create a data transformer.\n",
    "\n",
    "        Args:\n",
    "            max_clusters (int):\n",
    "                Maximum number of Gaussian distributions in Bayesian GMM.\n",
    "            weight_threshold (float):\n",
    "                Weight threshold for a Gaussian distribution to be kept.\n",
    "        \"\"\"\n",
    "        self._max_clusters = max_clusters\n",
    "        self._weight_threshold = weight_threshold\n",
    "\n",
    "    def _fit_continuous(self, data):\n",
    "        \"\"\"Train Bayesian GMM for continuous columns.\n",
    "\n",
    "        Args:\n",
    "            data (pd.DataFrame):\n",
    "                A dataframe containing a column.\n",
    "\n",
    "        Returns:\n",
    "            namedtuple:\n",
    "                A ``ColumnTransformInfo`` object.\n",
    "        \"\"\"\n",
    "        column_name = data.columns[0]\n",
    "        gm = BayesGMMTransformer(max_clusters=self._max_clusters)\n",
    "        gm.fit(data, [column_name])\n",
    "        num_components = sum(gm.valid_component_indicator)\n",
    "\n",
    "        return ColumnTransformInfo(\n",
    "            column_name=column_name, column_type='continuous', transform=gm,\n",
    "            output_info=[SpanInfo(1, 'tanh'), SpanInfo(num_components, 'softmax')],\n",
    "            output_dimensions=1 + num_components)\n",
    "\n",
    "    def _fit_discrete(self, data):\n",
    "        \"\"\"Fit one hot encoder for discrete column.\n",
    "\n",
    "        Args:\n",
    "            data (pd.DataFrame):\n",
    "                A dataframe containing a column.\n",
    "\n",
    "        Returns:\n",
    "            namedtuple:\n",
    "                A ``ColumnTransformInfo`` object.\n",
    "        \"\"\"\n",
    "        column_name = data.columns[0]\n",
    "        ohe = OneHotEncodingTransformer()\n",
    "        ohe.fit(data, [column_name])\n",
    "        num_categories = len(ohe.dummies)\n",
    "\n",
    "        return ColumnTransformInfo(\n",
    "            column_name=column_name, column_type='discrete', transform=ohe,\n",
    "            output_info=[SpanInfo(num_categories, 'softmax')],\n",
    "            output_dimensions=num_categories)\n",
    "\n",
    "    def fit(self, raw_data, discrete_columns=()):\n",
    "        \"\"\"Fit the ``DataTransformer``.\n",
    "\n",
    "        Fits a ``BayesGMMTransformer`` for continuous columns and a\n",
    "        ``OneHotEncodingTransformer`` for discrete columns.\n",
    "\n",
    "        This step also counts the #columns in matrix data and span information.\n",
    "        \"\"\"\n",
    "        self.output_info_list = []\n",
    "        self.output_dimensions = 0\n",
    "        self.dataframe = True\n",
    "\n",
    "        if not isinstance(raw_data, pd.DataFrame):\n",
    "            self.dataframe = False\n",
    "            # work around for RDT issue #328 Fitting with numerical column names fails\n",
    "            discrete_columns = [str(column) for column in discrete_columns]\n",
    "            column_names = [str(num) for num in range(raw_data.shape[1])]\n",
    "            raw_data = pd.DataFrame(raw_data, columns=column_names)\n",
    "\n",
    "        self._column_raw_dtypes = raw_data.infer_objects().dtypes\n",
    "        self._column_transform_info_list = []\n",
    "        for column_name in raw_data.columns:\n",
    "            if column_name in discrete_columns:\n",
    "                column_transform_info = self._fit_discrete(raw_data[[column_name]])\n",
    "            else:\n",
    "                column_transform_info = self._fit_continuous(raw_data[[column_name]])\n",
    "\n",
    "            self.output_info_list.append(column_transform_info.output_info)\n",
    "            self.output_dimensions += column_transform_info.output_dimensions\n",
    "            self._column_transform_info_list.append(column_transform_info)\n",
    "\n",
    "    def _transform_continuous(self, column_transform_info, data):\n",
    "        column_name = data.columns[0]\n",
    "        data[column_name] = data[column_name].to_numpy().flatten()\n",
    "        gm = column_transform_info.transform\n",
    "        transformed = gm.transform(data, [column_name])\n",
    "\n",
    "        #  Converts the transformed data to the appropriate output format.\n",
    "        #  The first column (ending in '.normalized') stays the same,\n",
    "        #  but the lable encoded column (ending in '.component') is one hot encoded.\n",
    "        output = np.zeros((len(transformed), column_transform_info.output_dimensions))\n",
    "        output[:, 0] = transformed[f'{column_name}.normalized'].to_numpy()\n",
    "        index = transformed[f'{column_name}.component'].to_numpy().astype(int)\n",
    "        output[np.arange(index.size), index + 1] = 1.0\n",
    "\n",
    "        return output\n",
    "\n",
    "    def _transform_discrete(self, column_transform_info, data):\n",
    "        ohe = column_transform_info.transform\n",
    "        return ohe.transform(data).to_numpy()\n",
    "\n",
    "    def transform(self, raw_data):\n",
    "        \"\"\"Take raw data and output a matrix data.\"\"\"\n",
    "        if not isinstance(raw_data, pd.DataFrame):\n",
    "            column_names = [str(num) for num in range(raw_data.shape[1])]\n",
    "            raw_data = pd.DataFrame(raw_data, columns=column_names)\n",
    "\n",
    "        column_data_list = []\n",
    "        for column_transform_info in self._column_transform_info_list:\n",
    "            column_name = column_transform_info.column_name\n",
    "            data = raw_data[[column_name]]\n",
    "            if column_transform_info.column_type == 'continuous':\n",
    "                column_data_list.append(self._transform_continuous(column_transform_info, data))\n",
    "            else:\n",
    "                column_data_list.append(self._transform_discrete(column_transform_info, data))\n",
    "\n",
    "        return np.concatenate(column_data_list, axis=1).astype(float)\n",
    "\n",
    "    def _inverse_transform_continuous(self, column_transform_info, column_data, sigmas, st):\n",
    "        gm = column_transform_info.transform\n",
    "        data = pd.DataFrame(column_data[:, :2], columns=list(gm.get_output_types()))\n",
    "        data.iloc[:, 1] = np.argmax(column_data[:, 1:], axis=1)\n",
    "        if sigmas is not None:\n",
    "            selected_normalized_value = np.random.normal(data.iloc[:, 0], sigmas[st])\n",
    "            data.iloc[:, 0] = selected_normalized_value\n",
    "\n",
    "        return gm.reverse_transform(data, [column_transform_info.column_name])\n",
    "\n",
    "    def _inverse_transform_discrete(self, column_transform_info, column_data):\n",
    "        ohe = column_transform_info.transform\n",
    "        data = pd.DataFrame(column_data, columns=list(ohe.get_output_types()))\n",
    "        return ohe.reverse_transform(data)[column_transform_info.column_name]\n",
    "\n",
    "    def inverse_transform(self, data, sigmas=None):\n",
    "        \"\"\"Take matrix data and output raw data.\n",
    "\n",
    "        Output uses the same type as input to the transform function.\n",
    "        Either np array or pd dataframe.\n",
    "        \"\"\"\n",
    "        st = 0\n",
    "        recovered_column_data_list = []\n",
    "        column_names = []\n",
    "        for column_transform_info in self._column_transform_info_list:\n",
    "            dim = column_transform_info.output_dimensions\n",
    "            column_data = data[:, st:st + dim]\n",
    "            if column_transform_info.column_type == 'continuous':\n",
    "                recovered_column_data = self._inverse_transform_continuous(\n",
    "                    column_transform_info, column_data, sigmas, st)\n",
    "            else:\n",
    "                recovered_column_data = self._inverse_transform_discrete(\n",
    "                    column_transform_info, column_data)\n",
    "\n",
    "            recovered_column_data_list.append(recovered_column_data)\n",
    "            column_names.append(column_transform_info.column_name)\n",
    "            st += dim\n",
    "\n",
    "        recovered_data = np.column_stack(recovered_column_data_list)\n",
    "        recovered_data = (pd.DataFrame(recovered_data, columns=column_names)\n",
    "                          .astype(self._column_raw_dtypes))\n",
    "        if not self.dataframe:\n",
    "            recovered_data = recovered_data.to_numpy()\n",
    "\n",
    "        return recovered_data\n",
    "\n",
    "    def convert_column_name_value_to_id(self, column_name, value):\n",
    "        \"\"\"Get the ids of the given `column_name`.\"\"\"\n",
    "        discrete_counter = 0\n",
    "        column_id = 0\n",
    "        for column_transform_info in self._column_transform_info_list:\n",
    "            if column_transform_info.column_name == column_name:\n",
    "                break\n",
    "            if column_transform_info.column_type == 'discrete':\n",
    "                discrete_counter += 1\n",
    "\n",
    "            column_id += 1\n",
    "\n",
    "        else:\n",
    "            raise ValueError(f\"The column_name `{column_name}` doesn't exist in the data.\")\n",
    "\n",
    "        ohe = column_transform_info.transform\n",
    "        data = pd.DataFrame([value], columns=[column_transform_info.column_name])\n",
    "        one_hot = ohe.transform(data).to_numpy()[0]\n",
    "        if sum(one_hot) == 0:\n",
    "            raise ValueError(f\"The value `{value}` doesn't exist in the column `{column_name}`.\")\n",
    "\n",
    "        return {\n",
    "            'discrete_column_id': discrete_counter,\n",
    "            'column_id': column_id,\n",
    "            'value_id': np.argmax(one_hot)\n",
    "        }\n"
   ]
  },
  {
   "cell_type": "code",
   "execution_count": 4,
   "metadata": {},
   "outputs": [],
   "source": [
    "CENSUS = 'http://ctgan-data.s3.amazonaws.com/census.csv.gz'\n",
    "df = pd.read_csv(CENSUS, compression='gzip')"
   ]
  },
  {
   "cell_type": "code",
   "execution_count": 5,
   "metadata": {},
   "outputs": [
    {
     "data": {
      "text/html": [
       "<div>\n",
       "<style scoped>\n",
       "    .dataframe tbody tr th:only-of-type {\n",
       "        vertical-align: middle;\n",
       "    }\n",
       "\n",
       "    .dataframe tbody tr th {\n",
       "        vertical-align: top;\n",
       "    }\n",
       "\n",
       "    .dataframe thead th {\n",
       "        text-align: right;\n",
       "    }\n",
       "</style>\n",
       "<table border=\"1\" class=\"dataframe\">\n",
       "  <thead>\n",
       "    <tr style=\"text-align: right;\">\n",
       "      <th></th>\n",
       "      <th>age</th>\n",
       "      <th>workclass</th>\n",
       "      <th>fnlwgt</th>\n",
       "      <th>education</th>\n",
       "      <th>education-num</th>\n",
       "      <th>marital-status</th>\n",
       "      <th>occupation</th>\n",
       "      <th>relationship</th>\n",
       "      <th>race</th>\n",
       "      <th>sex</th>\n",
       "      <th>capital-gain</th>\n",
       "      <th>capital-loss</th>\n",
       "      <th>hours-per-week</th>\n",
       "      <th>native-country</th>\n",
       "      <th>income</th>\n",
       "    </tr>\n",
       "  </thead>\n",
       "  <tbody>\n",
       "    <tr>\n",
       "      <th>0</th>\n",
       "      <td>39</td>\n",
       "      <td>State-gov</td>\n",
       "      <td>77516</td>\n",
       "      <td>Bachelors</td>\n",
       "      <td>13</td>\n",
       "      <td>Never-married</td>\n",
       "      <td>Adm-clerical</td>\n",
       "      <td>Not-in-family</td>\n",
       "      <td>White</td>\n",
       "      <td>Male</td>\n",
       "      <td>2174</td>\n",
       "      <td>0</td>\n",
       "      <td>40</td>\n",
       "      <td>United-States</td>\n",
       "      <td>&lt;=50K</td>\n",
       "    </tr>\n",
       "    <tr>\n",
       "      <th>1</th>\n",
       "      <td>50</td>\n",
       "      <td>Self-emp-not-inc</td>\n",
       "      <td>83311</td>\n",
       "      <td>Bachelors</td>\n",
       "      <td>13</td>\n",
       "      <td>Married-civ-spouse</td>\n",
       "      <td>Exec-managerial</td>\n",
       "      <td>Husband</td>\n",
       "      <td>White</td>\n",
       "      <td>Male</td>\n",
       "      <td>0</td>\n",
       "      <td>0</td>\n",
       "      <td>13</td>\n",
       "      <td>United-States</td>\n",
       "      <td>&lt;=50K</td>\n",
       "    </tr>\n",
       "    <tr>\n",
       "      <th>2</th>\n",
       "      <td>38</td>\n",
       "      <td>Private</td>\n",
       "      <td>215646</td>\n",
       "      <td>HS-grad</td>\n",
       "      <td>9</td>\n",
       "      <td>Divorced</td>\n",
       "      <td>Handlers-cleaners</td>\n",
       "      <td>Not-in-family</td>\n",
       "      <td>White</td>\n",
       "      <td>Male</td>\n",
       "      <td>0</td>\n",
       "      <td>0</td>\n",
       "      <td>40</td>\n",
       "      <td>United-States</td>\n",
       "      <td>&lt;=50K</td>\n",
       "    </tr>\n",
       "    <tr>\n",
       "      <th>3</th>\n",
       "      <td>53</td>\n",
       "      <td>Private</td>\n",
       "      <td>234721</td>\n",
       "      <td>11th</td>\n",
       "      <td>7</td>\n",
       "      <td>Married-civ-spouse</td>\n",
       "      <td>Handlers-cleaners</td>\n",
       "      <td>Husband</td>\n",
       "      <td>Black</td>\n",
       "      <td>Male</td>\n",
       "      <td>0</td>\n",
       "      <td>0</td>\n",
       "      <td>40</td>\n",
       "      <td>United-States</td>\n",
       "      <td>&lt;=50K</td>\n",
       "    </tr>\n",
       "    <tr>\n",
       "      <th>4</th>\n",
       "      <td>28</td>\n",
       "      <td>Private</td>\n",
       "      <td>338409</td>\n",
       "      <td>Bachelors</td>\n",
       "      <td>13</td>\n",
       "      <td>Married-civ-spouse</td>\n",
       "      <td>Prof-specialty</td>\n",
       "      <td>Wife</td>\n",
       "      <td>Black</td>\n",
       "      <td>Female</td>\n",
       "      <td>0</td>\n",
       "      <td>0</td>\n",
       "      <td>40</td>\n",
       "      <td>Cuba</td>\n",
       "      <td>&lt;=50K</td>\n",
       "    </tr>\n",
       "    <tr>\n",
       "      <th>5</th>\n",
       "      <td>37</td>\n",
       "      <td>Private</td>\n",
       "      <td>284582</td>\n",
       "      <td>Masters</td>\n",
       "      <td>14</td>\n",
       "      <td>Married-civ-spouse</td>\n",
       "      <td>Exec-managerial</td>\n",
       "      <td>Wife</td>\n",
       "      <td>White</td>\n",
       "      <td>Female</td>\n",
       "      <td>0</td>\n",
       "      <td>0</td>\n",
       "      <td>40</td>\n",
       "      <td>United-States</td>\n",
       "      <td>&lt;=50K</td>\n",
       "    </tr>\n",
       "    <tr>\n",
       "      <th>6</th>\n",
       "      <td>49</td>\n",
       "      <td>Private</td>\n",
       "      <td>160187</td>\n",
       "      <td>9th</td>\n",
       "      <td>5</td>\n",
       "      <td>Married-spouse-absent</td>\n",
       "      <td>Other-service</td>\n",
       "      <td>Not-in-family</td>\n",
       "      <td>Black</td>\n",
       "      <td>Female</td>\n",
       "      <td>0</td>\n",
       "      <td>0</td>\n",
       "      <td>16</td>\n",
       "      <td>Jamaica</td>\n",
       "      <td>&lt;=50K</td>\n",
       "    </tr>\n",
       "    <tr>\n",
       "      <th>7</th>\n",
       "      <td>52</td>\n",
       "      <td>Self-emp-not-inc</td>\n",
       "      <td>209642</td>\n",
       "      <td>HS-grad</td>\n",
       "      <td>9</td>\n",
       "      <td>Married-civ-spouse</td>\n",
       "      <td>Exec-managerial</td>\n",
       "      <td>Husband</td>\n",
       "      <td>White</td>\n",
       "      <td>Male</td>\n",
       "      <td>0</td>\n",
       "      <td>0</td>\n",
       "      <td>45</td>\n",
       "      <td>United-States</td>\n",
       "      <td>&gt;50K</td>\n",
       "    </tr>\n",
       "    <tr>\n",
       "      <th>8</th>\n",
       "      <td>31</td>\n",
       "      <td>Private</td>\n",
       "      <td>45781</td>\n",
       "      <td>Masters</td>\n",
       "      <td>14</td>\n",
       "      <td>Never-married</td>\n",
       "      <td>Prof-specialty</td>\n",
       "      <td>Not-in-family</td>\n",
       "      <td>White</td>\n",
       "      <td>Female</td>\n",
       "      <td>14084</td>\n",
       "      <td>0</td>\n",
       "      <td>50</td>\n",
       "      <td>United-States</td>\n",
       "      <td>&gt;50K</td>\n",
       "    </tr>\n",
       "    <tr>\n",
       "      <th>9</th>\n",
       "      <td>42</td>\n",
       "      <td>Private</td>\n",
       "      <td>159449</td>\n",
       "      <td>Bachelors</td>\n",
       "      <td>13</td>\n",
       "      <td>Married-civ-spouse</td>\n",
       "      <td>Exec-managerial</td>\n",
       "      <td>Husband</td>\n",
       "      <td>White</td>\n",
       "      <td>Male</td>\n",
       "      <td>5178</td>\n",
       "      <td>0</td>\n",
       "      <td>40</td>\n",
       "      <td>United-States</td>\n",
       "      <td>&gt;50K</td>\n",
       "    </tr>\n",
       "  </tbody>\n",
       "</table>\n",
       "</div>"
      ],
      "text/plain": [
       "   age          workclass  fnlwgt   education  education-num  \\\n",
       "0   39          State-gov   77516   Bachelors             13   \n",
       "1   50   Self-emp-not-inc   83311   Bachelors             13   \n",
       "2   38            Private  215646     HS-grad              9   \n",
       "3   53            Private  234721        11th              7   \n",
       "4   28            Private  338409   Bachelors             13   \n",
       "5   37            Private  284582     Masters             14   \n",
       "6   49            Private  160187         9th              5   \n",
       "7   52   Self-emp-not-inc  209642     HS-grad              9   \n",
       "8   31            Private   45781     Masters             14   \n",
       "9   42            Private  159449   Bachelors             13   \n",
       "\n",
       "           marital-status          occupation    relationship    race  \\\n",
       "0           Never-married        Adm-clerical   Not-in-family   White   \n",
       "1      Married-civ-spouse     Exec-managerial         Husband   White   \n",
       "2                Divorced   Handlers-cleaners   Not-in-family   White   \n",
       "3      Married-civ-spouse   Handlers-cleaners         Husband   Black   \n",
       "4      Married-civ-spouse      Prof-specialty            Wife   Black   \n",
       "5      Married-civ-spouse     Exec-managerial            Wife   White   \n",
       "6   Married-spouse-absent       Other-service   Not-in-family   Black   \n",
       "7      Married-civ-spouse     Exec-managerial         Husband   White   \n",
       "8           Never-married      Prof-specialty   Not-in-family   White   \n",
       "9      Married-civ-spouse     Exec-managerial         Husband   White   \n",
       "\n",
       "       sex  capital-gain  capital-loss  hours-per-week  native-country  income  \n",
       "0     Male          2174             0              40   United-States   <=50K  \n",
       "1     Male             0             0              13   United-States   <=50K  \n",
       "2     Male             0             0              40   United-States   <=50K  \n",
       "3     Male             0             0              40   United-States   <=50K  \n",
       "4   Female             0             0              40            Cuba   <=50K  \n",
       "5   Female             0             0              40   United-States   <=50K  \n",
       "6   Female             0             0              16         Jamaica   <=50K  \n",
       "7     Male             0             0              45   United-States    >50K  \n",
       "8   Female         14084             0              50   United-States    >50K  \n",
       "9     Male          5178             0              40   United-States    >50K  "
      ]
     },
     "execution_count": 5,
     "metadata": {},
     "output_type": "execute_result"
    }
   ],
   "source": [
    "df.head(10)"
   ]
  },
  {
   "cell_type": "code",
   "execution_count": 6,
   "metadata": {},
   "outputs": [
    {
     "data": {
      "text/plain": [
       "Index(['age', 'workclass', 'fnlwgt', 'education', 'education-num',\n",
       "       'marital-status', 'occupation', 'relationship', 'race', 'sex',\n",
       "       'capital-gain', 'capital-loss', 'hours-per-week', 'native-country',\n",
       "       'income'],\n",
       "      dtype='object')"
      ]
     },
     "execution_count": 6,
     "metadata": {},
     "output_type": "execute_result"
    }
   ],
   "source": [
    "df.columns"
   ]
  },
  {
   "cell_type": "code",
   "execution_count": 7,
   "metadata": {},
   "outputs": [
    {
     "data": {
      "text/plain": [
       "array([[<AxesSubplot:title={'center':'age'}>]], dtype=object)"
      ]
     },
     "execution_count": 7,
     "metadata": {},
     "output_type": "execute_result"
    },
    {
     "data": {
      "image/png": "[encoded data removed]",
      "text/plain": [
       "<Figure size 432x288 with 1 Axes>"
      ]
     },
     "metadata": {
      "needs_background": "light"
     },
     "output_type": "display_data"
    }
   ],
   "source": [
    "df.hist(column='age', bins=10)"
   ]
  },
  {
   "cell_type": "code",
   "execution_count": 8,
   "metadata": {},
   "outputs": [
    {
     "data": {
      "text/plain": [
       "array([[<AxesSubplot:title={'center':'fnlwgt'}>]], dtype=object)"
      ]
     },
     "execution_count": 8,
     "metadata": {},
     "output_type": "execute_result"
    },
    {
     "data": {
      "image/png": "[encoded data removed]",
      "text/plain": [
       "<Figure size 432x288 with 1 Axes>"
      ]
     },
     "metadata": {
      "needs_background": "light"
     },
     "output_type": "display_data"
    }
   ],
   "source": [
    "df.hist(column='fnlwgt', bins=1000)"
   ]
  },
  {
   "cell_type": "code",
   "execution_count": 9,
   "metadata": {},
   "outputs": [
    {
     "data": {
      "text/plain": [
       "array([[<AxesSubplot:title={'center':'capital-gain'}>]], dtype=object)"
      ]
     },
     "execution_count": 9,
     "metadata": {},
     "output_type": "execute_result"
    },
    {
     "data": {
      "image/png": "[encoded data removed]",
      "text/plain": [
       "<Figure size 432x288 with 1 Axes>"
      ]
     },
     "metadata": {
      "needs_background": "light"
     },
     "output_type": "display_data"
    }
   ],
   "source": [
    "df.hist(column='capital-gain', bins=10)"
   ]
  },
  {
   "cell_type": "code",
   "execution_count": 10,
   "metadata": {},
   "outputs": [
    {
     "data": {
      "text/plain": [
       "array([[<AxesSubplot:title={'center':'capital-loss'}>]], dtype=object)"
      ]
     },
     "execution_count": 10,
     "metadata": {},
     "output_type": "execute_result"
    },
    {
     "data": {
      "image/png": "[encoded data removed]",
      "text/plain": [
       "<Figure size 432x288 with 1 Axes>"
      ]
     },
     "metadata": {
      "needs_background": "light"
     },
     "output_type": "display_data"
    }
   ],
   "source": [
    "df.hist(column='capital-loss', bins=10)"
   ]
  },
  {
   "cell_type": "code",
   "execution_count": 11,
   "metadata": {},
   "outputs": [
    {
     "data": {
      "text/plain": [
       "array([[<AxesSubplot:title={'center':'hours-per-week'}>]], dtype=object)"
      ]
     },
     "execution_count": 11,
     "metadata": {},
     "output_type": "execute_result"
    },
    {
     "data": {
      "image/png": "[encoded data removed]",
      "text/plain": [
       "<Figure size 432x288 with 1 Axes>"
      ]
     },
     "metadata": {
      "needs_background": "light"
     },
     "output_type": "display_data"
    }
   ],
   "source": [
    "df.hist(column='hours-per-week', bins=20)"
   ]
  },
  {
   "cell_type": "code",
   "execution_count": 12,
   "metadata": {},
   "outputs": [
    {
     "data": {
      "text/plain": [
       "array([[<AxesSubplot:title={'center':'education-num'}>]], dtype=object)"
      ]
     },
     "execution_count": 12,
     "metadata": {},
     "output_type": "execute_result"
    },
    {
     "data": {
      "image/png": "[encoded data removed]",
      "text/plain": [
       "<Figure size 432x288 with 1 Axes>"
      ]
     },
     "metadata": {
      "needs_background": "light"
     },
     "output_type": "display_data"
    }
   ],
   "source": [
    "df.hist(column='education-num', bins=15)"
   ]
  },
  {
   "cell_type": "code",
   "execution_count": 13,
   "metadata": {},
   "outputs": [
    {
     "name": "stderr",
     "output_type": "stream",
     "text": [
      "/usr/local/Caskroom/miniconda/base/envs/fact/lib/python3.7/site-packages/sklearn/mixture/_base.py:269: ConvergenceWarning: Initialization 1 did not converge. Try different init parameters, or increase max_iter, tol or check for degenerate data.\n",
      "  % (init + 1), ConvergenceWarning)\n",
      "/usr/local/Caskroom/miniconda/base/envs/fact/lib/python3.7/site-packages/sklearn/mixture/_base.py:269: ConvergenceWarning: Initialization 1 did not converge. Try different init parameters, or increase max_iter, tol or check for degenerate data.\n",
      "  % (init + 1), ConvergenceWarning)\n",
      "/usr/local/Caskroom/miniconda/base/envs/fact/lib/python3.7/site-packages/sklearn/mixture/_base.py:269: ConvergenceWarning: Initialization 1 did not converge. Try different init parameters, or increase max_iter, tol or check for degenerate data.\n",
      "  % (init + 1), ConvergenceWarning)\n",
      "/usr/local/Caskroom/miniconda/base/envs/fact/lib/python3.7/site-packages/sklearn/mixture/_base.py:269: ConvergenceWarning: Initialization 1 did not converge. Try different init parameters, or increase max_iter, tol or check for degenerate data.\n",
      "  % (init + 1), ConvergenceWarning)\n"
     ]
    }
   ],
   "source": [
    "from ctgan import CTGANSynthesizer\n",
    "from ctgan import load_demo\n",
    "\n",
    "data = load_demo()\n",
    "\n",
    "# Names of the columns that are discrete\n",
    "discrete_columns = [\n",
    "    'workclass',\n",
    "    'education',\n",
    "    'education-num',\n",
    "    'marital-status',\n",
    "    'occupation',\n",
    "    'relationship',\n",
    "    'race',\n",
    "    'sex',\n",
    "    'native-country',\n",
    "    'income'\n",
    "]\n",
    "\n",
    "ctgan = CTGANSynthesizer(epochs=10)\n",
    "ctgan.fit(data, discrete_columns)\n",
    "\n",
    "# Synthetic copy\n",
    "samples = ctgan.sample(1000)"
   ]
  },
  {
   "cell_type": "code",
   "execution_count": 14,
   "metadata": {},
   "outputs": [
    {
     "data": {
      "text/html": [
       "<div>\n",
       "<style scoped>\n",
       "    .dataframe tbody tr th:only-of-type {\n",
       "        vertical-align: middle;\n",
       "    }\n",
       "\n",
       "    .dataframe tbody tr th {\n",
       "        vertical-align: top;\n",
       "    }\n",
       "\n",
       "    .dataframe thead th {\n",
       "        text-align: right;\n",
       "    }\n",
       "</style>\n",
       "<table border=\"1\" class=\"dataframe\">\n",
       "  <thead>\n",
       "    <tr style=\"text-align: right;\">\n",
       "      <th></th>\n",
       "      <th>age</th>\n",
       "      <th>workclass</th>\n",
       "      <th>fnlwgt</th>\n",
       "      <th>education</th>\n",
       "      <th>education-num</th>\n",
       "      <th>marital-status</th>\n",
       "      <th>occupation</th>\n",
       "      <th>relationship</th>\n",
       "      <th>race</th>\n",
       "      <th>sex</th>\n",
       "      <th>capital-gain</th>\n",
       "      <th>capital-loss</th>\n",
       "      <th>hours-per-week</th>\n",
       "      <th>native-country</th>\n",
       "      <th>income</th>\n",
       "    </tr>\n",
       "  </thead>\n",
       "  <tbody>\n",
       "    <tr>\n",
       "      <th>0</th>\n",
       "      <td>33</td>\n",
       "      <td>Private</td>\n",
       "      <td>177782</td>\n",
       "      <td>11th</td>\n",
       "      <td>9</td>\n",
       "      <td>Married-civ-spouse</td>\n",
       "      <td>Adm-clerical</td>\n",
       "      <td>Husband</td>\n",
       "      <td>White</td>\n",
       "      <td>Female</td>\n",
       "      <td>114</td>\n",
       "      <td>-5</td>\n",
       "      <td>40</td>\n",
       "      <td>United-States</td>\n",
       "      <td>&lt;=50K</td>\n",
       "    </tr>\n",
       "    <tr>\n",
       "      <th>1</th>\n",
       "      <td>31</td>\n",
       "      <td>Private</td>\n",
       "      <td>106615</td>\n",
       "      <td>Some-college</td>\n",
       "      <td>9</td>\n",
       "      <td>Married-civ-spouse</td>\n",
       "      <td>Protective-serv</td>\n",
       "      <td>Not-in-family</td>\n",
       "      <td>Asian-Pac-Islander</td>\n",
       "      <td>Male</td>\n",
       "      <td>95</td>\n",
       "      <td>-6</td>\n",
       "      <td>31</td>\n",
       "      <td>?</td>\n",
       "      <td>&lt;=50K</td>\n",
       "    </tr>\n",
       "    <tr>\n",
       "      <th>2</th>\n",
       "      <td>22</td>\n",
       "      <td>State-gov</td>\n",
       "      <td>233290</td>\n",
       "      <td>Some-college</td>\n",
       "      <td>13</td>\n",
       "      <td>Never-married</td>\n",
       "      <td>Sales</td>\n",
       "      <td>Other-relative</td>\n",
       "      <td>White</td>\n",
       "      <td>Male</td>\n",
       "      <td>-14</td>\n",
       "      <td>-5</td>\n",
       "      <td>40</td>\n",
       "      <td>Italy</td>\n",
       "      <td>&lt;=50K</td>\n",
       "    </tr>\n",
       "    <tr>\n",
       "      <th>3</th>\n",
       "      <td>59</td>\n",
       "      <td>Private</td>\n",
       "      <td>41076</td>\n",
       "      <td>9th</td>\n",
       "      <td>10</td>\n",
       "      <td>Never-married</td>\n",
       "      <td>Handlers-cleaners</td>\n",
       "      <td>Not-in-family</td>\n",
       "      <td>White</td>\n",
       "      <td>Male</td>\n",
       "      <td>36</td>\n",
       "      <td>-4</td>\n",
       "      <td>40</td>\n",
       "      <td>United-States</td>\n",
       "      <td>&lt;=50K</td>\n",
       "    </tr>\n",
       "    <tr>\n",
       "      <th>4</th>\n",
       "      <td>31</td>\n",
       "      <td>Without-pay</td>\n",
       "      <td>164451</td>\n",
       "      <td>Some-college</td>\n",
       "      <td>11</td>\n",
       "      <td>Married-civ-spouse</td>\n",
       "      <td>Other-service</td>\n",
       "      <td>Other-relative</td>\n",
       "      <td>White</td>\n",
       "      <td>Male</td>\n",
       "      <td>79</td>\n",
       "      <td>-4</td>\n",
       "      <td>40</td>\n",
       "      <td>United-States</td>\n",
       "      <td>&lt;=50K</td>\n",
       "    </tr>\n",
       "    <tr>\n",
       "      <th>...</th>\n",
       "      <td>...</td>\n",
       "      <td>...</td>\n",
       "      <td>...</td>\n",
       "      <td>...</td>\n",
       "      <td>...</td>\n",
       "      <td>...</td>\n",
       "      <td>...</td>\n",
       "      <td>...</td>\n",
       "      <td>...</td>\n",
       "      <td>...</td>\n",
       "      <td>...</td>\n",
       "      <td>...</td>\n",
       "      <td>...</td>\n",
       "      <td>...</td>\n",
       "      <td>...</td>\n",
       "    </tr>\n",
       "    <tr>\n",
       "      <th>995</th>\n",
       "      <td>46</td>\n",
       "      <td>Private</td>\n",
       "      <td>330064</td>\n",
       "      <td>HS-grad</td>\n",
       "      <td>10</td>\n",
       "      <td>Never-married</td>\n",
       "      <td>Machine-op-inspct</td>\n",
       "      <td>Husband</td>\n",
       "      <td>White</td>\n",
       "      <td>Male</td>\n",
       "      <td>85</td>\n",
       "      <td>-4</td>\n",
       "      <td>51</td>\n",
       "      <td>United-States</td>\n",
       "      <td>&lt;=50K</td>\n",
       "    </tr>\n",
       "    <tr>\n",
       "      <th>996</th>\n",
       "      <td>51</td>\n",
       "      <td>Private</td>\n",
       "      <td>144725</td>\n",
       "      <td>Bachelors</td>\n",
       "      <td>10</td>\n",
       "      <td>Married-civ-spouse</td>\n",
       "      <td>Tech-support</td>\n",
       "      <td>Own-child</td>\n",
       "      <td>White</td>\n",
       "      <td>Male</td>\n",
       "      <td>-68</td>\n",
       "      <td>2</td>\n",
       "      <td>40</td>\n",
       "      <td>United-States</td>\n",
       "      <td>&lt;=50K</td>\n",
       "    </tr>\n",
       "    <tr>\n",
       "      <th>997</th>\n",
       "      <td>19</td>\n",
       "      <td>Self-emp-not-inc</td>\n",
       "      <td>83915</td>\n",
       "      <td>Bachelors</td>\n",
       "      <td>10</td>\n",
       "      <td>Married-civ-spouse</td>\n",
       "      <td>Prof-specialty</td>\n",
       "      <td>Husband</td>\n",
       "      <td>Asian-Pac-Islander</td>\n",
       "      <td>Male</td>\n",
       "      <td>49</td>\n",
       "      <td>-7</td>\n",
       "      <td>23</td>\n",
       "      <td>United-States</td>\n",
       "      <td>&gt;50K</td>\n",
       "    </tr>\n",
       "    <tr>\n",
       "      <th>998</th>\n",
       "      <td>18</td>\n",
       "      <td>Private</td>\n",
       "      <td>154010</td>\n",
       "      <td>Some-college</td>\n",
       "      <td>9</td>\n",
       "      <td>Divorced</td>\n",
       "      <td>Prof-specialty</td>\n",
       "      <td>Unmarried</td>\n",
       "      <td>White</td>\n",
       "      <td>Male</td>\n",
       "      <td>24</td>\n",
       "      <td>0</td>\n",
       "      <td>26</td>\n",
       "      <td>United-States</td>\n",
       "      <td>&lt;=50K</td>\n",
       "    </tr>\n",
       "    <tr>\n",
       "      <th>999</th>\n",
       "      <td>44</td>\n",
       "      <td>Private</td>\n",
       "      <td>44170</td>\n",
       "      <td>Bachelors</td>\n",
       "      <td>9</td>\n",
       "      <td>Never-married</td>\n",
       "      <td>Craft-repair</td>\n",
       "      <td>Own-child</td>\n",
       "      <td>White</td>\n",
       "      <td>Female</td>\n",
       "      <td>-1</td>\n",
       "      <td>-6</td>\n",
       "      <td>37</td>\n",
       "      <td>United-States</td>\n",
       "      <td>&lt;=50K</td>\n",
       "    </tr>\n",
       "  </tbody>\n",
       "</table>\n",
       "<p>1000 rows × 15 columns</p>\n",
       "</div>"
      ],
      "text/plain": [
       "     age          workclass  fnlwgt      education  education-num  \\\n",
       "0     33            Private  177782           11th              9   \n",
       "1     31            Private  106615   Some-college              9   \n",
       "2     22          State-gov  233290   Some-college             13   \n",
       "3     59            Private   41076            9th             10   \n",
       "4     31        Without-pay  164451   Some-college             11   \n",
       "..   ...                ...     ...            ...            ...   \n",
       "995   46            Private  330064        HS-grad             10   \n",
       "996   51            Private  144725      Bachelors             10   \n",
       "997   19   Self-emp-not-inc   83915      Bachelors             10   \n",
       "998   18            Private  154010   Some-college              9   \n",
       "999   44            Private   44170      Bachelors              9   \n",
       "\n",
       "          marital-status          occupation     relationship  \\\n",
       "0     Married-civ-spouse        Adm-clerical          Husband   \n",
       "1     Married-civ-spouse     Protective-serv    Not-in-family   \n",
       "2          Never-married               Sales   Other-relative   \n",
       "3          Never-married   Handlers-cleaners    Not-in-family   \n",
       "4     Married-civ-spouse       Other-service   Other-relative   \n",
       "..                   ...                 ...              ...   \n",
       "995        Never-married   Machine-op-inspct          Husband   \n",
       "996   Married-civ-spouse        Tech-support        Own-child   \n",
       "997   Married-civ-spouse      Prof-specialty          Husband   \n",
       "998             Divorced      Prof-specialty        Unmarried   \n",
       "999        Never-married        Craft-repair        Own-child   \n",
       "\n",
       "                    race      sex  capital-gain  capital-loss  hours-per-week  \\\n",
       "0                  White   Female           114            -5              40   \n",
       "1     Asian-Pac-Islander     Male            95            -6              31   \n",
       "2                  White     Male           -14            -5              40   \n",
       "3                  White     Male            36            -4              40   \n",
       "4                  White     Male            79            -4              40   \n",
       "..                   ...      ...           ...           ...             ...   \n",
       "995                White     Male            85            -4              51   \n",
       "996                White     Male           -68             2              40   \n",
       "997   Asian-Pac-Islander     Male            49            -7              23   \n",
       "998                White     Male            24             0              26   \n",
       "999                White   Female            -1            -6              37   \n",
       "\n",
       "     native-country  income  \n",
       "0     United-States   <=50K  \n",
       "1                 ?   <=50K  \n",
       "2             Italy   <=50K  \n",
       "3     United-States   <=50K  \n",
       "4     United-States   <=50K  \n",
       "..              ...     ...  \n",
       "995   United-States   <=50K  \n",
       "996   United-States   <=50K  \n",
       "997   United-States    >50K  \n",
       "998   United-States   <=50K  \n",
       "999   United-States   <=50K  \n",
       "\n",
       "[1000 rows x 15 columns]"
      ]
     },
     "execution_count": 14,
     "metadata": {},
     "output_type": "execute_result"
    }
   ],
   "source": [
    "samples"
   ]
  },
  {
   "cell_type": "code",
   "execution_count": 15,
   "metadata": {},
   "outputs": [
    {
     "data": {
      "text/plain": [
       "array([[<AxesSubplot:title={'center':'age'}>]], dtype=object)"
      ]
     },
     "execution_count": 15,
     "metadata": {},
     "output_type": "execute_result"
    },
    {
     "data": {
      "image/png": "[encoded data removed]",
      "text/plain": [
       "<Figure size 432x288 with 1 Axes>"
      ]
     },
     "metadata": {
      "needs_background": "light"
     },
     "output_type": "display_data"
    }
   ],
   "source": [
    "samples.hist(column='age', bins=10)"
   ]
  },
  {
   "cell_type": "code",
   "execution_count": 16,
   "metadata": {},
   "outputs": [
    {
     "data": {
      "text/plain": [
       "array([[<AxesSubplot:title={'center':'fnlwgt'}>]], dtype=object)"
      ]
     },
     "execution_count": 16,
     "metadata": {},
     "output_type": "execute_result"
    },
    {
     "data": {
      "image/png": "[encoded data removed]",
      "text/plain": [
       "<Figure size 432x288 with 1 Axes>"
      ]
     },
     "metadata": {
      "needs_background": "light"
     },
     "output_type": "display_data"
    }
   ],
   "source": [
    "samples.hist(column='fnlwgt', bins=100)"
   ]
  },
  {
   "cell_type": "code",
   "execution_count": 17,
   "metadata": {},
   "outputs": [
    {
     "data": {
      "text/plain": [
       "array([[<AxesSubplot:title={'center':'capital-gain'}>]], dtype=object)"
      ]
     },
     "execution_count": 17,
     "metadata": {},
     "output_type": "execute_result"
    },
    {
     "data": {
      "image/png": "[encoded data removed]",
      "text/plain": [
       "<Figure size 432x288 with 1 Axes>"
      ]
     },
     "metadata": {
      "needs_background": "light"
     },
     "output_type": "display_data"
    }
   ],
   "source": [
    "samples.hist(column='capital-gain', bins=10)"
   ]
  },
  {
   "cell_type": "code",
   "execution_count": 18,
   "metadata": {},
   "outputs": [
    {
     "data": {
      "text/plain": [
       "array([[<AxesSubplot:title={'center':'hours-per-week'}>]], dtype=object)"
      ]
     },
     "execution_count": 18,
     "metadata": {},
     "output_type": "execute_result"
    },
    {
     "data": {
      "image/png": "[encoded data removed]",
      "text/plain": [
       "<Figure size 432x288 with 1 Axes>"
      ]
     },
     "metadata": {
      "needs_background": "light"
     },
     "output_type": "display_data"
    }
   ],
   "source": [
    "samples.hist(column='hours-per-week', bins=20)"
   ]
  },
  {
   "cell_type": "code",
   "execution_count": 20,
   "metadata": {},
   "outputs": [
    {
     "data": {
      "text/plain": [
       "array([[<AxesSubplot:title={'center':'education-num'}>]], dtype=object)"
      ]
     },
     "execution_count": 20,
     "metadata": {},
     "output_type": "execute_result"
    },
    {
     "data": {
      "image/png": "[encoded data removed]",
      "text/plain": [
       "<Figure size 432x288 with 1 Axes>"
      ]
     },
     "metadata": {
      "needs_background": "light"
     },
     "output_type": "display_data"
    }
   ],
   "source": [
    "samples.hist(column='education-num', bins=15)"
   ]
  },
  {
   "cell_type": "code",
   "execution_count": 33,
   "metadata": {},
   "outputs": [
    {
     "name": "stderr",
     "output_type": "stream",
     "text": [
      "/usr/local/Caskroom/miniconda/base/envs/fact/lib/python3.7/site-packages/sklearn/mixture/_base.py:269: ConvergenceWarning: Initialization 1 did not converge. Try different init parameters, or increase max_iter, tol or check for degenerate data.\n",
      "  % (init + 1), ConvergenceWarning)\n",
      "/usr/local/Caskroom/miniconda/base/envs/fact/lib/python3.7/site-packages/sklearn/mixture/_base.py:269: ConvergenceWarning: Initialization 1 did not converge. Try different init parameters, or increase max_iter, tol or check for degenerate data.\n",
      "  % (init + 1), ConvergenceWarning)\n",
      "/usr/local/Caskroom/miniconda/base/envs/fact/lib/python3.7/site-packages/sklearn/mixture/_base.py:269: ConvergenceWarning: Initialization 1 did not converge. Try different init parameters, or increase max_iter, tol or check for degenerate data.\n",
      "  % (init + 1), ConvergenceWarning)\n",
      "/usr/local/Caskroom/miniconda/base/envs/fact/lib/python3.7/site-packages/ipykernel_launcher.py:111: SettingWithCopyWarning: \n",
      "A value is trying to be set on a copy of a slice from a DataFrame.\n",
      "Try using .loc[row_indexer,col_indexer] = value instead\n",
      "\n",
      "See the caveats in the documentation: https://pandas.pydata.org/pandas-docs/stable/user_guide/indexing.html#returning-a-view-versus-a-copy\n",
      "/usr/local/Caskroom/miniconda/base/envs/fact/lib/python3.7/site-packages/ipykernel_launcher.py:111: SettingWithCopyWarning: \n",
      "A value is trying to be set on a copy of a slice from a DataFrame.\n",
      "Try using .loc[row_indexer,col_indexer] = value instead\n",
      "\n",
      "See the caveats in the documentation: https://pandas.pydata.org/pandas-docs/stable/user_guide/indexing.html#returning-a-view-versus-a-copy\n",
      "/usr/local/Caskroom/miniconda/base/envs/fact/lib/python3.7/site-packages/ipykernel_launcher.py:111: SettingWithCopyWarning: \n",
      "A value is trying to be set on a copy of a slice from a DataFrame.\n",
      "Try using .loc[row_indexer,col_indexer] = value instead\n",
      "\n",
      "See the caveats in the documentation: https://pandas.pydata.org/pandas-docs/stable/user_guide/indexing.html#returning-a-view-versus-a-copy\n",
      "/usr/local/Caskroom/miniconda/base/envs/fact/lib/python3.7/site-packages/ipykernel_launcher.py:111: SettingWithCopyWarning: \n",
      "A value is trying to be set on a copy of a slice from a DataFrame.\n",
      "Try using .loc[row_indexer,col_indexer] = value instead\n",
      "\n",
      "See the caveats in the documentation: https://pandas.pydata.org/pandas-docs/stable/user_guide/indexing.html#returning-a-view-versus-a-copy\n",
      "/usr/local/Caskroom/miniconda/base/envs/fact/lib/python3.7/site-packages/ipykernel_launcher.py:111: SettingWithCopyWarning: \n",
      "A value is trying to be set on a copy of a slice from a DataFrame.\n",
      "Try using .loc[row_indexer,col_indexer] = value instead\n",
      "\n",
      "See the caveats in the documentation: https://pandas.pydata.org/pandas-docs/stable/user_guide/indexing.html#returning-a-view-versus-a-copy\n"
     ]
    },
    {
     "name": "stdout",
     "output_type": "stream",
     "text": [
      "(32561, 146)\n",
      "[[ 1.49741055e-01  1.00000000e+00  0.00000000e+00  0.00000000e+00\n",
      "   0.00000000e+00  0.00000000e+00  0.00000000e+00  1.00000000e+00\n",
      "   0.00000000e+00  0.00000000e+00  0.00000000e+00  0.00000000e+00\n",
      "   0.00000000e+00  0.00000000e+00  0.00000000e+00  1.97223480e-01\n",
      "   0.00000000e+00  0.00000000e+00  0.00000000e+00  1.00000000e+00\n",
      "   0.00000000e+00  0.00000000e+00  1.00000000e+00  0.00000000e+00\n",
      "   0.00000000e+00  0.00000000e+00  0.00000000e+00  0.00000000e+00\n",
      "   0.00000000e+00  0.00000000e+00  0.00000000e+00  0.00000000e+00\n",
      "   0.00000000e+00  0.00000000e+00  0.00000000e+00  0.00000000e+00\n",
      "   0.00000000e+00  0.00000000e+00  1.00000000e+00  0.00000000e+00\n",
      "   0.00000000e+00  0.00000000e+00  0.00000000e+00  0.00000000e+00\n",
      "   0.00000000e+00  0.00000000e+00  0.00000000e+00  0.00000000e+00\n",
      "   0.00000000e+00  0.00000000e+00  0.00000000e+00  0.00000000e+00\n",
      "   0.00000000e+00  0.00000000e+00  1.00000000e+00  0.00000000e+00\n",
      "   0.00000000e+00  0.00000000e+00  0.00000000e+00  0.00000000e+00\n",
      "   0.00000000e+00  1.00000000e+00  0.00000000e+00  0.00000000e+00\n",
      "   0.00000000e+00  0.00000000e+00  0.00000000e+00  0.00000000e+00\n",
      "   0.00000000e+00  0.00000000e+00  0.00000000e+00  0.00000000e+00\n",
      "   0.00000000e+00  0.00000000e+00  0.00000000e+00  0.00000000e+00\n",
      "   1.00000000e+00  0.00000000e+00  0.00000000e+00  0.00000000e+00\n",
      "   0.00000000e+00  1.00000000e+00  0.00000000e+00  0.00000000e+00\n",
      "   0.00000000e+00  0.00000000e+00  1.00000000e+00  0.00000000e+00\n",
      "  -3.40611657e-04  1.00000000e+00  0.00000000e+00  0.00000000e+00\n",
      "  -3.00447723e-04  1.00000000e+00  0.00000000e+00  0.00000000e+00\n",
      "  -2.78872524e-01  0.00000000e+00  0.00000000e+00  0.00000000e+00\n",
      "   1.00000000e+00  0.00000000e+00  1.00000000e+00  0.00000000e+00\n",
      "   0.00000000e+00  0.00000000e+00  0.00000000e+00  0.00000000e+00\n",
      "   0.00000000e+00  0.00000000e+00  0.00000000e+00  0.00000000e+00\n",
      "   0.00000000e+00  0.00000000e+00  0.00000000e+00  0.00000000e+00\n",
      "   0.00000000e+00  0.00000000e+00  0.00000000e+00  0.00000000e+00\n",
      "   0.00000000e+00  0.00000000e+00  0.00000000e+00  0.00000000e+00\n",
      "   0.00000000e+00  0.00000000e+00  0.00000000e+00  0.00000000e+00\n",
      "   0.00000000e+00  0.00000000e+00  0.00000000e+00  0.00000000e+00\n",
      "   0.00000000e+00  0.00000000e+00  0.00000000e+00  0.00000000e+00\n",
      "   0.00000000e+00  0.00000000e+00  0.00000000e+00  0.00000000e+00\n",
      "   0.00000000e+00  0.00000000e+00  0.00000000e+00  0.00000000e+00\n",
      "   0.00000000e+00  1.00000000e+00]]\n",
      "[[SpanInfo(dim=1, activation_fn='tanh'), SpanInfo(dim=5, activation_fn='softmax')], [SpanInfo(dim=9, activation_fn='softmax')], [SpanInfo(dim=1, activation_fn='tanh'), SpanInfo(dim=5, activation_fn='softmax')], [SpanInfo(dim=16, activation_fn='softmax')], [SpanInfo(dim=16, activation_fn='softmax')], [SpanInfo(dim=7, activation_fn='softmax')], [SpanInfo(dim=15, activation_fn='softmax')], [SpanInfo(dim=6, activation_fn='softmax')], [SpanInfo(dim=5, activation_fn='softmax')], [SpanInfo(dim=2, activation_fn='softmax')], [SpanInfo(dim=1, activation_fn='tanh'), SpanInfo(dim=3, activation_fn='softmax')], [SpanInfo(dim=1, activation_fn='tanh'), SpanInfo(dim=3, activation_fn='softmax')], [SpanInfo(dim=1, activation_fn='tanh'), SpanInfo(dim=5, activation_fn='softmax')], [SpanInfo(dim=42, activation_fn='softmax')], [SpanInfo(dim=2, activation_fn='softmax')]]\n"
     ]
    },
    {
     "data": {
      "text/plain": [
       "146"
      ]
     },
     "execution_count": 33,
     "metadata": {},
     "output_type": "execute_result"
    }
   ],
   "source": [
    "dt = DataTransformer()\n",
    "\n",
    "dt.fit(df, discrete_columns=['workclass', 'education', 'education-num',\n",
    "       'marital-status', 'occupation', 'relationship', 'race', 'sex', 'native-country',\n",
    "       'income'])\n",
    "\n",
    "tr_data = dt.transform(df)\n",
    "\n",
    "print(tr_data.shape)\n",
    "\n",
    "df.shape\n",
    "\n",
    "np.set_printoptions(threshold=np.inf)\n",
    "print(tr_data[7:8,])\n",
    "\n",
    "print(dt.output_info_list)\n",
    "dt.output_dimensions\n"
   ]
  },
  {
   "cell_type": "code",
   "execution_count": 34,
   "metadata": {},
   "outputs": [
    {
     "data": {
      "text/plain": [
       "[ColumnTransformInfo(column_name='age', column_type='continuous', transform=<rdt.transformers.numerical.BayesGMMTransformer object at 0x7ff9c90e3b10>, output_info=[SpanInfo(dim=1, activation_fn='tanh'), SpanInfo(dim=5, activation_fn='softmax')], output_dimensions=6),\n",
       " ColumnTransformInfo(column_name='workclass', column_type='discrete', transform=<rdt.transformers.categorical.OneHotEncodingTransformer object at 0x7ff9c90e5110>, output_info=[SpanInfo(dim=9, activation_fn='softmax')], output_dimensions=9),\n",
       " ColumnTransformInfo(column_name='fnlwgt', column_type='continuous', transform=<rdt.transformers.numerical.BayesGMMTransformer object at 0x7ff9c90e5cd0>, output_info=[SpanInfo(dim=1, activation_fn='tanh'), SpanInfo(dim=5, activation_fn='softmax')], output_dimensions=6),\n",
       " ColumnTransformInfo(column_name='education', column_type='discrete', transform=<rdt.transformers.categorical.OneHotEncodingTransformer object at 0x7ff9f88d1790>, output_info=[SpanInfo(dim=16, activation_fn='softmax')], output_dimensions=16),\n",
       " ColumnTransformInfo(column_name='education-num', column_type='discrete', transform=<rdt.transformers.categorical.OneHotEncodingTransformer object at 0x7ff9c90e3510>, output_info=[SpanInfo(dim=16, activation_fn='softmax')], output_dimensions=16),\n",
       " ColumnTransformInfo(column_name='marital-status', column_type='discrete', transform=<rdt.transformers.categorical.OneHotEncodingTransformer object at 0x7ff9c90e5c90>, output_info=[SpanInfo(dim=7, activation_fn='softmax')], output_dimensions=7),\n",
       " ColumnTransformInfo(column_name='occupation', column_type='discrete', transform=<rdt.transformers.categorical.OneHotEncodingTransformer object at 0x7ff9c90e56d0>, output_info=[SpanInfo(dim=15, activation_fn='softmax')], output_dimensions=15),\n",
       " ColumnTransformInfo(column_name='relationship', column_type='discrete', transform=<rdt.transformers.categorical.OneHotEncodingTransformer object at 0x7ff9993e1910>, output_info=[SpanInfo(dim=6, activation_fn='softmax')], output_dimensions=6),\n",
       " ColumnTransformInfo(column_name='race', column_type='discrete', transform=<rdt.transformers.categorical.OneHotEncodingTransformer object at 0x7ff9c90e5150>, output_info=[SpanInfo(dim=5, activation_fn='softmax')], output_dimensions=5),\n",
       " ColumnTransformInfo(column_name='sex', column_type='discrete', transform=<rdt.transformers.categorical.OneHotEncodingTransformer object at 0x7ff9c90e5650>, output_info=[SpanInfo(dim=2, activation_fn='softmax')], output_dimensions=2),\n",
       " ColumnTransformInfo(column_name='capital-gain', column_type='continuous', transform=<rdt.transformers.numerical.BayesGMMTransformer object at 0x7ff9b9177f50>, output_info=[SpanInfo(dim=1, activation_fn='tanh'), SpanInfo(dim=3, activation_fn='softmax')], output_dimensions=4),\n",
       " ColumnTransformInfo(column_name='capital-loss', column_type='continuous', transform=<rdt.transformers.numerical.BayesGMMTransformer object at 0x7ff9d8a96990>, output_info=[SpanInfo(dim=1, activation_fn='tanh'), SpanInfo(dim=3, activation_fn='softmax')], output_dimensions=4),\n",
       " ColumnTransformInfo(column_name='hours-per-week', column_type='continuous', transform=<rdt.transformers.numerical.BayesGMMTransformer object at 0x7ff9d8a96090>, output_info=[SpanInfo(dim=1, activation_fn='tanh'), SpanInfo(dim=5, activation_fn='softmax')], output_dimensions=6),\n",
       " ColumnTransformInfo(column_name='native-country', column_type='discrete', transform=<rdt.transformers.categorical.OneHotEncodingTransformer object at 0x7ff9d8a96610>, output_info=[SpanInfo(dim=42, activation_fn='softmax')], output_dimensions=42),\n",
       " ColumnTransformInfo(column_name='income', column_type='discrete', transform=<rdt.transformers.categorical.OneHotEncodingTransformer object at 0x7ff9e9b6d990>, output_info=[SpanInfo(dim=2, activation_fn='softmax')], output_dimensions=2)]"
      ]
     },
     "execution_count": 34,
     "metadata": {},
     "output_type": "execute_result"
    }
   ],
   "source": [
    "dt._column_transform_info_list"
   ]
  },
  {
   "cell_type": "code",
   "execution_count": null,
   "metadata": {},
   "outputs": [],
   "source": []
  }
 ],
 "metadata": {
  "kernelspec": {
   "display_name": "Python 3",
   "language": "python",
   "name": "python3"
  },
  "language_info": {
   "codemirror_mode": {
    "name": "ipython",
    "version": 3
   },
   "file_extension": ".py",
   "mimetype": "text/x-python",
   "name": "python",
   "nbconvert_exporter": "python",
   "pygments_lexer": "ipython3",
   "version": "3.7.11"
  }
 },
 "nbformat": 4,
 "nbformat_minor": 5
}
