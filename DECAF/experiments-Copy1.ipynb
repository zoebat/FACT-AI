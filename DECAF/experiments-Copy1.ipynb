{
 "cells": [
  {
   "cell_type": "markdown",
   "id": "2fc24119",
   "metadata": {},
   "source": [
    "# Reproduction study - DECAF: Generating Fair Synthetic Data Using Causally-Aware Generative Networks"
   ]
  },
  {
   "cell_type": "markdown",
   "id": "7ed08807",
   "metadata": {},
   "source": [
    "This notebook can be used to run the experiments as described in our report. Note that this notebook uses pretrained models."
   ]
  },
  {
   "cell_type": "code",
   "execution_count": 1,
   "id": "a2187ee7",
   "metadata": {},
   "outputs": [],
   "source": [
    "from pyparsing import col\n",
    "import numpy as np\n",
    "import pandas as pd\n",
    "import pytorch_lightning as pl\n",
    "import torch\n",
    "import statistics\n",
    "import pickle\n",
    "\n",
    "from pytorch_lightning.loggers import TensorBoardLogger\n",
    "from sklearn.metrics import precision_score, recall_score, roc_auc_score\n",
    "from xgboost import XGBClassifier\n",
    "from sklearn.neural_network import MLPClassifier\n",
    "\n",
    "from util import data, metrics, adult_data, credit_data, plots\n",
    "from model.DECAF import DECAF"
   ]
  },
  {
   "cell_type": "markdown",
   "id": "98c73713",
   "metadata": {},
   "source": [
    "## Experiment 1 - Debiasing Census Data"
   ]
  },
  {
   "cell_type": "markdown",
   "id": "c3d48156",
   "metadata": {},
   "source": [
    "First, load the adult data, the DAG and the biased edges for different fairness definitions."
   ]
  },
  {
   "cell_type": "code",
   "execution_count": 2,
   "id": "2fe5984a",
   "metadata": {},
   "outputs": [
    {
     "name": "stdout",
     "output_type": "stream",
     "text": [
      "                age     workclass        fnlwgt     education  education-num  \\\n",
      "count  30162.000000  30162.000000  3.016200e+04  30162.000000   30162.000000   \n",
      "mean      38.437902      2.199324  1.897938e+05     10.333764      10.121312   \n",
      "std       13.134665      0.953925  1.056530e+05      3.812292       2.549995   \n",
      "min       17.000000      0.000000  1.376900e+04      0.000000       1.000000   \n",
      "25%       28.000000      2.000000  1.176272e+05      9.000000       9.000000   \n",
      "50%       37.000000      2.000000  1.784250e+05     11.000000      10.000000   \n",
      "75%       47.000000      2.000000  2.376285e+05     12.000000      13.000000   \n",
      "90%       57.000000      4.000000  3.290026e+05     15.000000      13.000000   \n",
      "95%       62.000000      4.000000  3.796741e+05     15.000000      14.000000   \n",
      "99%       72.000000      5.000000  5.111542e+05     15.000000      16.000000   \n",
      "max       90.000000      6.000000  1.484705e+06     15.000000      16.000000   \n",
      "\n",
      "       marital-status    occupation  relationship          race           sex  \\\n",
      "count    30162.000000  30162.000000  30162.000000  30162.000000  30162.000000   \n",
      "mean         2.580134      5.959850      1.418341      3.678602      0.675685   \n",
      "std          1.498016      4.029566      1.601338      0.834709      0.468126   \n",
      "min          0.000000      0.000000      0.000000      0.000000      0.000000   \n",
      "25%          2.000000      2.000000      0.000000      4.000000      0.000000   \n",
      "50%          2.000000      6.000000      1.000000      4.000000      1.000000   \n",
      "75%          4.000000      9.000000      3.000000      4.000000      1.000000   \n",
      "90%          4.000000     11.000000      4.000000      4.000000      1.000000   \n",
      "95%          5.000000     13.000000      4.000000      4.000000      1.000000   \n",
      "99%          6.000000     13.000000      5.000000      4.000000      1.000000   \n",
      "max          6.000000     13.000000      5.000000      4.000000      1.000000   \n",
      "\n",
      "       capital-gain  capital-loss  hours-per-week  native-country  \\\n",
      "count  30162.000000  30162.000000    30162.000000    30162.000000   \n",
      "mean    1092.007858     88.372489       40.931238       36.382567   \n",
      "std     7406.346497    404.298370       11.979984        6.105372   \n",
      "min        0.000000      0.000000        1.000000        0.000000   \n",
      "25%        0.000000      0.000000       40.000000       38.000000   \n",
      "50%        0.000000      0.000000       40.000000       38.000000   \n",
      "75%        0.000000      0.000000       45.000000       38.000000   \n",
      "90%        0.000000      0.000000       55.000000       38.000000   \n",
      "95%     5013.000000      0.000000       60.000000       38.000000   \n",
      "99%    15024.000000   1980.000000       80.000000       38.000000   \n",
      "max    99999.000000   4356.000000       99.000000       40.000000   \n",
      "\n",
      "              label  \n",
      "count  30162.000000  \n",
      "mean       0.248922  \n",
      "std        0.432396  \n",
      "min        0.000000  \n",
      "25%        0.000000  \n",
      "50%        0.000000  \n",
      "75%        0.000000  \n",
      "90%        1.000000  \n",
      "95%        1.000000  \n",
      "99%        1.000000  \n",
      "max        1.000000  \n"
     ]
    },
    {
     "ename": "NameError",
     "evalue": "name 'float32' is not defined",
     "output_type": "error",
     "traceback": [
      "\u001b[1;31m---------------------------------------------------------------------------\u001b[0m",
      "\u001b[1;31mNameError\u001b[0m                                 Traceback (most recent call last)",
      "\u001b[1;32m<ipython-input-2-0ff40667e59a>\u001b[0m in \u001b[0;36m<module>\u001b[1;34m\u001b[0m\n\u001b[0;32m      1\u001b[0m \u001b[0mdfr\u001b[0m\u001b[1;33m,\u001b[0m \u001b[0mXy\u001b[0m\u001b[1;33m,\u001b[0m \u001b[0mmin_max_scaler\u001b[0m \u001b[1;33m=\u001b[0m \u001b[0madult_data\u001b[0m\u001b[1;33m.\u001b[0m\u001b[0mload\u001b[0m\u001b[1;33m(\u001b[0m\u001b[1;33m)\u001b[0m\u001b[1;33m\u001b[0m\u001b[1;33m\u001b[0m\u001b[0m\n\u001b[1;32m----> 2\u001b[1;33m \u001b[0mX\u001b[0m \u001b[1;33m=\u001b[0m \u001b[0mXy\u001b[0m\u001b[1;33m[\u001b[0m\u001b[1;33m:\u001b[0m\u001b[1;33m,\u001b[0m \u001b[1;33m:\u001b[0m\u001b[1;33m-\u001b[0m\u001b[1;36m1\u001b[0m\u001b[1;33m]\u001b[0m\u001b[1;33m.\u001b[0m\u001b[0mastype\u001b[0m\u001b[1;33m(\u001b[0m\u001b[0mfloat32\u001b[0m\u001b[1;33m)\u001b[0m\u001b[1;33m\u001b[0m\u001b[1;33m\u001b[0m\u001b[0m\n\u001b[0m\u001b[0;32m      3\u001b[0m \u001b[0my\u001b[0m \u001b[1;33m=\u001b[0m \u001b[0mnp\u001b[0m\u001b[1;33m.\u001b[0m\u001b[0mround\u001b[0m\u001b[1;33m(\u001b[0m\u001b[0mXy\u001b[0m\u001b[1;33m[\u001b[0m\u001b[1;33m:\u001b[0m\u001b[1;33m,\u001b[0m \u001b[1;33m-\u001b[0m\u001b[1;36m1\u001b[0m\u001b[1;33m]\u001b[0m\u001b[1;33m)\u001b[0m\u001b[1;33m.\u001b[0m\u001b[0mastype\u001b[0m\u001b[1;33m(\u001b[0m\u001b[0mint\u001b[0m\u001b[1;33m)\u001b[0m\u001b[1;33m\u001b[0m\u001b[1;33m\u001b[0m\u001b[0m\n\u001b[0;32m      4\u001b[0m \u001b[0mdm\u001b[0m \u001b[1;33m=\u001b[0m \u001b[0mdata\u001b[0m\u001b[1;33m.\u001b[0m\u001b[0mDataModule\u001b[0m\u001b[1;33m(\u001b[0m\u001b[0mXy\u001b[0m\u001b[1;33m)\u001b[0m\u001b[1;33m\u001b[0m\u001b[1;33m\u001b[0m\u001b[0m\n\u001b[0;32m      5\u001b[0m \u001b[1;33m\u001b[0m\u001b[0m\n",
      "\u001b[1;31mNameError\u001b[0m: name 'float32' is not defined"
     ]
    }
   ],
   "source": [
    "dfr, Xy, min_max_scaler = adult_data.load()\n",
    "X = Xy[:, :-1].astype(float32)\n",
    "y = np.round(Xy[:, -1]).astype(int)\n",
    "dm = data.DataModule(Xy)\n",
    "\n",
    "dag_seed = [\n",
    "        [0, 6],\n",
    "        [0, 12],\n",
    "        [0, 14],\n",
    "        [0, 1],\n",
    "        [0, 5],\n",
    "        [0, 3],\n",
    "        [1, 14],\n",
    "        [3, 6],\n",
    "        [3, 12],\n",
    "        [3, 14],\n",
    "        [3, 1],\n",
    "        [3, 7],\n",
    "        [5, 6],\n",
    "        [5, 12],\n",
    "        [5, 14],\n",
    "        [5, 1],\n",
    "        [5, 7],\n",
    "        [5, 3],\n",
    "        [6, 14],\n",
    "        [7, 14],\n",
    "        [8, 6],\n",
    "        [8, 14],\n",
    "        [8, 12],\n",
    "        [8, 3],\n",
    "        [8, 5],\n",
    "        [9, 6],\n",
    "        [9, 5],\n",
    "        [9, 14],\n",
    "        [9, 12],\n",
    "        [9, 1],\n",
    "        [9, 3],\n",
    "        [9, 7],\n",
    "        [12, 14],\n",
    "        [13, 5],\n",
    "        [13, 12],\n",
    "        [13, 3],\n",
    "        [13, 1],\n",
    "        [13, 14],\n",
    "        [13, 7],\n",
    "    ]\n",
    "bias_dict_FTU = {14: [9]}\n",
    "bias_dict_CF = {14: [7, 9, 5]}\n",
    "bias_dict_DP = {14: [7, 13, 1, 9, 5, 12, 6]}"
   ]
  },
  {
   "cell_type": "code",
   "execution_count": null,
   "id": "df195883",
   "metadata": {},
   "outputs": [],
   "source": [
    "DECAF_ND = {\n",
    "    \"precision\": [],\n",
    "    \"recall\": [],\n",
    "    \"auroc\": [],\n",
    "    \"FTU\": [],\n",
    "    \"DP\": []\n",
    "}\n",
    "DECAF_FTU = {\n",
    "    \"precision\": [],\n",
    "    \"recall\": [],\n",
    "    \"auroc\": [],\n",
    "    \"FTU\": [],\n",
    "    \"DP\": []\n",
    "}\n",
    "DECAF_CF = {\n",
    "    \"precision\": [],\n",
    "    \"recall\": [],\n",
    "    \"auroc\": [],\n",
    "    \"FTU\": [],\n",
    "    \"DP\": []\n",
    "}\n",
    "DECAF_DP = {\n",
    "    \"precision\": [],\n",
    "    \"recall\": [],\n",
    "    \"auroc\": [],\n",
    "    \"FTU\": [],\n",
    "    \"DP\": []\n",
    "}\n",
    "\n",
    "def calculate_scores(Xy_synth, fairness_type):\n",
    "    ## Takes Xy_synthetic data (including label) of the adult data set and fairness type\n",
    "    ## Calculates the precision, recall, auroc, FTU and DP metrics\n",
    "    X_synth = Xy_synth[:, :14]\n",
    "    print(\"nan in X_synth\", np.isnan(X_synth).any())\n",
    "    y_synth = np.round(Xy_synth[:, 14]).astype(int)\n",
    "    print(\"nan in y_synth\", np.isnan(y_synth).any())    \n",
    "    \n",
    "    synth_clf = MLPClassifier().fit(X_synth, y_synth)\n",
    "    y_pred_synth = synth_clf.predict(X)\n",
    "    print(\"nan in y_pred_synth\", np.isnan(y_pred_synth).any())\n",
    "    y_pred_synth_proba = synth_clf.predict_proba(X)\n",
    "    print(\"nan in y_pred_synth_proba\", np.isnan(y_pred_synth_proba).any())\n",
    "    \n",
    "    if fairness_type == \"ND\":\n",
    "        DECAF_ND[\"precision\"].append(precision_score(y, y_pred_synth))\n",
    "        DECAF_ND[\"recall\"].append(recall_score(y, y_pred_synth))\n",
    "        DECAF_ND[\"auroc\"].append(roc_auc_score(y, y_pred_synth_proba[:, 1]))\n",
    "        DECAF_ND[\"FTU\"].append(metrics.ftu(synth_clf, X_synth, 4))\n",
    "        DECAF_ND[\"DP\"].append(metrics.dp(synth_clf, X_synth, 4))\n",
    "    elif fairness_type == \"FTU\":\n",
    "        DECAF_FTU[\"precision\"].append(precision_score(y, y_pred_synth))\n",
    "        DECAF_FTU[\"recall\"].append(recall_score(y, y_pred_synth))\n",
    "        DECAF_FTU[\"auroc\"].append(roc_auc_score(y, y_pred_synth_proba[:, 1]))\n",
    "        DECAF_FTU[\"FTU\"].append(metrics.ftu(synth_clf, X_synth, 4))\n",
    "        DECAF_FTU[\"DP\"].append(metrics.dp(synth_clf, X_synth, 4))\n",
    "    elif fairness_type == \"CF\":\n",
    "        DECAF_CF[\"precision\"].append(precision_score(y, y_pred_synth))\n",
    "        DECAF_CF[\"recall\"].append(recall_score(y, y_pred_synth))\n",
    "        DECAF_CF[\"auroc\"].append(roc_auc_score(y, y_pred_synth_proba[:, 1]))\n",
    "        DECAF_CF[\"FTU\"].append(metrics.ftu(synth_clf, X_synth, 4))\n",
    "        DECAF_CF[\"DP\"].append(metrics.dp(synth_clf, X_synth, 4))    \n",
    "    elif fairness_type == \"DP\":\n",
    "        DECAF_DP[\"precision\"].append(precision_score(y, y_pred_synth))\n",
    "        print(\"precision done\")\n",
    "        DECAF_DP[\"recall\"].append(recall_score(y, y_pred_synth))\n",
    "        print(\"recall done\")\n",
    "        DECAF_DP[\"auroc\"].append(roc_auc_score(y, y_pred_synth_proba[:, 1]))\n",
    "        print(\"auroc done\")\n",
    "        DECAF_DP[\"FTU\"].append(metrics.ftu(synth_clf, X_synth, 4))\n",
    "        print(\"ftu done\")\n",
    "        DECAF_DP[\"DP\"].append(metrics.dp(synth_clf, X_synth, 4))\n",
    "        print(\"dp done\")\n",
    "    else:\n",
    "        print(\"Warning: fairness_type not recognized\")\n",
    "    return"
   ]
  },
  {
   "cell_type": "markdown",
   "id": "9cebb8fd",
   "metadata": {},
   "source": [
    "If you would like to generate the synthetic data from the pre-trained models yourself, run the cell below. This will take approximately 1 hour for the 10 models (UPDATE THIS NUMBER). Otherwise, run the second cell."
   ]
  },
  {
   "cell_type": "code",
   "execution_count": null,
   "id": "9fa1bb0f",
   "metadata": {
    "scrolled": true
   },
   "outputs": [
    {
     "name": "stdout",
     "output_type": "stream",
     "text": [
      "Initialised adjacency matrix as parsed:\n",
      " Parameter containing:\n",
      "tensor([[0., 1., 0., 1., 0., 1., 1., 0., 0., 0., 0., 0., 1., 0., 1.],\n",
      "        [0., 0., 0., 0., 0., 0., 0., 0., 0., 0., 0., 0., 0., 0., 1.],\n",
      "        [0., 0., 0., 0., 0., 0., 0., 0., 0., 0., 0., 0., 0., 0., 0.],\n",
      "        [0., 1., 0., 0., 0., 0., 1., 1., 0., 0., 0., 0., 1., 0., 1.],\n",
      "        [0., 0., 0., 0., 0., 0., 0., 0., 0., 0., 0., 0., 0., 0., 0.],\n",
      "        [0., 1., 0., 1., 0., 0., 1., 1., 0., 0., 0., 0., 1., 0., 1.],\n",
      "        [0., 0., 0., 0., 0., 0., 0., 0., 0., 0., 0., 0., 0., 0., 1.],\n",
      "        [0., 0., 0., 0., 0., 0., 0., 0., 0., 0., 0., 0., 0., 0., 1.],\n",
      "        [0., 0., 0., 1., 0., 1., 1., 0., 0., 0., 0., 0., 1., 0., 1.],\n",
      "        [0., 1., 0., 1., 0., 1., 1., 1., 0., 0., 0., 0., 1., 0., 1.],\n",
      "        [0., 0., 0., 0., 0., 0., 0., 0., 0., 0., 0., 0., 0., 0., 0.],\n",
      "        [0., 0., 0., 0., 0., 0., 0., 0., 0., 0., 0., 0., 0., 0., 0.],\n",
      "        [0., 0., 0., 0., 0., 0., 0., 0., 0., 0., 0., 0., 0., 0., 1.],\n",
      "        [0., 1., 0., 1., 0., 1., 0., 1., 0., 0., 0., 0., 1., 0., 1.],\n",
      "        [0., 0., 0., 0., 0., 0., 0., 0., 0., 0., 0., 0., 0., 0., 0.]])\n",
      "nan in X_synth False\n",
      "nan in y_synth False\n",
      "nan in y_pred_synth False\n",
      "nan in y_pred_synth_proba False\n",
      "nan in X_synth False\n",
      "nan in y_synth False\n",
      "nan in y_pred_synth False\n",
      "nan in y_pred_synth_proba False\n",
      "nan in X_synth False\n",
      "nan in y_synth False\n",
      "nan in y_pred_synth False\n",
      "nan in y_pred_synth_proba False\n",
      "nan in X_synth False\n",
      "nan in y_synth False\n"
     ]
    }
   ],
   "source": [
    "# Run if you want to generate synthetic data yourself. Otherwise, skip this cell.\n",
    "\n",
    "# models = [\"logs/DECAF_adult/version_0/checkpoints/epoch=49-step=21249.ckpt\",\"logs/DECAF_adult/version_1/checkpoints/epoch=49-step=21249.ckpt\" ]\n",
    "models = [\"logs/DECAF_adult/version_2/checkpoints/epoch=49-step=21249.ckpt\", \"logs/DECAF_adult/version_4/checkpoints/epoch=49-step=21249.ckpt\"] # to be added\n",
    "# only version 1 & 3 has error\n",
    "\n",
    "data_all_models = [] # delete if file generated date already exists\n",
    "\n",
    "for trained_model in models:\n",
    "    model = DECAF(input_dim=dm.dims[0])    \n",
    "    model = model.load_from_checkpoint(trained_model)\n",
    "    \n",
    "    synthetic_data = model.gen_synthetic(dm.dataset.x, gen_order=model.get_gen_order(), biased_edges={}).detach().numpy()\n",
    "    calculate_scores(synthetic_data, fairness_type=\"ND\")\n",
    "    \n",
    "    synthetic_data_FTU = model.gen_synthetic(dm.dataset.x, gen_order=model.get_gen_order(), biased_edges=bias_dict_FTU).detach().numpy()\n",
    "    calculate_scores(synthetic_data_FTU, fairness_type=\"FTU\")\n",
    "    \n",
    "    synthetic_data_CF = model.gen_synthetic(dm.dataset.x, gen_order=model.get_gen_order(), biased_edges=bias_dict_CF).detach().numpy()\n",
    "    calculate_scores(synthetic_data_CF, fairness_type=\"CF\")\n",
    "    \n",
    "    synthetic_data_DP = model.gen_synthetic(dm.dataset.x, gen_order=model.get_gen_order(), biased_edges=bias_dict_DP).detach().numpy()    \n",
    "    calculate_scores(synthetic_data_DP, fairness_type=\"DP\")\n",
    "    \n",
    "#     synthetic_data_to_store = {}        \n",
    "#     synthetic_data_to_store[\"synthetic_data\"] = synthetic_data\n",
    "#     synthetic_data_to_store[\"synthetic_data_FTU\"] = synthetic_data_FTU\n",
    "#     synthetic_data_to_store[\"synthetic_data_CF\"] = synthetic_data_CF\n",
    "#     synthetic_data_to_store[\"synthetic_data_DP\"] = synthetic_data_DP\n",
    "    \n",
    "#     data_all_models.append(synthetic_data_to_store)\n",
    "    \n",
    "# with open('synthetic_data.pkl', 'wb') as f:\n",
    "#     pickle.dump(data_all_models, f)\n"
   ]
  },
  {
   "cell_type": "code",
   "execution_count": 41,
   "id": "c9074484",
   "metadata": {},
   "outputs": [],
   "source": [
    "# Run if you want to use pre-generated synthetic data\n",
    "\n",
    "with open('synthetic_data.pkl', 'rb') as f:\n",
    "    all_syn_data = pickle.load(f)\n",
    "\n",
    "for synthetic_data_stored in all_syn_data:\n",
    "    synthetic_data = synthetic_data_stored[\"synthetic_data\"]\n",
    "    calculate_scores(synthetic_data, fairness_type=\"ND\")\n",
    "    synthetic_data_FTU = synthetic_data_stored[\"synthetic_data_FTU\"]\n",
    "    calculate_scores(synthetic_data_FTU, fairness_type=\"FTU\")\n",
    "    synthetic_data_CF = synthetic_data_stored[\"synthetic_data_CF\"]\n",
    "    calculate_scores(synthetic_data_CF, fairness_type=\"CF\")\n",
    "    synthetic_data_DP = synthetic_data_stored[\"synthetic_data_DP\"]\n",
    "    calculate_scores(synthetic_data_DP, fairness_type=\"DP\")\n"
   ]
  },
  {
   "cell_type": "code",
   "execution_count": 40,
   "id": "82c49f10",
   "metadata": {},
   "outputs": [
    {
     "ename": "TypeError",
     "evalue": "don't know how to coerce float32 and float64",
     "output_type": "error",
     "traceback": [
      "\u001b[1;31m---------------------------------------------------------------------------\u001b[0m",
      "\u001b[1;31mTypeError\u001b[0m                                 Traceback (most recent call last)",
      "\u001b[1;32m~\\AppData\\Local\\Temp/ipykernel_14296/1916508532.py\u001b[0m in \u001b[0;36m<module>\u001b[1;34m\u001b[0m\n\u001b[0;32m     10\u001b[0m      \u001b[1;33m[\u001b[0m\u001b[1;34m\"GAN-PR\"\u001b[0m\u001b[1;33m,\u001b[0m \u001b[1;36m0\u001b[0m \u001b[1;33m,\u001b[0m\u001b[1;36m0\u001b[0m\u001b[1;33m,\u001b[0m\u001b[1;36m0\u001b[0m\u001b[1;33m,\u001b[0m\u001b[1;36m0\u001b[0m\u001b[1;33m,\u001b[0m\u001b[1;36m0\u001b[0m\u001b[1;33m]\u001b[0m\u001b[1;33m,\u001b[0m\u001b[1;33m\u001b[0m\u001b[1;33m\u001b[0m\u001b[0m\n\u001b[0;32m     11\u001b[0m      \u001b[1;33m[\u001b[0m\u001b[1;34m\"WGAN-GP-PR\"\u001b[0m\u001b[1;33m,\u001b[0m \u001b[1;36m0\u001b[0m \u001b[1;33m,\u001b[0m\u001b[1;36m0\u001b[0m\u001b[1;33m,\u001b[0m\u001b[1;36m0\u001b[0m\u001b[1;33m,\u001b[0m\u001b[1;36m0\u001b[0m\u001b[1;33m,\u001b[0m\u001b[1;36m0\u001b[0m\u001b[1;33m]\u001b[0m\u001b[1;33m,\u001b[0m\u001b[1;33m\u001b[0m\u001b[1;33m\u001b[0m\u001b[0m\n\u001b[1;32m---> 12\u001b[1;33m      \u001b[1;33m[\u001b[0m\u001b[1;34m\"DECAF-ND\"\u001b[0m\u001b[1;33m,\u001b[0m \u001b[0mcalc_metrics\u001b[0m\u001b[1;33m(\u001b[0m\u001b[0mDECAF_ND\u001b[0m\u001b[1;33m[\u001b[0m\u001b[1;34m\"precision\"\u001b[0m\u001b[1;33m]\u001b[0m\u001b[1;33m)\u001b[0m\u001b[1;33m,\u001b[0m \u001b[0mcalc_metrics\u001b[0m\u001b[1;33m(\u001b[0m\u001b[0mDECAF_ND\u001b[0m\u001b[1;33m[\u001b[0m\u001b[1;34m\"recall\"\u001b[0m\u001b[1;33m]\u001b[0m\u001b[1;33m)\u001b[0m\u001b[1;33m,\u001b[0m \u001b[0mcalc_metrics\u001b[0m\u001b[1;33m(\u001b[0m\u001b[0mDECAF_ND\u001b[0m\u001b[1;33m[\u001b[0m\u001b[1;34m\"auroc\"\u001b[0m\u001b[1;33m]\u001b[0m\u001b[1;33m)\u001b[0m\u001b[1;33m,\u001b[0m \u001b[0mcalc_metrics\u001b[0m\u001b[1;33m(\u001b[0m\u001b[0mDECAF_ND\u001b[0m\u001b[1;33m[\u001b[0m\u001b[1;34m\"FTU\"\u001b[0m\u001b[1;33m]\u001b[0m\u001b[1;33m)\u001b[0m\u001b[1;33m,\u001b[0m \u001b[0mcalc_metrics\u001b[0m\u001b[1;33m(\u001b[0m\u001b[0mDECAF_ND\u001b[0m\u001b[1;33m[\u001b[0m\u001b[1;34m\"DP\"\u001b[0m\u001b[1;33m]\u001b[0m\u001b[1;33m)\u001b[0m\u001b[1;33m]\u001b[0m\u001b[1;33m,\u001b[0m\u001b[1;33m\u001b[0m\u001b[1;33m\u001b[0m\u001b[0m\n\u001b[0m\u001b[0;32m     13\u001b[0m      \u001b[1;33m[\u001b[0m\u001b[1;34m\"DECAF-FTU\"\u001b[0m\u001b[1;33m,\u001b[0m \u001b[0mcalc_metrics\u001b[0m\u001b[1;33m(\u001b[0m\u001b[0mDECAF_FTU\u001b[0m\u001b[1;33m[\u001b[0m\u001b[1;34m\"precision\"\u001b[0m\u001b[1;33m]\u001b[0m\u001b[1;33m)\u001b[0m\u001b[1;33m,\u001b[0m \u001b[0mcalc_metrics\u001b[0m\u001b[1;33m(\u001b[0m\u001b[0mDECAF_FTU\u001b[0m\u001b[1;33m[\u001b[0m\u001b[1;34m\"recall\"\u001b[0m\u001b[1;33m]\u001b[0m\u001b[1;33m)\u001b[0m\u001b[1;33m,\u001b[0m \u001b[0mcalc_metrics\u001b[0m\u001b[1;33m(\u001b[0m\u001b[0mDECAF_FTU\u001b[0m\u001b[1;33m[\u001b[0m\u001b[1;34m\"auroc\"\u001b[0m\u001b[1;33m]\u001b[0m\u001b[1;33m)\u001b[0m\u001b[1;33m,\u001b[0m \u001b[0mcalc_metrics\u001b[0m\u001b[1;33m(\u001b[0m\u001b[0mDECAF_FTU\u001b[0m\u001b[1;33m[\u001b[0m\u001b[1;34m\"FTU\"\u001b[0m\u001b[1;33m]\u001b[0m\u001b[1;33m)\u001b[0m\u001b[1;33m,\u001b[0m \u001b[0mcalc_metrics\u001b[0m\u001b[1;33m(\u001b[0m\u001b[0mDECAF_FTU\u001b[0m\u001b[1;33m[\u001b[0m\u001b[1;34m\"DP\"\u001b[0m\u001b[1;33m]\u001b[0m\u001b[1;33m)\u001b[0m\u001b[1;33m]\u001b[0m\u001b[1;33m,\u001b[0m\u001b[1;33m\u001b[0m\u001b[1;33m\u001b[0m\u001b[0m\n\u001b[0;32m     14\u001b[0m      \u001b[1;33m[\u001b[0m\u001b[1;34m\"DECAF-CF\"\u001b[0m\u001b[1;33m,\u001b[0m \u001b[0mcalc_metrics\u001b[0m\u001b[1;33m(\u001b[0m\u001b[0mDECAF_CF\u001b[0m\u001b[1;33m[\u001b[0m\u001b[1;34m\"precision\"\u001b[0m\u001b[1;33m]\u001b[0m\u001b[1;33m)\u001b[0m\u001b[1;33m,\u001b[0m \u001b[0mcalc_metrics\u001b[0m\u001b[1;33m(\u001b[0m\u001b[0mDECAF_CF\u001b[0m\u001b[1;33m[\u001b[0m\u001b[1;34m\"recall\"\u001b[0m\u001b[1;33m]\u001b[0m\u001b[1;33m)\u001b[0m\u001b[1;33m,\u001b[0m \u001b[0mcalc_metrics\u001b[0m\u001b[1;33m(\u001b[0m\u001b[0mDECAF_CF\u001b[0m\u001b[1;33m[\u001b[0m\u001b[1;34m\"auroc\"\u001b[0m\u001b[1;33m]\u001b[0m\u001b[1;33m)\u001b[0m\u001b[1;33m,\u001b[0m \u001b[0mcalc_metrics\u001b[0m\u001b[1;33m(\u001b[0m\u001b[0mDECAF_CF\u001b[0m\u001b[1;33m[\u001b[0m\u001b[1;34m\"FTU\"\u001b[0m\u001b[1;33m]\u001b[0m\u001b[1;33m)\u001b[0m\u001b[1;33m,\u001b[0m \u001b[0mcalc_metrics\u001b[0m\u001b[1;33m(\u001b[0m\u001b[0mDECAF_CF\u001b[0m\u001b[1;33m[\u001b[0m\u001b[1;34m\"DP\"\u001b[0m\u001b[1;33m]\u001b[0m\u001b[1;33m)\u001b[0m\u001b[1;33m]\u001b[0m\u001b[1;33m,\u001b[0m\u001b[1;33m\u001b[0m\u001b[1;33m\u001b[0m\u001b[0m\n",
      "\u001b[1;32m~\\AppData\\Local\\Temp/ipykernel_14296/1916508532.py\u001b[0m in \u001b[0;36mcalc_metrics\u001b[1;34m(data)\u001b[0m\n\u001b[0;32m      1\u001b[0m \u001b[1;32mdef\u001b[0m \u001b[0mcalc_metrics\u001b[0m\u001b[1;33m(\u001b[0m\u001b[0mdata\u001b[0m\u001b[1;33m)\u001b[0m\u001b[1;33m:\u001b[0m\u001b[1;33m\u001b[0m\u001b[1;33m\u001b[0m\u001b[0m\n\u001b[0;32m      2\u001b[0m     \u001b[1;31m# Calculate mean and stdev of the data, returns a string\u001b[0m\u001b[1;33m\u001b[0m\u001b[1;33m\u001b[0m\u001b[1;33m\u001b[0m\u001b[0m\n\u001b[1;32m----> 3\u001b[1;33m     \u001b[0mmean\u001b[0m \u001b[1;33m=\u001b[0m \u001b[0mstatistics\u001b[0m\u001b[1;33m.\u001b[0m\u001b[0mmean\u001b[0m\u001b[1;33m(\u001b[0m\u001b[0mdata\u001b[0m\u001b[1;33m)\u001b[0m\u001b[1;33m\u001b[0m\u001b[1;33m\u001b[0m\u001b[0m\n\u001b[0m\u001b[0;32m      4\u001b[0m     \u001b[0mstdev\u001b[0m \u001b[1;33m=\u001b[0m \u001b[0mstatistics\u001b[0m\u001b[1;33m.\u001b[0m\u001b[0mstdev\u001b[0m\u001b[1;33m(\u001b[0m\u001b[0mdata\u001b[0m\u001b[1;33m,\u001b[0m \u001b[0mmean\u001b[0m\u001b[1;33m)\u001b[0m\u001b[1;33m\u001b[0m\u001b[1;33m\u001b[0m\u001b[0m\n\u001b[0;32m      5\u001b[0m     \u001b[1;32mreturn\u001b[0m \u001b[1;34m\"{:.3f}±{:.3f}\"\u001b[0m\u001b[1;33m.\u001b[0m\u001b[0mformat\u001b[0m\u001b[1;33m(\u001b[0m\u001b[0mmean\u001b[0m\u001b[1;33m,\u001b[0m \u001b[0mstdev\u001b[0m\u001b[1;33m)\u001b[0m\u001b[1;33m\u001b[0m\u001b[1;33m\u001b[0m\u001b[0m\n",
      "\u001b[1;32m~\\miniconda3\\lib\\statistics.py\u001b[0m in \u001b[0;36mmean\u001b[1;34m(data)\u001b[0m\n\u001b[0;32m    314\u001b[0m     \u001b[1;32mif\u001b[0m \u001b[0mn\u001b[0m \u001b[1;33m<\u001b[0m \u001b[1;36m1\u001b[0m\u001b[1;33m:\u001b[0m\u001b[1;33m\u001b[0m\u001b[1;33m\u001b[0m\u001b[0m\n\u001b[0;32m    315\u001b[0m         \u001b[1;32mraise\u001b[0m \u001b[0mStatisticsError\u001b[0m\u001b[1;33m(\u001b[0m\u001b[1;34m'mean requires at least one data point'\u001b[0m\u001b[1;33m)\u001b[0m\u001b[1;33m\u001b[0m\u001b[1;33m\u001b[0m\u001b[0m\n\u001b[1;32m--> 316\u001b[1;33m     \u001b[0mT\u001b[0m\u001b[1;33m,\u001b[0m \u001b[0mtotal\u001b[0m\u001b[1;33m,\u001b[0m \u001b[0mcount\u001b[0m \u001b[1;33m=\u001b[0m \u001b[0m_sum\u001b[0m\u001b[1;33m(\u001b[0m\u001b[0mdata\u001b[0m\u001b[1;33m)\u001b[0m\u001b[1;33m\u001b[0m\u001b[1;33m\u001b[0m\u001b[0m\n\u001b[0m\u001b[0;32m    317\u001b[0m     \u001b[1;32massert\u001b[0m \u001b[0mcount\u001b[0m \u001b[1;33m==\u001b[0m \u001b[0mn\u001b[0m\u001b[1;33m\u001b[0m\u001b[1;33m\u001b[0m\u001b[0m\n\u001b[0;32m    318\u001b[0m     \u001b[1;32mreturn\u001b[0m \u001b[0m_convert\u001b[0m\u001b[1;33m(\u001b[0m\u001b[0mtotal\u001b[0m \u001b[1;33m/\u001b[0m \u001b[0mn\u001b[0m\u001b[1;33m,\u001b[0m \u001b[0mT\u001b[0m\u001b[1;33m)\u001b[0m\u001b[1;33m\u001b[0m\u001b[1;33m\u001b[0m\u001b[0m\n",
      "\u001b[1;32m~\\miniconda3\\lib\\statistics.py\u001b[0m in \u001b[0;36m_sum\u001b[1;34m(data, start)\u001b[0m\n\u001b[0;32m    163\u001b[0m     \u001b[0mT\u001b[0m \u001b[1;33m=\u001b[0m \u001b[0m_coerce\u001b[0m\u001b[1;33m(\u001b[0m\u001b[0mint\u001b[0m\u001b[1;33m,\u001b[0m \u001b[0mtype\u001b[0m\u001b[1;33m(\u001b[0m\u001b[0mstart\u001b[0m\u001b[1;33m)\u001b[0m\u001b[1;33m)\u001b[0m\u001b[1;33m\u001b[0m\u001b[1;33m\u001b[0m\u001b[0m\n\u001b[0;32m    164\u001b[0m     \u001b[1;32mfor\u001b[0m \u001b[0mtyp\u001b[0m\u001b[1;33m,\u001b[0m \u001b[0mvalues\u001b[0m \u001b[1;32min\u001b[0m \u001b[0mgroupby\u001b[0m\u001b[1;33m(\u001b[0m\u001b[0mdata\u001b[0m\u001b[1;33m,\u001b[0m \u001b[0mtype\u001b[0m\u001b[1;33m)\u001b[0m\u001b[1;33m:\u001b[0m\u001b[1;33m\u001b[0m\u001b[1;33m\u001b[0m\u001b[0m\n\u001b[1;32m--> 165\u001b[1;33m         \u001b[0mT\u001b[0m \u001b[1;33m=\u001b[0m \u001b[0m_coerce\u001b[0m\u001b[1;33m(\u001b[0m\u001b[0mT\u001b[0m\u001b[1;33m,\u001b[0m \u001b[0mtyp\u001b[0m\u001b[1;33m)\u001b[0m  \u001b[1;31m# or raise TypeError\u001b[0m\u001b[1;33m\u001b[0m\u001b[1;33m\u001b[0m\u001b[0m\n\u001b[0m\u001b[0;32m    166\u001b[0m         \u001b[1;32mfor\u001b[0m \u001b[0mn\u001b[0m\u001b[1;33m,\u001b[0m \u001b[0md\u001b[0m \u001b[1;32min\u001b[0m \u001b[0mmap\u001b[0m\u001b[1;33m(\u001b[0m\u001b[0m_exact_ratio\u001b[0m\u001b[1;33m,\u001b[0m \u001b[0mvalues\u001b[0m\u001b[1;33m)\u001b[0m\u001b[1;33m:\u001b[0m\u001b[1;33m\u001b[0m\u001b[1;33m\u001b[0m\u001b[0m\n\u001b[0;32m    167\u001b[0m             \u001b[0mcount\u001b[0m \u001b[1;33m+=\u001b[0m \u001b[1;36m1\u001b[0m\u001b[1;33m\u001b[0m\u001b[1;33m\u001b[0m\u001b[0m\n",
      "\u001b[1;32m~\\miniconda3\\lib\\statistics.py\u001b[0m in \u001b[0;36m_coerce\u001b[1;34m(T, S)\u001b[0m\n\u001b[0;32m    214\u001b[0m     \u001b[1;31m# Any other combination is disallowed.\u001b[0m\u001b[1;33m\u001b[0m\u001b[1;33m\u001b[0m\u001b[1;33m\u001b[0m\u001b[0m\n\u001b[0;32m    215\u001b[0m     \u001b[0mmsg\u001b[0m \u001b[1;33m=\u001b[0m \u001b[1;34m\"don't know how to coerce %s and %s\"\u001b[0m\u001b[1;33m\u001b[0m\u001b[1;33m\u001b[0m\u001b[0m\n\u001b[1;32m--> 216\u001b[1;33m     \u001b[1;32mraise\u001b[0m \u001b[0mTypeError\u001b[0m\u001b[1;33m(\u001b[0m\u001b[0mmsg\u001b[0m \u001b[1;33m%\u001b[0m \u001b[1;33m(\u001b[0m\u001b[0mT\u001b[0m\u001b[1;33m.\u001b[0m\u001b[0m__name__\u001b[0m\u001b[1;33m,\u001b[0m \u001b[0mS\u001b[0m\u001b[1;33m.\u001b[0m\u001b[0m__name__\u001b[0m\u001b[1;33m)\u001b[0m\u001b[1;33m)\u001b[0m\u001b[1;33m\u001b[0m\u001b[1;33m\u001b[0m\u001b[0m\n\u001b[0m\u001b[0;32m    217\u001b[0m \u001b[1;33m\u001b[0m\u001b[0m\n\u001b[0;32m    218\u001b[0m \u001b[1;33m\u001b[0m\u001b[0m\n",
      "\u001b[1;31mTypeError\u001b[0m: don't know how to coerce float32 and float64"
     ]
    }
   ],
   "source": [
    "def calc_metrics(data):\n",
    "    # Calculate mean and stdev of the data, returns a string\n",
    "    mean = statistics.mean(data)\n",
    "    stdev = statistics.stdev(data, mean)\n",
    "    return \"{:.3f}±{:.3f}\".format(mean, stdev)\n",
    "    \n",
    "d = [ [\"Original Data\", 0 ,0,0,0,0],\n",
    "     [\"GAN\", 0 ,0,0,0,0],\n",
    "     [\"WGAN-GP\", 0 ,0,0,0,0],\n",
    "     [\"GAN-PR\", 0 ,0,0,0,0],\n",
    "     [\"WGAN-GP-PR\", 0 ,0,0,0,0],\n",
    "     [\"DECAF-ND\", calc_metrics(DECAF_ND[\"precision\"]), calc_metrics(DECAF_ND[\"recall\"]), calc_metrics(DECAF_ND[\"auroc\"]), calc_metrics(DECAF_ND[\"FTU\"]), calc_metrics(DECAF_ND[\"DP\"])],\n",
    "     [\"DECAF-FTU\", calc_metrics(DECAF_FTU[\"precision\"]), calc_metrics(DECAF_FTU[\"recall\"]), calc_metrics(DECAF_FTU[\"auroc\"]), calc_metrics(DECAF_FTU[\"FTU\"]), calc_metrics(DECAF_FTU[\"DP\"])],\n",
    "     [\"DECAF-CF\", calc_metrics(DECAF_CF[\"precision\"]), calc_metrics(DECAF_CF[\"recall\"]), calc_metrics(DECAF_CF[\"auroc\"]), calc_metrics(DECAF_CF[\"FTU\"]), calc_metrics(DECAF_CF[\"DP\"])],\n",
    "     [\"DECAF-DP\", calc_metrics(DECAF_DP[\"precision\"]), calc_metrics(DECAF_DP[\"recall\"]), calc_metrics(DECAF_DP[\"auroc\"]), calc_metrics(DECAF_DP[\"FTU\"]), calc_metrics(DECAF_DP[\"DP\"])]\n",
    "]\n",
    "\n",
    "df = pd.DataFrame(d, columns = [\"Model\", \"Precision\", \"Recall\", \"AUROC\", \"FTU\", \"DP\"])\n",
    "df"
   ]
  },
  {
   "cell_type": "markdown",
   "id": "93211ab6",
   "metadata": {},
   "source": [
    "## Experiment 2 - Fair Credit Approval"
   ]
  },
  {
   "cell_type": "markdown",
   "id": "0618a94a",
   "metadata": {},
   "source": [
    "First, load the credit data, the DAG and the biased edges for different fairness definitions of the credit data."
   ]
  },
  {
   "cell_type": "code",
   "execution_count": 3,
   "id": "a19a8776",
   "metadata": {},
   "outputs": [],
   "source": [
    "dfr, Xy, min_max_scaler = credit_data.load(0.5)\n",
    "dm = data.DataModule(Xy)\n",
    "X = Xy[:, :-1].astype(\"float32\")\n",
    "y = np.round(Xy[:, -1]).astype(int)\n",
    "\n",
    "dag_seed = [[1, 7], [7, 10], [10, 2], [10, 15], [2, 14], [14, 15], [14, 3], [3, 15], [13, 3], [12, 3], [6, 3], [6, 15], [5, 3], [5, 9], [9, 2], [9, 15], [9, 4], [9, 12], [11, 9], [8, 10], [8, 15], [8, 9]]\n",
    "bias_dict_credit_FTU = {15: [6]}\n",
    "bias_dict_credit_DP = {15: [6, 3]}\n",
    "\n",
    "n = 6\n",
    "betas = np.linspace(0, 1, n, endpoint=True)"
   ]
  },
  {
   "cell_type": "code",
   "execution_count": 9,
   "id": "de2cb4b1",
   "metadata": {},
   "outputs": [],
   "source": [
    "DECAF_Credit_ND = {\n",
    "    \"Precision\": [[]] * len(betas),\n",
    "    \"Recall\": [[]] * len(betas),\n",
    "    \"AUROC\": [[]] * len(betas),\n",
    "    \"FTU\": [[]] * len(betas),\n",
    "    \"DP\": [[]] * len(betas)\n",
    "}\n",
    "DECAF_Credit_FTU = {\n",
    "    \"Precision\": [[]] * len(betas),\n",
    "    \"Recall\": [[]] * len(betas),\n",
    "    \"AUROC\": [[]] * len(betas),\n",
    "    \"FTU\": [[]] * len(betas),\n",
    "    \"DP\": [[]] * len(betas)\n",
    "}\n",
    "DECAF_Credit_DP = {\n",
    "    \"Precision\": [[]] * len(betas),\n",
    "    \"Recall\": [[]] * len(betas),\n",
    "    \"AUROC\": [[]] * len(betas),\n",
    "    \"FTU\": [[]] * len(betas),\n",
    "    \"DP\": [[]] * len(betas)\n",
    "}"
   ]
  },
  {
   "cell_type": "code",
   "execution_count": 8,
   "id": "c3fc40f3",
   "metadata": {},
   "outputs": [],
   "source": [
    "def calculate_scores_credit(Xy_synth, fairness_type, beta_idx):\n",
    "    ## Takes Xy_synthetic data (including label) of the adult data set and fairness type\n",
    "    ## Calculates the precision, recall, auroc, FTU and DP metrics\n",
    "    X_synth = Xy_synth[:, :-1]\n",
    "    y_synth = np.round(Xy_synth[:, -1]).astype(int)   \n",
    "    \n",
    "    synth_clf = MLPClassifier().fit(X_synth, y_synth)\n",
    "    y_pred_synth = synth_clf.predict(X)\n",
    "    y_pred_synth_proba = synth_clf.predict_proba(X)\n",
    "    print(beta_idx)\n",
    "    \n",
    "    if fairness_type == \"ND\":\n",
    "        print(beta_idx)\n",
    "        print(DECAF_Credit_ND[\"Precision\"][0])\n",
    "        print(DECAF_Credit_ND[\"Precision\"][1])\n",
    "        DECAF_Credit_ND[\"Precision\"][beta_idx].append(precision_score(y, y_pred_synth))\n",
    "        DECAF_Credit_ND[\"Recall\"][beta_idx].append(recall_score(y, y_pred_synth))\n",
    "        DECAF_Credit_ND[\"AUROC\"][beta_idx].append(roc_auc_score(y, y_pred_synth_proba[:, 1]))\n",
    "        DECAF_Credit_ND[\"FTU\"][beta_idx].append(metrics.ftu(synth_clf, X_synth, 6))\n",
    "        DECAF_Credit_ND[\"DP\"][beta_idx].append(metrics.dp(synth_clf, X_synth, 6))\n",
    "    elif fairness_type == \"FTU\":\n",
    "        DECAF_Credit_FTU[\"Precision\"][beta_idx].append(precision_score(y, y_pred_synth))\n",
    "        DECAF_Credit_FTU[\"Recall\"][beta_idx].append(recall_score(y, y_pred_synth))\n",
    "        DECAF_Credit_FTU[\"AUROC\"][beta_idx].append(roc_auc_score(y, y_pred_synth_proba[:, 1]))\n",
    "        DECAF_Credit_FTU[\"FTU\"][beta_idx].append(metrics.ftu(synth_clf, X_synth, 6))\n",
    "        DECAF_Credit_FTU[\"DP\"][beta_idx].append(metrics.dp(synth_clf, X_synth, 6))  \n",
    "    elif fairness_type == \"DP\":\n",
    "        DECAF_Credit_DP[\"Precision\"][beta_idx].append(precision_score(y, y_pred_synth))\n",
    "        print(\"precision done\")\n",
    "        DECAF_Credit_DP[\"Recall\"][beta_idx].append(recall_score(y, y_pred_synth))\n",
    "        print(\"recall done\")\n",
    "        DECAF_Credit_DP[\"AUROC\"][beta_idx].append(roc_auc_score(y, y_pred_synth_proba[:, 1]))\n",
    "        print(\"auroc done\")\n",
    "        DECAF_Credit_DP[\"FTU\"][beta_idx].append(metrics.ftu(synth_clf, X_synth, 6))\n",
    "        print(\"ftu done\")\n",
    "        DECAF_Credit_DP[\"DP\"][beta_idx].append(metrics.dp(synth_clf, X_synth, 6))\n",
    "        print(\"dp done\")\n",
    "    else:\n",
    "        print(\"Warning: fairness_type not recognized\")\n",
    "    return"
   ]
  },
  {
   "cell_type": "markdown",
   "id": "33ede9e1",
   "metadata": {},
   "source": []
  },
  {
   "cell_type": "code",
   "execution_count": 10,
   "id": "6af2c6a9",
   "metadata": {},
   "outputs": [
    {
     "name": "stdout",
     "output_type": "stream",
     "text": [
      "Initialised adjacency matrix as parsed:\n",
      " Parameter containing:\n",
      "tensor([[0., 0., 0., 0., 0., 0., 0., 0., 0., 0., 0., 0., 0., 0., 0., 0.],\n",
      "        [0., 0., 0., 0., 0., 0., 0., 1., 0., 0., 0., 0., 0., 0., 0., 0.],\n",
      "        [0., 0., 0., 0., 0., 0., 0., 0., 0., 0., 0., 0., 0., 0., 1., 0.],\n",
      "        [0., 0., 0., 0., 0., 0., 0., 0., 0., 0., 0., 0., 0., 0., 0., 1.],\n",
      "        [0., 0., 0., 0., 0., 0., 0., 0., 0., 0., 0., 0., 0., 0., 0., 0.],\n",
      "        [0., 0., 0., 1., 0., 0., 0., 0., 0., 1., 0., 0., 0., 0., 0., 0.],\n",
      "        [0., 0., 0., 1., 0., 0., 0., 0., 0., 0., 0., 0., 0., 0., 0., 1.],\n",
      "        [0., 0., 0., 0., 0., 0., 0., 0., 0., 0., 1., 0., 0., 0., 0., 0.],\n",
      "        [0., 0., 0., 0., 0., 0., 0., 0., 0., 1., 1., 0., 0., 0., 0., 1.],\n",
      "        [0., 0., 1., 0., 1., 0., 0., 0., 0., 0., 0., 0., 1., 0., 0., 1.],\n",
      "        [0., 0., 1., 0., 0., 0., 0., 0., 0., 0., 0., 0., 0., 0., 0., 1.],\n",
      "        [0., 0., 0., 0., 0., 0., 0., 0., 0., 1., 0., 0., 0., 0., 0., 0.],\n",
      "        [0., 0., 0., 1., 0., 0., 0., 0., 0., 0., 0., 0., 0., 0., 0., 0.],\n",
      "        [0., 0., 0., 1., 0., 0., 0., 0., 0., 0., 0., 0., 0., 0., 0., 0.],\n",
      "        [0., 0., 0., 1., 0., 0., 0., 0., 0., 0., 0., 0., 0., 0., 0., 1.],\n",
      "        [0., 0., 0., 0., 0., 0., 0., 0., 0., 0., 0., 0., 0., 0., 0., 0.]])\n"
     ]
    },
    {
     "name": "stderr",
     "output_type": "stream",
     "text": [
      "C:\\Users\\zoepr\\anaconda3\\envs\\decaf\\lib\\site-packages\\sklearn\\neural_network\\_multilayer_perceptron.py:617: ConvergenceWarning: Stochastic Optimizer: Maximum iterations (200) reached and the optimization hasn't converged yet.\n",
      "  % self.max_iter, ConvergenceWarning)\n"
     ]
    },
    {
     "name": "stdout",
     "output_type": "stream",
     "text": [
      "0\n",
      "[]\n",
      "[]\n"
     ]
    },
    {
     "name": "stderr",
     "output_type": "stream",
     "text": [
      "C:\\Users\\zoepr\\anaconda3\\envs\\decaf\\lib\\site-packages\\sklearn\\neural_network\\_multilayer_perceptron.py:617: ConvergenceWarning: Stochastic Optimizer: Maximum iterations (200) reached and the optimization hasn't converged yet.\n",
      "  % self.max_iter, ConvergenceWarning)\n"
     ]
    },
    {
     "name": "stdout",
     "output_type": "stream",
     "text": [
      "0\n"
     ]
    },
    {
     "name": "stderr",
     "output_type": "stream",
     "text": [
      "C:\\Users\\zoepr\\anaconda3\\envs\\decaf\\lib\\site-packages\\sklearn\\neural_network\\_multilayer_perceptron.py:617: ConvergenceWarning: Stochastic Optimizer: Maximum iterations (200) reached and the optimization hasn't converged yet.\n",
      "  % self.max_iter, ConvergenceWarning)\n"
     ]
    },
    {
     "name": "stdout",
     "output_type": "stream",
     "text": [
      "0\n",
      "precision done\n",
      "recall done\n",
      "auroc done\n",
      "ftu done\n",
      "dp done\n",
      "Initialised adjacency matrix as parsed:\n",
      " Parameter containing:\n",
      "tensor([[0., 0., 0., 0., 0., 0., 0., 0., 0., 0., 0., 0., 0., 0., 0., 0.],\n",
      "        [0., 0., 0., 0., 0., 0., 0., 1., 0., 0., 0., 0., 0., 0., 0., 0.],\n",
      "        [0., 0., 0., 0., 0., 0., 0., 0., 0., 0., 0., 0., 0., 0., 1., 0.],\n",
      "        [0., 0., 0., 0., 0., 0., 0., 0., 0., 0., 0., 0., 0., 0., 0., 1.],\n",
      "        [0., 0., 0., 0., 0., 0., 0., 0., 0., 0., 0., 0., 0., 0., 0., 0.],\n",
      "        [0., 0., 0., 1., 0., 0., 0., 0., 0., 1., 0., 0., 0., 0., 0., 0.],\n",
      "        [0., 0., 0., 1., 0., 0., 0., 0., 0., 0., 0., 0., 0., 0., 0., 1.],\n",
      "        [0., 0., 0., 0., 0., 0., 0., 0., 0., 0., 1., 0., 0., 0., 0., 0.],\n",
      "        [0., 0., 0., 0., 0., 0., 0., 0., 0., 1., 1., 0., 0., 0., 0., 1.],\n",
      "        [0., 0., 1., 0., 1., 0., 0., 0., 0., 0., 0., 0., 1., 0., 0., 1.],\n",
      "        [0., 0., 1., 0., 0., 0., 0., 0., 0., 0., 0., 0., 0., 0., 0., 1.],\n",
      "        [0., 0., 0., 0., 0., 0., 0., 0., 0., 1., 0., 0., 0., 0., 0., 0.],\n",
      "        [0., 0., 0., 1., 0., 0., 0., 0., 0., 0., 0., 0., 0., 0., 0., 0.],\n",
      "        [0., 0., 0., 1., 0., 0., 0., 0., 0., 0., 0., 0., 0., 0., 0., 0.],\n",
      "        [0., 0., 0., 1., 0., 0., 0., 0., 0., 0., 0., 0., 0., 0., 0., 1.],\n",
      "        [0., 0., 0., 0., 0., 0., 0., 0., 0., 0., 0., 0., 0., 0., 0., 0.]])\n"
     ]
    },
    {
     "name": "stderr",
     "output_type": "stream",
     "text": [
      "C:\\Users\\zoepr\\anaconda3\\envs\\decaf\\lib\\site-packages\\sklearn\\neural_network\\_multilayer_perceptron.py:617: ConvergenceWarning: Stochastic Optimizer: Maximum iterations (200) reached and the optimization hasn't converged yet.\n",
      "  % self.max_iter, ConvergenceWarning)\n"
     ]
    },
    {
     "name": "stdout",
     "output_type": "stream",
     "text": [
      "0\n",
      "[0.926605504587156]\n",
      "[0.926605504587156]\n"
     ]
    },
    {
     "name": "stderr",
     "output_type": "stream",
     "text": [
      "C:\\Users\\zoepr\\anaconda3\\envs\\decaf\\lib\\site-packages\\sklearn\\neural_network\\_multilayer_perceptron.py:617: ConvergenceWarning: Stochastic Optimizer: Maximum iterations (200) reached and the optimization hasn't converged yet.\n",
      "  % self.max_iter, ConvergenceWarning)\n"
     ]
    },
    {
     "name": "stdout",
     "output_type": "stream",
     "text": [
      "0\n"
     ]
    },
    {
     "name": "stderr",
     "output_type": "stream",
     "text": [
      "C:\\Users\\zoepr\\anaconda3\\envs\\decaf\\lib\\site-packages\\sklearn\\neural_network\\_multilayer_perceptron.py:617: ConvergenceWarning: Stochastic Optimizer: Maximum iterations (200) reached and the optimization hasn't converged yet.\n",
      "  % self.max_iter, ConvergenceWarning)\n"
     ]
    },
    {
     "name": "stdout",
     "output_type": "stream",
     "text": [
      "0\n",
      "precision done\n",
      "recall done\n",
      "auroc done\n",
      "ftu done\n",
      "dp done\n",
      "Initialised adjacency matrix as parsed:\n",
      " Parameter containing:\n",
      "tensor([[0., 0., 0., 0., 0., 0., 0., 0., 0., 0., 0., 0., 0., 0., 0., 0.],\n",
      "        [0., 0., 0., 0., 0., 0., 0., 1., 0., 0., 0., 0., 0., 0., 0., 0.],\n",
      "        [0., 0., 0., 0., 0., 0., 0., 0., 0., 0., 0., 0., 0., 0., 1., 0.],\n",
      "        [0., 0., 0., 0., 0., 0., 0., 0., 0., 0., 0., 0., 0., 0., 0., 1.],\n",
      "        [0., 0., 0., 0., 0., 0., 0., 0., 0., 0., 0., 0., 0., 0., 0., 0.],\n",
      "        [0., 0., 0., 1., 0., 0., 0., 0., 0., 1., 0., 0., 0., 0., 0., 0.],\n",
      "        [0., 0., 0., 1., 0., 0., 0., 0., 0., 0., 0., 0., 0., 0., 0., 1.],\n",
      "        [0., 0., 0., 0., 0., 0., 0., 0., 0., 0., 1., 0., 0., 0., 0., 0.],\n",
      "        [0., 0., 0., 0., 0., 0., 0., 0., 0., 1., 1., 0., 0., 0., 0., 1.],\n",
      "        [0., 0., 1., 0., 1., 0., 0., 0., 0., 0., 0., 0., 1., 0., 0., 1.],\n",
      "        [0., 0., 1., 0., 0., 0., 0., 0., 0., 0., 0., 0., 0., 0., 0., 1.],\n",
      "        [0., 0., 0., 0., 0., 0., 0., 0., 0., 1., 0., 0., 0., 0., 0., 0.],\n",
      "        [0., 0., 0., 1., 0., 0., 0., 0., 0., 0., 0., 0., 0., 0., 0., 0.],\n",
      "        [0., 0., 0., 1., 0., 0., 0., 0., 0., 0., 0., 0., 0., 0., 0., 0.],\n",
      "        [0., 0., 0., 1., 0., 0., 0., 0., 0., 0., 0., 0., 0., 0., 0., 1.],\n",
      "        [0., 0., 0., 0., 0., 0., 0., 0., 0., 0., 0., 0., 0., 0., 0., 0.]])\n"
     ]
    },
    {
     "name": "stderr",
     "output_type": "stream",
     "text": [
      "C:\\Users\\zoepr\\anaconda3\\envs\\decaf\\lib\\site-packages\\sklearn\\neural_network\\_multilayer_perceptron.py:617: ConvergenceWarning: Stochastic Optimizer: Maximum iterations (200) reached and the optimization hasn't converged yet.\n",
      "  % self.max_iter, ConvergenceWarning)\n"
     ]
    },
    {
     "name": "stdout",
     "output_type": "stream",
     "text": [
      "0\n",
      "[0.926605504587156, 0.8784530386740331]\n",
      "[0.926605504587156, 0.8784530386740331]\n"
     ]
    },
    {
     "name": "stderr",
     "output_type": "stream",
     "text": [
      "C:\\Users\\zoepr\\anaconda3\\envs\\decaf\\lib\\site-packages\\sklearn\\neural_network\\_multilayer_perceptron.py:617: ConvergenceWarning: Stochastic Optimizer: Maximum iterations (200) reached and the optimization hasn't converged yet.\n",
      "  % self.max_iter, ConvergenceWarning)\n"
     ]
    },
    {
     "name": "stdout",
     "output_type": "stream",
     "text": [
      "0\n"
     ]
    },
    {
     "name": "stderr",
     "output_type": "stream",
     "text": [
      "C:\\Users\\zoepr\\anaconda3\\envs\\decaf\\lib\\site-packages\\sklearn\\neural_network\\_multilayer_perceptron.py:617: ConvergenceWarning: Stochastic Optimizer: Maximum iterations (200) reached and the optimization hasn't converged yet.\n",
      "  % self.max_iter, ConvergenceWarning)\n"
     ]
    },
    {
     "name": "stdout",
     "output_type": "stream",
     "text": [
      "0\n",
      "precision done\n",
      "recall done\n",
      "auroc done\n",
      "ftu done\n",
      "dp done\n",
      "Initialised adjacency matrix as parsed:\n",
      " Parameter containing:\n",
      "tensor([[0., 0., 0., 0., 0., 0., 0., 0., 0., 0., 0., 0., 0., 0., 0., 0.],\n",
      "        [0., 0., 0., 0., 0., 0., 0., 1., 0., 0., 0., 0., 0., 0., 0., 0.],\n",
      "        [0., 0., 0., 0., 0., 0., 0., 0., 0., 0., 0., 0., 0., 0., 1., 0.],\n",
      "        [0., 0., 0., 0., 0., 0., 0., 0., 0., 0., 0., 0., 0., 0., 0., 1.],\n",
      "        [0., 0., 0., 0., 0., 0., 0., 0., 0., 0., 0., 0., 0., 0., 0., 0.],\n",
      "        [0., 0., 0., 1., 0., 0., 0., 0., 0., 1., 0., 0., 0., 0., 0., 0.],\n",
      "        [0., 0., 0., 1., 0., 0., 0., 0., 0., 0., 0., 0., 0., 0., 0., 1.],\n",
      "        [0., 0., 0., 0., 0., 0., 0., 0., 0., 0., 1., 0., 0., 0., 0., 0.],\n",
      "        [0., 0., 0., 0., 0., 0., 0., 0., 0., 1., 1., 0., 0., 0., 0., 1.],\n",
      "        [0., 0., 1., 0., 1., 0., 0., 0., 0., 0., 0., 0., 1., 0., 0., 1.],\n",
      "        [0., 0., 1., 0., 0., 0., 0., 0., 0., 0., 0., 0., 0., 0., 0., 1.],\n",
      "        [0., 0., 0., 0., 0., 0., 0., 0., 0., 1., 0., 0., 0., 0., 0., 0.],\n",
      "        [0., 0., 0., 1., 0., 0., 0., 0., 0., 0., 0., 0., 0., 0., 0., 0.],\n",
      "        [0., 0., 0., 1., 0., 0., 0., 0., 0., 0., 0., 0., 0., 0., 0., 0.],\n",
      "        [0., 0., 0., 1., 0., 0., 0., 0., 0., 0., 0., 0., 0., 0., 0., 1.],\n",
      "        [0., 0., 0., 0., 0., 0., 0., 0., 0., 0., 0., 0., 0., 0., 0., 0.]])\n"
     ]
    },
    {
     "name": "stderr",
     "output_type": "stream",
     "text": [
      "C:\\Users\\zoepr\\anaconda3\\envs\\decaf\\lib\\site-packages\\sklearn\\neural_network\\_multilayer_perceptron.py:617: ConvergenceWarning: Stochastic Optimizer: Maximum iterations (200) reached and the optimization hasn't converged yet.\n",
      "  % self.max_iter, ConvergenceWarning)\n"
     ]
    },
    {
     "name": "stdout",
     "output_type": "stream",
     "text": [
      "0\n",
      "[0.926605504587156, 0.8784530386740331, 0.8911174785100286]\n",
      "[0.926605504587156, 0.8784530386740331, 0.8911174785100286]\n"
     ]
    },
    {
     "name": "stderr",
     "output_type": "stream",
     "text": [
      "C:\\Users\\zoepr\\anaconda3\\envs\\decaf\\lib\\site-packages\\sklearn\\neural_network\\_multilayer_perceptron.py:617: ConvergenceWarning: Stochastic Optimizer: Maximum iterations (200) reached and the optimization hasn't converged yet.\n",
      "  % self.max_iter, ConvergenceWarning)\n"
     ]
    },
    {
     "name": "stdout",
     "output_type": "stream",
     "text": [
      "0\n"
     ]
    },
    {
     "name": "stderr",
     "output_type": "stream",
     "text": [
      "C:\\Users\\zoepr\\anaconda3\\envs\\decaf\\lib\\site-packages\\sklearn\\neural_network\\_multilayer_perceptron.py:617: ConvergenceWarning: Stochastic Optimizer: Maximum iterations (200) reached and the optimization hasn't converged yet.\n",
      "  % self.max_iter, ConvergenceWarning)\n"
     ]
    },
    {
     "name": "stdout",
     "output_type": "stream",
     "text": [
      "0\n",
      "precision done\n",
      "recall done\n",
      "auroc done\n",
      "ftu done\n",
      "dp done\n",
      "Initialised adjacency matrix as parsed:\n",
      " Parameter containing:\n",
      "tensor([[0., 0., 0., 0., 0., 0., 0., 0., 0., 0., 0., 0., 0., 0., 0., 0.],\n",
      "        [0., 0., 0., 0., 0., 0., 0., 1., 0., 0., 0., 0., 0., 0., 0., 0.],\n",
      "        [0., 0., 0., 0., 0., 0., 0., 0., 0., 0., 0., 0., 0., 0., 1., 0.],\n",
      "        [0., 0., 0., 0., 0., 0., 0., 0., 0., 0., 0., 0., 0., 0., 0., 1.],\n",
      "        [0., 0., 0., 0., 0., 0., 0., 0., 0., 0., 0., 0., 0., 0., 0., 0.],\n",
      "        [0., 0., 0., 1., 0., 0., 0., 0., 0., 1., 0., 0., 0., 0., 0., 0.],\n",
      "        [0., 0., 0., 1., 0., 0., 0., 0., 0., 0., 0., 0., 0., 0., 0., 1.],\n",
      "        [0., 0., 0., 0., 0., 0., 0., 0., 0., 0., 1., 0., 0., 0., 0., 0.],\n",
      "        [0., 0., 0., 0., 0., 0., 0., 0., 0., 1., 1., 0., 0., 0., 0., 1.],\n",
      "        [0., 0., 1., 0., 1., 0., 0., 0., 0., 0., 0., 0., 1., 0., 0., 1.],\n",
      "        [0., 0., 1., 0., 0., 0., 0., 0., 0., 0., 0., 0., 0., 0., 0., 1.],\n",
      "        [0., 0., 0., 0., 0., 0., 0., 0., 0., 1., 0., 0., 0., 0., 0., 0.],\n",
      "        [0., 0., 0., 1., 0., 0., 0., 0., 0., 0., 0., 0., 0., 0., 0., 0.],\n",
      "        [0., 0., 0., 1., 0., 0., 0., 0., 0., 0., 0., 0., 0., 0., 0., 0.],\n",
      "        [0., 0., 0., 1., 0., 0., 0., 0., 0., 0., 0., 0., 0., 0., 0., 1.],\n",
      "        [0., 0., 0., 0., 0., 0., 0., 0., 0., 0., 0., 0., 0., 0., 0., 0.]])\n"
     ]
    },
    {
     "name": "stderr",
     "output_type": "stream",
     "text": [
      "C:\\Users\\zoepr\\anaconda3\\envs\\decaf\\lib\\site-packages\\sklearn\\neural_network\\_multilayer_perceptron.py:617: ConvergenceWarning: Stochastic Optimizer: Maximum iterations (200) reached and the optimization hasn't converged yet.\n",
      "  % self.max_iter, ConvergenceWarning)\n"
     ]
    },
    {
     "name": "stdout",
     "output_type": "stream",
     "text": [
      "0\n",
      "[0.926605504587156, 0.8784530386740331, 0.8911174785100286, 0.9159159159159159]\n",
      "[0.926605504587156, 0.8784530386740331, 0.8911174785100286, 0.9159159159159159]\n"
     ]
    },
    {
     "name": "stderr",
     "output_type": "stream",
     "text": [
      "C:\\Users\\zoepr\\anaconda3\\envs\\decaf\\lib\\site-packages\\sklearn\\neural_network\\_multilayer_perceptron.py:617: ConvergenceWarning: Stochastic Optimizer: Maximum iterations (200) reached and the optimization hasn't converged yet.\n",
      "  % self.max_iter, ConvergenceWarning)\n"
     ]
    },
    {
     "name": "stdout",
     "output_type": "stream",
     "text": [
      "0\n"
     ]
    },
    {
     "name": "stderr",
     "output_type": "stream",
     "text": [
      "C:\\Users\\zoepr\\anaconda3\\envs\\decaf\\lib\\site-packages\\sklearn\\neural_network\\_multilayer_perceptron.py:617: ConvergenceWarning: Stochastic Optimizer: Maximum iterations (200) reached and the optimization hasn't converged yet.\n",
      "  % self.max_iter, ConvergenceWarning)\n"
     ]
    },
    {
     "name": "stdout",
     "output_type": "stream",
     "text": [
      "0\n",
      "precision done\n",
      "recall done\n",
      "auroc done\n",
      "ftu done\n",
      "dp done\n",
      "Initialised adjacency matrix as parsed:\n",
      " Parameter containing:\n",
      "tensor([[0., 0., 0., 0., 0., 0., 0., 0., 0., 0., 0., 0., 0., 0., 0., 0.],\n",
      "        [0., 0., 0., 0., 0., 0., 0., 1., 0., 0., 0., 0., 0., 0., 0., 0.],\n",
      "        [0., 0., 0., 0., 0., 0., 0., 0., 0., 0., 0., 0., 0., 0., 1., 0.],\n",
      "        [0., 0., 0., 0., 0., 0., 0., 0., 0., 0., 0., 0., 0., 0., 0., 1.],\n",
      "        [0., 0., 0., 0., 0., 0., 0., 0., 0., 0., 0., 0., 0., 0., 0., 0.],\n",
      "        [0., 0., 0., 1., 0., 0., 0., 0., 0., 1., 0., 0., 0., 0., 0., 0.],\n",
      "        [0., 0., 0., 1., 0., 0., 0., 0., 0., 0., 0., 0., 0., 0., 0., 1.],\n",
      "        [0., 0., 0., 0., 0., 0., 0., 0., 0., 0., 1., 0., 0., 0., 0., 0.],\n",
      "        [0., 0., 0., 0., 0., 0., 0., 0., 0., 1., 1., 0., 0., 0., 0., 1.],\n",
      "        [0., 0., 1., 0., 1., 0., 0., 0., 0., 0., 0., 0., 1., 0., 0., 1.],\n",
      "        [0., 0., 1., 0., 0., 0., 0., 0., 0., 0., 0., 0., 0., 0., 0., 1.],\n",
      "        [0., 0., 0., 0., 0., 0., 0., 0., 0., 1., 0., 0., 0., 0., 0., 0.],\n",
      "        [0., 0., 0., 1., 0., 0., 0., 0., 0., 0., 0., 0., 0., 0., 0., 0.],\n",
      "        [0., 0., 0., 1., 0., 0., 0., 0., 0., 0., 0., 0., 0., 0., 0., 0.],\n",
      "        [0., 0., 0., 1., 0., 0., 0., 0., 0., 0., 0., 0., 0., 0., 0., 1.],\n",
      "        [0., 0., 0., 0., 0., 0., 0., 0., 0., 0., 0., 0., 0., 0., 0., 0.]])\n"
     ]
    },
    {
     "name": "stderr",
     "output_type": "stream",
     "text": [
      "C:\\Users\\zoepr\\anaconda3\\envs\\decaf\\lib\\site-packages\\sklearn\\neural_network\\_multilayer_perceptron.py:617: ConvergenceWarning: Stochastic Optimizer: Maximum iterations (200) reached and the optimization hasn't converged yet.\n",
      "  % self.max_iter, ConvergenceWarning)\n"
     ]
    },
    {
     "name": "stdout",
     "output_type": "stream",
     "text": [
      "0\n",
      "[0.926605504587156, 0.8784530386740331, 0.8911174785100286, 0.9159159159159159, 0.9259259259259259]\n",
      "[0.926605504587156, 0.8784530386740331, 0.8911174785100286, 0.9159159159159159, 0.9259259259259259]\n"
     ]
    },
    {
     "name": "stderr",
     "output_type": "stream",
     "text": [
      "C:\\Users\\zoepr\\anaconda3\\envs\\decaf\\lib\\site-packages\\sklearn\\neural_network\\_multilayer_perceptron.py:617: ConvergenceWarning: Stochastic Optimizer: Maximum iterations (200) reached and the optimization hasn't converged yet.\n",
      "  % self.max_iter, ConvergenceWarning)\n"
     ]
    },
    {
     "name": "stdout",
     "output_type": "stream",
     "text": [
      "0\n"
     ]
    },
    {
     "name": "stderr",
     "output_type": "stream",
     "text": [
      "C:\\Users\\zoepr\\anaconda3\\envs\\decaf\\lib\\site-packages\\sklearn\\neural_network\\_multilayer_perceptron.py:617: ConvergenceWarning: Stochastic Optimizer: Maximum iterations (200) reached and the optimization hasn't converged yet.\n",
      "  % self.max_iter, ConvergenceWarning)\n"
     ]
    },
    {
     "name": "stdout",
     "output_type": "stream",
     "text": [
      "0\n",
      "precision done\n",
      "recall done\n",
      "auroc done\n",
      "ftu done\n",
      "dp done\n",
      "Initialised adjacency matrix as parsed:\n",
      " Parameter containing:\n",
      "tensor([[0., 0., 0., 0., 0., 0., 0., 0., 0., 0., 0., 0., 0., 0., 0., 0.],\n",
      "        [0., 0., 0., 0., 0., 0., 0., 1., 0., 0., 0., 0., 0., 0., 0., 0.],\n",
      "        [0., 0., 0., 0., 0., 0., 0., 0., 0., 0., 0., 0., 0., 0., 1., 0.],\n",
      "        [0., 0., 0., 0., 0., 0., 0., 0., 0., 0., 0., 0., 0., 0., 0., 1.],\n",
      "        [0., 0., 0., 0., 0., 0., 0., 0., 0., 0., 0., 0., 0., 0., 0., 0.],\n",
      "        [0., 0., 0., 1., 0., 0., 0., 0., 0., 1., 0., 0., 0., 0., 0., 0.],\n",
      "        [0., 0., 0., 1., 0., 0., 0., 0., 0., 0., 0., 0., 0., 0., 0., 1.],\n",
      "        [0., 0., 0., 0., 0., 0., 0., 0., 0., 0., 1., 0., 0., 0., 0., 0.],\n",
      "        [0., 0., 0., 0., 0., 0., 0., 0., 0., 1., 1., 0., 0., 0., 0., 1.],\n",
      "        [0., 0., 1., 0., 1., 0., 0., 0., 0., 0., 0., 0., 1., 0., 0., 1.],\n",
      "        [0., 0., 1., 0., 0., 0., 0., 0., 0., 0., 0., 0., 0., 0., 0., 1.],\n",
      "        [0., 0., 0., 0., 0., 0., 0., 0., 0., 1., 0., 0., 0., 0., 0., 0.],\n",
      "        [0., 0., 0., 1., 0., 0., 0., 0., 0., 0., 0., 0., 0., 0., 0., 0.],\n",
      "        [0., 0., 0., 1., 0., 0., 0., 0., 0., 0., 0., 0., 0., 0., 0., 0.],\n",
      "        [0., 0., 0., 1., 0., 0., 0., 0., 0., 0., 0., 0., 0., 0., 0., 1.],\n",
      "        [0., 0., 0., 0., 0., 0., 0., 0., 0., 0., 0., 0., 0., 0., 0., 0.]])\n"
     ]
    },
    {
     "name": "stderr",
     "output_type": "stream",
     "text": [
      "C:\\Users\\zoepr\\anaconda3\\envs\\decaf\\lib\\site-packages\\sklearn\\neural_network\\_multilayer_perceptron.py:617: ConvergenceWarning: Stochastic Optimizer: Maximum iterations (200) reached and the optimization hasn't converged yet.\n",
      "  % self.max_iter, ConvergenceWarning)\n"
     ]
    },
    {
     "name": "stdout",
     "output_type": "stream",
     "text": [
      "0\n",
      "[0.926605504587156, 0.8784530386740331, 0.8911174785100286, 0.9159159159159159, 0.9259259259259259, 0.9129129129129129]\n",
      "[0.926605504587156, 0.8784530386740331, 0.8911174785100286, 0.9159159159159159, 0.9259259259259259, 0.9129129129129129]\n"
     ]
    },
    {
     "name": "stderr",
     "output_type": "stream",
     "text": [
      "C:\\Users\\zoepr\\anaconda3\\envs\\decaf\\lib\\site-packages\\sklearn\\neural_network\\_multilayer_perceptron.py:617: ConvergenceWarning: Stochastic Optimizer: Maximum iterations (200) reached and the optimization hasn't converged yet.\n",
      "  % self.max_iter, ConvergenceWarning)\n"
     ]
    },
    {
     "name": "stdout",
     "output_type": "stream",
     "text": [
      "0\n"
     ]
    },
    {
     "name": "stderr",
     "output_type": "stream",
     "text": [
      "C:\\Users\\zoepr\\anaconda3\\envs\\decaf\\lib\\site-packages\\sklearn\\neural_network\\_multilayer_perceptron.py:617: ConvergenceWarning: Stochastic Optimizer: Maximum iterations (200) reached and the optimization hasn't converged yet.\n",
      "  % self.max_iter, ConvergenceWarning)\n"
     ]
    },
    {
     "name": "stdout",
     "output_type": "stream",
     "text": [
      "0\n",
      "precision done\n",
      "recall done\n",
      "auroc done\n",
      "ftu done\n",
      "dp done\n",
      "Initialised adjacency matrix as parsed:\n",
      " Parameter containing:\n",
      "tensor([[0., 0., 0., 0., 0., 0., 0., 0., 0., 0., 0., 0., 0., 0., 0., 0.],\n",
      "        [0., 0., 0., 0., 0., 0., 0., 1., 0., 0., 0., 0., 0., 0., 0., 0.],\n",
      "        [0., 0., 0., 0., 0., 0., 0., 0., 0., 0., 0., 0., 0., 0., 1., 0.],\n",
      "        [0., 0., 0., 0., 0., 0., 0., 0., 0., 0., 0., 0., 0., 0., 0., 1.],\n",
      "        [0., 0., 0., 0., 0., 0., 0., 0., 0., 0., 0., 0., 0., 0., 0., 0.],\n",
      "        [0., 0., 0., 1., 0., 0., 0., 0., 0., 1., 0., 0., 0., 0., 0., 0.],\n",
      "        [0., 0., 0., 1., 0., 0., 0., 0., 0., 0., 0., 0., 0., 0., 0., 1.],\n",
      "        [0., 0., 0., 0., 0., 0., 0., 0., 0., 0., 1., 0., 0., 0., 0., 0.],\n",
      "        [0., 0., 0., 0., 0., 0., 0., 0., 0., 1., 1., 0., 0., 0., 0., 1.],\n",
      "        [0., 0., 1., 0., 1., 0., 0., 0., 0., 0., 0., 0., 1., 0., 0., 1.],\n",
      "        [0., 0., 1., 0., 0., 0., 0., 0., 0., 0., 0., 0., 0., 0., 0., 1.],\n",
      "        [0., 0., 0., 0., 0., 0., 0., 0., 0., 1., 0., 0., 0., 0., 0., 0.],\n",
      "        [0., 0., 0., 1., 0., 0., 0., 0., 0., 0., 0., 0., 0., 0., 0., 0.],\n",
      "        [0., 0., 0., 1., 0., 0., 0., 0., 0., 0., 0., 0., 0., 0., 0., 0.],\n",
      "        [0., 0., 0., 1., 0., 0., 0., 0., 0., 0., 0., 0., 0., 0., 0., 1.],\n",
      "        [0., 0., 0., 0., 0., 0., 0., 0., 0., 0., 0., 0., 0., 0., 0., 0.]])\n"
     ]
    },
    {
     "name": "stderr",
     "output_type": "stream",
     "text": [
      "C:\\Users\\zoepr\\anaconda3\\envs\\decaf\\lib\\site-packages\\sklearn\\neural_network\\_multilayer_perceptron.py:617: ConvergenceWarning: Stochastic Optimizer: Maximum iterations (200) reached and the optimization hasn't converged yet.\n",
      "  % self.max_iter, ConvergenceWarning)\n"
     ]
    },
    {
     "name": "stdout",
     "output_type": "stream",
     "text": [
      "0\n",
      "[0.926605504587156, 0.8784530386740331, 0.8911174785100286, 0.9159159159159159, 0.9259259259259259, 0.9129129129129129, 0.9233128834355828]\n",
      "[0.926605504587156, 0.8784530386740331, 0.8911174785100286, 0.9159159159159159, 0.9259259259259259, 0.9129129129129129, 0.9233128834355828]\n"
     ]
    },
    {
     "name": "stderr",
     "output_type": "stream",
     "text": [
      "C:\\Users\\zoepr\\anaconda3\\envs\\decaf\\lib\\site-packages\\sklearn\\neural_network\\_multilayer_perceptron.py:617: ConvergenceWarning: Stochastic Optimizer: Maximum iterations (200) reached and the optimization hasn't converged yet.\n",
      "  % self.max_iter, ConvergenceWarning)\n"
     ]
    },
    {
     "name": "stdout",
     "output_type": "stream",
     "text": [
      "0\n"
     ]
    },
    {
     "name": "stderr",
     "output_type": "stream",
     "text": [
      "C:\\Users\\zoepr\\anaconda3\\envs\\decaf\\lib\\site-packages\\sklearn\\neural_network\\_multilayer_perceptron.py:617: ConvergenceWarning: Stochastic Optimizer: Maximum iterations (200) reached and the optimization hasn't converged yet.\n",
      "  % self.max_iter, ConvergenceWarning)\n"
     ]
    },
    {
     "name": "stdout",
     "output_type": "stream",
     "text": [
      "0\n",
      "precision done\n",
      "recall done\n",
      "auroc done\n",
      "ftu done\n",
      "dp done\n",
      "Initialised adjacency matrix as parsed:\n",
      " Parameter containing:\n",
      "tensor([[0., 0., 0., 0., 0., 0., 0., 0., 0., 0., 0., 0., 0., 0., 0., 0.],\n",
      "        [0., 0., 0., 0., 0., 0., 0., 1., 0., 0., 0., 0., 0., 0., 0., 0.],\n",
      "        [0., 0., 0., 0., 0., 0., 0., 0., 0., 0., 0., 0., 0., 0., 1., 0.],\n",
      "        [0., 0., 0., 0., 0., 0., 0., 0., 0., 0., 0., 0., 0., 0., 0., 1.],\n",
      "        [0., 0., 0., 0., 0., 0., 0., 0., 0., 0., 0., 0., 0., 0., 0., 0.],\n",
      "        [0., 0., 0., 1., 0., 0., 0., 0., 0., 1., 0., 0., 0., 0., 0., 0.],\n",
      "        [0., 0., 0., 1., 0., 0., 0., 0., 0., 0., 0., 0., 0., 0., 0., 1.],\n",
      "        [0., 0., 0., 0., 0., 0., 0., 0., 0., 0., 1., 0., 0., 0., 0., 0.],\n",
      "        [0., 0., 0., 0., 0., 0., 0., 0., 0., 1., 1., 0., 0., 0., 0., 1.],\n",
      "        [0., 0., 1., 0., 1., 0., 0., 0., 0., 0., 0., 0., 1., 0., 0., 1.],\n",
      "        [0., 0., 1., 0., 0., 0., 0., 0., 0., 0., 0., 0., 0., 0., 0., 1.],\n",
      "        [0., 0., 0., 0., 0., 0., 0., 0., 0., 1., 0., 0., 0., 0., 0., 0.],\n",
      "        [0., 0., 0., 1., 0., 0., 0., 0., 0., 0., 0., 0., 0., 0., 0., 0.],\n",
      "        [0., 0., 0., 1., 0., 0., 0., 0., 0., 0., 0., 0., 0., 0., 0., 0.],\n",
      "        [0., 0., 0., 1., 0., 0., 0., 0., 0., 0., 0., 0., 0., 0., 0., 1.],\n",
      "        [0., 0., 0., 0., 0., 0., 0., 0., 0., 0., 0., 0., 0., 0., 0., 0.]])\n"
     ]
    },
    {
     "name": "stderr",
     "output_type": "stream",
     "text": [
      "C:\\Users\\zoepr\\anaconda3\\envs\\decaf\\lib\\site-packages\\sklearn\\neural_network\\_multilayer_perceptron.py:617: ConvergenceWarning: Stochastic Optimizer: Maximum iterations (200) reached and the optimization hasn't converged yet.\n",
      "  % self.max_iter, ConvergenceWarning)\n"
     ]
    },
    {
     "name": "stdout",
     "output_type": "stream",
     "text": [
      "0\n",
      "[0.926605504587156, 0.8784530386740331, 0.8911174785100286, 0.9159159159159159, 0.9259259259259259, 0.9129129129129129, 0.9233128834355828, 0.9146341463414634]\n",
      "[0.926605504587156, 0.8784530386740331, 0.8911174785100286, 0.9159159159159159, 0.9259259259259259, 0.9129129129129129, 0.9233128834355828, 0.9146341463414634]\n"
     ]
    },
    {
     "name": "stderr",
     "output_type": "stream",
     "text": [
      "C:\\Users\\zoepr\\anaconda3\\envs\\decaf\\lib\\site-packages\\sklearn\\neural_network\\_multilayer_perceptron.py:617: ConvergenceWarning: Stochastic Optimizer: Maximum iterations (200) reached and the optimization hasn't converged yet.\n",
      "  % self.max_iter, ConvergenceWarning)\n"
     ]
    },
    {
     "name": "stdout",
     "output_type": "stream",
     "text": [
      "0\n"
     ]
    },
    {
     "name": "stderr",
     "output_type": "stream",
     "text": [
      "C:\\Users\\zoepr\\anaconda3\\envs\\decaf\\lib\\site-packages\\sklearn\\neural_network\\_multilayer_perceptron.py:617: ConvergenceWarning: Stochastic Optimizer: Maximum iterations (200) reached and the optimization hasn't converged yet.\n",
      "  % self.max_iter, ConvergenceWarning)\n"
     ]
    },
    {
     "name": "stdout",
     "output_type": "stream",
     "text": [
      "0\n",
      "precision done\n",
      "recall done\n",
      "auroc done\n",
      "ftu done\n",
      "dp done\n",
      "Initialised adjacency matrix as parsed:\n",
      " Parameter containing:\n",
      "tensor([[0., 0., 0., 0., 0., 0., 0., 0., 0., 0., 0., 0., 0., 0., 0., 0.],\n",
      "        [0., 0., 0., 0., 0., 0., 0., 1., 0., 0., 0., 0., 0., 0., 0., 0.],\n",
      "        [0., 0., 0., 0., 0., 0., 0., 0., 0., 0., 0., 0., 0., 0., 1., 0.],\n",
      "        [0., 0., 0., 0., 0., 0., 0., 0., 0., 0., 0., 0., 0., 0., 0., 1.],\n",
      "        [0., 0., 0., 0., 0., 0., 0., 0., 0., 0., 0., 0., 0., 0., 0., 0.],\n",
      "        [0., 0., 0., 1., 0., 0., 0., 0., 0., 1., 0., 0., 0., 0., 0., 0.],\n",
      "        [0., 0., 0., 1., 0., 0., 0., 0., 0., 0., 0., 0., 0., 0., 0., 1.],\n",
      "        [0., 0., 0., 0., 0., 0., 0., 0., 0., 0., 1., 0., 0., 0., 0., 0.],\n",
      "        [0., 0., 0., 0., 0., 0., 0., 0., 0., 1., 1., 0., 0., 0., 0., 1.],\n",
      "        [0., 0., 1., 0., 1., 0., 0., 0., 0., 0., 0., 0., 1., 0., 0., 1.],\n",
      "        [0., 0., 1., 0., 0., 0., 0., 0., 0., 0., 0., 0., 0., 0., 0., 1.],\n",
      "        [0., 0., 0., 0., 0., 0., 0., 0., 0., 1., 0., 0., 0., 0., 0., 0.],\n",
      "        [0., 0., 0., 1., 0., 0., 0., 0., 0., 0., 0., 0., 0., 0., 0., 0.],\n",
      "        [0., 0., 0., 1., 0., 0., 0., 0., 0., 0., 0., 0., 0., 0., 0., 0.],\n",
      "        [0., 0., 0., 1., 0., 0., 0., 0., 0., 0., 0., 0., 0., 0., 0., 1.],\n",
      "        [0., 0., 0., 0., 0., 0., 0., 0., 0., 0., 0., 0., 0., 0., 0., 0.]])\n"
     ]
    },
    {
     "name": "stderr",
     "output_type": "stream",
     "text": [
      "C:\\Users\\zoepr\\anaconda3\\envs\\decaf\\lib\\site-packages\\sklearn\\neural_network\\_multilayer_perceptron.py:617: ConvergenceWarning: Stochastic Optimizer: Maximum iterations (200) reached and the optimization hasn't converged yet.\n",
      "  % self.max_iter, ConvergenceWarning)\n"
     ]
    },
    {
     "name": "stdout",
     "output_type": "stream",
     "text": [
      "0\n",
      "[0.926605504587156, 0.8784530386740331, 0.8911174785100286, 0.9159159159159159, 0.9259259259259259, 0.9129129129129129, 0.9233128834355828, 0.9146341463414634, 0.9093655589123867]\n",
      "[0.926605504587156, 0.8784530386740331, 0.8911174785100286, 0.9159159159159159, 0.9259259259259259, 0.9129129129129129, 0.9233128834355828, 0.9146341463414634, 0.9093655589123867]\n"
     ]
    },
    {
     "name": "stderr",
     "output_type": "stream",
     "text": [
      "C:\\Users\\zoepr\\anaconda3\\envs\\decaf\\lib\\site-packages\\sklearn\\neural_network\\_multilayer_perceptron.py:617: ConvergenceWarning: Stochastic Optimizer: Maximum iterations (200) reached and the optimization hasn't converged yet.\n",
      "  % self.max_iter, ConvergenceWarning)\n"
     ]
    },
    {
     "name": "stdout",
     "output_type": "stream",
     "text": [
      "0\n"
     ]
    },
    {
     "name": "stderr",
     "output_type": "stream",
     "text": [
      "C:\\Users\\zoepr\\anaconda3\\envs\\decaf\\lib\\site-packages\\sklearn\\neural_network\\_multilayer_perceptron.py:617: ConvergenceWarning: Stochastic Optimizer: Maximum iterations (200) reached and the optimization hasn't converged yet.\n",
      "  % self.max_iter, ConvergenceWarning)\n"
     ]
    },
    {
     "name": "stdout",
     "output_type": "stream",
     "text": [
      "0\n",
      "precision done\n",
      "recall done\n",
      "auroc done\n",
      "ftu done\n",
      "dp done\n",
      "Initialised adjacency matrix as parsed:\n",
      " Parameter containing:\n",
      "tensor([[0., 0., 0., 0., 0., 0., 0., 0., 0., 0., 0., 0., 0., 0., 0., 0.],\n",
      "        [0., 0., 0., 0., 0., 0., 0., 1., 0., 0., 0., 0., 0., 0., 0., 0.],\n",
      "        [0., 0., 0., 0., 0., 0., 0., 0., 0., 0., 0., 0., 0., 0., 1., 0.],\n",
      "        [0., 0., 0., 0., 0., 0., 0., 0., 0., 0., 0., 0., 0., 0., 0., 1.],\n",
      "        [0., 0., 0., 0., 0., 0., 0., 0., 0., 0., 0., 0., 0., 0., 0., 0.],\n",
      "        [0., 0., 0., 1., 0., 0., 0., 0., 0., 1., 0., 0., 0., 0., 0., 0.],\n",
      "        [0., 0., 0., 1., 0., 0., 0., 0., 0., 0., 0., 0., 0., 0., 0., 1.],\n",
      "        [0., 0., 0., 0., 0., 0., 0., 0., 0., 0., 1., 0., 0., 0., 0., 0.],\n",
      "        [0., 0., 0., 0., 0., 0., 0., 0., 0., 1., 1., 0., 0., 0., 0., 1.],\n",
      "        [0., 0., 1., 0., 1., 0., 0., 0., 0., 0., 0., 0., 1., 0., 0., 1.],\n",
      "        [0., 0., 1., 0., 0., 0., 0., 0., 0., 0., 0., 0., 0., 0., 0., 1.],\n",
      "        [0., 0., 0., 0., 0., 0., 0., 0., 0., 1., 0., 0., 0., 0., 0., 0.],\n",
      "        [0., 0., 0., 1., 0., 0., 0., 0., 0., 0., 0., 0., 0., 0., 0., 0.],\n",
      "        [0., 0., 0., 1., 0., 0., 0., 0., 0., 0., 0., 0., 0., 0., 0., 0.],\n",
      "        [0., 0., 0., 1., 0., 0., 0., 0., 0., 0., 0., 0., 0., 0., 0., 1.],\n",
      "        [0., 0., 0., 0., 0., 0., 0., 0., 0., 0., 0., 0., 0., 0., 0., 0.]])\n"
     ]
    },
    {
     "name": "stderr",
     "output_type": "stream",
     "text": [
      "C:\\Users\\zoepr\\anaconda3\\envs\\decaf\\lib\\site-packages\\sklearn\\neural_network\\_multilayer_perceptron.py:617: ConvergenceWarning: Stochastic Optimizer: Maximum iterations (200) reached and the optimization hasn't converged yet.\n",
      "  % self.max_iter, ConvergenceWarning)\n"
     ]
    },
    {
     "name": "stdout",
     "output_type": "stream",
     "text": [
      "1\n",
      "[0.926605504587156, 0.8784530386740331, 0.8911174785100286, 0.9159159159159159, 0.9259259259259259, 0.9129129129129129, 0.9233128834355828, 0.9146341463414634, 0.9093655589123867, 0.9287925696594427]\n",
      "[0.926605504587156, 0.8784530386740331, 0.8911174785100286, 0.9159159159159159, 0.9259259259259259, 0.9129129129129129, 0.9233128834355828, 0.9146341463414634, 0.9093655589123867, 0.9287925696594427]\n"
     ]
    },
    {
     "name": "stderr",
     "output_type": "stream",
     "text": [
      "C:\\Users\\zoepr\\anaconda3\\envs\\decaf\\lib\\site-packages\\sklearn\\neural_network\\_multilayer_perceptron.py:617: ConvergenceWarning: Stochastic Optimizer: Maximum iterations (200) reached and the optimization hasn't converged yet.\n",
      "  % self.max_iter, ConvergenceWarning)\n"
     ]
    },
    {
     "name": "stdout",
     "output_type": "stream",
     "text": [
      "1\n"
     ]
    },
    {
     "name": "stderr",
     "output_type": "stream",
     "text": [
      "C:\\Users\\zoepr\\anaconda3\\envs\\decaf\\lib\\site-packages\\sklearn\\neural_network\\_multilayer_perceptron.py:617: ConvergenceWarning: Stochastic Optimizer: Maximum iterations (200) reached and the optimization hasn't converged yet.\n",
      "  % self.max_iter, ConvergenceWarning)\n"
     ]
    },
    {
     "name": "stdout",
     "output_type": "stream",
     "text": [
      "1\n",
      "precision done\n",
      "recall done\n",
      "auroc done\n",
      "ftu done\n",
      "dp done\n",
      "Initialised adjacency matrix as parsed:\n",
      " Parameter containing:\n",
      "tensor([[0., 0., 0., 0., 0., 0., 0., 0., 0., 0., 0., 0., 0., 0., 0., 0.],\n",
      "        [0., 0., 0., 0., 0., 0., 0., 1., 0., 0., 0., 0., 0., 0., 0., 0.],\n",
      "        [0., 0., 0., 0., 0., 0., 0., 0., 0., 0., 0., 0., 0., 0., 1., 0.],\n",
      "        [0., 0., 0., 0., 0., 0., 0., 0., 0., 0., 0., 0., 0., 0., 0., 1.],\n",
      "        [0., 0., 0., 0., 0., 0., 0., 0., 0., 0., 0., 0., 0., 0., 0., 0.],\n",
      "        [0., 0., 0., 1., 0., 0., 0., 0., 0., 1., 0., 0., 0., 0., 0., 0.],\n",
      "        [0., 0., 0., 1., 0., 0., 0., 0., 0., 0., 0., 0., 0., 0., 0., 1.],\n",
      "        [0., 0., 0., 0., 0., 0., 0., 0., 0., 0., 1., 0., 0., 0., 0., 0.],\n",
      "        [0., 0., 0., 0., 0., 0., 0., 0., 0., 1., 1., 0., 0., 0., 0., 1.],\n",
      "        [0., 0., 1., 0., 1., 0., 0., 0., 0., 0., 0., 0., 1., 0., 0., 1.],\n",
      "        [0., 0., 1., 0., 0., 0., 0., 0., 0., 0., 0., 0., 0., 0., 0., 1.],\n",
      "        [0., 0., 0., 0., 0., 0., 0., 0., 0., 1., 0., 0., 0., 0., 0., 0.],\n",
      "        [0., 0., 0., 1., 0., 0., 0., 0., 0., 0., 0., 0., 0., 0., 0., 0.],\n",
      "        [0., 0., 0., 1., 0., 0., 0., 0., 0., 0., 0., 0., 0., 0., 0., 0.],\n",
      "        [0., 0., 0., 1., 0., 0., 0., 0., 0., 0., 0., 0., 0., 0., 0., 1.],\n",
      "        [0., 0., 0., 0., 0., 0., 0., 0., 0., 0., 0., 0., 0., 0., 0., 0.]])\n"
     ]
    },
    {
     "name": "stderr",
     "output_type": "stream",
     "text": [
      "C:\\Users\\zoepr\\anaconda3\\envs\\decaf\\lib\\site-packages\\sklearn\\neural_network\\_multilayer_perceptron.py:617: ConvergenceWarning: Stochastic Optimizer: Maximum iterations (200) reached and the optimization hasn't converged yet.\n",
      "  % self.max_iter, ConvergenceWarning)\n"
     ]
    },
    {
     "name": "stdout",
     "output_type": "stream",
     "text": [
      "1\n",
      "[0.926605504587156, 0.8784530386740331, 0.8911174785100286, 0.9159159159159159, 0.9259259259259259, 0.9129129129129129, 0.9233128834355828, 0.9146341463414634, 0.9093655589123867, 0.9287925696594427, 0.8950437317784257]\n",
      "[0.926605504587156, 0.8784530386740331, 0.8911174785100286, 0.9159159159159159, 0.9259259259259259, 0.9129129129129129, 0.9233128834355828, 0.9146341463414634, 0.9093655589123867, 0.9287925696594427, 0.8950437317784257]\n"
     ]
    },
    {
     "name": "stderr",
     "output_type": "stream",
     "text": [
      "C:\\Users\\zoepr\\anaconda3\\envs\\decaf\\lib\\site-packages\\sklearn\\neural_network\\_multilayer_perceptron.py:617: ConvergenceWarning: Stochastic Optimizer: Maximum iterations (200) reached and the optimization hasn't converged yet.\n",
      "  % self.max_iter, ConvergenceWarning)\n"
     ]
    },
    {
     "name": "stdout",
     "output_type": "stream",
     "text": [
      "1\n"
     ]
    },
    {
     "name": "stderr",
     "output_type": "stream",
     "text": [
      "C:\\Users\\zoepr\\anaconda3\\envs\\decaf\\lib\\site-packages\\sklearn\\neural_network\\_multilayer_perceptron.py:617: ConvergenceWarning: Stochastic Optimizer: Maximum iterations (200) reached and the optimization hasn't converged yet.\n",
      "  % self.max_iter, ConvergenceWarning)\n"
     ]
    },
    {
     "name": "stdout",
     "output_type": "stream",
     "text": [
      "1\n",
      "precision done\n",
      "recall done\n",
      "auroc done\n",
      "ftu done\n",
      "dp done\n",
      "Initialised adjacency matrix as parsed:\n",
      " Parameter containing:\n",
      "tensor([[0., 0., 0., 0., 0., 0., 0., 0., 0., 0., 0., 0., 0., 0., 0., 0.],\n",
      "        [0., 0., 0., 0., 0., 0., 0., 1., 0., 0., 0., 0., 0., 0., 0., 0.],\n",
      "        [0., 0., 0., 0., 0., 0., 0., 0., 0., 0., 0., 0., 0., 0., 1., 0.],\n",
      "        [0., 0., 0., 0., 0., 0., 0., 0., 0., 0., 0., 0., 0., 0., 0., 1.],\n",
      "        [0., 0., 0., 0., 0., 0., 0., 0., 0., 0., 0., 0., 0., 0., 0., 0.],\n",
      "        [0., 0., 0., 1., 0., 0., 0., 0., 0., 1., 0., 0., 0., 0., 0., 0.],\n",
      "        [0., 0., 0., 1., 0., 0., 0., 0., 0., 0., 0., 0., 0., 0., 0., 1.],\n",
      "        [0., 0., 0., 0., 0., 0., 0., 0., 0., 0., 1., 0., 0., 0., 0., 0.],\n",
      "        [0., 0., 0., 0., 0., 0., 0., 0., 0., 1., 1., 0., 0., 0., 0., 1.],\n",
      "        [0., 0., 1., 0., 1., 0., 0., 0., 0., 0., 0., 0., 1., 0., 0., 1.],\n",
      "        [0., 0., 1., 0., 0., 0., 0., 0., 0., 0., 0., 0., 0., 0., 0., 1.],\n",
      "        [0., 0., 0., 0., 0., 0., 0., 0., 0., 1., 0., 0., 0., 0., 0., 0.],\n",
      "        [0., 0., 0., 1., 0., 0., 0., 0., 0., 0., 0., 0., 0., 0., 0., 0.],\n",
      "        [0., 0., 0., 1., 0., 0., 0., 0., 0., 0., 0., 0., 0., 0., 0., 0.],\n",
      "        [0., 0., 0., 1., 0., 0., 0., 0., 0., 0., 0., 0., 0., 0., 0., 1.],\n",
      "        [0., 0., 0., 0., 0., 0., 0., 0., 0., 0., 0., 0., 0., 0., 0., 0.]])\n"
     ]
    },
    {
     "name": "stderr",
     "output_type": "stream",
     "text": [
      "C:\\Users\\zoepr\\anaconda3\\envs\\decaf\\lib\\site-packages\\sklearn\\neural_network\\_multilayer_perceptron.py:617: ConvergenceWarning: Stochastic Optimizer: Maximum iterations (200) reached and the optimization hasn't converged yet.\n",
      "  % self.max_iter, ConvergenceWarning)\n"
     ]
    },
    {
     "name": "stdout",
     "output_type": "stream",
     "text": [
      "1\n",
      "[0.926605504587156, 0.8784530386740331, 0.8911174785100286, 0.9159159159159159, 0.9259259259259259, 0.9129129129129129, 0.9233128834355828, 0.9146341463414634, 0.9093655589123867, 0.9287925696594427, 0.8950437317784257, 0.9287925696594427]\n",
      "[0.926605504587156, 0.8784530386740331, 0.8911174785100286, 0.9159159159159159, 0.9259259259259259, 0.9129129129129129, 0.9233128834355828, 0.9146341463414634, 0.9093655589123867, 0.9287925696594427, 0.8950437317784257, 0.9287925696594427]\n"
     ]
    },
    {
     "name": "stderr",
     "output_type": "stream",
     "text": [
      "C:\\Users\\zoepr\\anaconda3\\envs\\decaf\\lib\\site-packages\\sklearn\\neural_network\\_multilayer_perceptron.py:617: ConvergenceWarning: Stochastic Optimizer: Maximum iterations (200) reached and the optimization hasn't converged yet.\n",
      "  % self.max_iter, ConvergenceWarning)\n"
     ]
    },
    {
     "name": "stdout",
     "output_type": "stream",
     "text": [
      "1\n"
     ]
    },
    {
     "name": "stderr",
     "output_type": "stream",
     "text": [
      "C:\\Users\\zoepr\\anaconda3\\envs\\decaf\\lib\\site-packages\\sklearn\\neural_network\\_multilayer_perceptron.py:617: ConvergenceWarning: Stochastic Optimizer: Maximum iterations (200) reached and the optimization hasn't converged yet.\n",
      "  % self.max_iter, ConvergenceWarning)\n"
     ]
    },
    {
     "name": "stdout",
     "output_type": "stream",
     "text": [
      "1\n",
      "precision done\n",
      "recall done\n",
      "auroc done\n",
      "ftu done\n",
      "dp done\n",
      "Initialised adjacency matrix as parsed:\n",
      " Parameter containing:\n",
      "tensor([[0., 0., 0., 0., 0., 0., 0., 0., 0., 0., 0., 0., 0., 0., 0., 0.],\n",
      "        [0., 0., 0., 0., 0., 0., 0., 1., 0., 0., 0., 0., 0., 0., 0., 0.],\n",
      "        [0., 0., 0., 0., 0., 0., 0., 0., 0., 0., 0., 0., 0., 0., 1., 0.],\n",
      "        [0., 0., 0., 0., 0., 0., 0., 0., 0., 0., 0., 0., 0., 0., 0., 1.],\n",
      "        [0., 0., 0., 0., 0., 0., 0., 0., 0., 0., 0., 0., 0., 0., 0., 0.],\n",
      "        [0., 0., 0., 1., 0., 0., 0., 0., 0., 1., 0., 0., 0., 0., 0., 0.],\n",
      "        [0., 0., 0., 1., 0., 0., 0., 0., 0., 0., 0., 0., 0., 0., 0., 1.],\n",
      "        [0., 0., 0., 0., 0., 0., 0., 0., 0., 0., 1., 0., 0., 0., 0., 0.],\n",
      "        [0., 0., 0., 0., 0., 0., 0., 0., 0., 1., 1., 0., 0., 0., 0., 1.],\n",
      "        [0., 0., 1., 0., 1., 0., 0., 0., 0., 0., 0., 0., 1., 0., 0., 1.],\n",
      "        [0., 0., 1., 0., 0., 0., 0., 0., 0., 0., 0., 0., 0., 0., 0., 1.],\n",
      "        [0., 0., 0., 0., 0., 0., 0., 0., 0., 1., 0., 0., 0., 0., 0., 0.],\n",
      "        [0., 0., 0., 1., 0., 0., 0., 0., 0., 0., 0., 0., 0., 0., 0., 0.],\n",
      "        [0., 0., 0., 1., 0., 0., 0., 0., 0., 0., 0., 0., 0., 0., 0., 0.],\n",
      "        [0., 0., 0., 1., 0., 0., 0., 0., 0., 0., 0., 0., 0., 0., 0., 1.],\n",
      "        [0., 0., 0., 0., 0., 0., 0., 0., 0., 0., 0., 0., 0., 0., 0., 0.]])\n"
     ]
    },
    {
     "name": "stderr",
     "output_type": "stream",
     "text": [
      "C:\\Users\\zoepr\\anaconda3\\envs\\decaf\\lib\\site-packages\\sklearn\\neural_network\\_multilayer_perceptron.py:617: ConvergenceWarning: Stochastic Optimizer: Maximum iterations (200) reached and the optimization hasn't converged yet.\n",
      "  % self.max_iter, ConvergenceWarning)\n"
     ]
    },
    {
     "name": "stdout",
     "output_type": "stream",
     "text": [
      "1\n",
      "[0.926605504587156, 0.8784530386740331, 0.8911174785100286, 0.9159159159159159, 0.9259259259259259, 0.9129129129129129, 0.9233128834355828, 0.9146341463414634, 0.9093655589123867, 0.9287925696594427, 0.8950437317784257, 0.9287925696594427, 0.9077380952380952]\n",
      "[0.926605504587156, 0.8784530386740331, 0.8911174785100286, 0.9159159159159159, 0.9259259259259259, 0.9129129129129129, 0.9233128834355828, 0.9146341463414634, 0.9093655589123867, 0.9287925696594427, 0.8950437317784257, 0.9287925696594427, 0.9077380952380952]\n"
     ]
    },
    {
     "name": "stderr",
     "output_type": "stream",
     "text": [
      "C:\\Users\\zoepr\\anaconda3\\envs\\decaf\\lib\\site-packages\\sklearn\\neural_network\\_multilayer_perceptron.py:617: ConvergenceWarning: Stochastic Optimizer: Maximum iterations (200) reached and the optimization hasn't converged yet.\n",
      "  % self.max_iter, ConvergenceWarning)\n"
     ]
    },
    {
     "name": "stdout",
     "output_type": "stream",
     "text": [
      "1\n"
     ]
    },
    {
     "name": "stderr",
     "output_type": "stream",
     "text": [
      "C:\\Users\\zoepr\\anaconda3\\envs\\decaf\\lib\\site-packages\\sklearn\\neural_network\\_multilayer_perceptron.py:617: ConvergenceWarning: Stochastic Optimizer: Maximum iterations (200) reached and the optimization hasn't converged yet.\n",
      "  % self.max_iter, ConvergenceWarning)\n"
     ]
    },
    {
     "name": "stdout",
     "output_type": "stream",
     "text": [
      "1\n",
      "precision done\n",
      "recall done\n",
      "auroc done\n",
      "ftu done\n",
      "dp done\n",
      "Initialised adjacency matrix as parsed:\n",
      " Parameter containing:\n",
      "tensor([[0., 0., 0., 0., 0., 0., 0., 0., 0., 0., 0., 0., 0., 0., 0., 0.],\n",
      "        [0., 0., 0., 0., 0., 0., 0., 1., 0., 0., 0., 0., 0., 0., 0., 0.],\n",
      "        [0., 0., 0., 0., 0., 0., 0., 0., 0., 0., 0., 0., 0., 0., 1., 0.],\n",
      "        [0., 0., 0., 0., 0., 0., 0., 0., 0., 0., 0., 0., 0., 0., 0., 1.],\n",
      "        [0., 0., 0., 0., 0., 0., 0., 0., 0., 0., 0., 0., 0., 0., 0., 0.],\n",
      "        [0., 0., 0., 1., 0., 0., 0., 0., 0., 1., 0., 0., 0., 0., 0., 0.],\n",
      "        [0., 0., 0., 1., 0., 0., 0., 0., 0., 0., 0., 0., 0., 0., 0., 1.],\n",
      "        [0., 0., 0., 0., 0., 0., 0., 0., 0., 0., 1., 0., 0., 0., 0., 0.],\n",
      "        [0., 0., 0., 0., 0., 0., 0., 0., 0., 1., 1., 0., 0., 0., 0., 1.],\n",
      "        [0., 0., 1., 0., 1., 0., 0., 0., 0., 0., 0., 0., 1., 0., 0., 1.],\n",
      "        [0., 0., 1., 0., 0., 0., 0., 0., 0., 0., 0., 0., 0., 0., 0., 1.],\n",
      "        [0., 0., 0., 0., 0., 0., 0., 0., 0., 1., 0., 0., 0., 0., 0., 0.],\n",
      "        [0., 0., 0., 1., 0., 0., 0., 0., 0., 0., 0., 0., 0., 0., 0., 0.],\n",
      "        [0., 0., 0., 1., 0., 0., 0., 0., 0., 0., 0., 0., 0., 0., 0., 0.],\n",
      "        [0., 0., 0., 1., 0., 0., 0., 0., 0., 0., 0., 0., 0., 0., 0., 1.],\n",
      "        [0., 0., 0., 0., 0., 0., 0., 0., 0., 0., 0., 0., 0., 0., 0., 0.]])\n",
      "1\n",
      "[0.926605504587156, 0.8784530386740331, 0.8911174785100286, 0.9159159159159159, 0.9259259259259259, 0.9129129129129129, 0.9233128834355828, 0.9146341463414634, 0.9093655589123867, 0.9287925696594427, 0.8950437317784257, 0.9287925696594427, 0.9077380952380952, 0.9202453987730062]\n",
      "[0.926605504587156, 0.8784530386740331, 0.8911174785100286, 0.9159159159159159, 0.9259259259259259, 0.9129129129129129, 0.9233128834355828, 0.9146341463414634, 0.9093655589123867, 0.9287925696594427, 0.8950437317784257, 0.9287925696594427, 0.9077380952380952, 0.9202453987730062]\n"
     ]
    },
    {
     "name": "stderr",
     "output_type": "stream",
     "text": [
      "C:\\Users\\zoepr\\anaconda3\\envs\\decaf\\lib\\site-packages\\sklearn\\neural_network\\_multilayer_perceptron.py:617: ConvergenceWarning: Stochastic Optimizer: Maximum iterations (200) reached and the optimization hasn't converged yet.\n",
      "  % self.max_iter, ConvergenceWarning)\n"
     ]
    },
    {
     "name": "stdout",
     "output_type": "stream",
     "text": [
      "1\n"
     ]
    },
    {
     "name": "stderr",
     "output_type": "stream",
     "text": [
      "C:\\Users\\zoepr\\anaconda3\\envs\\decaf\\lib\\site-packages\\sklearn\\neural_network\\_multilayer_perceptron.py:617: ConvergenceWarning: Stochastic Optimizer: Maximum iterations (200) reached and the optimization hasn't converged yet.\n",
      "  % self.max_iter, ConvergenceWarning)\n"
     ]
    },
    {
     "name": "stdout",
     "output_type": "stream",
     "text": [
      "1\n",
      "precision done\n",
      "recall done\n",
      "auroc done\n",
      "ftu done\n",
      "dp done\n",
      "Initialised adjacency matrix as parsed:\n",
      " Parameter containing:\n",
      "tensor([[0., 0., 0., 0., 0., 0., 0., 0., 0., 0., 0., 0., 0., 0., 0., 0.],\n",
      "        [0., 0., 0., 0., 0., 0., 0., 1., 0., 0., 0., 0., 0., 0., 0., 0.],\n",
      "        [0., 0., 0., 0., 0., 0., 0., 0., 0., 0., 0., 0., 0., 0., 1., 0.],\n",
      "        [0., 0., 0., 0., 0., 0., 0., 0., 0., 0., 0., 0., 0., 0., 0., 1.],\n",
      "        [0., 0., 0., 0., 0., 0., 0., 0., 0., 0., 0., 0., 0., 0., 0., 0.],\n",
      "        [0., 0., 0., 1., 0., 0., 0., 0., 0., 1., 0., 0., 0., 0., 0., 0.],\n",
      "        [0., 0., 0., 1., 0., 0., 0., 0., 0., 0., 0., 0., 0., 0., 0., 1.],\n",
      "        [0., 0., 0., 0., 0., 0., 0., 0., 0., 0., 1., 0., 0., 0., 0., 0.],\n",
      "        [0., 0., 0., 0., 0., 0., 0., 0., 0., 1., 1., 0., 0., 0., 0., 1.],\n",
      "        [0., 0., 1., 0., 1., 0., 0., 0., 0., 0., 0., 0., 1., 0., 0., 1.],\n",
      "        [0., 0., 1., 0., 0., 0., 0., 0., 0., 0., 0., 0., 0., 0., 0., 1.],\n",
      "        [0., 0., 0., 0., 0., 0., 0., 0., 0., 1., 0., 0., 0., 0., 0., 0.],\n",
      "        [0., 0., 0., 1., 0., 0., 0., 0., 0., 0., 0., 0., 0., 0., 0., 0.],\n",
      "        [0., 0., 0., 1., 0., 0., 0., 0., 0., 0., 0., 0., 0., 0., 0., 0.],\n",
      "        [0., 0., 0., 1., 0., 0., 0., 0., 0., 0., 0., 0., 0., 0., 0., 1.],\n",
      "        [0., 0., 0., 0., 0., 0., 0., 0., 0., 0., 0., 0., 0., 0., 0., 0.]])\n"
     ]
    },
    {
     "name": "stderr",
     "output_type": "stream",
     "text": [
      "C:\\Users\\zoepr\\anaconda3\\envs\\decaf\\lib\\site-packages\\sklearn\\neural_network\\_multilayer_perceptron.py:617: ConvergenceWarning: Stochastic Optimizer: Maximum iterations (200) reached and the optimization hasn't converged yet.\n",
      "  % self.max_iter, ConvergenceWarning)\n"
     ]
    },
    {
     "name": "stdout",
     "output_type": "stream",
     "text": [
      "1\n",
      "[0.926605504587156, 0.8784530386740331, 0.8911174785100286, 0.9159159159159159, 0.9259259259259259, 0.9129129129129129, 0.9233128834355828, 0.9146341463414634, 0.9093655589123867, 0.9287925696594427, 0.8950437317784257, 0.9287925696594427, 0.9077380952380952, 0.9202453987730062, 0.9202453987730062]\n",
      "[0.926605504587156, 0.8784530386740331, 0.8911174785100286, 0.9159159159159159, 0.9259259259259259, 0.9129129129129129, 0.9233128834355828, 0.9146341463414634, 0.9093655589123867, 0.9287925696594427, 0.8950437317784257, 0.9287925696594427, 0.9077380952380952, 0.9202453987730062, 0.9202453987730062]\n"
     ]
    },
    {
     "name": "stderr",
     "output_type": "stream",
     "text": [
      "C:\\Users\\zoepr\\anaconda3\\envs\\decaf\\lib\\site-packages\\sklearn\\neural_network\\_multilayer_perceptron.py:617: ConvergenceWarning: Stochastic Optimizer: Maximum iterations (200) reached and the optimization hasn't converged yet.\n",
      "  % self.max_iter, ConvergenceWarning)\n"
     ]
    },
    {
     "name": "stdout",
     "output_type": "stream",
     "text": [
      "1\n"
     ]
    },
    {
     "name": "stderr",
     "output_type": "stream",
     "text": [
      "C:\\Users\\zoepr\\anaconda3\\envs\\decaf\\lib\\site-packages\\sklearn\\neural_network\\_multilayer_perceptron.py:617: ConvergenceWarning: Stochastic Optimizer: Maximum iterations (200) reached and the optimization hasn't converged yet.\n",
      "  % self.max_iter, ConvergenceWarning)\n"
     ]
    },
    {
     "name": "stdout",
     "output_type": "stream",
     "text": [
      "1\n",
      "precision done\n",
      "recall done\n",
      "auroc done\n",
      "ftu done\n",
      "dp done\n",
      "Initialised adjacency matrix as parsed:\n",
      " Parameter containing:\n",
      "tensor([[0., 0., 0., 0., 0., 0., 0., 0., 0., 0., 0., 0., 0., 0., 0., 0.],\n",
      "        [0., 0., 0., 0., 0., 0., 0., 1., 0., 0., 0., 0., 0., 0., 0., 0.],\n",
      "        [0., 0., 0., 0., 0., 0., 0., 0., 0., 0., 0., 0., 0., 0., 1., 0.],\n",
      "        [0., 0., 0., 0., 0., 0., 0., 0., 0., 0., 0., 0., 0., 0., 0., 1.],\n",
      "        [0., 0., 0., 0., 0., 0., 0., 0., 0., 0., 0., 0., 0., 0., 0., 0.],\n",
      "        [0., 0., 0., 1., 0., 0., 0., 0., 0., 1., 0., 0., 0., 0., 0., 0.],\n",
      "        [0., 0., 0., 1., 0., 0., 0., 0., 0., 0., 0., 0., 0., 0., 0., 1.],\n",
      "        [0., 0., 0., 0., 0., 0., 0., 0., 0., 0., 1., 0., 0., 0., 0., 0.],\n",
      "        [0., 0., 0., 0., 0., 0., 0., 0., 0., 1., 1., 0., 0., 0., 0., 1.],\n",
      "        [0., 0., 1., 0., 1., 0., 0., 0., 0., 0., 0., 0., 1., 0., 0., 1.],\n",
      "        [0., 0., 1., 0., 0., 0., 0., 0., 0., 0., 0., 0., 0., 0., 0., 1.],\n",
      "        [0., 0., 0., 0., 0., 0., 0., 0., 0., 1., 0., 0., 0., 0., 0., 0.],\n",
      "        [0., 0., 0., 1., 0., 0., 0., 0., 0., 0., 0., 0., 0., 0., 0., 0.],\n",
      "        [0., 0., 0., 1., 0., 0., 0., 0., 0., 0., 0., 0., 0., 0., 0., 0.],\n",
      "        [0., 0., 0., 1., 0., 0., 0., 0., 0., 0., 0., 0., 0., 0., 0., 1.],\n",
      "        [0., 0., 0., 0., 0., 0., 0., 0., 0., 0., 0., 0., 0., 0., 0., 0.]])\n"
     ]
    },
    {
     "name": "stderr",
     "output_type": "stream",
     "text": [
      "C:\\Users\\zoepr\\anaconda3\\envs\\decaf\\lib\\site-packages\\sklearn\\neural_network\\_multilayer_perceptron.py:617: ConvergenceWarning: Stochastic Optimizer: Maximum iterations (200) reached and the optimization hasn't converged yet.\n",
      "  % self.max_iter, ConvergenceWarning)\n"
     ]
    },
    {
     "name": "stdout",
     "output_type": "stream",
     "text": [
      "1\n",
      "[0.926605504587156, 0.8784530386740331, 0.8911174785100286, 0.9159159159159159, 0.9259259259259259, 0.9129129129129129, 0.9233128834355828, 0.9146341463414634, 0.9093655589123867, 0.9287925696594427, 0.8950437317784257, 0.9287925696594427, 0.9077380952380952, 0.9202453987730062, 0.9202453987730062, 0.9093655589123867]\n",
      "[0.926605504587156, 0.8784530386740331, 0.8911174785100286, 0.9159159159159159, 0.9259259259259259, 0.9129129129129129, 0.9233128834355828, 0.9146341463414634, 0.9093655589123867, 0.9287925696594427, 0.8950437317784257, 0.9287925696594427, 0.9077380952380952, 0.9202453987730062, 0.9202453987730062, 0.9093655589123867]\n"
     ]
    },
    {
     "name": "stderr",
     "output_type": "stream",
     "text": [
      "C:\\Users\\zoepr\\anaconda3\\envs\\decaf\\lib\\site-packages\\sklearn\\neural_network\\_multilayer_perceptron.py:617: ConvergenceWarning: Stochastic Optimizer: Maximum iterations (200) reached and the optimization hasn't converged yet.\n",
      "  % self.max_iter, ConvergenceWarning)\n"
     ]
    },
    {
     "name": "stdout",
     "output_type": "stream",
     "text": [
      "1\n"
     ]
    },
    {
     "name": "stderr",
     "output_type": "stream",
     "text": [
      "C:\\Users\\zoepr\\anaconda3\\envs\\decaf\\lib\\site-packages\\sklearn\\neural_network\\_multilayer_perceptron.py:617: ConvergenceWarning: Stochastic Optimizer: Maximum iterations (200) reached and the optimization hasn't converged yet.\n",
      "  % self.max_iter, ConvergenceWarning)\n"
     ]
    },
    {
     "name": "stdout",
     "output_type": "stream",
     "text": [
      "1\n",
      "precision done\n",
      "recall done\n",
      "auroc done\n",
      "ftu done\n",
      "dp done\n",
      "Initialised adjacency matrix as parsed:\n",
      " Parameter containing:\n",
      "tensor([[0., 0., 0., 0., 0., 0., 0., 0., 0., 0., 0., 0., 0., 0., 0., 0.],\n",
      "        [0., 0., 0., 0., 0., 0., 0., 1., 0., 0., 0., 0., 0., 0., 0., 0.],\n",
      "        [0., 0., 0., 0., 0., 0., 0., 0., 0., 0., 0., 0., 0., 0., 1., 0.],\n",
      "        [0., 0., 0., 0., 0., 0., 0., 0., 0., 0., 0., 0., 0., 0., 0., 1.],\n",
      "        [0., 0., 0., 0., 0., 0., 0., 0., 0., 0., 0., 0., 0., 0., 0., 0.],\n",
      "        [0., 0., 0., 1., 0., 0., 0., 0., 0., 1., 0., 0., 0., 0., 0., 0.],\n",
      "        [0., 0., 0., 1., 0., 0., 0., 0., 0., 0., 0., 0., 0., 0., 0., 1.],\n",
      "        [0., 0., 0., 0., 0., 0., 0., 0., 0., 0., 1., 0., 0., 0., 0., 0.],\n",
      "        [0., 0., 0., 0., 0., 0., 0., 0., 0., 1., 1., 0., 0., 0., 0., 1.],\n",
      "        [0., 0., 1., 0., 1., 0., 0., 0., 0., 0., 0., 0., 1., 0., 0., 1.],\n",
      "        [0., 0., 1., 0., 0., 0., 0., 0., 0., 0., 0., 0., 0., 0., 0., 1.],\n",
      "        [0., 0., 0., 0., 0., 0., 0., 0., 0., 1., 0., 0., 0., 0., 0., 0.],\n",
      "        [0., 0., 0., 1., 0., 0., 0., 0., 0., 0., 0., 0., 0., 0., 0., 0.],\n",
      "        [0., 0., 0., 1., 0., 0., 0., 0., 0., 0., 0., 0., 0., 0., 0., 0.],\n",
      "        [0., 0., 0., 1., 0., 0., 0., 0., 0., 0., 0., 0., 0., 0., 0., 1.],\n",
      "        [0., 0., 0., 0., 0., 0., 0., 0., 0., 0., 0., 0., 0., 0., 0., 0.]])\n"
     ]
    },
    {
     "name": "stderr",
     "output_type": "stream",
     "text": [
      "C:\\Users\\zoepr\\anaconda3\\envs\\decaf\\lib\\site-packages\\sklearn\\neural_network\\_multilayer_perceptron.py:617: ConvergenceWarning: Stochastic Optimizer: Maximum iterations (200) reached and the optimization hasn't converged yet.\n",
      "  % self.max_iter, ConvergenceWarning)\n"
     ]
    },
    {
     "name": "stdout",
     "output_type": "stream",
     "text": [
      "1\n",
      "[0.926605504587156, 0.8784530386740331, 0.8911174785100286, 0.9159159159159159, 0.9259259259259259, 0.9129129129129129, 0.9233128834355828, 0.9146341463414634, 0.9093655589123867, 0.9287925696594427, 0.8950437317784257, 0.9287925696594427, 0.9077380952380952, 0.9202453987730062, 0.9202453987730062, 0.9093655589123867, 0.9230769230769231]\n",
      "[0.926605504587156, 0.8784530386740331, 0.8911174785100286, 0.9159159159159159, 0.9259259259259259, 0.9129129129129129, 0.9233128834355828, 0.9146341463414634, 0.9093655589123867, 0.9287925696594427, 0.8950437317784257, 0.9287925696594427, 0.9077380952380952, 0.9202453987730062, 0.9202453987730062, 0.9093655589123867, 0.9230769230769231]\n"
     ]
    },
    {
     "name": "stderr",
     "output_type": "stream",
     "text": [
      "C:\\Users\\zoepr\\anaconda3\\envs\\decaf\\lib\\site-packages\\sklearn\\neural_network\\_multilayer_perceptron.py:617: ConvergenceWarning: Stochastic Optimizer: Maximum iterations (200) reached and the optimization hasn't converged yet.\n",
      "  % self.max_iter, ConvergenceWarning)\n"
     ]
    },
    {
     "name": "stdout",
     "output_type": "stream",
     "text": [
      "1\n"
     ]
    },
    {
     "name": "stderr",
     "output_type": "stream",
     "text": [
      "C:\\Users\\zoepr\\anaconda3\\envs\\decaf\\lib\\site-packages\\sklearn\\neural_network\\_multilayer_perceptron.py:617: ConvergenceWarning: Stochastic Optimizer: Maximum iterations (200) reached and the optimization hasn't converged yet.\n",
      "  % self.max_iter, ConvergenceWarning)\n"
     ]
    },
    {
     "name": "stdout",
     "output_type": "stream",
     "text": [
      "1\n",
      "precision done\n",
      "recall done\n",
      "auroc done\n",
      "ftu done\n",
      "dp done\n",
      "Initialised adjacency matrix as parsed:\n",
      " Parameter containing:\n",
      "tensor([[0., 0., 0., 0., 0., 0., 0., 0., 0., 0., 0., 0., 0., 0., 0., 0.],\n",
      "        [0., 0., 0., 0., 0., 0., 0., 1., 0., 0., 0., 0., 0., 0., 0., 0.],\n",
      "        [0., 0., 0., 0., 0., 0., 0., 0., 0., 0., 0., 0., 0., 0., 1., 0.],\n",
      "        [0., 0., 0., 0., 0., 0., 0., 0., 0., 0., 0., 0., 0., 0., 0., 1.],\n",
      "        [0., 0., 0., 0., 0., 0., 0., 0., 0., 0., 0., 0., 0., 0., 0., 0.],\n",
      "        [0., 0., 0., 1., 0., 0., 0., 0., 0., 1., 0., 0., 0., 0., 0., 0.],\n",
      "        [0., 0., 0., 1., 0., 0., 0., 0., 0., 0., 0., 0., 0., 0., 0., 1.],\n",
      "        [0., 0., 0., 0., 0., 0., 0., 0., 0., 0., 1., 0., 0., 0., 0., 0.],\n",
      "        [0., 0., 0., 0., 0., 0., 0., 0., 0., 1., 1., 0., 0., 0., 0., 1.],\n",
      "        [0., 0., 1., 0., 1., 0., 0., 0., 0., 0., 0., 0., 1., 0., 0., 1.],\n",
      "        [0., 0., 1., 0., 0., 0., 0., 0., 0., 0., 0., 0., 0., 0., 0., 1.],\n",
      "        [0., 0., 0., 0., 0., 0., 0., 0., 0., 1., 0., 0., 0., 0., 0., 0.],\n",
      "        [0., 0., 0., 1., 0., 0., 0., 0., 0., 0., 0., 0., 0., 0., 0., 0.],\n",
      "        [0., 0., 0., 1., 0., 0., 0., 0., 0., 0., 0., 0., 0., 0., 0., 0.],\n",
      "        [0., 0., 0., 1., 0., 0., 0., 0., 0., 0., 0., 0., 0., 0., 0., 1.],\n",
      "        [0., 0., 0., 0., 0., 0., 0., 0., 0., 0., 0., 0., 0., 0., 0., 0.]])\n"
     ]
    },
    {
     "name": "stderr",
     "output_type": "stream",
     "text": [
      "C:\\Users\\zoepr\\anaconda3\\envs\\decaf\\lib\\site-packages\\sklearn\\neural_network\\_multilayer_perceptron.py:617: ConvergenceWarning: Stochastic Optimizer: Maximum iterations (200) reached and the optimization hasn't converged yet.\n",
      "  % self.max_iter, ConvergenceWarning)\n"
     ]
    },
    {
     "name": "stdout",
     "output_type": "stream",
     "text": [
      "1\n",
      "[0.926605504587156, 0.8784530386740331, 0.8911174785100286, 0.9159159159159159, 0.9259259259259259, 0.9129129129129129, 0.9233128834355828, 0.9146341463414634, 0.9093655589123867, 0.9287925696594427, 0.8950437317784257, 0.9287925696594427, 0.9077380952380952, 0.9202453987730062, 0.9202453987730062, 0.9093655589123867, 0.9230769230769231, 0.9147058823529411]\n",
      "[0.926605504587156, 0.8784530386740331, 0.8911174785100286, 0.9159159159159159, 0.9259259259259259, 0.9129129129129129, 0.9233128834355828, 0.9146341463414634, 0.9093655589123867, 0.9287925696594427, 0.8950437317784257, 0.9287925696594427, 0.9077380952380952, 0.9202453987730062, 0.9202453987730062, 0.9093655589123867, 0.9230769230769231, 0.9147058823529411]\n"
     ]
    },
    {
     "name": "stderr",
     "output_type": "stream",
     "text": [
      "C:\\Users\\zoepr\\anaconda3\\envs\\decaf\\lib\\site-packages\\sklearn\\neural_network\\_multilayer_perceptron.py:617: ConvergenceWarning: Stochastic Optimizer: Maximum iterations (200) reached and the optimization hasn't converged yet.\n",
      "  % self.max_iter, ConvergenceWarning)\n"
     ]
    },
    {
     "name": "stdout",
     "output_type": "stream",
     "text": [
      "1\n"
     ]
    },
    {
     "name": "stderr",
     "output_type": "stream",
     "text": [
      "C:\\Users\\zoepr\\anaconda3\\envs\\decaf\\lib\\site-packages\\sklearn\\neural_network\\_multilayer_perceptron.py:617: ConvergenceWarning: Stochastic Optimizer: Maximum iterations (200) reached and the optimization hasn't converged yet.\n",
      "  % self.max_iter, ConvergenceWarning)\n"
     ]
    },
    {
     "name": "stdout",
     "output_type": "stream",
     "text": [
      "1\n",
      "precision done\n",
      "recall done\n",
      "auroc done\n",
      "ftu done\n",
      "dp done\n",
      "Initialised adjacency matrix as parsed:\n",
      " Parameter containing:\n",
      "tensor([[0., 0., 0., 0., 0., 0., 0., 0., 0., 0., 0., 0., 0., 0., 0., 0.],\n",
      "        [0., 0., 0., 0., 0., 0., 0., 1., 0., 0., 0., 0., 0., 0., 0., 0.],\n",
      "        [0., 0., 0., 0., 0., 0., 0., 0., 0., 0., 0., 0., 0., 0., 1., 0.],\n",
      "        [0., 0., 0., 0., 0., 0., 0., 0., 0., 0., 0., 0., 0., 0., 0., 1.],\n",
      "        [0., 0., 0., 0., 0., 0., 0., 0., 0., 0., 0., 0., 0., 0., 0., 0.],\n",
      "        [0., 0., 0., 1., 0., 0., 0., 0., 0., 1., 0., 0., 0., 0., 0., 0.],\n",
      "        [0., 0., 0., 1., 0., 0., 0., 0., 0., 0., 0., 0., 0., 0., 0., 1.],\n",
      "        [0., 0., 0., 0., 0., 0., 0., 0., 0., 0., 1., 0., 0., 0., 0., 0.],\n",
      "        [0., 0., 0., 0., 0., 0., 0., 0., 0., 1., 1., 0., 0., 0., 0., 1.],\n",
      "        [0., 0., 1., 0., 1., 0., 0., 0., 0., 0., 0., 0., 1., 0., 0., 1.],\n",
      "        [0., 0., 1., 0., 0., 0., 0., 0., 0., 0., 0., 0., 0., 0., 0., 1.],\n",
      "        [0., 0., 0., 0., 0., 0., 0., 0., 0., 1., 0., 0., 0., 0., 0., 0.],\n",
      "        [0., 0., 0., 1., 0., 0., 0., 0., 0., 0., 0., 0., 0., 0., 0., 0.],\n",
      "        [0., 0., 0., 1., 0., 0., 0., 0., 0., 0., 0., 0., 0., 0., 0., 0.],\n",
      "        [0., 0., 0., 1., 0., 0., 0., 0., 0., 0., 0., 0., 0., 0., 0., 1.],\n",
      "        [0., 0., 0., 0., 0., 0., 0., 0., 0., 0., 0., 0., 0., 0., 0., 0.]])\n"
     ]
    },
    {
     "name": "stderr",
     "output_type": "stream",
     "text": [
      "C:\\Users\\zoepr\\anaconda3\\envs\\decaf\\lib\\site-packages\\sklearn\\neural_network\\_multilayer_perceptron.py:617: ConvergenceWarning: Stochastic Optimizer: Maximum iterations (200) reached and the optimization hasn't converged yet.\n",
      "  % self.max_iter, ConvergenceWarning)\n"
     ]
    },
    {
     "name": "stdout",
     "output_type": "stream",
     "text": [
      "1\n",
      "[0.926605504587156, 0.8784530386740331, 0.8911174785100286, 0.9159159159159159, 0.9259259259259259, 0.9129129129129129, 0.9233128834355828, 0.9146341463414634, 0.9093655589123867, 0.9287925696594427, 0.8950437317784257, 0.9287925696594427, 0.9077380952380952, 0.9202453987730062, 0.9202453987730062, 0.9093655589123867, 0.9230769230769231, 0.9147058823529411, 0.9259259259259259]\n",
      "[0.926605504587156, 0.8784530386740331, 0.8911174785100286, 0.9159159159159159, 0.9259259259259259, 0.9129129129129129, 0.9233128834355828, 0.9146341463414634, 0.9093655589123867, 0.9287925696594427, 0.8950437317784257, 0.9287925696594427, 0.9077380952380952, 0.9202453987730062, 0.9202453987730062, 0.9093655589123867, 0.9230769230769231, 0.9147058823529411, 0.9259259259259259]\n"
     ]
    },
    {
     "name": "stderr",
     "output_type": "stream",
     "text": [
      "C:\\Users\\zoepr\\anaconda3\\envs\\decaf\\lib\\site-packages\\sklearn\\neural_network\\_multilayer_perceptron.py:617: ConvergenceWarning: Stochastic Optimizer: Maximum iterations (200) reached and the optimization hasn't converged yet.\n",
      "  % self.max_iter, ConvergenceWarning)\n"
     ]
    },
    {
     "name": "stdout",
     "output_type": "stream",
     "text": [
      "1\n"
     ]
    },
    {
     "name": "stderr",
     "output_type": "stream",
     "text": [
      "C:\\Users\\zoepr\\anaconda3\\envs\\decaf\\lib\\site-packages\\sklearn\\neural_network\\_multilayer_perceptron.py:617: ConvergenceWarning: Stochastic Optimizer: Maximum iterations (200) reached and the optimization hasn't converged yet.\n",
      "  % self.max_iter, ConvergenceWarning)\n"
     ]
    },
    {
     "name": "stdout",
     "output_type": "stream",
     "text": [
      "1\n",
      "precision done\n",
      "recall done\n",
      "auroc done\n",
      "ftu done\n",
      "dp done\n",
      "Initialised adjacency matrix as parsed:\n",
      " Parameter containing:\n",
      "tensor([[0., 0., 0., 0., 0., 0., 0., 0., 0., 0., 0., 0., 0., 0., 0., 0.],\n",
      "        [0., 0., 0., 0., 0., 0., 0., 1., 0., 0., 0., 0., 0., 0., 0., 0.],\n",
      "        [0., 0., 0., 0., 0., 0., 0., 0., 0., 0., 0., 0., 0., 0., 1., 0.],\n",
      "        [0., 0., 0., 0., 0., 0., 0., 0., 0., 0., 0., 0., 0., 0., 0., 1.],\n",
      "        [0., 0., 0., 0., 0., 0., 0., 0., 0., 0., 0., 0., 0., 0., 0., 0.],\n",
      "        [0., 0., 0., 1., 0., 0., 0., 0., 0., 1., 0., 0., 0., 0., 0., 0.],\n",
      "        [0., 0., 0., 1., 0., 0., 0., 0., 0., 0., 0., 0., 0., 0., 0., 1.],\n",
      "        [0., 0., 0., 0., 0., 0., 0., 0., 0., 0., 1., 0., 0., 0., 0., 0.],\n",
      "        [0., 0., 0., 0., 0., 0., 0., 0., 0., 1., 1., 0., 0., 0., 0., 1.],\n",
      "        [0., 0., 1., 0., 1., 0., 0., 0., 0., 0., 0., 0., 1., 0., 0., 1.],\n",
      "        [0., 0., 1., 0., 0., 0., 0., 0., 0., 0., 0., 0., 0., 0., 0., 1.],\n",
      "        [0., 0., 0., 0., 0., 0., 0., 0., 0., 1., 0., 0., 0., 0., 0., 0.],\n",
      "        [0., 0., 0., 1., 0., 0., 0., 0., 0., 0., 0., 0., 0., 0., 0., 0.],\n",
      "        [0., 0., 0., 1., 0., 0., 0., 0., 0., 0., 0., 0., 0., 0., 0., 0.],\n",
      "        [0., 0., 0., 1., 0., 0., 0., 0., 0., 0., 0., 0., 0., 0., 0., 1.],\n",
      "        [0., 0., 0., 0., 0., 0., 0., 0., 0., 0., 0., 0., 0., 0., 0., 0.]])\n"
     ]
    },
    {
     "name": "stderr",
     "output_type": "stream",
     "text": [
      "C:\\Users\\zoepr\\anaconda3\\envs\\decaf\\lib\\site-packages\\sklearn\\neural_network\\_multilayer_perceptron.py:617: ConvergenceWarning: Stochastic Optimizer: Maximum iterations (200) reached and the optimization hasn't converged yet.\n",
      "  % self.max_iter, ConvergenceWarning)\n"
     ]
    },
    {
     "name": "stdout",
     "output_type": "stream",
     "text": [
      "2\n",
      "[0.926605504587156, 0.8784530386740331, 0.8911174785100286, 0.9159159159159159, 0.9259259259259259, 0.9129129129129129, 0.9233128834355828, 0.9146341463414634, 0.9093655589123867, 0.9287925696594427, 0.8950437317784257, 0.9287925696594427, 0.9077380952380952, 0.9202453987730062, 0.9202453987730062, 0.9093655589123867, 0.9230769230769231, 0.9147058823529411, 0.9259259259259259, 0.863013698630137]\n",
      "[0.926605504587156, 0.8784530386740331, 0.8911174785100286, 0.9159159159159159, 0.9259259259259259, 0.9129129129129129, 0.9233128834355828, 0.9146341463414634, 0.9093655589123867, 0.9287925696594427, 0.8950437317784257, 0.9287925696594427, 0.9077380952380952, 0.9202453987730062, 0.9202453987730062, 0.9093655589123867, 0.9230769230769231, 0.9147058823529411, 0.9259259259259259, 0.863013698630137]\n"
     ]
    },
    {
     "name": "stderr",
     "output_type": "stream",
     "text": [
      "C:\\Users\\zoepr\\anaconda3\\envs\\decaf\\lib\\site-packages\\sklearn\\neural_network\\_multilayer_perceptron.py:617: ConvergenceWarning: Stochastic Optimizer: Maximum iterations (200) reached and the optimization hasn't converged yet.\n",
      "  % self.max_iter, ConvergenceWarning)\n"
     ]
    },
    {
     "name": "stdout",
     "output_type": "stream",
     "text": [
      "2\n"
     ]
    },
    {
     "name": "stderr",
     "output_type": "stream",
     "text": [
      "C:\\Users\\zoepr\\anaconda3\\envs\\decaf\\lib\\site-packages\\sklearn\\neural_network\\_multilayer_perceptron.py:617: ConvergenceWarning: Stochastic Optimizer: Maximum iterations (200) reached and the optimization hasn't converged yet.\n",
      "  % self.max_iter, ConvergenceWarning)\n"
     ]
    },
    {
     "name": "stdout",
     "output_type": "stream",
     "text": [
      "2\n",
      "precision done\n",
      "recall done\n",
      "auroc done\n",
      "ftu done\n",
      "dp done\n",
      "Initialised adjacency matrix as parsed:\n",
      " Parameter containing:\n",
      "tensor([[0., 0., 0., 0., 0., 0., 0., 0., 0., 0., 0., 0., 0., 0., 0., 0.],\n",
      "        [0., 0., 0., 0., 0., 0., 0., 1., 0., 0., 0., 0., 0., 0., 0., 0.],\n",
      "        [0., 0., 0., 0., 0., 0., 0., 0., 0., 0., 0., 0., 0., 0., 1., 0.],\n",
      "        [0., 0., 0., 0., 0., 0., 0., 0., 0., 0., 0., 0., 0., 0., 0., 1.],\n",
      "        [0., 0., 0., 0., 0., 0., 0., 0., 0., 0., 0., 0., 0., 0., 0., 0.],\n",
      "        [0., 0., 0., 1., 0., 0., 0., 0., 0., 1., 0., 0., 0., 0., 0., 0.],\n",
      "        [0., 0., 0., 1., 0., 0., 0., 0., 0., 0., 0., 0., 0., 0., 0., 1.],\n",
      "        [0., 0., 0., 0., 0., 0., 0., 0., 0., 0., 1., 0., 0., 0., 0., 0.],\n",
      "        [0., 0., 0., 0., 0., 0., 0., 0., 0., 1., 1., 0., 0., 0., 0., 1.],\n",
      "        [0., 0., 1., 0., 1., 0., 0., 0., 0., 0., 0., 0., 1., 0., 0., 1.],\n",
      "        [0., 0., 1., 0., 0., 0., 0., 0., 0., 0., 0., 0., 0., 0., 0., 1.],\n",
      "        [0., 0., 0., 0., 0., 0., 0., 0., 0., 1., 0., 0., 0., 0., 0., 0.],\n",
      "        [0., 0., 0., 1., 0., 0., 0., 0., 0., 0., 0., 0., 0., 0., 0., 0.],\n",
      "        [0., 0., 0., 1., 0., 0., 0., 0., 0., 0., 0., 0., 0., 0., 0., 0.],\n",
      "        [0., 0., 0., 1., 0., 0., 0., 0., 0., 0., 0., 0., 0., 0., 0., 1.],\n",
      "        [0., 0., 0., 0., 0., 0., 0., 0., 0., 0., 0., 0., 0., 0., 0., 0.]])\n"
     ]
    },
    {
     "name": "stderr",
     "output_type": "stream",
     "text": [
      "C:\\Users\\zoepr\\anaconda3\\envs\\decaf\\lib\\site-packages\\sklearn\\neural_network\\_multilayer_perceptron.py:617: ConvergenceWarning: Stochastic Optimizer: Maximum iterations (200) reached and the optimization hasn't converged yet.\n",
      "  % self.max_iter, ConvergenceWarning)\n"
     ]
    },
    {
     "name": "stdout",
     "output_type": "stream",
     "text": [
      "2\n",
      "[0.926605504587156, 0.8784530386740331, 0.8911174785100286, 0.9159159159159159, 0.9259259259259259, 0.9129129129129129, 0.9233128834355828, 0.9146341463414634, 0.9093655589123867, 0.9287925696594427, 0.8950437317784257, 0.9287925696594427, 0.9077380952380952, 0.9202453987730062, 0.9202453987730062, 0.9093655589123867, 0.9230769230769231, 0.9147058823529411, 0.9259259259259259, 0.863013698630137, 0.9230769230769231]\n",
      "[0.926605504587156, 0.8784530386740331, 0.8911174785100286, 0.9159159159159159, 0.9259259259259259, 0.9129129129129129, 0.9233128834355828, 0.9146341463414634, 0.9093655589123867, 0.9287925696594427, 0.8950437317784257, 0.9287925696594427, 0.9077380952380952, 0.9202453987730062, 0.9202453987730062, 0.9093655589123867, 0.9230769230769231, 0.9147058823529411, 0.9259259259259259, 0.863013698630137, 0.9230769230769231]\n"
     ]
    },
    {
     "name": "stderr",
     "output_type": "stream",
     "text": [
      "C:\\Users\\zoepr\\anaconda3\\envs\\decaf\\lib\\site-packages\\sklearn\\neural_network\\_multilayer_perceptron.py:617: ConvergenceWarning: Stochastic Optimizer: Maximum iterations (200) reached and the optimization hasn't converged yet.\n",
      "  % self.max_iter, ConvergenceWarning)\n"
     ]
    },
    {
     "name": "stdout",
     "output_type": "stream",
     "text": [
      "2\n"
     ]
    },
    {
     "name": "stderr",
     "output_type": "stream",
     "text": [
      "C:\\Users\\zoepr\\anaconda3\\envs\\decaf\\lib\\site-packages\\sklearn\\neural_network\\_multilayer_perceptron.py:617: ConvergenceWarning: Stochastic Optimizer: Maximum iterations (200) reached and the optimization hasn't converged yet.\n",
      "  % self.max_iter, ConvergenceWarning)\n"
     ]
    },
    {
     "name": "stdout",
     "output_type": "stream",
     "text": [
      "2\n",
      "precision done\n",
      "recall done\n",
      "auroc done\n",
      "ftu done\n",
      "dp done\n",
      "Initialised adjacency matrix as parsed:\n",
      " Parameter containing:\n",
      "tensor([[0., 0., 0., 0., 0., 0., 0., 0., 0., 0., 0., 0., 0., 0., 0., 0.],\n",
      "        [0., 0., 0., 0., 0., 0., 0., 1., 0., 0., 0., 0., 0., 0., 0., 0.],\n",
      "        [0., 0., 0., 0., 0., 0., 0., 0., 0., 0., 0., 0., 0., 0., 1., 0.],\n",
      "        [0., 0., 0., 0., 0., 0., 0., 0., 0., 0., 0., 0., 0., 0., 0., 1.],\n",
      "        [0., 0., 0., 0., 0., 0., 0., 0., 0., 0., 0., 0., 0., 0., 0., 0.],\n",
      "        [0., 0., 0., 1., 0., 0., 0., 0., 0., 1., 0., 0., 0., 0., 0., 0.],\n",
      "        [0., 0., 0., 1., 0., 0., 0., 0., 0., 0., 0., 0., 0., 0., 0., 1.],\n",
      "        [0., 0., 0., 0., 0., 0., 0., 0., 0., 0., 1., 0., 0., 0., 0., 0.],\n",
      "        [0., 0., 0., 0., 0., 0., 0., 0., 0., 1., 1., 0., 0., 0., 0., 1.],\n",
      "        [0., 0., 1., 0., 1., 0., 0., 0., 0., 0., 0., 0., 1., 0., 0., 1.],\n",
      "        [0., 0., 1., 0., 0., 0., 0., 0., 0., 0., 0., 0., 0., 0., 0., 1.],\n",
      "        [0., 0., 0., 0., 0., 0., 0., 0., 0., 1., 0., 0., 0., 0., 0., 0.],\n",
      "        [0., 0., 0., 1., 0., 0., 0., 0., 0., 0., 0., 0., 0., 0., 0., 0.],\n",
      "        [0., 0., 0., 1., 0., 0., 0., 0., 0., 0., 0., 0., 0., 0., 0., 0.],\n",
      "        [0., 0., 0., 1., 0., 0., 0., 0., 0., 0., 0., 0., 0., 0., 0., 1.],\n",
      "        [0., 0., 0., 0., 0., 0., 0., 0., 0., 0., 0., 0., 0., 0., 0., 0.]])\n"
     ]
    },
    {
     "name": "stderr",
     "output_type": "stream",
     "text": [
      "C:\\Users\\zoepr\\anaconda3\\envs\\decaf\\lib\\site-packages\\sklearn\\neural_network\\_multilayer_perceptron.py:617: ConvergenceWarning: Stochastic Optimizer: Maximum iterations (200) reached and the optimization hasn't converged yet.\n",
      "  % self.max_iter, ConvergenceWarning)\n"
     ]
    },
    {
     "name": "stdout",
     "output_type": "stream",
     "text": [
      "2\n",
      "[0.926605504587156, 0.8784530386740331, 0.8911174785100286, 0.9159159159159159, 0.9259259259259259, 0.9129129129129129, 0.9233128834355828, 0.9146341463414634, 0.9093655589123867, 0.9287925696594427, 0.8950437317784257, 0.9287925696594427, 0.9077380952380952, 0.9202453987730062, 0.9202453987730062, 0.9093655589123867, 0.9230769230769231, 0.9147058823529411, 0.9259259259259259, 0.863013698630137, 0.9230769230769231, 0.8677685950413223]\n",
      "[0.926605504587156, 0.8784530386740331, 0.8911174785100286, 0.9159159159159159, 0.9259259259259259, 0.9129129129129129, 0.9233128834355828, 0.9146341463414634, 0.9093655589123867, 0.9287925696594427, 0.8950437317784257, 0.9287925696594427, 0.9077380952380952, 0.9202453987730062, 0.9202453987730062, 0.9093655589123867, 0.9230769230769231, 0.9147058823529411, 0.9259259259259259, 0.863013698630137, 0.9230769230769231, 0.8677685950413223]\n"
     ]
    },
    {
     "name": "stderr",
     "output_type": "stream",
     "text": [
      "C:\\Users\\zoepr\\anaconda3\\envs\\decaf\\lib\\site-packages\\sklearn\\neural_network\\_multilayer_perceptron.py:617: ConvergenceWarning: Stochastic Optimizer: Maximum iterations (200) reached and the optimization hasn't converged yet.\n",
      "  % self.max_iter, ConvergenceWarning)\n"
     ]
    },
    {
     "name": "stdout",
     "output_type": "stream",
     "text": [
      "2\n"
     ]
    },
    {
     "name": "stderr",
     "output_type": "stream",
     "text": [
      "C:\\Users\\zoepr\\anaconda3\\envs\\decaf\\lib\\site-packages\\sklearn\\neural_network\\_multilayer_perceptron.py:617: ConvergenceWarning: Stochastic Optimizer: Maximum iterations (200) reached and the optimization hasn't converged yet.\n",
      "  % self.max_iter, ConvergenceWarning)\n"
     ]
    },
    {
     "name": "stdout",
     "output_type": "stream",
     "text": [
      "2\n",
      "precision done\n",
      "recall done\n",
      "auroc done\n",
      "ftu done\n",
      "dp done\n",
      "Initialised adjacency matrix as parsed:\n",
      " Parameter containing:\n",
      "tensor([[0., 0., 0., 0., 0., 0., 0., 0., 0., 0., 0., 0., 0., 0., 0., 0.],\n",
      "        [0., 0., 0., 0., 0., 0., 0., 1., 0., 0., 0., 0., 0., 0., 0., 0.],\n",
      "        [0., 0., 0., 0., 0., 0., 0., 0., 0., 0., 0., 0., 0., 0., 1., 0.],\n",
      "        [0., 0., 0., 0., 0., 0., 0., 0., 0., 0., 0., 0., 0., 0., 0., 1.],\n",
      "        [0., 0., 0., 0., 0., 0., 0., 0., 0., 0., 0., 0., 0., 0., 0., 0.],\n",
      "        [0., 0., 0., 1., 0., 0., 0., 0., 0., 1., 0., 0., 0., 0., 0., 0.],\n",
      "        [0., 0., 0., 1., 0., 0., 0., 0., 0., 0., 0., 0., 0., 0., 0., 1.],\n",
      "        [0., 0., 0., 0., 0., 0., 0., 0., 0., 0., 1., 0., 0., 0., 0., 0.],\n",
      "        [0., 0., 0., 0., 0., 0., 0., 0., 0., 1., 1., 0., 0., 0., 0., 1.],\n",
      "        [0., 0., 1., 0., 1., 0., 0., 0., 0., 0., 0., 0., 1., 0., 0., 1.],\n",
      "        [0., 0., 1., 0., 0., 0., 0., 0., 0., 0., 0., 0., 0., 0., 0., 1.],\n",
      "        [0., 0., 0., 0., 0., 0., 0., 0., 0., 1., 0., 0., 0., 0., 0., 0.],\n",
      "        [0., 0., 0., 1., 0., 0., 0., 0., 0., 0., 0., 0., 0., 0., 0., 0.],\n",
      "        [0., 0., 0., 1., 0., 0., 0., 0., 0., 0., 0., 0., 0., 0., 0., 0.],\n",
      "        [0., 0., 0., 1., 0., 0., 0., 0., 0., 0., 0., 0., 0., 0., 0., 1.],\n",
      "        [0., 0., 0., 0., 0., 0., 0., 0., 0., 0., 0., 0., 0., 0., 0., 0.]])\n"
     ]
    },
    {
     "name": "stderr",
     "output_type": "stream",
     "text": [
      "C:\\Users\\zoepr\\anaconda3\\envs\\decaf\\lib\\site-packages\\sklearn\\neural_network\\_multilayer_perceptron.py:617: ConvergenceWarning: Stochastic Optimizer: Maximum iterations (200) reached and the optimization hasn't converged yet.\n",
      "  % self.max_iter, ConvergenceWarning)\n"
     ]
    },
    {
     "name": "stdout",
     "output_type": "stream",
     "text": [
      "2\n",
      "[0.926605504587156, 0.8784530386740331, 0.8911174785100286, 0.9159159159159159, 0.9259259259259259, 0.9129129129129129, 0.9233128834355828, 0.9146341463414634, 0.9093655589123867, 0.9287925696594427, 0.8950437317784257, 0.9287925696594427, 0.9077380952380952, 0.9202453987730062, 0.9202453987730062, 0.9093655589123867, 0.9230769230769231, 0.9147058823529411, 0.9259259259259259, 0.863013698630137, 0.9230769230769231, 0.8677685950413223, 0.9230769230769231]\n",
      "[0.926605504587156, 0.8784530386740331, 0.8911174785100286, 0.9159159159159159, 0.9259259259259259, 0.9129129129129129, 0.9233128834355828, 0.9146341463414634, 0.9093655589123867, 0.9287925696594427, 0.8950437317784257, 0.9287925696594427, 0.9077380952380952, 0.9202453987730062, 0.9202453987730062, 0.9093655589123867, 0.9230769230769231, 0.9147058823529411, 0.9259259259259259, 0.863013698630137, 0.9230769230769231, 0.8677685950413223, 0.9230769230769231]\n"
     ]
    },
    {
     "name": "stderr",
     "output_type": "stream",
     "text": [
      "C:\\Users\\zoepr\\anaconda3\\envs\\decaf\\lib\\site-packages\\sklearn\\neural_network\\_multilayer_perceptron.py:617: ConvergenceWarning: Stochastic Optimizer: Maximum iterations (200) reached and the optimization hasn't converged yet.\n",
      "  % self.max_iter, ConvergenceWarning)\n"
     ]
    },
    {
     "name": "stdout",
     "output_type": "stream",
     "text": [
      "2\n"
     ]
    },
    {
     "name": "stderr",
     "output_type": "stream",
     "text": [
      "C:\\Users\\zoepr\\anaconda3\\envs\\decaf\\lib\\site-packages\\sklearn\\neural_network\\_multilayer_perceptron.py:617: ConvergenceWarning: Stochastic Optimizer: Maximum iterations (200) reached and the optimization hasn't converged yet.\n",
      "  % self.max_iter, ConvergenceWarning)\n"
     ]
    },
    {
     "name": "stdout",
     "output_type": "stream",
     "text": [
      "2\n",
      "precision done\n",
      "recall done\n",
      "auroc done\n",
      "ftu done\n",
      "dp done\n",
      "Initialised adjacency matrix as parsed:\n",
      " Parameter containing:\n",
      "tensor([[0., 0., 0., 0., 0., 0., 0., 0., 0., 0., 0., 0., 0., 0., 0., 0.],\n",
      "        [0., 0., 0., 0., 0., 0., 0., 1., 0., 0., 0., 0., 0., 0., 0., 0.],\n",
      "        [0., 0., 0., 0., 0., 0., 0., 0., 0., 0., 0., 0., 0., 0., 1., 0.],\n",
      "        [0., 0., 0., 0., 0., 0., 0., 0., 0., 0., 0., 0., 0., 0., 0., 1.],\n",
      "        [0., 0., 0., 0., 0., 0., 0., 0., 0., 0., 0., 0., 0., 0., 0., 0.],\n",
      "        [0., 0., 0., 1., 0., 0., 0., 0., 0., 1., 0., 0., 0., 0., 0., 0.],\n",
      "        [0., 0., 0., 1., 0., 0., 0., 0., 0., 0., 0., 0., 0., 0., 0., 1.],\n",
      "        [0., 0., 0., 0., 0., 0., 0., 0., 0., 0., 1., 0., 0., 0., 0., 0.],\n",
      "        [0., 0., 0., 0., 0., 0., 0., 0., 0., 1., 1., 0., 0., 0., 0., 1.],\n",
      "        [0., 0., 1., 0., 1., 0., 0., 0., 0., 0., 0., 0., 1., 0., 0., 1.],\n",
      "        [0., 0., 1., 0., 0., 0., 0., 0., 0., 0., 0., 0., 0., 0., 0., 1.],\n",
      "        [0., 0., 0., 0., 0., 0., 0., 0., 0., 1., 0., 0., 0., 0., 0., 0.],\n",
      "        [0., 0., 0., 1., 0., 0., 0., 0., 0., 0., 0., 0., 0., 0., 0., 0.],\n",
      "        [0., 0., 0., 1., 0., 0., 0., 0., 0., 0., 0., 0., 0., 0., 0., 0.],\n",
      "        [0., 0., 0., 1., 0., 0., 0., 0., 0., 0., 0., 0., 0., 0., 0., 1.],\n",
      "        [0., 0., 0., 0., 0., 0., 0., 0., 0., 0., 0., 0., 0., 0., 0., 0.]])\n"
     ]
    },
    {
     "name": "stderr",
     "output_type": "stream",
     "text": [
      "C:\\Users\\zoepr\\anaconda3\\envs\\decaf\\lib\\site-packages\\sklearn\\neural_network\\_multilayer_perceptron.py:617: ConvergenceWarning: Stochastic Optimizer: Maximum iterations (200) reached and the optimization hasn't converged yet.\n",
      "  % self.max_iter, ConvergenceWarning)\n"
     ]
    },
    {
     "name": "stdout",
     "output_type": "stream",
     "text": [
      "2\n",
      "[0.926605504587156, 0.8784530386740331, 0.8911174785100286, 0.9159159159159159, 0.9259259259259259, 0.9129129129129129, 0.9233128834355828, 0.9146341463414634, 0.9093655589123867, 0.9287925696594427, 0.8950437317784257, 0.9287925696594427, 0.9077380952380952, 0.9202453987730062, 0.9202453987730062, 0.9093655589123867, 0.9230769230769231, 0.9147058823529411, 0.9259259259259259, 0.863013698630137, 0.9230769230769231, 0.8677685950413223, 0.9230769230769231, 0.9093655589123867]\n",
      "[0.926605504587156, 0.8784530386740331, 0.8911174785100286, 0.9159159159159159, 0.9259259259259259, 0.9129129129129129, 0.9233128834355828, 0.9146341463414634, 0.9093655589123867, 0.9287925696594427, 0.8950437317784257, 0.9287925696594427, 0.9077380952380952, 0.9202453987730062, 0.9202453987730062, 0.9093655589123867, 0.9230769230769231, 0.9147058823529411, 0.9259259259259259, 0.863013698630137, 0.9230769230769231, 0.8677685950413223, 0.9230769230769231, 0.9093655589123867]\n"
     ]
    },
    {
     "name": "stderr",
     "output_type": "stream",
     "text": [
      "C:\\Users\\zoepr\\anaconda3\\envs\\decaf\\lib\\site-packages\\sklearn\\neural_network\\_multilayer_perceptron.py:617: ConvergenceWarning: Stochastic Optimizer: Maximum iterations (200) reached and the optimization hasn't converged yet.\n",
      "  % self.max_iter, ConvergenceWarning)\n"
     ]
    },
    {
     "name": "stdout",
     "output_type": "stream",
     "text": [
      "2\n"
     ]
    },
    {
     "name": "stderr",
     "output_type": "stream",
     "text": [
      "C:\\Users\\zoepr\\anaconda3\\envs\\decaf\\lib\\site-packages\\sklearn\\neural_network\\_multilayer_perceptron.py:617: ConvergenceWarning: Stochastic Optimizer: Maximum iterations (200) reached and the optimization hasn't converged yet.\n",
      "  % self.max_iter, ConvergenceWarning)\n"
     ]
    },
    {
     "name": "stdout",
     "output_type": "stream",
     "text": [
      "2\n",
      "precision done\n",
      "recall done\n",
      "auroc done\n",
      "ftu done\n",
      "dp done\n",
      "Initialised adjacency matrix as parsed:\n",
      " Parameter containing:\n",
      "tensor([[0., 0., 0., 0., 0., 0., 0., 0., 0., 0., 0., 0., 0., 0., 0., 0.],\n",
      "        [0., 0., 0., 0., 0., 0., 0., 1., 0., 0., 0., 0., 0., 0., 0., 0.],\n",
      "        [0., 0., 0., 0., 0., 0., 0., 0., 0., 0., 0., 0., 0., 0., 1., 0.],\n",
      "        [0., 0., 0., 0., 0., 0., 0., 0., 0., 0., 0., 0., 0., 0., 0., 1.],\n",
      "        [0., 0., 0., 0., 0., 0., 0., 0., 0., 0., 0., 0., 0., 0., 0., 0.],\n",
      "        [0., 0., 0., 1., 0., 0., 0., 0., 0., 1., 0., 0., 0., 0., 0., 0.],\n",
      "        [0., 0., 0., 1., 0., 0., 0., 0., 0., 0., 0., 0., 0., 0., 0., 1.],\n",
      "        [0., 0., 0., 0., 0., 0., 0., 0., 0., 0., 1., 0., 0., 0., 0., 0.],\n",
      "        [0., 0., 0., 0., 0., 0., 0., 0., 0., 1., 1., 0., 0., 0., 0., 1.],\n",
      "        [0., 0., 1., 0., 1., 0., 0., 0., 0., 0., 0., 0., 1., 0., 0., 1.],\n",
      "        [0., 0., 1., 0., 0., 0., 0., 0., 0., 0., 0., 0., 0., 0., 0., 1.],\n",
      "        [0., 0., 0., 0., 0., 0., 0., 0., 0., 1., 0., 0., 0., 0., 0., 0.],\n",
      "        [0., 0., 0., 1., 0., 0., 0., 0., 0., 0., 0., 0., 0., 0., 0., 0.],\n",
      "        [0., 0., 0., 1., 0., 0., 0., 0., 0., 0., 0., 0., 0., 0., 0., 0.],\n",
      "        [0., 0., 0., 1., 0., 0., 0., 0., 0., 0., 0., 0., 0., 0., 0., 1.],\n",
      "        [0., 0., 0., 0., 0., 0., 0., 0., 0., 0., 0., 0., 0., 0., 0., 0.]])\n"
     ]
    },
    {
     "name": "stderr",
     "output_type": "stream",
     "text": [
      "C:\\Users\\zoepr\\anaconda3\\envs\\decaf\\lib\\site-packages\\sklearn\\neural_network\\_multilayer_perceptron.py:617: ConvergenceWarning: Stochastic Optimizer: Maximum iterations (200) reached and the optimization hasn't converged yet.\n",
      "  % self.max_iter, ConvergenceWarning)\n"
     ]
    },
    {
     "name": "stdout",
     "output_type": "stream",
     "text": [
      "2\n",
      "[0.926605504587156, 0.8784530386740331, 0.8911174785100286, 0.9159159159159159, 0.9259259259259259, 0.9129129129129129, 0.9233128834355828, 0.9146341463414634, 0.9093655589123867, 0.9287925696594427, 0.8950437317784257, 0.9287925696594427, 0.9077380952380952, 0.9202453987730062, 0.9202453987730062, 0.9093655589123867, 0.9230769230769231, 0.9147058823529411, 0.9259259259259259, 0.863013698630137, 0.9230769230769231, 0.8677685950413223, 0.9230769230769231, 0.9093655589123867, 0.908256880733945]\n",
      "[0.926605504587156, 0.8784530386740331, 0.8911174785100286, 0.9159159159159159, 0.9259259259259259, 0.9129129129129129, 0.9233128834355828, 0.9146341463414634, 0.9093655589123867, 0.9287925696594427, 0.8950437317784257, 0.9287925696594427, 0.9077380952380952, 0.9202453987730062, 0.9202453987730062, 0.9093655589123867, 0.9230769230769231, 0.9147058823529411, 0.9259259259259259, 0.863013698630137, 0.9230769230769231, 0.8677685950413223, 0.9230769230769231, 0.9093655589123867, 0.908256880733945]\n"
     ]
    },
    {
     "name": "stderr",
     "output_type": "stream",
     "text": [
      "C:\\Users\\zoepr\\anaconda3\\envs\\decaf\\lib\\site-packages\\sklearn\\neural_network\\_multilayer_perceptron.py:617: ConvergenceWarning: Stochastic Optimizer: Maximum iterations (200) reached and the optimization hasn't converged yet.\n",
      "  % self.max_iter, ConvergenceWarning)\n"
     ]
    },
    {
     "name": "stdout",
     "output_type": "stream",
     "text": [
      "2\n"
     ]
    },
    {
     "name": "stderr",
     "output_type": "stream",
     "text": [
      "C:\\Users\\zoepr\\anaconda3\\envs\\decaf\\lib\\site-packages\\sklearn\\neural_network\\_multilayer_perceptron.py:617: ConvergenceWarning: Stochastic Optimizer: Maximum iterations (200) reached and the optimization hasn't converged yet.\n",
      "  % self.max_iter, ConvergenceWarning)\n"
     ]
    },
    {
     "name": "stdout",
     "output_type": "stream",
     "text": [
      "2\n",
      "precision done\n",
      "recall done\n",
      "auroc done\n",
      "ftu done\n",
      "dp done\n",
      "Initialised adjacency matrix as parsed:\n",
      " Parameter containing:\n",
      "tensor([[0., 0., 0., 0., 0., 0., 0., 0., 0., 0., 0., 0., 0., 0., 0., 0.],\n",
      "        [0., 0., 0., 0., 0., 0., 0., 1., 0., 0., 0., 0., 0., 0., 0., 0.],\n",
      "        [0., 0., 0., 0., 0., 0., 0., 0., 0., 0., 0., 0., 0., 0., 1., 0.],\n",
      "        [0., 0., 0., 0., 0., 0., 0., 0., 0., 0., 0., 0., 0., 0., 0., 1.],\n",
      "        [0., 0., 0., 0., 0., 0., 0., 0., 0., 0., 0., 0., 0., 0., 0., 0.],\n",
      "        [0., 0., 0., 1., 0., 0., 0., 0., 0., 1., 0., 0., 0., 0., 0., 0.],\n",
      "        [0., 0., 0., 1., 0., 0., 0., 0., 0., 0., 0., 0., 0., 0., 0., 1.],\n",
      "        [0., 0., 0., 0., 0., 0., 0., 0., 0., 0., 1., 0., 0., 0., 0., 0.],\n",
      "        [0., 0., 0., 0., 0., 0., 0., 0., 0., 1., 1., 0., 0., 0., 0., 1.],\n",
      "        [0., 0., 1., 0., 1., 0., 0., 0., 0., 0., 0., 0., 1., 0., 0., 1.],\n",
      "        [0., 0., 1., 0., 0., 0., 0., 0., 0., 0., 0., 0., 0., 0., 0., 1.],\n",
      "        [0., 0., 0., 0., 0., 0., 0., 0., 0., 1., 0., 0., 0., 0., 0., 0.],\n",
      "        [0., 0., 0., 1., 0., 0., 0., 0., 0., 0., 0., 0., 0., 0., 0., 0.],\n",
      "        [0., 0., 0., 1., 0., 0., 0., 0., 0., 0., 0., 0., 0., 0., 0., 0.],\n",
      "        [0., 0., 0., 1., 0., 0., 0., 0., 0., 0., 0., 0., 0., 0., 0., 1.],\n",
      "        [0., 0., 0., 0., 0., 0., 0., 0., 0., 0., 0., 0., 0., 0., 0., 0.]])\n"
     ]
    },
    {
     "name": "stderr",
     "output_type": "stream",
     "text": [
      "C:\\Users\\zoepr\\anaconda3\\envs\\decaf\\lib\\site-packages\\sklearn\\neural_network\\_multilayer_perceptron.py:617: ConvergenceWarning: Stochastic Optimizer: Maximum iterations (200) reached and the optimization hasn't converged yet.\n",
      "  % self.max_iter, ConvergenceWarning)\n"
     ]
    },
    {
     "name": "stdout",
     "output_type": "stream",
     "text": [
      "2\n",
      "[0.926605504587156, 0.8784530386740331, 0.8911174785100286, 0.9159159159159159, 0.9259259259259259, 0.9129129129129129, 0.9233128834355828, 0.9146341463414634, 0.9093655589123867, 0.9287925696594427, 0.8950437317784257, 0.9287925696594427, 0.9077380952380952, 0.9202453987730062, 0.9202453987730062, 0.9093655589123867, 0.9230769230769231, 0.9147058823529411, 0.9259259259259259, 0.863013698630137, 0.9230769230769231, 0.8677685950413223, 0.9230769230769231, 0.9093655589123867, 0.908256880733945, 0.9259259259259259]\n",
      "[0.926605504587156, 0.8784530386740331, 0.8911174785100286, 0.9159159159159159, 0.9259259259259259, 0.9129129129129129, 0.9233128834355828, 0.9146341463414634, 0.9093655589123867, 0.9287925696594427, 0.8950437317784257, 0.9287925696594427, 0.9077380952380952, 0.9202453987730062, 0.9202453987730062, 0.9093655589123867, 0.9230769230769231, 0.9147058823529411, 0.9259259259259259, 0.863013698630137, 0.9230769230769231, 0.8677685950413223, 0.9230769230769231, 0.9093655589123867, 0.908256880733945, 0.9259259259259259]\n"
     ]
    },
    {
     "name": "stderr",
     "output_type": "stream",
     "text": [
      "C:\\Users\\zoepr\\anaconda3\\envs\\decaf\\lib\\site-packages\\sklearn\\neural_network\\_multilayer_perceptron.py:617: ConvergenceWarning: Stochastic Optimizer: Maximum iterations (200) reached and the optimization hasn't converged yet.\n",
      "  % self.max_iter, ConvergenceWarning)\n"
     ]
    },
    {
     "name": "stdout",
     "output_type": "stream",
     "text": [
      "2\n"
     ]
    },
    {
     "name": "stderr",
     "output_type": "stream",
     "text": [
      "C:\\Users\\zoepr\\anaconda3\\envs\\decaf\\lib\\site-packages\\sklearn\\neural_network\\_multilayer_perceptron.py:617: ConvergenceWarning: Stochastic Optimizer: Maximum iterations (200) reached and the optimization hasn't converged yet.\n",
      "  % self.max_iter, ConvergenceWarning)\n"
     ]
    },
    {
     "name": "stdout",
     "output_type": "stream",
     "text": [
      "2\n",
      "precision done\n",
      "recall done\n",
      "auroc done\n",
      "ftu done\n",
      "dp done\n",
      "Initialised adjacency matrix as parsed:\n",
      " Parameter containing:\n",
      "tensor([[0., 0., 0., 0., 0., 0., 0., 0., 0., 0., 0., 0., 0., 0., 0., 0.],\n",
      "        [0., 0., 0., 0., 0., 0., 0., 1., 0., 0., 0., 0., 0., 0., 0., 0.],\n",
      "        [0., 0., 0., 0., 0., 0., 0., 0., 0., 0., 0., 0., 0., 0., 1., 0.],\n",
      "        [0., 0., 0., 0., 0., 0., 0., 0., 0., 0., 0., 0., 0., 0., 0., 1.],\n",
      "        [0., 0., 0., 0., 0., 0., 0., 0., 0., 0., 0., 0., 0., 0., 0., 0.],\n",
      "        [0., 0., 0., 1., 0., 0., 0., 0., 0., 1., 0., 0., 0., 0., 0., 0.],\n",
      "        [0., 0., 0., 1., 0., 0., 0., 0., 0., 0., 0., 0., 0., 0., 0., 1.],\n",
      "        [0., 0., 0., 0., 0., 0., 0., 0., 0., 0., 1., 0., 0., 0., 0., 0.],\n",
      "        [0., 0., 0., 0., 0., 0., 0., 0., 0., 1., 1., 0., 0., 0., 0., 1.],\n",
      "        [0., 0., 1., 0., 1., 0., 0., 0., 0., 0., 0., 0., 1., 0., 0., 1.],\n",
      "        [0., 0., 1., 0., 0., 0., 0., 0., 0., 0., 0., 0., 0., 0., 0., 1.],\n",
      "        [0., 0., 0., 0., 0., 0., 0., 0., 0., 1., 0., 0., 0., 0., 0., 0.],\n",
      "        [0., 0., 0., 1., 0., 0., 0., 0., 0., 0., 0., 0., 0., 0., 0., 0.],\n",
      "        [0., 0., 0., 1., 0., 0., 0., 0., 0., 0., 0., 0., 0., 0., 0., 0.],\n",
      "        [0., 0., 0., 1., 0., 0., 0., 0., 0., 0., 0., 0., 0., 0., 0., 1.],\n",
      "        [0., 0., 0., 0., 0., 0., 0., 0., 0., 0., 0., 0., 0., 0., 0., 0.]])\n"
     ]
    },
    {
     "name": "stderr",
     "output_type": "stream",
     "text": [
      "C:\\Users\\zoepr\\anaconda3\\envs\\decaf\\lib\\site-packages\\sklearn\\neural_network\\_multilayer_perceptron.py:617: ConvergenceWarning: Stochastic Optimizer: Maximum iterations (200) reached and the optimization hasn't converged yet.\n",
      "  % self.max_iter, ConvergenceWarning)\n"
     ]
    },
    {
     "name": "stdout",
     "output_type": "stream",
     "text": [
      "2\n",
      "[0.926605504587156, 0.8784530386740331, 0.8911174785100286, 0.9159159159159159, 0.9259259259259259, 0.9129129129129129, 0.9233128834355828, 0.9146341463414634, 0.9093655589123867, 0.9287925696594427, 0.8950437317784257, 0.9287925696594427, 0.9077380952380952, 0.9202453987730062, 0.9202453987730062, 0.9093655589123867, 0.9230769230769231, 0.9147058823529411, 0.9259259259259259, 0.863013698630137, 0.9230769230769231, 0.8677685950413223, 0.9230769230769231, 0.9093655589123867, 0.908256880733945, 0.9259259259259259, 0.9202453987730062]\n",
      "[0.926605504587156, 0.8784530386740331, 0.8911174785100286, 0.9159159159159159, 0.9259259259259259, 0.9129129129129129, 0.9233128834355828, 0.9146341463414634, 0.9093655589123867, 0.9287925696594427, 0.8950437317784257, 0.9287925696594427, 0.9077380952380952, 0.9202453987730062, 0.9202453987730062, 0.9093655589123867, 0.9230769230769231, 0.9147058823529411, 0.9259259259259259, 0.863013698630137, 0.9230769230769231, 0.8677685950413223, 0.9230769230769231, 0.9093655589123867, 0.908256880733945, 0.9259259259259259, 0.9202453987730062]\n"
     ]
    },
    {
     "name": "stderr",
     "output_type": "stream",
     "text": [
      "C:\\Users\\zoepr\\anaconda3\\envs\\decaf\\lib\\site-packages\\sklearn\\neural_network\\_multilayer_perceptron.py:617: ConvergenceWarning: Stochastic Optimizer: Maximum iterations (200) reached and the optimization hasn't converged yet.\n",
      "  % self.max_iter, ConvergenceWarning)\n"
     ]
    },
    {
     "name": "stdout",
     "output_type": "stream",
     "text": [
      "2\n"
     ]
    },
    {
     "name": "stderr",
     "output_type": "stream",
     "text": [
      "C:\\Users\\zoepr\\anaconda3\\envs\\decaf\\lib\\site-packages\\sklearn\\neural_network\\_multilayer_perceptron.py:617: ConvergenceWarning: Stochastic Optimizer: Maximum iterations (200) reached and the optimization hasn't converged yet.\n",
      "  % self.max_iter, ConvergenceWarning)\n"
     ]
    },
    {
     "name": "stdout",
     "output_type": "stream",
     "text": [
      "2\n",
      "precision done\n",
      "recall done\n",
      "auroc done\n",
      "ftu done\n",
      "dp done\n",
      "Initialised adjacency matrix as parsed:\n",
      " Parameter containing:\n",
      "tensor([[0., 0., 0., 0., 0., 0., 0., 0., 0., 0., 0., 0., 0., 0., 0., 0.],\n",
      "        [0., 0., 0., 0., 0., 0., 0., 1., 0., 0., 0., 0., 0., 0., 0., 0.],\n",
      "        [0., 0., 0., 0., 0., 0., 0., 0., 0., 0., 0., 0., 0., 0., 1., 0.],\n",
      "        [0., 0., 0., 0., 0., 0., 0., 0., 0., 0., 0., 0., 0., 0., 0., 1.],\n",
      "        [0., 0., 0., 0., 0., 0., 0., 0., 0., 0., 0., 0., 0., 0., 0., 0.],\n",
      "        [0., 0., 0., 1., 0., 0., 0., 0., 0., 1., 0., 0., 0., 0., 0., 0.],\n",
      "        [0., 0., 0., 1., 0., 0., 0., 0., 0., 0., 0., 0., 0., 0., 0., 1.],\n",
      "        [0., 0., 0., 0., 0., 0., 0., 0., 0., 0., 1., 0., 0., 0., 0., 0.],\n",
      "        [0., 0., 0., 0., 0., 0., 0., 0., 0., 1., 1., 0., 0., 0., 0., 1.],\n",
      "        [0., 0., 1., 0., 1., 0., 0., 0., 0., 0., 0., 0., 1., 0., 0., 1.],\n",
      "        [0., 0., 1., 0., 0., 0., 0., 0., 0., 0., 0., 0., 0., 0., 0., 1.],\n",
      "        [0., 0., 0., 0., 0., 0., 0., 0., 0., 1., 0., 0., 0., 0., 0., 0.],\n",
      "        [0., 0., 0., 1., 0., 0., 0., 0., 0., 0., 0., 0., 0., 0., 0., 0.],\n",
      "        [0., 0., 0., 1., 0., 0., 0., 0., 0., 0., 0., 0., 0., 0., 0., 0.],\n",
      "        [0., 0., 0., 1., 0., 0., 0., 0., 0., 0., 0., 0., 0., 0., 0., 1.],\n",
      "        [0., 0., 0., 0., 0., 0., 0., 0., 0., 0., 0., 0., 0., 0., 0., 0.]])\n"
     ]
    },
    {
     "name": "stderr",
     "output_type": "stream",
     "text": [
      "C:\\Users\\zoepr\\anaconda3\\envs\\decaf\\lib\\site-packages\\sklearn\\neural_network\\_multilayer_perceptron.py:617: ConvergenceWarning: Stochastic Optimizer: Maximum iterations (200) reached and the optimization hasn't converged yet.\n",
      "  % self.max_iter, ConvergenceWarning)\n"
     ]
    },
    {
     "name": "stdout",
     "output_type": "stream",
     "text": [
      "2\n",
      "[0.926605504587156, 0.8784530386740331, 0.8911174785100286, 0.9159159159159159, 0.9259259259259259, 0.9129129129129129, 0.9233128834355828, 0.9146341463414634, 0.9093655589123867, 0.9287925696594427, 0.8950437317784257, 0.9287925696594427, 0.9077380952380952, 0.9202453987730062, 0.9202453987730062, 0.9093655589123867, 0.9230769230769231, 0.9147058823529411, 0.9259259259259259, 0.863013698630137, 0.9230769230769231, 0.8677685950413223, 0.9230769230769231, 0.9093655589123867, 0.908256880733945, 0.9259259259259259, 0.9202453987730062, 0.9072463768115943]\n",
      "[0.926605504587156, 0.8784530386740331, 0.8911174785100286, 0.9159159159159159, 0.9259259259259259, 0.9129129129129129, 0.9233128834355828, 0.9146341463414634, 0.9093655589123867, 0.9287925696594427, 0.8950437317784257, 0.9287925696594427, 0.9077380952380952, 0.9202453987730062, 0.9202453987730062, 0.9093655589123867, 0.9230769230769231, 0.9147058823529411, 0.9259259259259259, 0.863013698630137, 0.9230769230769231, 0.8677685950413223, 0.9230769230769231, 0.9093655589123867, 0.908256880733945, 0.9259259259259259, 0.9202453987730062, 0.9072463768115943]\n"
     ]
    },
    {
     "name": "stderr",
     "output_type": "stream",
     "text": [
      "C:\\Users\\zoepr\\anaconda3\\envs\\decaf\\lib\\site-packages\\sklearn\\neural_network\\_multilayer_perceptron.py:617: ConvergenceWarning: Stochastic Optimizer: Maximum iterations (200) reached and the optimization hasn't converged yet.\n",
      "  % self.max_iter, ConvergenceWarning)\n"
     ]
    },
    {
     "name": "stdout",
     "output_type": "stream",
     "text": [
      "2\n"
     ]
    },
    {
     "name": "stderr",
     "output_type": "stream",
     "text": [
      "C:\\Users\\zoepr\\anaconda3\\envs\\decaf\\lib\\site-packages\\sklearn\\neural_network\\_multilayer_perceptron.py:617: ConvergenceWarning: Stochastic Optimizer: Maximum iterations (200) reached and the optimization hasn't converged yet.\n",
      "  % self.max_iter, ConvergenceWarning)\n"
     ]
    },
    {
     "name": "stdout",
     "output_type": "stream",
     "text": [
      "2\n",
      "precision done\n",
      "recall done\n",
      "auroc done\n",
      "ftu done\n",
      "dp done\n",
      "Initialised adjacency matrix as parsed:\n",
      " Parameter containing:\n",
      "tensor([[0., 0., 0., 0., 0., 0., 0., 0., 0., 0., 0., 0., 0., 0., 0., 0.],\n",
      "        [0., 0., 0., 0., 0., 0., 0., 1., 0., 0., 0., 0., 0., 0., 0., 0.],\n",
      "        [0., 0., 0., 0., 0., 0., 0., 0., 0., 0., 0., 0., 0., 0., 1., 0.],\n",
      "        [0., 0., 0., 0., 0., 0., 0., 0., 0., 0., 0., 0., 0., 0., 0., 1.],\n",
      "        [0., 0., 0., 0., 0., 0., 0., 0., 0., 0., 0., 0., 0., 0., 0., 0.],\n",
      "        [0., 0., 0., 1., 0., 0., 0., 0., 0., 1., 0., 0., 0., 0., 0., 0.],\n",
      "        [0., 0., 0., 1., 0., 0., 0., 0., 0., 0., 0., 0., 0., 0., 0., 1.],\n",
      "        [0., 0., 0., 0., 0., 0., 0., 0., 0., 0., 1., 0., 0., 0., 0., 0.],\n",
      "        [0., 0., 0., 0., 0., 0., 0., 0., 0., 1., 1., 0., 0., 0., 0., 1.],\n",
      "        [0., 0., 1., 0., 1., 0., 0., 0., 0., 0., 0., 0., 1., 0., 0., 1.],\n",
      "        [0., 0., 1., 0., 0., 0., 0., 0., 0., 0., 0., 0., 0., 0., 0., 1.],\n",
      "        [0., 0., 0., 0., 0., 0., 0., 0., 0., 1., 0., 0., 0., 0., 0., 0.],\n",
      "        [0., 0., 0., 1., 0., 0., 0., 0., 0., 0., 0., 0., 0., 0., 0., 0.],\n",
      "        [0., 0., 0., 1., 0., 0., 0., 0., 0., 0., 0., 0., 0., 0., 0., 0.],\n",
      "        [0., 0., 0., 1., 0., 0., 0., 0., 0., 0., 0., 0., 0., 0., 0., 1.],\n",
      "        [0., 0., 0., 0., 0., 0., 0., 0., 0., 0., 0., 0., 0., 0., 0., 0.]])\n"
     ]
    },
    {
     "name": "stderr",
     "output_type": "stream",
     "text": [
      "C:\\Users\\zoepr\\anaconda3\\envs\\decaf\\lib\\site-packages\\sklearn\\neural_network\\_multilayer_perceptron.py:617: ConvergenceWarning: Stochastic Optimizer: Maximum iterations (200) reached and the optimization hasn't converged yet.\n",
      "  % self.max_iter, ConvergenceWarning)\n"
     ]
    },
    {
     "name": "stdout",
     "output_type": "stream",
     "text": [
      "2\n",
      "[0.926605504587156, 0.8784530386740331, 0.8911174785100286, 0.9159159159159159, 0.9259259259259259, 0.9129129129129129, 0.9233128834355828, 0.9146341463414634, 0.9093655589123867, 0.9287925696594427, 0.8950437317784257, 0.9287925696594427, 0.9077380952380952, 0.9202453987730062, 0.9202453987730062, 0.9093655589123867, 0.9230769230769231, 0.9147058823529411, 0.9259259259259259, 0.863013698630137, 0.9230769230769231, 0.8677685950413223, 0.9230769230769231, 0.9093655589123867, 0.908256880733945, 0.9259259259259259, 0.9202453987730062, 0.9072463768115943, 0.893491124260355]\n",
      "[0.926605504587156, 0.8784530386740331, 0.8911174785100286, 0.9159159159159159, 0.9259259259259259, 0.9129129129129129, 0.9233128834355828, 0.9146341463414634, 0.9093655589123867, 0.9287925696594427, 0.8950437317784257, 0.9287925696594427, 0.9077380952380952, 0.9202453987730062, 0.9202453987730062, 0.9093655589123867, 0.9230769230769231, 0.9147058823529411, 0.9259259259259259, 0.863013698630137, 0.9230769230769231, 0.8677685950413223, 0.9230769230769231, 0.9093655589123867, 0.908256880733945, 0.9259259259259259, 0.9202453987730062, 0.9072463768115943, 0.893491124260355]\n"
     ]
    },
    {
     "name": "stderr",
     "output_type": "stream",
     "text": [
      "C:\\Users\\zoepr\\anaconda3\\envs\\decaf\\lib\\site-packages\\sklearn\\neural_network\\_multilayer_perceptron.py:617: ConvergenceWarning: Stochastic Optimizer: Maximum iterations (200) reached and the optimization hasn't converged yet.\n",
      "  % self.max_iter, ConvergenceWarning)\n"
     ]
    },
    {
     "name": "stdout",
     "output_type": "stream",
     "text": [
      "2\n"
     ]
    },
    {
     "name": "stderr",
     "output_type": "stream",
     "text": [
      "C:\\Users\\zoepr\\anaconda3\\envs\\decaf\\lib\\site-packages\\sklearn\\neural_network\\_multilayer_perceptron.py:617: ConvergenceWarning: Stochastic Optimizer: Maximum iterations (200) reached and the optimization hasn't converged yet.\n",
      "  % self.max_iter, ConvergenceWarning)\n"
     ]
    },
    {
     "name": "stdout",
     "output_type": "stream",
     "text": [
      "2\n",
      "precision done\n",
      "recall done\n",
      "auroc done\n",
      "ftu done\n",
      "dp done\n",
      "Initialised adjacency matrix as parsed:\n",
      " Parameter containing:\n",
      "tensor([[0., 0., 0., 0., 0., 0., 0., 0., 0., 0., 0., 0., 0., 0., 0., 0.],\n",
      "        [0., 0., 0., 0., 0., 0., 0., 1., 0., 0., 0., 0., 0., 0., 0., 0.],\n",
      "        [0., 0., 0., 0., 0., 0., 0., 0., 0., 0., 0., 0., 0., 0., 1., 0.],\n",
      "        [0., 0., 0., 0., 0., 0., 0., 0., 0., 0., 0., 0., 0., 0., 0., 1.],\n",
      "        [0., 0., 0., 0., 0., 0., 0., 0., 0., 0., 0., 0., 0., 0., 0., 0.],\n",
      "        [0., 0., 0., 1., 0., 0., 0., 0., 0., 1., 0., 0., 0., 0., 0., 0.],\n",
      "        [0., 0., 0., 1., 0., 0., 0., 0., 0., 0., 0., 0., 0., 0., 0., 1.],\n",
      "        [0., 0., 0., 0., 0., 0., 0., 0., 0., 0., 1., 0., 0., 0., 0., 0.],\n",
      "        [0., 0., 0., 0., 0., 0., 0., 0., 0., 1., 1., 0., 0., 0., 0., 1.],\n",
      "        [0., 0., 1., 0., 1., 0., 0., 0., 0., 0., 0., 0., 1., 0., 0., 1.],\n",
      "        [0., 0., 1., 0., 0., 0., 0., 0., 0., 0., 0., 0., 0., 0., 0., 1.],\n",
      "        [0., 0., 0., 0., 0., 0., 0., 0., 0., 1., 0., 0., 0., 0., 0., 0.],\n",
      "        [0., 0., 0., 1., 0., 0., 0., 0., 0., 0., 0., 0., 0., 0., 0., 0.],\n",
      "        [0., 0., 0., 1., 0., 0., 0., 0., 0., 0., 0., 0., 0., 0., 0., 0.],\n",
      "        [0., 0., 0., 1., 0., 0., 0., 0., 0., 0., 0., 0., 0., 0., 0., 1.],\n",
      "        [0., 0., 0., 0., 0., 0., 0., 0., 0., 0., 0., 0., 0., 0., 0., 0.]])\n"
     ]
    },
    {
     "name": "stderr",
     "output_type": "stream",
     "text": [
      "C:\\Users\\zoepr\\anaconda3\\envs\\decaf\\lib\\site-packages\\sklearn\\neural_network\\_multilayer_perceptron.py:617: ConvergenceWarning: Stochastic Optimizer: Maximum iterations (200) reached and the optimization hasn't converged yet.\n",
      "  % self.max_iter, ConvergenceWarning)\n"
     ]
    },
    {
     "name": "stdout",
     "output_type": "stream",
     "text": [
      "3\n",
      "[0.926605504587156, 0.8784530386740331, 0.8911174785100286, 0.9159159159159159, 0.9259259259259259, 0.9129129129129129, 0.9233128834355828, 0.9146341463414634, 0.9093655589123867, 0.9287925696594427, 0.8950437317784257, 0.9287925696594427, 0.9077380952380952, 0.9202453987730062, 0.9202453987730062, 0.9093655589123867, 0.9230769230769231, 0.9147058823529411, 0.9259259259259259, 0.863013698630137, 0.9230769230769231, 0.8677685950413223, 0.9230769230769231, 0.9093655589123867, 0.908256880733945, 0.9259259259259259, 0.9202453987730062, 0.9072463768115943, 0.893491124260355, 0.9181818181818182]\n",
      "[0.926605504587156, 0.8784530386740331, 0.8911174785100286, 0.9159159159159159, 0.9259259259259259, 0.9129129129129129, 0.9233128834355828, 0.9146341463414634, 0.9093655589123867, 0.9287925696594427, 0.8950437317784257, 0.9287925696594427, 0.9077380952380952, 0.9202453987730062, 0.9202453987730062, 0.9093655589123867, 0.9230769230769231, 0.9147058823529411, 0.9259259259259259, 0.863013698630137, 0.9230769230769231, 0.8677685950413223, 0.9230769230769231, 0.9093655589123867, 0.908256880733945, 0.9259259259259259, 0.9202453987730062, 0.9072463768115943, 0.893491124260355, 0.9181818181818182]\n"
     ]
    },
    {
     "name": "stderr",
     "output_type": "stream",
     "text": [
      "C:\\Users\\zoepr\\anaconda3\\envs\\decaf\\lib\\site-packages\\sklearn\\neural_network\\_multilayer_perceptron.py:617: ConvergenceWarning: Stochastic Optimizer: Maximum iterations (200) reached and the optimization hasn't converged yet.\n",
      "  % self.max_iter, ConvergenceWarning)\n"
     ]
    },
    {
     "name": "stdout",
     "output_type": "stream",
     "text": [
      "3\n"
     ]
    },
    {
     "name": "stderr",
     "output_type": "stream",
     "text": [
      "C:\\Users\\zoepr\\anaconda3\\envs\\decaf\\lib\\site-packages\\sklearn\\neural_network\\_multilayer_perceptron.py:617: ConvergenceWarning: Stochastic Optimizer: Maximum iterations (200) reached and the optimization hasn't converged yet.\n",
      "  % self.max_iter, ConvergenceWarning)\n"
     ]
    },
    {
     "name": "stdout",
     "output_type": "stream",
     "text": [
      "3\n",
      "precision done\n",
      "recall done\n",
      "auroc done\n",
      "ftu done\n",
      "dp done\n",
      "Initialised adjacency matrix as parsed:\n",
      " Parameter containing:\n",
      "tensor([[0., 0., 0., 0., 0., 0., 0., 0., 0., 0., 0., 0., 0., 0., 0., 0.],\n",
      "        [0., 0., 0., 0., 0., 0., 0., 1., 0., 0., 0., 0., 0., 0., 0., 0.],\n",
      "        [0., 0., 0., 0., 0., 0., 0., 0., 0., 0., 0., 0., 0., 0., 1., 0.],\n",
      "        [0., 0., 0., 0., 0., 0., 0., 0., 0., 0., 0., 0., 0., 0., 0., 1.],\n",
      "        [0., 0., 0., 0., 0., 0., 0., 0., 0., 0., 0., 0., 0., 0., 0., 0.],\n",
      "        [0., 0., 0., 1., 0., 0., 0., 0., 0., 1., 0., 0., 0., 0., 0., 0.],\n",
      "        [0., 0., 0., 1., 0., 0., 0., 0., 0., 0., 0., 0., 0., 0., 0., 1.],\n",
      "        [0., 0., 0., 0., 0., 0., 0., 0., 0., 0., 1., 0., 0., 0., 0., 0.],\n",
      "        [0., 0., 0., 0., 0., 0., 0., 0., 0., 1., 1., 0., 0., 0., 0., 1.],\n",
      "        [0., 0., 1., 0., 1., 0., 0., 0., 0., 0., 0., 0., 1., 0., 0., 1.],\n",
      "        [0., 0., 1., 0., 0., 0., 0., 0., 0., 0., 0., 0., 0., 0., 0., 1.],\n",
      "        [0., 0., 0., 0., 0., 0., 0., 0., 0., 1., 0., 0., 0., 0., 0., 0.],\n",
      "        [0., 0., 0., 1., 0., 0., 0., 0., 0., 0., 0., 0., 0., 0., 0., 0.],\n",
      "        [0., 0., 0., 1., 0., 0., 0., 0., 0., 0., 0., 0., 0., 0., 0., 0.],\n",
      "        [0., 0., 0., 1., 0., 0., 0., 0., 0., 0., 0., 0., 0., 0., 0., 1.],\n",
      "        [0., 0., 0., 0., 0., 0., 0., 0., 0., 0., 0., 0., 0., 0., 0., 0.]])\n"
     ]
    },
    {
     "name": "stderr",
     "output_type": "stream",
     "text": [
      "C:\\Users\\zoepr\\anaconda3\\envs\\decaf\\lib\\site-packages\\sklearn\\neural_network\\_multilayer_perceptron.py:617: ConvergenceWarning: Stochastic Optimizer: Maximum iterations (200) reached and the optimization hasn't converged yet.\n",
      "  % self.max_iter, ConvergenceWarning)\n"
     ]
    },
    {
     "name": "stdout",
     "output_type": "stream",
     "text": [
      "3\n",
      "[0.926605504587156, 0.8784530386740331, 0.8911174785100286, 0.9159159159159159, 0.9259259259259259, 0.9129129129129129, 0.9233128834355828, 0.9146341463414634, 0.9093655589123867, 0.9287925696594427, 0.8950437317784257, 0.9287925696594427, 0.9077380952380952, 0.9202453987730062, 0.9202453987730062, 0.9093655589123867, 0.9230769230769231, 0.9147058823529411, 0.9259259259259259, 0.863013698630137, 0.9230769230769231, 0.8677685950413223, 0.9230769230769231, 0.9093655589123867, 0.908256880733945, 0.9259259259259259, 0.9202453987730062, 0.9072463768115943, 0.893491124260355, 0.9181818181818182, 0.9202453987730062]\n",
      "[0.926605504587156, 0.8784530386740331, 0.8911174785100286, 0.9159159159159159, 0.9259259259259259, 0.9129129129129129, 0.9233128834355828, 0.9146341463414634, 0.9093655589123867, 0.9287925696594427, 0.8950437317784257, 0.9287925696594427, 0.9077380952380952, 0.9202453987730062, 0.9202453987730062, 0.9093655589123867, 0.9230769230769231, 0.9147058823529411, 0.9259259259259259, 0.863013698630137, 0.9230769230769231, 0.8677685950413223, 0.9230769230769231, 0.9093655589123867, 0.908256880733945, 0.9259259259259259, 0.9202453987730062, 0.9072463768115943, 0.893491124260355, 0.9181818181818182, 0.9202453987730062]\n"
     ]
    },
    {
     "name": "stderr",
     "output_type": "stream",
     "text": [
      "C:\\Users\\zoepr\\anaconda3\\envs\\decaf\\lib\\site-packages\\sklearn\\neural_network\\_multilayer_perceptron.py:617: ConvergenceWarning: Stochastic Optimizer: Maximum iterations (200) reached and the optimization hasn't converged yet.\n",
      "  % self.max_iter, ConvergenceWarning)\n"
     ]
    },
    {
     "name": "stdout",
     "output_type": "stream",
     "text": [
      "3\n"
     ]
    },
    {
     "name": "stderr",
     "output_type": "stream",
     "text": [
      "C:\\Users\\zoepr\\anaconda3\\envs\\decaf\\lib\\site-packages\\sklearn\\neural_network\\_multilayer_perceptron.py:617: ConvergenceWarning: Stochastic Optimizer: Maximum iterations (200) reached and the optimization hasn't converged yet.\n",
      "  % self.max_iter, ConvergenceWarning)\n"
     ]
    },
    {
     "name": "stdout",
     "output_type": "stream",
     "text": [
      "3\n",
      "precision done\n",
      "recall done\n",
      "auroc done\n",
      "ftu done\n",
      "dp done\n",
      "Initialised adjacency matrix as parsed:\n",
      " Parameter containing:\n",
      "tensor([[0., 0., 0., 0., 0., 0., 0., 0., 0., 0., 0., 0., 0., 0., 0., 0.],\n",
      "        [0., 0., 0., 0., 0., 0., 0., 1., 0., 0., 0., 0., 0., 0., 0., 0.],\n",
      "        [0., 0., 0., 0., 0., 0., 0., 0., 0., 0., 0., 0., 0., 0., 1., 0.],\n",
      "        [0., 0., 0., 0., 0., 0., 0., 0., 0., 0., 0., 0., 0., 0., 0., 1.],\n",
      "        [0., 0., 0., 0., 0., 0., 0., 0., 0., 0., 0., 0., 0., 0., 0., 0.],\n",
      "        [0., 0., 0., 1., 0., 0., 0., 0., 0., 1., 0., 0., 0., 0., 0., 0.],\n",
      "        [0., 0., 0., 1., 0., 0., 0., 0., 0., 0., 0., 0., 0., 0., 0., 1.],\n",
      "        [0., 0., 0., 0., 0., 0., 0., 0., 0., 0., 1., 0., 0., 0., 0., 0.],\n",
      "        [0., 0., 0., 0., 0., 0., 0., 0., 0., 1., 1., 0., 0., 0., 0., 1.],\n",
      "        [0., 0., 1., 0., 1., 0., 0., 0., 0., 0., 0., 0., 1., 0., 0., 1.],\n",
      "        [0., 0., 1., 0., 0., 0., 0., 0., 0., 0., 0., 0., 0., 0., 0., 1.],\n",
      "        [0., 0., 0., 0., 0., 0., 0., 0., 0., 1., 0., 0., 0., 0., 0., 0.],\n",
      "        [0., 0., 0., 1., 0., 0., 0., 0., 0., 0., 0., 0., 0., 0., 0., 0.],\n",
      "        [0., 0., 0., 1., 0., 0., 0., 0., 0., 0., 0., 0., 0., 0., 0., 0.],\n",
      "        [0., 0., 0., 1., 0., 0., 0., 0., 0., 0., 0., 0., 0., 0., 0., 1.],\n",
      "        [0., 0., 0., 0., 0., 0., 0., 0., 0., 0., 0., 0., 0., 0., 0., 0.]])\n"
     ]
    },
    {
     "name": "stderr",
     "output_type": "stream",
     "text": [
      "C:\\Users\\zoepr\\anaconda3\\envs\\decaf\\lib\\site-packages\\sklearn\\neural_network\\_multilayer_perceptron.py:617: ConvergenceWarning: Stochastic Optimizer: Maximum iterations (200) reached and the optimization hasn't converged yet.\n",
      "  % self.max_iter, ConvergenceWarning)\n"
     ]
    },
    {
     "name": "stdout",
     "output_type": "stream",
     "text": [
      "3\n",
      "[0.926605504587156, 0.8784530386740331, 0.8911174785100286, 0.9159159159159159, 0.9259259259259259, 0.9129129129129129, 0.9233128834355828, 0.9146341463414634, 0.9093655589123867, 0.9287925696594427, 0.8950437317784257, 0.9287925696594427, 0.9077380952380952, 0.9202453987730062, 0.9202453987730062, 0.9093655589123867, 0.9230769230769231, 0.9147058823529411, 0.9259259259259259, 0.863013698630137, 0.9230769230769231, 0.8677685950413223, 0.9230769230769231, 0.9093655589123867, 0.908256880733945, 0.9259259259259259, 0.9202453987730062, 0.9072463768115943, 0.893491124260355, 0.9181818181818182, 0.9202453987730062, 0.9146341463414634]\n",
      "[0.926605504587156, 0.8784530386740331, 0.8911174785100286, 0.9159159159159159, 0.9259259259259259, 0.9129129129129129, 0.9233128834355828, 0.9146341463414634, 0.9093655589123867, 0.9287925696594427, 0.8950437317784257, 0.9287925696594427, 0.9077380952380952, 0.9202453987730062, 0.9202453987730062, 0.9093655589123867, 0.9230769230769231, 0.9147058823529411, 0.9259259259259259, 0.863013698630137, 0.9230769230769231, 0.8677685950413223, 0.9230769230769231, 0.9093655589123867, 0.908256880733945, 0.9259259259259259, 0.9202453987730062, 0.9072463768115943, 0.893491124260355, 0.9181818181818182, 0.9202453987730062, 0.9146341463414634]\n"
     ]
    },
    {
     "name": "stderr",
     "output_type": "stream",
     "text": [
      "C:\\Users\\zoepr\\anaconda3\\envs\\decaf\\lib\\site-packages\\sklearn\\neural_network\\_multilayer_perceptron.py:617: ConvergenceWarning: Stochastic Optimizer: Maximum iterations (200) reached and the optimization hasn't converged yet.\n",
      "  % self.max_iter, ConvergenceWarning)\n"
     ]
    },
    {
     "name": "stdout",
     "output_type": "stream",
     "text": [
      "3\n"
     ]
    },
    {
     "name": "stderr",
     "output_type": "stream",
     "text": [
      "C:\\Users\\zoepr\\anaconda3\\envs\\decaf\\lib\\site-packages\\sklearn\\neural_network\\_multilayer_perceptron.py:617: ConvergenceWarning: Stochastic Optimizer: Maximum iterations (200) reached and the optimization hasn't converged yet.\n",
      "  % self.max_iter, ConvergenceWarning)\n"
     ]
    },
    {
     "name": "stdout",
     "output_type": "stream",
     "text": [
      "3\n",
      "precision done\n",
      "recall done\n",
      "auroc done\n",
      "ftu done\n",
      "dp done\n",
      "Initialised adjacency matrix as parsed:\n",
      " Parameter containing:\n",
      "tensor([[0., 0., 0., 0., 0., 0., 0., 0., 0., 0., 0., 0., 0., 0., 0., 0.],\n",
      "        [0., 0., 0., 0., 0., 0., 0., 1., 0., 0., 0., 0., 0., 0., 0., 0.],\n",
      "        [0., 0., 0., 0., 0., 0., 0., 0., 0., 0., 0., 0., 0., 0., 1., 0.],\n",
      "        [0., 0., 0., 0., 0., 0., 0., 0., 0., 0., 0., 0., 0., 0., 0., 1.],\n",
      "        [0., 0., 0., 0., 0., 0., 0., 0., 0., 0., 0., 0., 0., 0., 0., 0.],\n",
      "        [0., 0., 0., 1., 0., 0., 0., 0., 0., 1., 0., 0., 0., 0., 0., 0.],\n",
      "        [0., 0., 0., 1., 0., 0., 0., 0., 0., 0., 0., 0., 0., 0., 0., 1.],\n",
      "        [0., 0., 0., 0., 0., 0., 0., 0., 0., 0., 1., 0., 0., 0., 0., 0.],\n",
      "        [0., 0., 0., 0., 0., 0., 0., 0., 0., 1., 1., 0., 0., 0., 0., 1.],\n",
      "        [0., 0., 1., 0., 1., 0., 0., 0., 0., 0., 0., 0., 1., 0., 0., 1.],\n",
      "        [0., 0., 1., 0., 0., 0., 0., 0., 0., 0., 0., 0., 0., 0., 0., 1.],\n",
      "        [0., 0., 0., 0., 0., 0., 0., 0., 0., 1., 0., 0., 0., 0., 0., 0.],\n",
      "        [0., 0., 0., 1., 0., 0., 0., 0., 0., 0., 0., 0., 0., 0., 0., 0.],\n",
      "        [0., 0., 0., 1., 0., 0., 0., 0., 0., 0., 0., 0., 0., 0., 0., 0.],\n",
      "        [0., 0., 0., 1., 0., 0., 0., 0., 0., 0., 0., 0., 0., 0., 0., 1.],\n",
      "        [0., 0., 0., 0., 0., 0., 0., 0., 0., 0., 0., 0., 0., 0., 0., 0.]])\n"
     ]
    },
    {
     "name": "stderr",
     "output_type": "stream",
     "text": [
      "C:\\Users\\zoepr\\anaconda3\\envs\\decaf\\lib\\site-packages\\sklearn\\neural_network\\_multilayer_perceptron.py:617: ConvergenceWarning: Stochastic Optimizer: Maximum iterations (200) reached and the optimization hasn't converged yet.\n",
      "  % self.max_iter, ConvergenceWarning)\n"
     ]
    },
    {
     "name": "stdout",
     "output_type": "stream",
     "text": [
      "3\n",
      "[0.926605504587156, 0.8784530386740331, 0.8911174785100286, 0.9159159159159159, 0.9259259259259259, 0.9129129129129129, 0.9233128834355828, 0.9146341463414634, 0.9093655589123867, 0.9287925696594427, 0.8950437317784257, 0.9287925696594427, 0.9077380952380952, 0.9202453987730062, 0.9202453987730062, 0.9093655589123867, 0.9230769230769231, 0.9147058823529411, 0.9259259259259259, 0.863013698630137, 0.9230769230769231, 0.8677685950413223, 0.9230769230769231, 0.9093655589123867, 0.908256880733945, 0.9259259259259259, 0.9202453987730062, 0.9072463768115943, 0.893491124260355, 0.9181818181818182, 0.9202453987730062, 0.9146341463414634, 0.9316770186335404]\n",
      "[0.926605504587156, 0.8784530386740331, 0.8911174785100286, 0.9159159159159159, 0.9259259259259259, 0.9129129129129129, 0.9233128834355828, 0.9146341463414634, 0.9093655589123867, 0.9287925696594427, 0.8950437317784257, 0.9287925696594427, 0.9077380952380952, 0.9202453987730062, 0.9202453987730062, 0.9093655589123867, 0.9230769230769231, 0.9147058823529411, 0.9259259259259259, 0.863013698630137, 0.9230769230769231, 0.8677685950413223, 0.9230769230769231, 0.9093655589123867, 0.908256880733945, 0.9259259259259259, 0.9202453987730062, 0.9072463768115943, 0.893491124260355, 0.9181818181818182, 0.9202453987730062, 0.9146341463414634, 0.9316770186335404]\n"
     ]
    },
    {
     "name": "stderr",
     "output_type": "stream",
     "text": [
      "C:\\Users\\zoepr\\anaconda3\\envs\\decaf\\lib\\site-packages\\sklearn\\neural_network\\_multilayer_perceptron.py:617: ConvergenceWarning: Stochastic Optimizer: Maximum iterations (200) reached and the optimization hasn't converged yet.\n",
      "  % self.max_iter, ConvergenceWarning)\n"
     ]
    },
    {
     "name": "stdout",
     "output_type": "stream",
     "text": [
      "3\n"
     ]
    },
    {
     "name": "stderr",
     "output_type": "stream",
     "text": [
      "C:\\Users\\zoepr\\anaconda3\\envs\\decaf\\lib\\site-packages\\sklearn\\neural_network\\_multilayer_perceptron.py:617: ConvergenceWarning: Stochastic Optimizer: Maximum iterations (200) reached and the optimization hasn't converged yet.\n",
      "  % self.max_iter, ConvergenceWarning)\n"
     ]
    },
    {
     "name": "stdout",
     "output_type": "stream",
     "text": [
      "3\n",
      "precision done\n",
      "recall done\n",
      "auroc done\n",
      "ftu done\n",
      "dp done\n",
      "Initialised adjacency matrix as parsed:\n",
      " Parameter containing:\n",
      "tensor([[0., 0., 0., 0., 0., 0., 0., 0., 0., 0., 0., 0., 0., 0., 0., 0.],\n",
      "        [0., 0., 0., 0., 0., 0., 0., 1., 0., 0., 0., 0., 0., 0., 0., 0.],\n",
      "        [0., 0., 0., 0., 0., 0., 0., 0., 0., 0., 0., 0., 0., 0., 1., 0.],\n",
      "        [0., 0., 0., 0., 0., 0., 0., 0., 0., 0., 0., 0., 0., 0., 0., 1.],\n",
      "        [0., 0., 0., 0., 0., 0., 0., 0., 0., 0., 0., 0., 0., 0., 0., 0.],\n",
      "        [0., 0., 0., 1., 0., 0., 0., 0., 0., 1., 0., 0., 0., 0., 0., 0.],\n",
      "        [0., 0., 0., 1., 0., 0., 0., 0., 0., 0., 0., 0., 0., 0., 0., 1.],\n",
      "        [0., 0., 0., 0., 0., 0., 0., 0., 0., 0., 1., 0., 0., 0., 0., 0.],\n",
      "        [0., 0., 0., 0., 0., 0., 0., 0., 0., 1., 1., 0., 0., 0., 0., 1.],\n",
      "        [0., 0., 1., 0., 1., 0., 0., 0., 0., 0., 0., 0., 1., 0., 0., 1.],\n",
      "        [0., 0., 1., 0., 0., 0., 0., 0., 0., 0., 0., 0., 0., 0., 0., 1.],\n",
      "        [0., 0., 0., 0., 0., 0., 0., 0., 0., 1., 0., 0., 0., 0., 0., 0.],\n",
      "        [0., 0., 0., 1., 0., 0., 0., 0., 0., 0., 0., 0., 0., 0., 0., 0.],\n",
      "        [0., 0., 0., 1., 0., 0., 0., 0., 0., 0., 0., 0., 0., 0., 0., 0.],\n",
      "        [0., 0., 0., 1., 0., 0., 0., 0., 0., 0., 0., 0., 0., 0., 0., 1.],\n",
      "        [0., 0., 0., 0., 0., 0., 0., 0., 0., 0., 0., 0., 0., 0., 0., 0.]])\n"
     ]
    },
    {
     "name": "stderr",
     "output_type": "stream",
     "text": [
      "C:\\Users\\zoepr\\anaconda3\\envs\\decaf\\lib\\site-packages\\sklearn\\neural_network\\_multilayer_perceptron.py:617: ConvergenceWarning: Stochastic Optimizer: Maximum iterations (200) reached and the optimization hasn't converged yet.\n",
      "  % self.max_iter, ConvergenceWarning)\n"
     ]
    },
    {
     "name": "stdout",
     "output_type": "stream",
     "text": [
      "3\n",
      "[0.926605504587156, 0.8784530386740331, 0.8911174785100286, 0.9159159159159159, 0.9259259259259259, 0.9129129129129129, 0.9233128834355828, 0.9146341463414634, 0.9093655589123867, 0.9287925696594427, 0.8950437317784257, 0.9287925696594427, 0.9077380952380952, 0.9202453987730062, 0.9202453987730062, 0.9093655589123867, 0.9230769230769231, 0.9147058823529411, 0.9259259259259259, 0.863013698630137, 0.9230769230769231, 0.8677685950413223, 0.9230769230769231, 0.9093655589123867, 0.908256880733945, 0.9259259259259259, 0.9202453987730062, 0.9072463768115943, 0.893491124260355, 0.9181818181818182, 0.9202453987730062, 0.9146341463414634, 0.9316770186335404, 0.8924418604651163]\n",
      "[0.926605504587156, 0.8784530386740331, 0.8911174785100286, 0.9159159159159159, 0.9259259259259259, 0.9129129129129129, 0.9233128834355828, 0.9146341463414634, 0.9093655589123867, 0.9287925696594427, 0.8950437317784257, 0.9287925696594427, 0.9077380952380952, 0.9202453987730062, 0.9202453987730062, 0.9093655589123867, 0.9230769230769231, 0.9147058823529411, 0.9259259259259259, 0.863013698630137, 0.9230769230769231, 0.8677685950413223, 0.9230769230769231, 0.9093655589123867, 0.908256880733945, 0.9259259259259259, 0.9202453987730062, 0.9072463768115943, 0.893491124260355, 0.9181818181818182, 0.9202453987730062, 0.9146341463414634, 0.9316770186335404, 0.8924418604651163]\n"
     ]
    },
    {
     "name": "stderr",
     "output_type": "stream",
     "text": [
      "C:\\Users\\zoepr\\anaconda3\\envs\\decaf\\lib\\site-packages\\sklearn\\neural_network\\_multilayer_perceptron.py:617: ConvergenceWarning: Stochastic Optimizer: Maximum iterations (200) reached and the optimization hasn't converged yet.\n",
      "  % self.max_iter, ConvergenceWarning)\n"
     ]
    },
    {
     "name": "stdout",
     "output_type": "stream",
     "text": [
      "3\n"
     ]
    },
    {
     "name": "stderr",
     "output_type": "stream",
     "text": [
      "C:\\Users\\zoepr\\anaconda3\\envs\\decaf\\lib\\site-packages\\sklearn\\neural_network\\_multilayer_perceptron.py:617: ConvergenceWarning: Stochastic Optimizer: Maximum iterations (200) reached and the optimization hasn't converged yet.\n",
      "  % self.max_iter, ConvergenceWarning)\n"
     ]
    },
    {
     "name": "stdout",
     "output_type": "stream",
     "text": [
      "3\n",
      "precision done\n",
      "recall done\n",
      "auroc done\n",
      "ftu done\n",
      "dp done\n",
      "Initialised adjacency matrix as parsed:\n",
      " Parameter containing:\n",
      "tensor([[0., 0., 0., 0., 0., 0., 0., 0., 0., 0., 0., 0., 0., 0., 0., 0.],\n",
      "        [0., 0., 0., 0., 0., 0., 0., 1., 0., 0., 0., 0., 0., 0., 0., 0.],\n",
      "        [0., 0., 0., 0., 0., 0., 0., 0., 0., 0., 0., 0., 0., 0., 1., 0.],\n",
      "        [0., 0., 0., 0., 0., 0., 0., 0., 0., 0., 0., 0., 0., 0., 0., 1.],\n",
      "        [0., 0., 0., 0., 0., 0., 0., 0., 0., 0., 0., 0., 0., 0., 0., 0.],\n",
      "        [0., 0., 0., 1., 0., 0., 0., 0., 0., 1., 0., 0., 0., 0., 0., 0.],\n",
      "        [0., 0., 0., 1., 0., 0., 0., 0., 0., 0., 0., 0., 0., 0., 0., 1.],\n",
      "        [0., 0., 0., 0., 0., 0., 0., 0., 0., 0., 1., 0., 0., 0., 0., 0.],\n",
      "        [0., 0., 0., 0., 0., 0., 0., 0., 0., 1., 1., 0., 0., 0., 0., 1.],\n",
      "        [0., 0., 1., 0., 1., 0., 0., 0., 0., 0., 0., 0., 1., 0., 0., 1.],\n",
      "        [0., 0., 1., 0., 0., 0., 0., 0., 0., 0., 0., 0., 0., 0., 0., 1.],\n",
      "        [0., 0., 0., 0., 0., 0., 0., 0., 0., 1., 0., 0., 0., 0., 0., 0.],\n",
      "        [0., 0., 0., 1., 0., 0., 0., 0., 0., 0., 0., 0., 0., 0., 0., 0.],\n",
      "        [0., 0., 0., 1., 0., 0., 0., 0., 0., 0., 0., 0., 0., 0., 0., 0.],\n",
      "        [0., 0., 0., 1., 0., 0., 0., 0., 0., 0., 0., 0., 0., 0., 0., 1.],\n",
      "        [0., 0., 0., 0., 0., 0., 0., 0., 0., 0., 0., 0., 0., 0., 0., 0.]])\n"
     ]
    },
    {
     "name": "stderr",
     "output_type": "stream",
     "text": [
      "C:\\Users\\zoepr\\anaconda3\\envs\\decaf\\lib\\site-packages\\sklearn\\neural_network\\_multilayer_perceptron.py:617: ConvergenceWarning: Stochastic Optimizer: Maximum iterations (200) reached and the optimization hasn't converged yet.\n",
      "  % self.max_iter, ConvergenceWarning)\n"
     ]
    },
    {
     "name": "stdout",
     "output_type": "stream",
     "text": [
      "3\n",
      "[0.926605504587156, 0.8784530386740331, 0.8911174785100286, 0.9159159159159159, 0.9259259259259259, 0.9129129129129129, 0.9233128834355828, 0.9146341463414634, 0.9093655589123867, 0.9287925696594427, 0.8950437317784257, 0.9287925696594427, 0.9077380952380952, 0.9202453987730062, 0.9202453987730062, 0.9093655589123867, 0.9230769230769231, 0.9147058823529411, 0.9259259259259259, 0.863013698630137, 0.9230769230769231, 0.8677685950413223, 0.9230769230769231, 0.9093655589123867, 0.908256880733945, 0.9259259259259259, 0.9202453987730062, 0.9072463768115943, 0.893491124260355, 0.9181818181818182, 0.9202453987730062, 0.9146341463414634, 0.9316770186335404, 0.8924418604651163, 0.9230769230769231]\n",
      "[0.926605504587156, 0.8784530386740331, 0.8911174785100286, 0.9159159159159159, 0.9259259259259259, 0.9129129129129129, 0.9233128834355828, 0.9146341463414634, 0.9093655589123867, 0.9287925696594427, 0.8950437317784257, 0.9287925696594427, 0.9077380952380952, 0.9202453987730062, 0.9202453987730062, 0.9093655589123867, 0.9230769230769231, 0.9147058823529411, 0.9259259259259259, 0.863013698630137, 0.9230769230769231, 0.8677685950413223, 0.9230769230769231, 0.9093655589123867, 0.908256880733945, 0.9259259259259259, 0.9202453987730062, 0.9072463768115943, 0.893491124260355, 0.9181818181818182, 0.9202453987730062, 0.9146341463414634, 0.9316770186335404, 0.8924418604651163, 0.9230769230769231]\n"
     ]
    },
    {
     "name": "stderr",
     "output_type": "stream",
     "text": [
      "C:\\Users\\zoepr\\anaconda3\\envs\\decaf\\lib\\site-packages\\sklearn\\neural_network\\_multilayer_perceptron.py:617: ConvergenceWarning: Stochastic Optimizer: Maximum iterations (200) reached and the optimization hasn't converged yet.\n",
      "  % self.max_iter, ConvergenceWarning)\n"
     ]
    },
    {
     "name": "stdout",
     "output_type": "stream",
     "text": [
      "3\n"
     ]
    },
    {
     "name": "stderr",
     "output_type": "stream",
     "text": [
      "C:\\Users\\zoepr\\anaconda3\\envs\\decaf\\lib\\site-packages\\sklearn\\neural_network\\_multilayer_perceptron.py:617: ConvergenceWarning: Stochastic Optimizer: Maximum iterations (200) reached and the optimization hasn't converged yet.\n",
      "  % self.max_iter, ConvergenceWarning)\n"
     ]
    },
    {
     "name": "stdout",
     "output_type": "stream",
     "text": [
      "3\n",
      "precision done\n",
      "recall done\n",
      "auroc done\n",
      "ftu done\n",
      "dp done\n",
      "Initialised adjacency matrix as parsed:\n",
      " Parameter containing:\n",
      "tensor([[0., 0., 0., 0., 0., 0., 0., 0., 0., 0., 0., 0., 0., 0., 0., 0.],\n",
      "        [0., 0., 0., 0., 0., 0., 0., 1., 0., 0., 0., 0., 0., 0., 0., 0.],\n",
      "        [0., 0., 0., 0., 0., 0., 0., 0., 0., 0., 0., 0., 0., 0., 1., 0.],\n",
      "        [0., 0., 0., 0., 0., 0., 0., 0., 0., 0., 0., 0., 0., 0., 0., 1.],\n",
      "        [0., 0., 0., 0., 0., 0., 0., 0., 0., 0., 0., 0., 0., 0., 0., 0.],\n",
      "        [0., 0., 0., 1., 0., 0., 0., 0., 0., 1., 0., 0., 0., 0., 0., 0.],\n",
      "        [0., 0., 0., 1., 0., 0., 0., 0., 0., 0., 0., 0., 0., 0., 0., 1.],\n",
      "        [0., 0., 0., 0., 0., 0., 0., 0., 0., 0., 1., 0., 0., 0., 0., 0.],\n",
      "        [0., 0., 0., 0., 0., 0., 0., 0., 0., 1., 1., 0., 0., 0., 0., 1.],\n",
      "        [0., 0., 1., 0., 1., 0., 0., 0., 0., 0., 0., 0., 1., 0., 0., 1.],\n",
      "        [0., 0., 1., 0., 0., 0., 0., 0., 0., 0., 0., 0., 0., 0., 0., 1.],\n",
      "        [0., 0., 0., 0., 0., 0., 0., 0., 0., 1., 0., 0., 0., 0., 0., 0.],\n",
      "        [0., 0., 0., 1., 0., 0., 0., 0., 0., 0., 0., 0., 0., 0., 0., 0.],\n",
      "        [0., 0., 0., 1., 0., 0., 0., 0., 0., 0., 0., 0., 0., 0., 0., 0.],\n",
      "        [0., 0., 0., 1., 0., 0., 0., 0., 0., 0., 0., 0., 0., 0., 0., 1.],\n",
      "        [0., 0., 0., 0., 0., 0., 0., 0., 0., 0., 0., 0., 0., 0., 0., 0.]])\n"
     ]
    },
    {
     "name": "stderr",
     "output_type": "stream",
     "text": [
      "C:\\Users\\zoepr\\anaconda3\\envs\\decaf\\lib\\site-packages\\sklearn\\neural_network\\_multilayer_perceptron.py:617: ConvergenceWarning: Stochastic Optimizer: Maximum iterations (200) reached and the optimization hasn't converged yet.\n",
      "  % self.max_iter, ConvergenceWarning)\n"
     ]
    },
    {
     "name": "stdout",
     "output_type": "stream",
     "text": [
      "3\n",
      "[0.926605504587156, 0.8784530386740331, 0.8911174785100286, 0.9159159159159159, 0.9259259259259259, 0.9129129129129129, 0.9233128834355828, 0.9146341463414634, 0.9093655589123867, 0.9287925696594427, 0.8950437317784257, 0.9287925696594427, 0.9077380952380952, 0.9202453987730062, 0.9202453987730062, 0.9093655589123867, 0.9230769230769231, 0.9147058823529411, 0.9259259259259259, 0.863013698630137, 0.9230769230769231, 0.8677685950413223, 0.9230769230769231, 0.9093655589123867, 0.908256880733945, 0.9259259259259259, 0.9202453987730062, 0.9072463768115943, 0.893491124260355, 0.9181818181818182, 0.9202453987730062, 0.9146341463414634, 0.9316770186335404, 0.8924418604651163, 0.9230769230769231, 0.9230769230769231]\n",
      "[0.926605504587156, 0.8784530386740331, 0.8911174785100286, 0.9159159159159159, 0.9259259259259259, 0.9129129129129129, 0.9233128834355828, 0.9146341463414634, 0.9093655589123867, 0.9287925696594427, 0.8950437317784257, 0.9287925696594427, 0.9077380952380952, 0.9202453987730062, 0.9202453987730062, 0.9093655589123867, 0.9230769230769231, 0.9147058823529411, 0.9259259259259259, 0.863013698630137, 0.9230769230769231, 0.8677685950413223, 0.9230769230769231, 0.9093655589123867, 0.908256880733945, 0.9259259259259259, 0.9202453987730062, 0.9072463768115943, 0.893491124260355, 0.9181818181818182, 0.9202453987730062, 0.9146341463414634, 0.9316770186335404, 0.8924418604651163, 0.9230769230769231, 0.9230769230769231]\n"
     ]
    },
    {
     "name": "stderr",
     "output_type": "stream",
     "text": [
      "C:\\Users\\zoepr\\anaconda3\\envs\\decaf\\lib\\site-packages\\sklearn\\neural_network\\_multilayer_perceptron.py:617: ConvergenceWarning: Stochastic Optimizer: Maximum iterations (200) reached and the optimization hasn't converged yet.\n",
      "  % self.max_iter, ConvergenceWarning)\n"
     ]
    },
    {
     "name": "stdout",
     "output_type": "stream",
     "text": [
      "3\n"
     ]
    },
    {
     "name": "stderr",
     "output_type": "stream",
     "text": [
      "C:\\Users\\zoepr\\anaconda3\\envs\\decaf\\lib\\site-packages\\sklearn\\neural_network\\_multilayer_perceptron.py:617: ConvergenceWarning: Stochastic Optimizer: Maximum iterations (200) reached and the optimization hasn't converged yet.\n",
      "  % self.max_iter, ConvergenceWarning)\n"
     ]
    },
    {
     "name": "stdout",
     "output_type": "stream",
     "text": [
      "3\n",
      "precision done\n",
      "recall done\n",
      "auroc done\n",
      "ftu done\n",
      "dp done\n",
      "Initialised adjacency matrix as parsed:\n",
      " Parameter containing:\n",
      "tensor([[0., 0., 0., 0., 0., 0., 0., 0., 0., 0., 0., 0., 0., 0., 0., 0.],\n",
      "        [0., 0., 0., 0., 0., 0., 0., 1., 0., 0., 0., 0., 0., 0., 0., 0.],\n",
      "        [0., 0., 0., 0., 0., 0., 0., 0., 0., 0., 0., 0., 0., 0., 1., 0.],\n",
      "        [0., 0., 0., 0., 0., 0., 0., 0., 0., 0., 0., 0., 0., 0., 0., 1.],\n",
      "        [0., 0., 0., 0., 0., 0., 0., 0., 0., 0., 0., 0., 0., 0., 0., 0.],\n",
      "        [0., 0., 0., 1., 0., 0., 0., 0., 0., 1., 0., 0., 0., 0., 0., 0.],\n",
      "        [0., 0., 0., 1., 0., 0., 0., 0., 0., 0., 0., 0., 0., 0., 0., 1.],\n",
      "        [0., 0., 0., 0., 0., 0., 0., 0., 0., 0., 1., 0., 0., 0., 0., 0.],\n",
      "        [0., 0., 0., 0., 0., 0., 0., 0., 0., 1., 1., 0., 0., 0., 0., 1.],\n",
      "        [0., 0., 1., 0., 1., 0., 0., 0., 0., 0., 0., 0., 1., 0., 0., 1.],\n",
      "        [0., 0., 1., 0., 0., 0., 0., 0., 0., 0., 0., 0., 0., 0., 0., 1.],\n",
      "        [0., 0., 0., 0., 0., 0., 0., 0., 0., 1., 0., 0., 0., 0., 0., 0.],\n",
      "        [0., 0., 0., 1., 0., 0., 0., 0., 0., 0., 0., 0., 0., 0., 0., 0.],\n",
      "        [0., 0., 0., 1., 0., 0., 0., 0., 0., 0., 0., 0., 0., 0., 0., 0.],\n",
      "        [0., 0., 0., 1., 0., 0., 0., 0., 0., 0., 0., 0., 0., 0., 0., 1.],\n",
      "        [0., 0., 0., 0., 0., 0., 0., 0., 0., 0., 0., 0., 0., 0., 0., 0.]])\n"
     ]
    },
    {
     "name": "stderr",
     "output_type": "stream",
     "text": [
      "C:\\Users\\zoepr\\anaconda3\\envs\\decaf\\lib\\site-packages\\sklearn\\neural_network\\_multilayer_perceptron.py:617: ConvergenceWarning: Stochastic Optimizer: Maximum iterations (200) reached and the optimization hasn't converged yet.\n",
      "  % self.max_iter, ConvergenceWarning)\n"
     ]
    },
    {
     "name": "stdout",
     "output_type": "stream",
     "text": [
      "3\n",
      "[0.926605504587156, 0.8784530386740331, 0.8911174785100286, 0.9159159159159159, 0.9259259259259259, 0.9129129129129129, 0.9233128834355828, 0.9146341463414634, 0.9093655589123867, 0.9287925696594427, 0.8950437317784257, 0.9287925696594427, 0.9077380952380952, 0.9202453987730062, 0.9202453987730062, 0.9093655589123867, 0.9230769230769231, 0.9147058823529411, 0.9259259259259259, 0.863013698630137, 0.9230769230769231, 0.8677685950413223, 0.9230769230769231, 0.9093655589123867, 0.908256880733945, 0.9259259259259259, 0.9202453987730062, 0.9072463768115943, 0.893491124260355, 0.9181818181818182, 0.9202453987730062, 0.9146341463414634, 0.9316770186335404, 0.8924418604651163, 0.9230769230769231, 0.9230769230769231, 0.9129129129129129]\n",
      "[0.926605504587156, 0.8784530386740331, 0.8911174785100286, 0.9159159159159159, 0.9259259259259259, 0.9129129129129129, 0.9233128834355828, 0.9146341463414634, 0.9093655589123867, 0.9287925696594427, 0.8950437317784257, 0.9287925696594427, 0.9077380952380952, 0.9202453987730062, 0.9202453987730062, 0.9093655589123867, 0.9230769230769231, 0.9147058823529411, 0.9259259259259259, 0.863013698630137, 0.9230769230769231, 0.8677685950413223, 0.9230769230769231, 0.9093655589123867, 0.908256880733945, 0.9259259259259259, 0.9202453987730062, 0.9072463768115943, 0.893491124260355, 0.9181818181818182, 0.9202453987730062, 0.9146341463414634, 0.9316770186335404, 0.8924418604651163, 0.9230769230769231, 0.9230769230769231, 0.9129129129129129]\n"
     ]
    },
    {
     "name": "stderr",
     "output_type": "stream",
     "text": [
      "C:\\Users\\zoepr\\anaconda3\\envs\\decaf\\lib\\site-packages\\sklearn\\neural_network\\_multilayer_perceptron.py:617: ConvergenceWarning: Stochastic Optimizer: Maximum iterations (200) reached and the optimization hasn't converged yet.\n",
      "  % self.max_iter, ConvergenceWarning)\n"
     ]
    },
    {
     "name": "stdout",
     "output_type": "stream",
     "text": [
      "3\n"
     ]
    },
    {
     "name": "stderr",
     "output_type": "stream",
     "text": [
      "C:\\Users\\zoepr\\anaconda3\\envs\\decaf\\lib\\site-packages\\sklearn\\neural_network\\_multilayer_perceptron.py:617: ConvergenceWarning: Stochastic Optimizer: Maximum iterations (200) reached and the optimization hasn't converged yet.\n",
      "  % self.max_iter, ConvergenceWarning)\n"
     ]
    },
    {
     "name": "stdout",
     "output_type": "stream",
     "text": [
      "3\n",
      "precision done\n",
      "recall done\n",
      "auroc done\n",
      "ftu done\n",
      "dp done\n",
      "Initialised adjacency matrix as parsed:\n",
      " Parameter containing:\n",
      "tensor([[0., 0., 0., 0., 0., 0., 0., 0., 0., 0., 0., 0., 0., 0., 0., 0.],\n",
      "        [0., 0., 0., 0., 0., 0., 0., 1., 0., 0., 0., 0., 0., 0., 0., 0.],\n",
      "        [0., 0., 0., 0., 0., 0., 0., 0., 0., 0., 0., 0., 0., 0., 1., 0.],\n",
      "        [0., 0., 0., 0., 0., 0., 0., 0., 0., 0., 0., 0., 0., 0., 0., 1.],\n",
      "        [0., 0., 0., 0., 0., 0., 0., 0., 0., 0., 0., 0., 0., 0., 0., 0.],\n",
      "        [0., 0., 0., 1., 0., 0., 0., 0., 0., 1., 0., 0., 0., 0., 0., 0.],\n",
      "        [0., 0., 0., 1., 0., 0., 0., 0., 0., 0., 0., 0., 0., 0., 0., 1.],\n",
      "        [0., 0., 0., 0., 0., 0., 0., 0., 0., 0., 1., 0., 0., 0., 0., 0.],\n",
      "        [0., 0., 0., 0., 0., 0., 0., 0., 0., 1., 1., 0., 0., 0., 0., 1.],\n",
      "        [0., 0., 1., 0., 1., 0., 0., 0., 0., 0., 0., 0., 1., 0., 0., 1.],\n",
      "        [0., 0., 1., 0., 0., 0., 0., 0., 0., 0., 0., 0., 0., 0., 0., 1.],\n",
      "        [0., 0., 0., 0., 0., 0., 0., 0., 0., 1., 0., 0., 0., 0., 0., 0.],\n",
      "        [0., 0., 0., 1., 0., 0., 0., 0., 0., 0., 0., 0., 0., 0., 0., 0.],\n",
      "        [0., 0., 0., 1., 0., 0., 0., 0., 0., 0., 0., 0., 0., 0., 0., 0.],\n",
      "        [0., 0., 0., 1., 0., 0., 0., 0., 0., 0., 0., 0., 0., 0., 0., 1.],\n",
      "        [0., 0., 0., 0., 0., 0., 0., 0., 0., 0., 0., 0., 0., 0., 0., 0.]])\n"
     ]
    },
    {
     "name": "stderr",
     "output_type": "stream",
     "text": [
      "C:\\Users\\zoepr\\anaconda3\\envs\\decaf\\lib\\site-packages\\sklearn\\neural_network\\_multilayer_perceptron.py:617: ConvergenceWarning: Stochastic Optimizer: Maximum iterations (200) reached and the optimization hasn't converged yet.\n",
      "  % self.max_iter, ConvergenceWarning)\n"
     ]
    },
    {
     "name": "stdout",
     "output_type": "stream",
     "text": [
      "3\n",
      "[0.926605504587156, 0.8784530386740331, 0.8911174785100286, 0.9159159159159159, 0.9259259259259259, 0.9129129129129129, 0.9233128834355828, 0.9146341463414634, 0.9093655589123867, 0.9287925696594427, 0.8950437317784257, 0.9287925696594427, 0.9077380952380952, 0.9202453987730062, 0.9202453987730062, 0.9093655589123867, 0.9230769230769231, 0.9147058823529411, 0.9259259259259259, 0.863013698630137, 0.9230769230769231, 0.8677685950413223, 0.9230769230769231, 0.9093655589123867, 0.908256880733945, 0.9259259259259259, 0.9202453987730062, 0.9072463768115943, 0.893491124260355, 0.9181818181818182, 0.9202453987730062, 0.9146341463414634, 0.9316770186335404, 0.8924418604651163, 0.9230769230769231, 0.9230769230769231, 0.9129129129129129, 0.9316770186335404]\n",
      "[0.926605504587156, 0.8784530386740331, 0.8911174785100286, 0.9159159159159159, 0.9259259259259259, 0.9129129129129129, 0.9233128834355828, 0.9146341463414634, 0.9093655589123867, 0.9287925696594427, 0.8950437317784257, 0.9287925696594427, 0.9077380952380952, 0.9202453987730062, 0.9202453987730062, 0.9093655589123867, 0.9230769230769231, 0.9147058823529411, 0.9259259259259259, 0.863013698630137, 0.9230769230769231, 0.8677685950413223, 0.9230769230769231, 0.9093655589123867, 0.908256880733945, 0.9259259259259259, 0.9202453987730062, 0.9072463768115943, 0.893491124260355, 0.9181818181818182, 0.9202453987730062, 0.9146341463414634, 0.9316770186335404, 0.8924418604651163, 0.9230769230769231, 0.9230769230769231, 0.9129129129129129, 0.9316770186335404]\n"
     ]
    },
    {
     "name": "stderr",
     "output_type": "stream",
     "text": [
      "C:\\Users\\zoepr\\anaconda3\\envs\\decaf\\lib\\site-packages\\sklearn\\neural_network\\_multilayer_perceptron.py:617: ConvergenceWarning: Stochastic Optimizer: Maximum iterations (200) reached and the optimization hasn't converged yet.\n",
      "  % self.max_iter, ConvergenceWarning)\n"
     ]
    },
    {
     "name": "stdout",
     "output_type": "stream",
     "text": [
      "3\n"
     ]
    },
    {
     "name": "stderr",
     "output_type": "stream",
     "text": [
      "C:\\Users\\zoepr\\anaconda3\\envs\\decaf\\lib\\site-packages\\sklearn\\neural_network\\_multilayer_perceptron.py:617: ConvergenceWarning: Stochastic Optimizer: Maximum iterations (200) reached and the optimization hasn't converged yet.\n",
      "  % self.max_iter, ConvergenceWarning)\n"
     ]
    },
    {
     "name": "stdout",
     "output_type": "stream",
     "text": [
      "3\n",
      "precision done\n",
      "recall done\n",
      "auroc done\n",
      "ftu done\n",
      "dp done\n",
      "Initialised adjacency matrix as parsed:\n",
      " Parameter containing:\n",
      "tensor([[0., 0., 0., 0., 0., 0., 0., 0., 0., 0., 0., 0., 0., 0., 0., 0.],\n",
      "        [0., 0., 0., 0., 0., 0., 0., 1., 0., 0., 0., 0., 0., 0., 0., 0.],\n",
      "        [0., 0., 0., 0., 0., 0., 0., 0., 0., 0., 0., 0., 0., 0., 1., 0.],\n",
      "        [0., 0., 0., 0., 0., 0., 0., 0., 0., 0., 0., 0., 0., 0., 0., 1.],\n",
      "        [0., 0., 0., 0., 0., 0., 0., 0., 0., 0., 0., 0., 0., 0., 0., 0.],\n",
      "        [0., 0., 0., 1., 0., 0., 0., 0., 0., 1., 0., 0., 0., 0., 0., 0.],\n",
      "        [0., 0., 0., 1., 0., 0., 0., 0., 0., 0., 0., 0., 0., 0., 0., 1.],\n",
      "        [0., 0., 0., 0., 0., 0., 0., 0., 0., 0., 1., 0., 0., 0., 0., 0.],\n",
      "        [0., 0., 0., 0., 0., 0., 0., 0., 0., 1., 1., 0., 0., 0., 0., 1.],\n",
      "        [0., 0., 1., 0., 1., 0., 0., 0., 0., 0., 0., 0., 1., 0., 0., 1.],\n",
      "        [0., 0., 1., 0., 0., 0., 0., 0., 0., 0., 0., 0., 0., 0., 0., 1.],\n",
      "        [0., 0., 0., 0., 0., 0., 0., 0., 0., 1., 0., 0., 0., 0., 0., 0.],\n",
      "        [0., 0., 0., 1., 0., 0., 0., 0., 0., 0., 0., 0., 0., 0., 0., 0.],\n",
      "        [0., 0., 0., 1., 0., 0., 0., 0., 0., 0., 0., 0., 0., 0., 0., 0.],\n",
      "        [0., 0., 0., 1., 0., 0., 0., 0., 0., 0., 0., 0., 0., 0., 0., 1.],\n",
      "        [0., 0., 0., 0., 0., 0., 0., 0., 0., 0., 0., 0., 0., 0., 0., 0.]])\n"
     ]
    },
    {
     "name": "stderr",
     "output_type": "stream",
     "text": [
      "C:\\Users\\zoepr\\anaconda3\\envs\\decaf\\lib\\site-packages\\sklearn\\neural_network\\_multilayer_perceptron.py:617: ConvergenceWarning: Stochastic Optimizer: Maximum iterations (200) reached and the optimization hasn't converged yet.\n",
      "  % self.max_iter, ConvergenceWarning)\n"
     ]
    },
    {
     "name": "stdout",
     "output_type": "stream",
     "text": [
      "3\n",
      "[0.926605504587156, 0.8784530386740331, 0.8911174785100286, 0.9159159159159159, 0.9259259259259259, 0.9129129129129129, 0.9233128834355828, 0.9146341463414634, 0.9093655589123867, 0.9287925696594427, 0.8950437317784257, 0.9287925696594427, 0.9077380952380952, 0.9202453987730062, 0.9202453987730062, 0.9093655589123867, 0.9230769230769231, 0.9147058823529411, 0.9259259259259259, 0.863013698630137, 0.9230769230769231, 0.8677685950413223, 0.9230769230769231, 0.9093655589123867, 0.908256880733945, 0.9259259259259259, 0.9202453987730062, 0.9072463768115943, 0.893491124260355, 0.9181818181818182, 0.9202453987730062, 0.9146341463414634, 0.9316770186335404, 0.8924418604651163, 0.9230769230769231, 0.9230769230769231, 0.9129129129129129, 0.9316770186335404, 0.9207317073170732]\n",
      "[0.926605504587156, 0.8784530386740331, 0.8911174785100286, 0.9159159159159159, 0.9259259259259259, 0.9129129129129129, 0.9233128834355828, 0.9146341463414634, 0.9093655589123867, 0.9287925696594427, 0.8950437317784257, 0.9287925696594427, 0.9077380952380952, 0.9202453987730062, 0.9202453987730062, 0.9093655589123867, 0.9230769230769231, 0.9147058823529411, 0.9259259259259259, 0.863013698630137, 0.9230769230769231, 0.8677685950413223, 0.9230769230769231, 0.9093655589123867, 0.908256880733945, 0.9259259259259259, 0.9202453987730062, 0.9072463768115943, 0.893491124260355, 0.9181818181818182, 0.9202453987730062, 0.9146341463414634, 0.9316770186335404, 0.8924418604651163, 0.9230769230769231, 0.9230769230769231, 0.9129129129129129, 0.9316770186335404, 0.9207317073170732]\n"
     ]
    },
    {
     "name": "stderr",
     "output_type": "stream",
     "text": [
      "C:\\Users\\zoepr\\anaconda3\\envs\\decaf\\lib\\site-packages\\sklearn\\neural_network\\_multilayer_perceptron.py:617: ConvergenceWarning: Stochastic Optimizer: Maximum iterations (200) reached and the optimization hasn't converged yet.\n",
      "  % self.max_iter, ConvergenceWarning)\n"
     ]
    },
    {
     "name": "stdout",
     "output_type": "stream",
     "text": [
      "3\n"
     ]
    },
    {
     "name": "stderr",
     "output_type": "stream",
     "text": [
      "C:\\Users\\zoepr\\anaconda3\\envs\\decaf\\lib\\site-packages\\sklearn\\neural_network\\_multilayer_perceptron.py:617: ConvergenceWarning: Stochastic Optimizer: Maximum iterations (200) reached and the optimization hasn't converged yet.\n",
      "  % self.max_iter, ConvergenceWarning)\n"
     ]
    },
    {
     "name": "stdout",
     "output_type": "stream",
     "text": [
      "3\n",
      "precision done\n",
      "recall done\n",
      "auroc done\n",
      "ftu done\n",
      "dp done\n",
      "Initialised adjacency matrix as parsed:\n",
      " Parameter containing:\n",
      "tensor([[0., 0., 0., 0., 0., 0., 0., 0., 0., 0., 0., 0., 0., 0., 0., 0.],\n",
      "        [0., 0., 0., 0., 0., 0., 0., 1., 0., 0., 0., 0., 0., 0., 0., 0.],\n",
      "        [0., 0., 0., 0., 0., 0., 0., 0., 0., 0., 0., 0., 0., 0., 1., 0.],\n",
      "        [0., 0., 0., 0., 0., 0., 0., 0., 0., 0., 0., 0., 0., 0., 0., 1.],\n",
      "        [0., 0., 0., 0., 0., 0., 0., 0., 0., 0., 0., 0., 0., 0., 0., 0.],\n",
      "        [0., 0., 0., 1., 0., 0., 0., 0., 0., 1., 0., 0., 0., 0., 0., 0.],\n",
      "        [0., 0., 0., 1., 0., 0., 0., 0., 0., 0., 0., 0., 0., 0., 0., 1.],\n",
      "        [0., 0., 0., 0., 0., 0., 0., 0., 0., 0., 1., 0., 0., 0., 0., 0.],\n",
      "        [0., 0., 0., 0., 0., 0., 0., 0., 0., 1., 1., 0., 0., 0., 0., 1.],\n",
      "        [0., 0., 1., 0., 1., 0., 0., 0., 0., 0., 0., 0., 1., 0., 0., 1.],\n",
      "        [0., 0., 1., 0., 0., 0., 0., 0., 0., 0., 0., 0., 0., 0., 0., 1.],\n",
      "        [0., 0., 0., 0., 0., 0., 0., 0., 0., 1., 0., 0., 0., 0., 0., 0.],\n",
      "        [0., 0., 0., 1., 0., 0., 0., 0., 0., 0., 0., 0., 0., 0., 0., 0.],\n",
      "        [0., 0., 0., 1., 0., 0., 0., 0., 0., 0., 0., 0., 0., 0., 0., 0.],\n",
      "        [0., 0., 0., 1., 0., 0., 0., 0., 0., 0., 0., 0., 0., 0., 0., 1.],\n",
      "        [0., 0., 0., 0., 0., 0., 0., 0., 0., 0., 0., 0., 0., 0., 0., 0.]])\n"
     ]
    },
    {
     "name": "stderr",
     "output_type": "stream",
     "text": [
      "C:\\Users\\zoepr\\anaconda3\\envs\\decaf\\lib\\site-packages\\sklearn\\neural_network\\_multilayer_perceptron.py:617: ConvergenceWarning: Stochastic Optimizer: Maximum iterations (200) reached and the optimization hasn't converged yet.\n",
      "  % self.max_iter, ConvergenceWarning)\n"
     ]
    },
    {
     "name": "stdout",
     "output_type": "stream",
     "text": [
      "4\n",
      "[0.926605504587156, 0.8784530386740331, 0.8911174785100286, 0.9159159159159159, 0.9259259259259259, 0.9129129129129129, 0.9233128834355828, 0.9146341463414634, 0.9093655589123867, 0.9287925696594427, 0.8950437317784257, 0.9287925696594427, 0.9077380952380952, 0.9202453987730062, 0.9202453987730062, 0.9093655589123867, 0.9230769230769231, 0.9147058823529411, 0.9259259259259259, 0.863013698630137, 0.9230769230769231, 0.8677685950413223, 0.9230769230769231, 0.9093655589123867, 0.908256880733945, 0.9259259259259259, 0.9202453987730062, 0.9072463768115943, 0.893491124260355, 0.9181818181818182, 0.9202453987730062, 0.9146341463414634, 0.9316770186335404, 0.8924418604651163, 0.9230769230769231, 0.9230769230769231, 0.9129129129129129, 0.9316770186335404, 0.9207317073170732, 0.8739495798319328]\n",
      "[0.926605504587156, 0.8784530386740331, 0.8911174785100286, 0.9159159159159159, 0.9259259259259259, 0.9129129129129129, 0.9233128834355828, 0.9146341463414634, 0.9093655589123867, 0.9287925696594427, 0.8950437317784257, 0.9287925696594427, 0.9077380952380952, 0.9202453987730062, 0.9202453987730062, 0.9093655589123867, 0.9230769230769231, 0.9147058823529411, 0.9259259259259259, 0.863013698630137, 0.9230769230769231, 0.8677685950413223, 0.9230769230769231, 0.9093655589123867, 0.908256880733945, 0.9259259259259259, 0.9202453987730062, 0.9072463768115943, 0.893491124260355, 0.9181818181818182, 0.9202453987730062, 0.9146341463414634, 0.9316770186335404, 0.8924418604651163, 0.9230769230769231, 0.9230769230769231, 0.9129129129129129, 0.9316770186335404, 0.9207317073170732, 0.8739495798319328]\n"
     ]
    },
    {
     "name": "stderr",
     "output_type": "stream",
     "text": [
      "C:\\Users\\zoepr\\anaconda3\\envs\\decaf\\lib\\site-packages\\sklearn\\neural_network\\_multilayer_perceptron.py:617: ConvergenceWarning: Stochastic Optimizer: Maximum iterations (200) reached and the optimization hasn't converged yet.\n",
      "  % self.max_iter, ConvergenceWarning)\n"
     ]
    },
    {
     "name": "stdout",
     "output_type": "stream",
     "text": [
      "4\n"
     ]
    },
    {
     "name": "stderr",
     "output_type": "stream",
     "text": [
      "C:\\Users\\zoepr\\anaconda3\\envs\\decaf\\lib\\site-packages\\sklearn\\neural_network\\_multilayer_perceptron.py:617: ConvergenceWarning: Stochastic Optimizer: Maximum iterations (200) reached and the optimization hasn't converged yet.\n",
      "  % self.max_iter, ConvergenceWarning)\n"
     ]
    },
    {
     "name": "stdout",
     "output_type": "stream",
     "text": [
      "4\n",
      "precision done\n",
      "recall done\n",
      "auroc done\n",
      "ftu done\n",
      "dp done\n",
      "Initialised adjacency matrix as parsed:\n",
      " Parameter containing:\n",
      "tensor([[0., 0., 0., 0., 0., 0., 0., 0., 0., 0., 0., 0., 0., 0., 0., 0.],\n",
      "        [0., 0., 0., 0., 0., 0., 0., 1., 0., 0., 0., 0., 0., 0., 0., 0.],\n",
      "        [0., 0., 0., 0., 0., 0., 0., 0., 0., 0., 0., 0., 0., 0., 1., 0.],\n",
      "        [0., 0., 0., 0., 0., 0., 0., 0., 0., 0., 0., 0., 0., 0., 0., 1.],\n",
      "        [0., 0., 0., 0., 0., 0., 0., 0., 0., 0., 0., 0., 0., 0., 0., 0.],\n",
      "        [0., 0., 0., 1., 0., 0., 0., 0., 0., 1., 0., 0., 0., 0., 0., 0.],\n",
      "        [0., 0., 0., 1., 0., 0., 0., 0., 0., 0., 0., 0., 0., 0., 0., 1.],\n",
      "        [0., 0., 0., 0., 0., 0., 0., 0., 0., 0., 1., 0., 0., 0., 0., 0.],\n",
      "        [0., 0., 0., 0., 0., 0., 0., 0., 0., 1., 1., 0., 0., 0., 0., 1.],\n",
      "        [0., 0., 1., 0., 1., 0., 0., 0., 0., 0., 0., 0., 1., 0., 0., 1.],\n",
      "        [0., 0., 1., 0., 0., 0., 0., 0., 0., 0., 0., 0., 0., 0., 0., 1.],\n",
      "        [0., 0., 0., 0., 0., 0., 0., 0., 0., 1., 0., 0., 0., 0., 0., 0.],\n",
      "        [0., 0., 0., 1., 0., 0., 0., 0., 0., 0., 0., 0., 0., 0., 0., 0.],\n",
      "        [0., 0., 0., 1., 0., 0., 0., 0., 0., 0., 0., 0., 0., 0., 0., 0.],\n",
      "        [0., 0., 0., 1., 0., 0., 0., 0., 0., 0., 0., 0., 0., 0., 0., 1.],\n",
      "        [0., 0., 0., 0., 0., 0., 0., 0., 0., 0., 0., 0., 0., 0., 0., 0.]])\n"
     ]
    },
    {
     "name": "stderr",
     "output_type": "stream",
     "text": [
      "C:\\Users\\zoepr\\anaconda3\\envs\\decaf\\lib\\site-packages\\sklearn\\neural_network\\_multilayer_perceptron.py:617: ConvergenceWarning: Stochastic Optimizer: Maximum iterations (200) reached and the optimization hasn't converged yet.\n",
      "  % self.max_iter, ConvergenceWarning)\n"
     ]
    },
    {
     "name": "stdout",
     "output_type": "stream",
     "text": [
      "4\n",
      "[0.926605504587156, 0.8784530386740331, 0.8911174785100286, 0.9159159159159159, 0.9259259259259259, 0.9129129129129129, 0.9233128834355828, 0.9146341463414634, 0.9093655589123867, 0.9287925696594427, 0.8950437317784257, 0.9287925696594427, 0.9077380952380952, 0.9202453987730062, 0.9202453987730062, 0.9093655589123867, 0.9230769230769231, 0.9147058823529411, 0.9259259259259259, 0.863013698630137, 0.9230769230769231, 0.8677685950413223, 0.9230769230769231, 0.9093655589123867, 0.908256880733945, 0.9259259259259259, 0.9202453987730062, 0.9072463768115943, 0.893491124260355, 0.9181818181818182, 0.9202453987730062, 0.9146341463414634, 0.9316770186335404, 0.8924418604651163, 0.9230769230769231, 0.9230769230769231, 0.9129129129129129, 0.9316770186335404, 0.9207317073170732, 0.8739495798319328, 0.9259259259259259]\n",
      "[0.926605504587156, 0.8784530386740331, 0.8911174785100286, 0.9159159159159159, 0.9259259259259259, 0.9129129129129129, 0.9233128834355828, 0.9146341463414634, 0.9093655589123867, 0.9287925696594427, 0.8950437317784257, 0.9287925696594427, 0.9077380952380952, 0.9202453987730062, 0.9202453987730062, 0.9093655589123867, 0.9230769230769231, 0.9147058823529411, 0.9259259259259259, 0.863013698630137, 0.9230769230769231, 0.8677685950413223, 0.9230769230769231, 0.9093655589123867, 0.908256880733945, 0.9259259259259259, 0.9202453987730062, 0.9072463768115943, 0.893491124260355, 0.9181818181818182, 0.9202453987730062, 0.9146341463414634, 0.9316770186335404, 0.8924418604651163, 0.9230769230769231, 0.9230769230769231, 0.9129129129129129, 0.9316770186335404, 0.9207317073170732, 0.8739495798319328, 0.9259259259259259]\n"
     ]
    },
    {
     "name": "stderr",
     "output_type": "stream",
     "text": [
      "C:\\Users\\zoepr\\anaconda3\\envs\\decaf\\lib\\site-packages\\sklearn\\neural_network\\_multilayer_perceptron.py:617: ConvergenceWarning: Stochastic Optimizer: Maximum iterations (200) reached and the optimization hasn't converged yet.\n",
      "  % self.max_iter, ConvergenceWarning)\n"
     ]
    },
    {
     "name": "stdout",
     "output_type": "stream",
     "text": [
      "4\n"
     ]
    },
    {
     "name": "stderr",
     "output_type": "stream",
     "text": [
      "C:\\Users\\zoepr\\anaconda3\\envs\\decaf\\lib\\site-packages\\sklearn\\neural_network\\_multilayer_perceptron.py:617: ConvergenceWarning: Stochastic Optimizer: Maximum iterations (200) reached and the optimization hasn't converged yet.\n",
      "  % self.max_iter, ConvergenceWarning)\n"
     ]
    },
    {
     "name": "stdout",
     "output_type": "stream",
     "text": [
      "4\n",
      "precision done\n",
      "recall done\n",
      "auroc done\n",
      "ftu done\n",
      "dp done\n",
      "Initialised adjacency matrix as parsed:\n",
      " Parameter containing:\n",
      "tensor([[0., 0., 0., 0., 0., 0., 0., 0., 0., 0., 0., 0., 0., 0., 0., 0.],\n",
      "        [0., 0., 0., 0., 0., 0., 0., 1., 0., 0., 0., 0., 0., 0., 0., 0.],\n",
      "        [0., 0., 0., 0., 0., 0., 0., 0., 0., 0., 0., 0., 0., 0., 1., 0.],\n",
      "        [0., 0., 0., 0., 0., 0., 0., 0., 0., 0., 0., 0., 0., 0., 0., 1.],\n",
      "        [0., 0., 0., 0., 0., 0., 0., 0., 0., 0., 0., 0., 0., 0., 0., 0.],\n",
      "        [0., 0., 0., 1., 0., 0., 0., 0., 0., 1., 0., 0., 0., 0., 0., 0.],\n",
      "        [0., 0., 0., 1., 0., 0., 0., 0., 0., 0., 0., 0., 0., 0., 0., 1.],\n",
      "        [0., 0., 0., 0., 0., 0., 0., 0., 0., 0., 1., 0., 0., 0., 0., 0.],\n",
      "        [0., 0., 0., 0., 0., 0., 0., 0., 0., 1., 1., 0., 0., 0., 0., 1.],\n",
      "        [0., 0., 1., 0., 1., 0., 0., 0., 0., 0., 0., 0., 1., 0., 0., 1.],\n",
      "        [0., 0., 1., 0., 0., 0., 0., 0., 0., 0., 0., 0., 0., 0., 0., 1.],\n",
      "        [0., 0., 0., 0., 0., 0., 0., 0., 0., 1., 0., 0., 0., 0., 0., 0.],\n",
      "        [0., 0., 0., 1., 0., 0., 0., 0., 0., 0., 0., 0., 0., 0., 0., 0.],\n",
      "        [0., 0., 0., 1., 0., 0., 0., 0., 0., 0., 0., 0., 0., 0., 0., 0.],\n",
      "        [0., 0., 0., 1., 0., 0., 0., 0., 0., 0., 0., 0., 0., 0., 0., 1.],\n",
      "        [0., 0., 0., 0., 0., 0., 0., 0., 0., 0., 0., 0., 0., 0., 0., 0.]])\n"
     ]
    },
    {
     "name": "stderr",
     "output_type": "stream",
     "text": [
      "C:\\Users\\zoepr\\anaconda3\\envs\\decaf\\lib\\site-packages\\sklearn\\neural_network\\_multilayer_perceptron.py:617: ConvergenceWarning: Stochastic Optimizer: Maximum iterations (200) reached and the optimization hasn't converged yet.\n",
      "  % self.max_iter, ConvergenceWarning)\n"
     ]
    },
    {
     "name": "stdout",
     "output_type": "stream",
     "text": [
      "4\n",
      "[0.926605504587156, 0.8784530386740331, 0.8911174785100286, 0.9159159159159159, 0.9259259259259259, 0.9129129129129129, 0.9233128834355828, 0.9146341463414634, 0.9093655589123867, 0.9287925696594427, 0.8950437317784257, 0.9287925696594427, 0.9077380952380952, 0.9202453987730062, 0.9202453987730062, 0.9093655589123867, 0.9230769230769231, 0.9147058823529411, 0.9259259259259259, 0.863013698630137, 0.9230769230769231, 0.8677685950413223, 0.9230769230769231, 0.9093655589123867, 0.908256880733945, 0.9259259259259259, 0.9202453987730062, 0.9072463768115943, 0.893491124260355, 0.9181818181818182, 0.9202453987730062, 0.9146341463414634, 0.9316770186335404, 0.8924418604651163, 0.9230769230769231, 0.9230769230769231, 0.9129129129129129, 0.9316770186335404, 0.9207317073170732, 0.8739495798319328, 0.9259259259259259, 0.8853868194842407]\n",
      "[0.926605504587156, 0.8784530386740331, 0.8911174785100286, 0.9159159159159159, 0.9259259259259259, 0.9129129129129129, 0.9233128834355828, 0.9146341463414634, 0.9093655589123867, 0.9287925696594427, 0.8950437317784257, 0.9287925696594427, 0.9077380952380952, 0.9202453987730062, 0.9202453987730062, 0.9093655589123867, 0.9230769230769231, 0.9147058823529411, 0.9259259259259259, 0.863013698630137, 0.9230769230769231, 0.8677685950413223, 0.9230769230769231, 0.9093655589123867, 0.908256880733945, 0.9259259259259259, 0.9202453987730062, 0.9072463768115943, 0.893491124260355, 0.9181818181818182, 0.9202453987730062, 0.9146341463414634, 0.9316770186335404, 0.8924418604651163, 0.9230769230769231, 0.9230769230769231, 0.9129129129129129, 0.9316770186335404, 0.9207317073170732, 0.8739495798319328, 0.9259259259259259, 0.8853868194842407]\n"
     ]
    },
    {
     "name": "stderr",
     "output_type": "stream",
     "text": [
      "C:\\Users\\zoepr\\anaconda3\\envs\\decaf\\lib\\site-packages\\sklearn\\neural_network\\_multilayer_perceptron.py:617: ConvergenceWarning: Stochastic Optimizer: Maximum iterations (200) reached and the optimization hasn't converged yet.\n",
      "  % self.max_iter, ConvergenceWarning)\n"
     ]
    },
    {
     "name": "stdout",
     "output_type": "stream",
     "text": [
      "4\n"
     ]
    },
    {
     "name": "stderr",
     "output_type": "stream",
     "text": [
      "C:\\Users\\zoepr\\anaconda3\\envs\\decaf\\lib\\site-packages\\sklearn\\neural_network\\_multilayer_perceptron.py:617: ConvergenceWarning: Stochastic Optimizer: Maximum iterations (200) reached and the optimization hasn't converged yet.\n",
      "  % self.max_iter, ConvergenceWarning)\n"
     ]
    },
    {
     "name": "stdout",
     "output_type": "stream",
     "text": [
      "4\n",
      "precision done\n",
      "recall done\n",
      "auroc done\n",
      "ftu done\n",
      "dp done\n",
      "Initialised adjacency matrix as parsed:\n",
      " Parameter containing:\n",
      "tensor([[0., 0., 0., 0., 0., 0., 0., 0., 0., 0., 0., 0., 0., 0., 0., 0.],\n",
      "        [0., 0., 0., 0., 0., 0., 0., 1., 0., 0., 0., 0., 0., 0., 0., 0.],\n",
      "        [0., 0., 0., 0., 0., 0., 0., 0., 0., 0., 0., 0., 0., 0., 1., 0.],\n",
      "        [0., 0., 0., 0., 0., 0., 0., 0., 0., 0., 0., 0., 0., 0., 0., 1.],\n",
      "        [0., 0., 0., 0., 0., 0., 0., 0., 0., 0., 0., 0., 0., 0., 0., 0.],\n",
      "        [0., 0., 0., 1., 0., 0., 0., 0., 0., 1., 0., 0., 0., 0., 0., 0.],\n",
      "        [0., 0., 0., 1., 0., 0., 0., 0., 0., 0., 0., 0., 0., 0., 0., 1.],\n",
      "        [0., 0., 0., 0., 0., 0., 0., 0., 0., 0., 1., 0., 0., 0., 0., 0.],\n",
      "        [0., 0., 0., 0., 0., 0., 0., 0., 0., 1., 1., 0., 0., 0., 0., 1.],\n",
      "        [0., 0., 1., 0., 1., 0., 0., 0., 0., 0., 0., 0., 1., 0., 0., 1.],\n",
      "        [0., 0., 1., 0., 0., 0., 0., 0., 0., 0., 0., 0., 0., 0., 0., 1.],\n",
      "        [0., 0., 0., 0., 0., 0., 0., 0., 0., 1., 0., 0., 0., 0., 0., 0.],\n",
      "        [0., 0., 0., 1., 0., 0., 0., 0., 0., 0., 0., 0., 0., 0., 0., 0.],\n",
      "        [0., 0., 0., 1., 0., 0., 0., 0., 0., 0., 0., 0., 0., 0., 0., 0.],\n",
      "        [0., 0., 0., 1., 0., 0., 0., 0., 0., 0., 0., 0., 0., 0., 0., 1.],\n",
      "        [0., 0., 0., 0., 0., 0., 0., 0., 0., 0., 0., 0., 0., 0., 0., 0.]])\n"
     ]
    },
    {
     "name": "stderr",
     "output_type": "stream",
     "text": [
      "C:\\Users\\zoepr\\anaconda3\\envs\\decaf\\lib\\site-packages\\sklearn\\neural_network\\_multilayer_perceptron.py:617: ConvergenceWarning: Stochastic Optimizer: Maximum iterations (200) reached and the optimization hasn't converged yet.\n",
      "  % self.max_iter, ConvergenceWarning)\n"
     ]
    },
    {
     "name": "stdout",
     "output_type": "stream",
     "text": [
      "4\n",
      "[0.926605504587156, 0.8784530386740331, 0.8911174785100286, 0.9159159159159159, 0.9259259259259259, 0.9129129129129129, 0.9233128834355828, 0.9146341463414634, 0.9093655589123867, 0.9287925696594427, 0.8950437317784257, 0.9287925696594427, 0.9077380952380952, 0.9202453987730062, 0.9202453987730062, 0.9093655589123867, 0.9230769230769231, 0.9147058823529411, 0.9259259259259259, 0.863013698630137, 0.9230769230769231, 0.8677685950413223, 0.9230769230769231, 0.9093655589123867, 0.908256880733945, 0.9259259259259259, 0.9202453987730062, 0.9072463768115943, 0.893491124260355, 0.9181818181818182, 0.9202453987730062, 0.9146341463414634, 0.9316770186335404, 0.8924418604651163, 0.9230769230769231, 0.9230769230769231, 0.9129129129129129, 0.9316770186335404, 0.9207317073170732, 0.8739495798319328, 0.9259259259259259, 0.8853868194842407, 0.9316770186335404]\n",
      "[0.926605504587156, 0.8784530386740331, 0.8911174785100286, 0.9159159159159159, 0.9259259259259259, 0.9129129129129129, 0.9233128834355828, 0.9146341463414634, 0.9093655589123867, 0.9287925696594427, 0.8950437317784257, 0.9287925696594427, 0.9077380952380952, 0.9202453987730062, 0.9202453987730062, 0.9093655589123867, 0.9230769230769231, 0.9147058823529411, 0.9259259259259259, 0.863013698630137, 0.9230769230769231, 0.8677685950413223, 0.9230769230769231, 0.9093655589123867, 0.908256880733945, 0.9259259259259259, 0.9202453987730062, 0.9072463768115943, 0.893491124260355, 0.9181818181818182, 0.9202453987730062, 0.9146341463414634, 0.9316770186335404, 0.8924418604651163, 0.9230769230769231, 0.9230769230769231, 0.9129129129129129, 0.9316770186335404, 0.9207317073170732, 0.8739495798319328, 0.9259259259259259, 0.8853868194842407, 0.9316770186335404]\n"
     ]
    },
    {
     "name": "stderr",
     "output_type": "stream",
     "text": [
      "C:\\Users\\zoepr\\anaconda3\\envs\\decaf\\lib\\site-packages\\sklearn\\neural_network\\_multilayer_perceptron.py:617: ConvergenceWarning: Stochastic Optimizer: Maximum iterations (200) reached and the optimization hasn't converged yet.\n",
      "  % self.max_iter, ConvergenceWarning)\n"
     ]
    },
    {
     "name": "stdout",
     "output_type": "stream",
     "text": [
      "4\n"
     ]
    },
    {
     "name": "stderr",
     "output_type": "stream",
     "text": [
      "C:\\Users\\zoepr\\anaconda3\\envs\\decaf\\lib\\site-packages\\sklearn\\neural_network\\_multilayer_perceptron.py:617: ConvergenceWarning: Stochastic Optimizer: Maximum iterations (200) reached and the optimization hasn't converged yet.\n",
      "  % self.max_iter, ConvergenceWarning)\n"
     ]
    },
    {
     "name": "stdout",
     "output_type": "stream",
     "text": [
      "4\n",
      "precision done\n",
      "recall done\n",
      "auroc done\n",
      "ftu done\n",
      "dp done\n",
      "Initialised adjacency matrix as parsed:\n",
      " Parameter containing:\n",
      "tensor([[0., 0., 0., 0., 0., 0., 0., 0., 0., 0., 0., 0., 0., 0., 0., 0.],\n",
      "        [0., 0., 0., 0., 0., 0., 0., 1., 0., 0., 0., 0., 0., 0., 0., 0.],\n",
      "        [0., 0., 0., 0., 0., 0., 0., 0., 0., 0., 0., 0., 0., 0., 1., 0.],\n",
      "        [0., 0., 0., 0., 0., 0., 0., 0., 0., 0., 0., 0., 0., 0., 0., 1.],\n",
      "        [0., 0., 0., 0., 0., 0., 0., 0., 0., 0., 0., 0., 0., 0., 0., 0.],\n",
      "        [0., 0., 0., 1., 0., 0., 0., 0., 0., 1., 0., 0., 0., 0., 0., 0.],\n",
      "        [0., 0., 0., 1., 0., 0., 0., 0., 0., 0., 0., 0., 0., 0., 0., 1.],\n",
      "        [0., 0., 0., 0., 0., 0., 0., 0., 0., 0., 1., 0., 0., 0., 0., 0.],\n",
      "        [0., 0., 0., 0., 0., 0., 0., 0., 0., 1., 1., 0., 0., 0., 0., 1.],\n",
      "        [0., 0., 1., 0., 1., 0., 0., 0., 0., 0., 0., 0., 1., 0., 0., 1.],\n",
      "        [0., 0., 1., 0., 0., 0., 0., 0., 0., 0., 0., 0., 0., 0., 0., 1.],\n",
      "        [0., 0., 0., 0., 0., 0., 0., 0., 0., 1., 0., 0., 0., 0., 0., 0.],\n",
      "        [0., 0., 0., 1., 0., 0., 0., 0., 0., 0., 0., 0., 0., 0., 0., 0.],\n",
      "        [0., 0., 0., 1., 0., 0., 0., 0., 0., 0., 0., 0., 0., 0., 0., 0.],\n",
      "        [0., 0., 0., 1., 0., 0., 0., 0., 0., 0., 0., 0., 0., 0., 0., 1.],\n",
      "        [0., 0., 0., 0., 0., 0., 0., 0., 0., 0., 0., 0., 0., 0., 0., 0.]])\n"
     ]
    },
    {
     "name": "stderr",
     "output_type": "stream",
     "text": [
      "C:\\Users\\zoepr\\anaconda3\\envs\\decaf\\lib\\site-packages\\sklearn\\neural_network\\_multilayer_perceptron.py:617: ConvergenceWarning: Stochastic Optimizer: Maximum iterations (200) reached and the optimization hasn't converged yet.\n",
      "  % self.max_iter, ConvergenceWarning)\n"
     ]
    },
    {
     "name": "stdout",
     "output_type": "stream",
     "text": [
      "4\n",
      "[0.926605504587156, 0.8784530386740331, 0.8911174785100286, 0.9159159159159159, 0.9259259259259259, 0.9129129129129129, 0.9233128834355828, 0.9146341463414634, 0.9093655589123867, 0.9287925696594427, 0.8950437317784257, 0.9287925696594427, 0.9077380952380952, 0.9202453987730062, 0.9202453987730062, 0.9093655589123867, 0.9230769230769231, 0.9147058823529411, 0.9259259259259259, 0.863013698630137, 0.9230769230769231, 0.8677685950413223, 0.9230769230769231, 0.9093655589123867, 0.908256880733945, 0.9259259259259259, 0.9202453987730062, 0.9072463768115943, 0.893491124260355, 0.9181818181818182, 0.9202453987730062, 0.9146341463414634, 0.9316770186335404, 0.8924418604651163, 0.9230769230769231, 0.9230769230769231, 0.9129129129129129, 0.9316770186335404, 0.9207317073170732, 0.8739495798319328, 0.9259259259259259, 0.8853868194842407, 0.9316770186335404, 0.9213483146067416]\n",
      "[0.926605504587156, 0.8784530386740331, 0.8911174785100286, 0.9159159159159159, 0.9259259259259259, 0.9129129129129129, 0.9233128834355828, 0.9146341463414634, 0.9093655589123867, 0.9287925696594427, 0.8950437317784257, 0.9287925696594427, 0.9077380952380952, 0.9202453987730062, 0.9202453987730062, 0.9093655589123867, 0.9230769230769231, 0.9147058823529411, 0.9259259259259259, 0.863013698630137, 0.9230769230769231, 0.8677685950413223, 0.9230769230769231, 0.9093655589123867, 0.908256880733945, 0.9259259259259259, 0.9202453987730062, 0.9072463768115943, 0.893491124260355, 0.9181818181818182, 0.9202453987730062, 0.9146341463414634, 0.9316770186335404, 0.8924418604651163, 0.9230769230769231, 0.9230769230769231, 0.9129129129129129, 0.9316770186335404, 0.9207317073170732, 0.8739495798319328, 0.9259259259259259, 0.8853868194842407, 0.9316770186335404, 0.9213483146067416]\n"
     ]
    },
    {
     "name": "stderr",
     "output_type": "stream",
     "text": [
      "C:\\Users\\zoepr\\anaconda3\\envs\\decaf\\lib\\site-packages\\sklearn\\neural_network\\_multilayer_perceptron.py:617: ConvergenceWarning: Stochastic Optimizer: Maximum iterations (200) reached and the optimization hasn't converged yet.\n",
      "  % self.max_iter, ConvergenceWarning)\n"
     ]
    },
    {
     "name": "stdout",
     "output_type": "stream",
     "text": [
      "4\n"
     ]
    },
    {
     "name": "stderr",
     "output_type": "stream",
     "text": [
      "C:\\Users\\zoepr\\anaconda3\\envs\\decaf\\lib\\site-packages\\sklearn\\neural_network\\_multilayer_perceptron.py:617: ConvergenceWarning: Stochastic Optimizer: Maximum iterations (200) reached and the optimization hasn't converged yet.\n",
      "  % self.max_iter, ConvergenceWarning)\n"
     ]
    },
    {
     "name": "stdout",
     "output_type": "stream",
     "text": [
      "4\n",
      "precision done\n",
      "recall done\n",
      "auroc done\n",
      "ftu done\n",
      "dp done\n",
      "Initialised adjacency matrix as parsed:\n",
      " Parameter containing:\n",
      "tensor([[0., 0., 0., 0., 0., 0., 0., 0., 0., 0., 0., 0., 0., 0., 0., 0.],\n",
      "        [0., 0., 0., 0., 0., 0., 0., 1., 0., 0., 0., 0., 0., 0., 0., 0.],\n",
      "        [0., 0., 0., 0., 0., 0., 0., 0., 0., 0., 0., 0., 0., 0., 1., 0.],\n",
      "        [0., 0., 0., 0., 0., 0., 0., 0., 0., 0., 0., 0., 0., 0., 0., 1.],\n",
      "        [0., 0., 0., 0., 0., 0., 0., 0., 0., 0., 0., 0., 0., 0., 0., 0.],\n",
      "        [0., 0., 0., 1., 0., 0., 0., 0., 0., 1., 0., 0., 0., 0., 0., 0.],\n",
      "        [0., 0., 0., 1., 0., 0., 0., 0., 0., 0., 0., 0., 0., 0., 0., 1.],\n",
      "        [0., 0., 0., 0., 0., 0., 0., 0., 0., 0., 1., 0., 0., 0., 0., 0.],\n",
      "        [0., 0., 0., 0., 0., 0., 0., 0., 0., 1., 1., 0., 0., 0., 0., 1.],\n",
      "        [0., 0., 1., 0., 1., 0., 0., 0., 0., 0., 0., 0., 1., 0., 0., 1.],\n",
      "        [0., 0., 1., 0., 0., 0., 0., 0., 0., 0., 0., 0., 0., 0., 0., 1.],\n",
      "        [0., 0., 0., 0., 0., 0., 0., 0., 0., 1., 0., 0., 0., 0., 0., 0.],\n",
      "        [0., 0., 0., 1., 0., 0., 0., 0., 0., 0., 0., 0., 0., 0., 0., 0.],\n",
      "        [0., 0., 0., 1., 0., 0., 0., 0., 0., 0., 0., 0., 0., 0., 0., 0.],\n",
      "        [0., 0., 0., 1., 0., 0., 0., 0., 0., 0., 0., 0., 0., 0., 0., 1.],\n",
      "        [0., 0., 0., 0., 0., 0., 0., 0., 0., 0., 0., 0., 0., 0., 0., 0.]])\n"
     ]
    },
    {
     "name": "stderr",
     "output_type": "stream",
     "text": [
      "C:\\Users\\zoepr\\anaconda3\\envs\\decaf\\lib\\site-packages\\sklearn\\neural_network\\_multilayer_perceptron.py:617: ConvergenceWarning: Stochastic Optimizer: Maximum iterations (200) reached and the optimization hasn't converged yet.\n",
      "  % self.max_iter, ConvergenceWarning)\n"
     ]
    },
    {
     "name": "stdout",
     "output_type": "stream",
     "text": [
      "4\n",
      "[0.926605504587156, 0.8784530386740331, 0.8911174785100286, 0.9159159159159159, 0.9259259259259259, 0.9129129129129129, 0.9233128834355828, 0.9146341463414634, 0.9093655589123867, 0.9287925696594427, 0.8950437317784257, 0.9287925696594427, 0.9077380952380952, 0.9202453987730062, 0.9202453987730062, 0.9093655589123867, 0.9230769230769231, 0.9147058823529411, 0.9259259259259259, 0.863013698630137, 0.9230769230769231, 0.8677685950413223, 0.9230769230769231, 0.9093655589123867, 0.908256880733945, 0.9259259259259259, 0.9202453987730062, 0.9072463768115943, 0.893491124260355, 0.9181818181818182, 0.9202453987730062, 0.9146341463414634, 0.9316770186335404, 0.8924418604651163, 0.9230769230769231, 0.9230769230769231, 0.9129129129129129, 0.9316770186335404, 0.9207317073170732, 0.8739495798319328, 0.9259259259259259, 0.8853868194842407, 0.9316770186335404, 0.9213483146067416, 0.9146341463414634]\n",
      "[0.926605504587156, 0.8784530386740331, 0.8911174785100286, 0.9159159159159159, 0.9259259259259259, 0.9129129129129129, 0.9233128834355828, 0.9146341463414634, 0.9093655589123867, 0.9287925696594427, 0.8950437317784257, 0.9287925696594427, 0.9077380952380952, 0.9202453987730062, 0.9202453987730062, 0.9093655589123867, 0.9230769230769231, 0.9147058823529411, 0.9259259259259259, 0.863013698630137, 0.9230769230769231, 0.8677685950413223, 0.9230769230769231, 0.9093655589123867, 0.908256880733945, 0.9259259259259259, 0.9202453987730062, 0.9072463768115943, 0.893491124260355, 0.9181818181818182, 0.9202453987730062, 0.9146341463414634, 0.9316770186335404, 0.8924418604651163, 0.9230769230769231, 0.9230769230769231, 0.9129129129129129, 0.9316770186335404, 0.9207317073170732, 0.8739495798319328, 0.9259259259259259, 0.8853868194842407, 0.9316770186335404, 0.9213483146067416, 0.9146341463414634]\n"
     ]
    },
    {
     "name": "stderr",
     "output_type": "stream",
     "text": [
      "C:\\Users\\zoepr\\anaconda3\\envs\\decaf\\lib\\site-packages\\sklearn\\neural_network\\_multilayer_perceptron.py:617: ConvergenceWarning: Stochastic Optimizer: Maximum iterations (200) reached and the optimization hasn't converged yet.\n",
      "  % self.max_iter, ConvergenceWarning)\n"
     ]
    },
    {
     "name": "stdout",
     "output_type": "stream",
     "text": [
      "4\n"
     ]
    },
    {
     "name": "stderr",
     "output_type": "stream",
     "text": [
      "C:\\Users\\zoepr\\anaconda3\\envs\\decaf\\lib\\site-packages\\sklearn\\neural_network\\_multilayer_perceptron.py:617: ConvergenceWarning: Stochastic Optimizer: Maximum iterations (200) reached and the optimization hasn't converged yet.\n",
      "  % self.max_iter, ConvergenceWarning)\n"
     ]
    },
    {
     "name": "stdout",
     "output_type": "stream",
     "text": [
      "4\n",
      "precision done\n",
      "recall done\n",
      "auroc done\n",
      "ftu done\n",
      "dp done\n",
      "Initialised adjacency matrix as parsed:\n",
      " Parameter containing:\n",
      "tensor([[0., 0., 0., 0., 0., 0., 0., 0., 0., 0., 0., 0., 0., 0., 0., 0.],\n",
      "        [0., 0., 0., 0., 0., 0., 0., 1., 0., 0., 0., 0., 0., 0., 0., 0.],\n",
      "        [0., 0., 0., 0., 0., 0., 0., 0., 0., 0., 0., 0., 0., 0., 1., 0.],\n",
      "        [0., 0., 0., 0., 0., 0., 0., 0., 0., 0., 0., 0., 0., 0., 0., 1.],\n",
      "        [0., 0., 0., 0., 0., 0., 0., 0., 0., 0., 0., 0., 0., 0., 0., 0.],\n",
      "        [0., 0., 0., 1., 0., 0., 0., 0., 0., 1., 0., 0., 0., 0., 0., 0.],\n",
      "        [0., 0., 0., 1., 0., 0., 0., 0., 0., 0., 0., 0., 0., 0., 0., 1.],\n",
      "        [0., 0., 0., 0., 0., 0., 0., 0., 0., 0., 1., 0., 0., 0., 0., 0.],\n",
      "        [0., 0., 0., 0., 0., 0., 0., 0., 0., 1., 1., 0., 0., 0., 0., 1.],\n",
      "        [0., 0., 1., 0., 1., 0., 0., 0., 0., 0., 0., 0., 1., 0., 0., 1.],\n",
      "        [0., 0., 1., 0., 0., 0., 0., 0., 0., 0., 0., 0., 0., 0., 0., 1.],\n",
      "        [0., 0., 0., 0., 0., 0., 0., 0., 0., 1., 0., 0., 0., 0., 0., 0.],\n",
      "        [0., 0., 0., 1., 0., 0., 0., 0., 0., 0., 0., 0., 0., 0., 0., 0.],\n",
      "        [0., 0., 0., 1., 0., 0., 0., 0., 0., 0., 0., 0., 0., 0., 0., 0.],\n",
      "        [0., 0., 0., 1., 0., 0., 0., 0., 0., 0., 0., 0., 0., 0., 0., 1.],\n",
      "        [0., 0., 0., 0., 0., 0., 0., 0., 0., 0., 0., 0., 0., 0., 0., 0.]])\n"
     ]
    },
    {
     "name": "stderr",
     "output_type": "stream",
     "text": [
      "C:\\Users\\zoepr\\anaconda3\\envs\\decaf\\lib\\site-packages\\sklearn\\neural_network\\_multilayer_perceptron.py:617: ConvergenceWarning: Stochastic Optimizer: Maximum iterations (200) reached and the optimization hasn't converged yet.\n",
      "  % self.max_iter, ConvergenceWarning)\n"
     ]
    },
    {
     "name": "stdout",
     "output_type": "stream",
     "text": [
      "4\n",
      "[0.926605504587156, 0.8784530386740331, 0.8911174785100286, 0.9159159159159159, 0.9259259259259259, 0.9129129129129129, 0.9233128834355828, 0.9146341463414634, 0.9093655589123867, 0.9287925696594427, 0.8950437317784257, 0.9287925696594427, 0.9077380952380952, 0.9202453987730062, 0.9202453987730062, 0.9093655589123867, 0.9230769230769231, 0.9147058823529411, 0.9259259259259259, 0.863013698630137, 0.9230769230769231, 0.8677685950413223, 0.9230769230769231, 0.9093655589123867, 0.908256880733945, 0.9259259259259259, 0.9202453987730062, 0.9072463768115943, 0.893491124260355, 0.9181818181818182, 0.9202453987730062, 0.9146341463414634, 0.9316770186335404, 0.8924418604651163, 0.9230769230769231, 0.9230769230769231, 0.9129129129129129, 0.9316770186335404, 0.9207317073170732, 0.8739495798319328, 0.9259259259259259, 0.8853868194842407, 0.9316770186335404, 0.9213483146067416, 0.9146341463414634, 0.9316770186335404]\n",
      "[0.926605504587156, 0.8784530386740331, 0.8911174785100286, 0.9159159159159159, 0.9259259259259259, 0.9129129129129129, 0.9233128834355828, 0.9146341463414634, 0.9093655589123867, 0.9287925696594427, 0.8950437317784257, 0.9287925696594427, 0.9077380952380952, 0.9202453987730062, 0.9202453987730062, 0.9093655589123867, 0.9230769230769231, 0.9147058823529411, 0.9259259259259259, 0.863013698630137, 0.9230769230769231, 0.8677685950413223, 0.9230769230769231, 0.9093655589123867, 0.908256880733945, 0.9259259259259259, 0.9202453987730062, 0.9072463768115943, 0.893491124260355, 0.9181818181818182, 0.9202453987730062, 0.9146341463414634, 0.9316770186335404, 0.8924418604651163, 0.9230769230769231, 0.9230769230769231, 0.9129129129129129, 0.9316770186335404, 0.9207317073170732, 0.8739495798319328, 0.9259259259259259, 0.8853868194842407, 0.9316770186335404, 0.9213483146067416, 0.9146341463414634, 0.9316770186335404]\n"
     ]
    },
    {
     "name": "stderr",
     "output_type": "stream",
     "text": [
      "C:\\Users\\zoepr\\anaconda3\\envs\\decaf\\lib\\site-packages\\sklearn\\neural_network\\_multilayer_perceptron.py:617: ConvergenceWarning: Stochastic Optimizer: Maximum iterations (200) reached and the optimization hasn't converged yet.\n",
      "  % self.max_iter, ConvergenceWarning)\n"
     ]
    },
    {
     "name": "stdout",
     "output_type": "stream",
     "text": [
      "4\n"
     ]
    },
    {
     "name": "stderr",
     "output_type": "stream",
     "text": [
      "C:\\Users\\zoepr\\anaconda3\\envs\\decaf\\lib\\site-packages\\sklearn\\neural_network\\_multilayer_perceptron.py:617: ConvergenceWarning: Stochastic Optimizer: Maximum iterations (200) reached and the optimization hasn't converged yet.\n",
      "  % self.max_iter, ConvergenceWarning)\n"
     ]
    },
    {
     "name": "stdout",
     "output_type": "stream",
     "text": [
      "4\n",
      "precision done\n",
      "recall done\n",
      "auroc done\n",
      "ftu done\n",
      "dp done\n",
      "Initialised adjacency matrix as parsed:\n",
      " Parameter containing:\n",
      "tensor([[0., 0., 0., 0., 0., 0., 0., 0., 0., 0., 0., 0., 0., 0., 0., 0.],\n",
      "        [0., 0., 0., 0., 0., 0., 0., 1., 0., 0., 0., 0., 0., 0., 0., 0.],\n",
      "        [0., 0., 0., 0., 0., 0., 0., 0., 0., 0., 0., 0., 0., 0., 1., 0.],\n",
      "        [0., 0., 0., 0., 0., 0., 0., 0., 0., 0., 0., 0., 0., 0., 0., 1.],\n",
      "        [0., 0., 0., 0., 0., 0., 0., 0., 0., 0., 0., 0., 0., 0., 0., 0.],\n",
      "        [0., 0., 0., 1., 0., 0., 0., 0., 0., 1., 0., 0., 0., 0., 0., 0.],\n",
      "        [0., 0., 0., 1., 0., 0., 0., 0., 0., 0., 0., 0., 0., 0., 0., 1.],\n",
      "        [0., 0., 0., 0., 0., 0., 0., 0., 0., 0., 1., 0., 0., 0., 0., 0.],\n",
      "        [0., 0., 0., 0., 0., 0., 0., 0., 0., 1., 1., 0., 0., 0., 0., 1.],\n",
      "        [0., 0., 1., 0., 1., 0., 0., 0., 0., 0., 0., 0., 1., 0., 0., 1.],\n",
      "        [0., 0., 1., 0., 0., 0., 0., 0., 0., 0., 0., 0., 0., 0., 0., 1.],\n",
      "        [0., 0., 0., 0., 0., 0., 0., 0., 0., 1., 0., 0., 0., 0., 0., 0.],\n",
      "        [0., 0., 0., 1., 0., 0., 0., 0., 0., 0., 0., 0., 0., 0., 0., 0.],\n",
      "        [0., 0., 0., 1., 0., 0., 0., 0., 0., 0., 0., 0., 0., 0., 0., 0.],\n",
      "        [0., 0., 0., 1., 0., 0., 0., 0., 0., 0., 0., 0., 0., 0., 0., 1.],\n",
      "        [0., 0., 0., 0., 0., 0., 0., 0., 0., 0., 0., 0., 0., 0., 0., 0.]])\n"
     ]
    },
    {
     "name": "stderr",
     "output_type": "stream",
     "text": [
      "C:\\Users\\zoepr\\anaconda3\\envs\\decaf\\lib\\site-packages\\sklearn\\neural_network\\_multilayer_perceptron.py:617: ConvergenceWarning: Stochastic Optimizer: Maximum iterations (200) reached and the optimization hasn't converged yet.\n",
      "  % self.max_iter, ConvergenceWarning)\n"
     ]
    },
    {
     "name": "stdout",
     "output_type": "stream",
     "text": [
      "4\n",
      "[0.926605504587156, 0.8784530386740331, 0.8911174785100286, 0.9159159159159159, 0.9259259259259259, 0.9129129129129129, 0.9233128834355828, 0.9146341463414634, 0.9093655589123867, 0.9287925696594427, 0.8950437317784257, 0.9287925696594427, 0.9077380952380952, 0.9202453987730062, 0.9202453987730062, 0.9093655589123867, 0.9230769230769231, 0.9147058823529411, 0.9259259259259259, 0.863013698630137, 0.9230769230769231, 0.8677685950413223, 0.9230769230769231, 0.9093655589123867, 0.908256880733945, 0.9259259259259259, 0.9202453987730062, 0.9072463768115943, 0.893491124260355, 0.9181818181818182, 0.9202453987730062, 0.9146341463414634, 0.9316770186335404, 0.8924418604651163, 0.9230769230769231, 0.9230769230769231, 0.9129129129129129, 0.9316770186335404, 0.9207317073170732, 0.8739495798319328, 0.9259259259259259, 0.8853868194842407, 0.9316770186335404, 0.9213483146067416, 0.9146341463414634, 0.9316770186335404, 0.9202453987730062]\n",
      "[0.926605504587156, 0.8784530386740331, 0.8911174785100286, 0.9159159159159159, 0.9259259259259259, 0.9129129129129129, 0.9233128834355828, 0.9146341463414634, 0.9093655589123867, 0.9287925696594427, 0.8950437317784257, 0.9287925696594427, 0.9077380952380952, 0.9202453987730062, 0.9202453987730062, 0.9093655589123867, 0.9230769230769231, 0.9147058823529411, 0.9259259259259259, 0.863013698630137, 0.9230769230769231, 0.8677685950413223, 0.9230769230769231, 0.9093655589123867, 0.908256880733945, 0.9259259259259259, 0.9202453987730062, 0.9072463768115943, 0.893491124260355, 0.9181818181818182, 0.9202453987730062, 0.9146341463414634, 0.9316770186335404, 0.8924418604651163, 0.9230769230769231, 0.9230769230769231, 0.9129129129129129, 0.9316770186335404, 0.9207317073170732, 0.8739495798319328, 0.9259259259259259, 0.8853868194842407, 0.9316770186335404, 0.9213483146067416, 0.9146341463414634, 0.9316770186335404, 0.9202453987730062]\n"
     ]
    },
    {
     "name": "stderr",
     "output_type": "stream",
     "text": [
      "C:\\Users\\zoepr\\anaconda3\\envs\\decaf\\lib\\site-packages\\sklearn\\neural_network\\_multilayer_perceptron.py:617: ConvergenceWarning: Stochastic Optimizer: Maximum iterations (200) reached and the optimization hasn't converged yet.\n",
      "  % self.max_iter, ConvergenceWarning)\n"
     ]
    },
    {
     "name": "stdout",
     "output_type": "stream",
     "text": [
      "4\n"
     ]
    },
    {
     "name": "stderr",
     "output_type": "stream",
     "text": [
      "C:\\Users\\zoepr\\anaconda3\\envs\\decaf\\lib\\site-packages\\sklearn\\neural_network\\_multilayer_perceptron.py:617: ConvergenceWarning: Stochastic Optimizer: Maximum iterations (200) reached and the optimization hasn't converged yet.\n",
      "  % self.max_iter, ConvergenceWarning)\n"
     ]
    },
    {
     "name": "stdout",
     "output_type": "stream",
     "text": [
      "4\n",
      "precision done\n",
      "recall done\n",
      "auroc done\n",
      "ftu done\n",
      "dp done\n",
      "Initialised adjacency matrix as parsed:\n",
      " Parameter containing:\n",
      "tensor([[0., 0., 0., 0., 0., 0., 0., 0., 0., 0., 0., 0., 0., 0., 0., 0.],\n",
      "        [0., 0., 0., 0., 0., 0., 0., 1., 0., 0., 0., 0., 0., 0., 0., 0.],\n",
      "        [0., 0., 0., 0., 0., 0., 0., 0., 0., 0., 0., 0., 0., 0., 1., 0.],\n",
      "        [0., 0., 0., 0., 0., 0., 0., 0., 0., 0., 0., 0., 0., 0., 0., 1.],\n",
      "        [0., 0., 0., 0., 0., 0., 0., 0., 0., 0., 0., 0., 0., 0., 0., 0.],\n",
      "        [0., 0., 0., 1., 0., 0., 0., 0., 0., 1., 0., 0., 0., 0., 0., 0.],\n",
      "        [0., 0., 0., 1., 0., 0., 0., 0., 0., 0., 0., 0., 0., 0., 0., 1.],\n",
      "        [0., 0., 0., 0., 0., 0., 0., 0., 0., 0., 1., 0., 0., 0., 0., 0.],\n",
      "        [0., 0., 0., 0., 0., 0., 0., 0., 0., 1., 1., 0., 0., 0., 0., 1.],\n",
      "        [0., 0., 1., 0., 1., 0., 0., 0., 0., 0., 0., 0., 1., 0., 0., 1.],\n",
      "        [0., 0., 1., 0., 0., 0., 0., 0., 0., 0., 0., 0., 0., 0., 0., 1.],\n",
      "        [0., 0., 0., 0., 0., 0., 0., 0., 0., 1., 0., 0., 0., 0., 0., 0.],\n",
      "        [0., 0., 0., 1., 0., 0., 0., 0., 0., 0., 0., 0., 0., 0., 0., 0.],\n",
      "        [0., 0., 0., 1., 0., 0., 0., 0., 0., 0., 0., 0., 0., 0., 0., 0.],\n",
      "        [0., 0., 0., 1., 0., 0., 0., 0., 0., 0., 0., 0., 0., 0., 0., 1.],\n",
      "        [0., 0., 0., 0., 0., 0., 0., 0., 0., 0., 0., 0., 0., 0., 0., 0.]])\n"
     ]
    },
    {
     "name": "stderr",
     "output_type": "stream",
     "text": [
      "C:\\Users\\zoepr\\anaconda3\\envs\\decaf\\lib\\site-packages\\sklearn\\neural_network\\_multilayer_perceptron.py:617: ConvergenceWarning: Stochastic Optimizer: Maximum iterations (200) reached and the optimization hasn't converged yet.\n",
      "  % self.max_iter, ConvergenceWarning)\n"
     ]
    },
    {
     "name": "stdout",
     "output_type": "stream",
     "text": [
      "4\n",
      "[0.926605504587156, 0.8784530386740331, 0.8911174785100286, 0.9159159159159159, 0.9259259259259259, 0.9129129129129129, 0.9233128834355828, 0.9146341463414634, 0.9093655589123867, 0.9287925696594427, 0.8950437317784257, 0.9287925696594427, 0.9077380952380952, 0.9202453987730062, 0.9202453987730062, 0.9093655589123867, 0.9230769230769231, 0.9147058823529411, 0.9259259259259259, 0.863013698630137, 0.9230769230769231, 0.8677685950413223, 0.9230769230769231, 0.9093655589123867, 0.908256880733945, 0.9259259259259259, 0.9202453987730062, 0.9072463768115943, 0.893491124260355, 0.9181818181818182, 0.9202453987730062, 0.9146341463414634, 0.9316770186335404, 0.8924418604651163, 0.9230769230769231, 0.9230769230769231, 0.9129129129129129, 0.9316770186335404, 0.9207317073170732, 0.8739495798319328, 0.9259259259259259, 0.8853868194842407, 0.9316770186335404, 0.9213483146067416, 0.9146341463414634, 0.9316770186335404, 0.9202453987730062, 0.8931750741839762]\n",
      "[0.926605504587156, 0.8784530386740331, 0.8911174785100286, 0.9159159159159159, 0.9259259259259259, 0.9129129129129129, 0.9233128834355828, 0.9146341463414634, 0.9093655589123867, 0.9287925696594427, 0.8950437317784257, 0.9287925696594427, 0.9077380952380952, 0.9202453987730062, 0.9202453987730062, 0.9093655589123867, 0.9230769230769231, 0.9147058823529411, 0.9259259259259259, 0.863013698630137, 0.9230769230769231, 0.8677685950413223, 0.9230769230769231, 0.9093655589123867, 0.908256880733945, 0.9259259259259259, 0.9202453987730062, 0.9072463768115943, 0.893491124260355, 0.9181818181818182, 0.9202453987730062, 0.9146341463414634, 0.9316770186335404, 0.8924418604651163, 0.9230769230769231, 0.9230769230769231, 0.9129129129129129, 0.9316770186335404, 0.9207317073170732, 0.8739495798319328, 0.9259259259259259, 0.8853868194842407, 0.9316770186335404, 0.9213483146067416, 0.9146341463414634, 0.9316770186335404, 0.9202453987730062, 0.8931750741839762]\n"
     ]
    },
    {
     "name": "stderr",
     "output_type": "stream",
     "text": [
      "C:\\Users\\zoepr\\anaconda3\\envs\\decaf\\lib\\site-packages\\sklearn\\neural_network\\_multilayer_perceptron.py:617: ConvergenceWarning: Stochastic Optimizer: Maximum iterations (200) reached and the optimization hasn't converged yet.\n",
      "  % self.max_iter, ConvergenceWarning)\n"
     ]
    },
    {
     "name": "stdout",
     "output_type": "stream",
     "text": [
      "4\n"
     ]
    },
    {
     "name": "stderr",
     "output_type": "stream",
     "text": [
      "C:\\Users\\zoepr\\anaconda3\\envs\\decaf\\lib\\site-packages\\sklearn\\neural_network\\_multilayer_perceptron.py:617: ConvergenceWarning: Stochastic Optimizer: Maximum iterations (200) reached and the optimization hasn't converged yet.\n",
      "  % self.max_iter, ConvergenceWarning)\n"
     ]
    },
    {
     "name": "stdout",
     "output_type": "stream",
     "text": [
      "4\n",
      "precision done\n",
      "recall done\n",
      "auroc done\n",
      "ftu done\n",
      "dp done\n",
      "Initialised adjacency matrix as parsed:\n",
      " Parameter containing:\n",
      "tensor([[0., 0., 0., 0., 0., 0., 0., 0., 0., 0., 0., 0., 0., 0., 0., 0.],\n",
      "        [0., 0., 0., 0., 0., 0., 0., 1., 0., 0., 0., 0., 0., 0., 0., 0.],\n",
      "        [0., 0., 0., 0., 0., 0., 0., 0., 0., 0., 0., 0., 0., 0., 1., 0.],\n",
      "        [0., 0., 0., 0., 0., 0., 0., 0., 0., 0., 0., 0., 0., 0., 0., 1.],\n",
      "        [0., 0., 0., 0., 0., 0., 0., 0., 0., 0., 0., 0., 0., 0., 0., 0.],\n",
      "        [0., 0., 0., 1., 0., 0., 0., 0., 0., 1., 0., 0., 0., 0., 0., 0.],\n",
      "        [0., 0., 0., 1., 0., 0., 0., 0., 0., 0., 0., 0., 0., 0., 0., 1.],\n",
      "        [0., 0., 0., 0., 0., 0., 0., 0., 0., 0., 1., 0., 0., 0., 0., 0.],\n",
      "        [0., 0., 0., 0., 0., 0., 0., 0., 0., 1., 1., 0., 0., 0., 0., 1.],\n",
      "        [0., 0., 1., 0., 1., 0., 0., 0., 0., 0., 0., 0., 1., 0., 0., 1.],\n",
      "        [0., 0., 1., 0., 0., 0., 0., 0., 0., 0., 0., 0., 0., 0., 0., 1.],\n",
      "        [0., 0., 0., 0., 0., 0., 0., 0., 0., 1., 0., 0., 0., 0., 0., 0.],\n",
      "        [0., 0., 0., 1., 0., 0., 0., 0., 0., 0., 0., 0., 0., 0., 0., 0.],\n",
      "        [0., 0., 0., 1., 0., 0., 0., 0., 0., 0., 0., 0., 0., 0., 0., 0.],\n",
      "        [0., 0., 0., 1., 0., 0., 0., 0., 0., 0., 0., 0., 0., 0., 0., 1.],\n",
      "        [0., 0., 0., 0., 0., 0., 0., 0., 0., 0., 0., 0., 0., 0., 0., 0.]])\n"
     ]
    },
    {
     "name": "stderr",
     "output_type": "stream",
     "text": [
      "C:\\Users\\zoepr\\anaconda3\\envs\\decaf\\lib\\site-packages\\sklearn\\neural_network\\_multilayer_perceptron.py:617: ConvergenceWarning: Stochastic Optimizer: Maximum iterations (200) reached and the optimization hasn't converged yet.\n",
      "  % self.max_iter, ConvergenceWarning)\n"
     ]
    },
    {
     "name": "stdout",
     "output_type": "stream",
     "text": [
      "4\n",
      "[0.926605504587156, 0.8784530386740331, 0.8911174785100286, 0.9159159159159159, 0.9259259259259259, 0.9129129129129129, 0.9233128834355828, 0.9146341463414634, 0.9093655589123867, 0.9287925696594427, 0.8950437317784257, 0.9287925696594427, 0.9077380952380952, 0.9202453987730062, 0.9202453987730062, 0.9093655589123867, 0.9230769230769231, 0.9147058823529411, 0.9259259259259259, 0.863013698630137, 0.9230769230769231, 0.8677685950413223, 0.9230769230769231, 0.9093655589123867, 0.908256880733945, 0.9259259259259259, 0.9202453987730062, 0.9072463768115943, 0.893491124260355, 0.9181818181818182, 0.9202453987730062, 0.9146341463414634, 0.9316770186335404, 0.8924418604651163, 0.9230769230769231, 0.9230769230769231, 0.9129129129129129, 0.9316770186335404, 0.9207317073170732, 0.8739495798319328, 0.9259259259259259, 0.8853868194842407, 0.9316770186335404, 0.9213483146067416, 0.9146341463414634, 0.9316770186335404, 0.9202453987730062, 0.8931750741839762, 0.9371069182389937]\n",
      "[0.926605504587156, 0.8784530386740331, 0.8911174785100286, 0.9159159159159159, 0.9259259259259259, 0.9129129129129129, 0.9233128834355828, 0.9146341463414634, 0.9093655589123867, 0.9287925696594427, 0.8950437317784257, 0.9287925696594427, 0.9077380952380952, 0.9202453987730062, 0.9202453987730062, 0.9093655589123867, 0.9230769230769231, 0.9147058823529411, 0.9259259259259259, 0.863013698630137, 0.9230769230769231, 0.8677685950413223, 0.9230769230769231, 0.9093655589123867, 0.908256880733945, 0.9259259259259259, 0.9202453987730062, 0.9072463768115943, 0.893491124260355, 0.9181818181818182, 0.9202453987730062, 0.9146341463414634, 0.9316770186335404, 0.8924418604651163, 0.9230769230769231, 0.9230769230769231, 0.9129129129129129, 0.9316770186335404, 0.9207317073170732, 0.8739495798319328, 0.9259259259259259, 0.8853868194842407, 0.9316770186335404, 0.9213483146067416, 0.9146341463414634, 0.9316770186335404, 0.9202453987730062, 0.8931750741839762, 0.9371069182389937]\n"
     ]
    },
    {
     "name": "stderr",
     "output_type": "stream",
     "text": [
      "C:\\Users\\zoepr\\anaconda3\\envs\\decaf\\lib\\site-packages\\sklearn\\neural_network\\_multilayer_perceptron.py:617: ConvergenceWarning: Stochastic Optimizer: Maximum iterations (200) reached and the optimization hasn't converged yet.\n",
      "  % self.max_iter, ConvergenceWarning)\n"
     ]
    },
    {
     "name": "stdout",
     "output_type": "stream",
     "text": [
      "4\n"
     ]
    },
    {
     "name": "stderr",
     "output_type": "stream",
     "text": [
      "C:\\Users\\zoepr\\anaconda3\\envs\\decaf\\lib\\site-packages\\sklearn\\neural_network\\_multilayer_perceptron.py:617: ConvergenceWarning: Stochastic Optimizer: Maximum iterations (200) reached and the optimization hasn't converged yet.\n",
      "  % self.max_iter, ConvergenceWarning)\n"
     ]
    },
    {
     "name": "stdout",
     "output_type": "stream",
     "text": [
      "4\n",
      "precision done\n",
      "recall done\n",
      "auroc done\n",
      "ftu done\n",
      "dp done\n",
      "Initialised adjacency matrix as parsed:\n",
      " Parameter containing:\n",
      "tensor([[0., 0., 0., 0., 0., 0., 0., 0., 0., 0., 0., 0., 0., 0., 0., 0.],\n",
      "        [0., 0., 0., 0., 0., 0., 0., 1., 0., 0., 0., 0., 0., 0., 0., 0.],\n",
      "        [0., 0., 0., 0., 0., 0., 0., 0., 0., 0., 0., 0., 0., 0., 1., 0.],\n",
      "        [0., 0., 0., 0., 0., 0., 0., 0., 0., 0., 0., 0., 0., 0., 0., 1.],\n",
      "        [0., 0., 0., 0., 0., 0., 0., 0., 0., 0., 0., 0., 0., 0., 0., 0.],\n",
      "        [0., 0., 0., 1., 0., 0., 0., 0., 0., 1., 0., 0., 0., 0., 0., 0.],\n",
      "        [0., 0., 0., 1., 0., 0., 0., 0., 0., 0., 0., 0., 0., 0., 0., 1.],\n",
      "        [0., 0., 0., 0., 0., 0., 0., 0., 0., 0., 1., 0., 0., 0., 0., 0.],\n",
      "        [0., 0., 0., 0., 0., 0., 0., 0., 0., 1., 1., 0., 0., 0., 0., 1.],\n",
      "        [0., 0., 1., 0., 1., 0., 0., 0., 0., 0., 0., 0., 1., 0., 0., 1.],\n",
      "        [0., 0., 1., 0., 0., 0., 0., 0., 0., 0., 0., 0., 0., 0., 0., 1.],\n",
      "        [0., 0., 0., 0., 0., 0., 0., 0., 0., 1., 0., 0., 0., 0., 0., 0.],\n",
      "        [0., 0., 0., 1., 0., 0., 0., 0., 0., 0., 0., 0., 0., 0., 0., 0.],\n",
      "        [0., 0., 0., 1., 0., 0., 0., 0., 0., 0., 0., 0., 0., 0., 0., 0.],\n",
      "        [0., 0., 0., 1., 0., 0., 0., 0., 0., 0., 0., 0., 0., 0., 0., 1.],\n",
      "        [0., 0., 0., 0., 0., 0., 0., 0., 0., 0., 0., 0., 0., 0., 0., 0.]])\n"
     ]
    },
    {
     "name": "stderr",
     "output_type": "stream",
     "text": [
      "C:\\Users\\zoepr\\anaconda3\\envs\\decaf\\lib\\site-packages\\sklearn\\neural_network\\_multilayer_perceptron.py:617: ConvergenceWarning: Stochastic Optimizer: Maximum iterations (200) reached and the optimization hasn't converged yet.\n",
      "  % self.max_iter, ConvergenceWarning)\n"
     ]
    },
    {
     "name": "stdout",
     "output_type": "stream",
     "text": [
      "5\n",
      "[0.926605504587156, 0.8784530386740331, 0.8911174785100286, 0.9159159159159159, 0.9259259259259259, 0.9129129129129129, 0.9233128834355828, 0.9146341463414634, 0.9093655589123867, 0.9287925696594427, 0.8950437317784257, 0.9287925696594427, 0.9077380952380952, 0.9202453987730062, 0.9202453987730062, 0.9093655589123867, 0.9230769230769231, 0.9147058823529411, 0.9259259259259259, 0.863013698630137, 0.9230769230769231, 0.8677685950413223, 0.9230769230769231, 0.9093655589123867, 0.908256880733945, 0.9259259259259259, 0.9202453987730062, 0.9072463768115943, 0.893491124260355, 0.9181818181818182, 0.9202453987730062, 0.9146341463414634, 0.9316770186335404, 0.8924418604651163, 0.9230769230769231, 0.9230769230769231, 0.9129129129129129, 0.9316770186335404, 0.9207317073170732, 0.8739495798319328, 0.9259259259259259, 0.8853868194842407, 0.9316770186335404, 0.9213483146067416, 0.9146341463414634, 0.9316770186335404, 0.9202453987730062, 0.8931750741839762, 0.9371069182389937, 0.9202453987730062]\n",
      "[0.926605504587156, 0.8784530386740331, 0.8911174785100286, 0.9159159159159159, 0.9259259259259259, 0.9129129129129129, 0.9233128834355828, 0.9146341463414634, 0.9093655589123867, 0.9287925696594427, 0.8950437317784257, 0.9287925696594427, 0.9077380952380952, 0.9202453987730062, 0.9202453987730062, 0.9093655589123867, 0.9230769230769231, 0.9147058823529411, 0.9259259259259259, 0.863013698630137, 0.9230769230769231, 0.8677685950413223, 0.9230769230769231, 0.9093655589123867, 0.908256880733945, 0.9259259259259259, 0.9202453987730062, 0.9072463768115943, 0.893491124260355, 0.9181818181818182, 0.9202453987730062, 0.9146341463414634, 0.9316770186335404, 0.8924418604651163, 0.9230769230769231, 0.9230769230769231, 0.9129129129129129, 0.9316770186335404, 0.9207317073170732, 0.8739495798319328, 0.9259259259259259, 0.8853868194842407, 0.9316770186335404, 0.9213483146067416, 0.9146341463414634, 0.9316770186335404, 0.9202453987730062, 0.8931750741839762, 0.9371069182389937, 0.9202453987730062]\n"
     ]
    },
    {
     "name": "stderr",
     "output_type": "stream",
     "text": [
      "C:\\Users\\zoepr\\anaconda3\\envs\\decaf\\lib\\site-packages\\sklearn\\neural_network\\_multilayer_perceptron.py:617: ConvergenceWarning: Stochastic Optimizer: Maximum iterations (200) reached and the optimization hasn't converged yet.\n",
      "  % self.max_iter, ConvergenceWarning)\n"
     ]
    },
    {
     "name": "stdout",
     "output_type": "stream",
     "text": [
      "5\n"
     ]
    },
    {
     "name": "stderr",
     "output_type": "stream",
     "text": [
      "C:\\Users\\zoepr\\anaconda3\\envs\\decaf\\lib\\site-packages\\sklearn\\neural_network\\_multilayer_perceptron.py:617: ConvergenceWarning: Stochastic Optimizer: Maximum iterations (200) reached and the optimization hasn't converged yet.\n",
      "  % self.max_iter, ConvergenceWarning)\n"
     ]
    },
    {
     "name": "stdout",
     "output_type": "stream",
     "text": [
      "5\n",
      "precision done\n",
      "recall done\n",
      "auroc done\n",
      "ftu done\n",
      "dp done\n",
      "Initialised adjacency matrix as parsed:\n",
      " Parameter containing:\n",
      "tensor([[0., 0., 0., 0., 0., 0., 0., 0., 0., 0., 0., 0., 0., 0., 0., 0.],\n",
      "        [0., 0., 0., 0., 0., 0., 0., 1., 0., 0., 0., 0., 0., 0., 0., 0.],\n",
      "        [0., 0., 0., 0., 0., 0., 0., 0., 0., 0., 0., 0., 0., 0., 1., 0.],\n",
      "        [0., 0., 0., 0., 0., 0., 0., 0., 0., 0., 0., 0., 0., 0., 0., 1.],\n",
      "        [0., 0., 0., 0., 0., 0., 0., 0., 0., 0., 0., 0., 0., 0., 0., 0.],\n",
      "        [0., 0., 0., 1., 0., 0., 0., 0., 0., 1., 0., 0., 0., 0., 0., 0.],\n",
      "        [0., 0., 0., 1., 0., 0., 0., 0., 0., 0., 0., 0., 0., 0., 0., 1.],\n",
      "        [0., 0., 0., 0., 0., 0., 0., 0., 0., 0., 1., 0., 0., 0., 0., 0.],\n",
      "        [0., 0., 0., 0., 0., 0., 0., 0., 0., 1., 1., 0., 0., 0., 0., 1.],\n",
      "        [0., 0., 1., 0., 1., 0., 0., 0., 0., 0., 0., 0., 1., 0., 0., 1.],\n",
      "        [0., 0., 1., 0., 0., 0., 0., 0., 0., 0., 0., 0., 0., 0., 0., 1.],\n",
      "        [0., 0., 0., 0., 0., 0., 0., 0., 0., 1., 0., 0., 0., 0., 0., 0.],\n",
      "        [0., 0., 0., 1., 0., 0., 0., 0., 0., 0., 0., 0., 0., 0., 0., 0.],\n",
      "        [0., 0., 0., 1., 0., 0., 0., 0., 0., 0., 0., 0., 0., 0., 0., 0.],\n",
      "        [0., 0., 0., 1., 0., 0., 0., 0., 0., 0., 0., 0., 0., 0., 0., 1.],\n",
      "        [0., 0., 0., 0., 0., 0., 0., 0., 0., 0., 0., 0., 0., 0., 0., 0.]])\n"
     ]
    },
    {
     "name": "stderr",
     "output_type": "stream",
     "text": [
      "C:\\Users\\zoepr\\anaconda3\\envs\\decaf\\lib\\site-packages\\sklearn\\neural_network\\_multilayer_perceptron.py:617: ConvergenceWarning: Stochastic Optimizer: Maximum iterations (200) reached and the optimization hasn't converged yet.\n",
      "  % self.max_iter, ConvergenceWarning)\n"
     ]
    },
    {
     "name": "stdout",
     "output_type": "stream",
     "text": [
      "5\n",
      "[0.926605504587156, 0.8784530386740331, 0.8911174785100286, 0.9159159159159159, 0.9259259259259259, 0.9129129129129129, 0.9233128834355828, 0.9146341463414634, 0.9093655589123867, 0.9287925696594427, 0.8950437317784257, 0.9287925696594427, 0.9077380952380952, 0.9202453987730062, 0.9202453987730062, 0.9093655589123867, 0.9230769230769231, 0.9147058823529411, 0.9259259259259259, 0.863013698630137, 0.9230769230769231, 0.8677685950413223, 0.9230769230769231, 0.9093655589123867, 0.908256880733945, 0.9259259259259259, 0.9202453987730062, 0.9072463768115943, 0.893491124260355, 0.9181818181818182, 0.9202453987730062, 0.9146341463414634, 0.9316770186335404, 0.8924418604651163, 0.9230769230769231, 0.9230769230769231, 0.9129129129129129, 0.9316770186335404, 0.9207317073170732, 0.8739495798319328, 0.9259259259259259, 0.8853868194842407, 0.9316770186335404, 0.9213483146067416, 0.9146341463414634, 0.9316770186335404, 0.9202453987730062, 0.8931750741839762, 0.9371069182389937, 0.9202453987730062, 0.9174311926605505]\n",
      "[0.926605504587156, 0.8784530386740331, 0.8911174785100286, 0.9159159159159159, 0.9259259259259259, 0.9129129129129129, 0.9233128834355828, 0.9146341463414634, 0.9093655589123867, 0.9287925696594427, 0.8950437317784257, 0.9287925696594427, 0.9077380952380952, 0.9202453987730062, 0.9202453987730062, 0.9093655589123867, 0.9230769230769231, 0.9147058823529411, 0.9259259259259259, 0.863013698630137, 0.9230769230769231, 0.8677685950413223, 0.9230769230769231, 0.9093655589123867, 0.908256880733945, 0.9259259259259259, 0.9202453987730062, 0.9072463768115943, 0.893491124260355, 0.9181818181818182, 0.9202453987730062, 0.9146341463414634, 0.9316770186335404, 0.8924418604651163, 0.9230769230769231, 0.9230769230769231, 0.9129129129129129, 0.9316770186335404, 0.9207317073170732, 0.8739495798319328, 0.9259259259259259, 0.8853868194842407, 0.9316770186335404, 0.9213483146067416, 0.9146341463414634, 0.9316770186335404, 0.9202453987730062, 0.8931750741839762, 0.9371069182389937, 0.9202453987730062, 0.9174311926605505]\n"
     ]
    },
    {
     "name": "stderr",
     "output_type": "stream",
     "text": [
      "C:\\Users\\zoepr\\anaconda3\\envs\\decaf\\lib\\site-packages\\sklearn\\neural_network\\_multilayer_perceptron.py:617: ConvergenceWarning: Stochastic Optimizer: Maximum iterations (200) reached and the optimization hasn't converged yet.\n",
      "  % self.max_iter, ConvergenceWarning)\n"
     ]
    },
    {
     "name": "stdout",
     "output_type": "stream",
     "text": [
      "5\n"
     ]
    },
    {
     "name": "stderr",
     "output_type": "stream",
     "text": [
      "C:\\Users\\zoepr\\anaconda3\\envs\\decaf\\lib\\site-packages\\sklearn\\neural_network\\_multilayer_perceptron.py:617: ConvergenceWarning: Stochastic Optimizer: Maximum iterations (200) reached and the optimization hasn't converged yet.\n",
      "  % self.max_iter, ConvergenceWarning)\n"
     ]
    },
    {
     "name": "stdout",
     "output_type": "stream",
     "text": [
      "5\n",
      "precision done\n",
      "recall done\n",
      "auroc done\n",
      "ftu done\n",
      "dp done\n",
      "Initialised adjacency matrix as parsed:\n",
      " Parameter containing:\n",
      "tensor([[0., 0., 0., 0., 0., 0., 0., 0., 0., 0., 0., 0., 0., 0., 0., 0.],\n",
      "        [0., 0., 0., 0., 0., 0., 0., 1., 0., 0., 0., 0., 0., 0., 0., 0.],\n",
      "        [0., 0., 0., 0., 0., 0., 0., 0., 0., 0., 0., 0., 0., 0., 1., 0.],\n",
      "        [0., 0., 0., 0., 0., 0., 0., 0., 0., 0., 0., 0., 0., 0., 0., 1.],\n",
      "        [0., 0., 0., 0., 0., 0., 0., 0., 0., 0., 0., 0., 0., 0., 0., 0.],\n",
      "        [0., 0., 0., 1., 0., 0., 0., 0., 0., 1., 0., 0., 0., 0., 0., 0.],\n",
      "        [0., 0., 0., 1., 0., 0., 0., 0., 0., 0., 0., 0., 0., 0., 0., 1.],\n",
      "        [0., 0., 0., 0., 0., 0., 0., 0., 0., 0., 1., 0., 0., 0., 0., 0.],\n",
      "        [0., 0., 0., 0., 0., 0., 0., 0., 0., 1., 1., 0., 0., 0., 0., 1.],\n",
      "        [0., 0., 1., 0., 1., 0., 0., 0., 0., 0., 0., 0., 1., 0., 0., 1.],\n",
      "        [0., 0., 1., 0., 0., 0., 0., 0., 0., 0., 0., 0., 0., 0., 0., 1.],\n",
      "        [0., 0., 0., 0., 0., 0., 0., 0., 0., 1., 0., 0., 0., 0., 0., 0.],\n",
      "        [0., 0., 0., 1., 0., 0., 0., 0., 0., 0., 0., 0., 0., 0., 0., 0.],\n",
      "        [0., 0., 0., 1., 0., 0., 0., 0., 0., 0., 0., 0., 0., 0., 0., 0.],\n",
      "        [0., 0., 0., 1., 0., 0., 0., 0., 0., 0., 0., 0., 0., 0., 0., 1.],\n",
      "        [0., 0., 0., 0., 0., 0., 0., 0., 0., 0., 0., 0., 0., 0., 0., 0.]])\n"
     ]
    },
    {
     "name": "stderr",
     "output_type": "stream",
     "text": [
      "C:\\Users\\zoepr\\anaconda3\\envs\\decaf\\lib\\site-packages\\sklearn\\neural_network\\_multilayer_perceptron.py:617: ConvergenceWarning: Stochastic Optimizer: Maximum iterations (200) reached and the optimization hasn't converged yet.\n",
      "  % self.max_iter, ConvergenceWarning)\n"
     ]
    },
    {
     "name": "stdout",
     "output_type": "stream",
     "text": [
      "5\n",
      "[0.926605504587156, 0.8784530386740331, 0.8911174785100286, 0.9159159159159159, 0.9259259259259259, 0.9129129129129129, 0.9233128834355828, 0.9146341463414634, 0.9093655589123867, 0.9287925696594427, 0.8950437317784257, 0.9287925696594427, 0.9077380952380952, 0.9202453987730062, 0.9202453987730062, 0.9093655589123867, 0.9230769230769231, 0.9147058823529411, 0.9259259259259259, 0.863013698630137, 0.9230769230769231, 0.8677685950413223, 0.9230769230769231, 0.9093655589123867, 0.908256880733945, 0.9259259259259259, 0.9202453987730062, 0.9072463768115943, 0.893491124260355, 0.9181818181818182, 0.9202453987730062, 0.9146341463414634, 0.9316770186335404, 0.8924418604651163, 0.9230769230769231, 0.9230769230769231, 0.9129129129129129, 0.9316770186335404, 0.9207317073170732, 0.8739495798319328, 0.9259259259259259, 0.8853868194842407, 0.9316770186335404, 0.9213483146067416, 0.9146341463414634, 0.9316770186335404, 0.9202453987730062, 0.8931750741839762, 0.9371069182389937, 0.9202453987730062, 0.9174311926605505, 0.9287925696594427]\n",
      "[0.926605504587156, 0.8784530386740331, 0.8911174785100286, 0.9159159159159159, 0.9259259259259259, 0.9129129129129129, 0.9233128834355828, 0.9146341463414634, 0.9093655589123867, 0.9287925696594427, 0.8950437317784257, 0.9287925696594427, 0.9077380952380952, 0.9202453987730062, 0.9202453987730062, 0.9093655589123867, 0.9230769230769231, 0.9147058823529411, 0.9259259259259259, 0.863013698630137, 0.9230769230769231, 0.8677685950413223, 0.9230769230769231, 0.9093655589123867, 0.908256880733945, 0.9259259259259259, 0.9202453987730062, 0.9072463768115943, 0.893491124260355, 0.9181818181818182, 0.9202453987730062, 0.9146341463414634, 0.9316770186335404, 0.8924418604651163, 0.9230769230769231, 0.9230769230769231, 0.9129129129129129, 0.9316770186335404, 0.9207317073170732, 0.8739495798319328, 0.9259259259259259, 0.8853868194842407, 0.9316770186335404, 0.9213483146067416, 0.9146341463414634, 0.9316770186335404, 0.9202453987730062, 0.8931750741839762, 0.9371069182389937, 0.9202453987730062, 0.9174311926605505, 0.9287925696594427]\n"
     ]
    },
    {
     "name": "stderr",
     "output_type": "stream",
     "text": [
      "C:\\Users\\zoepr\\anaconda3\\envs\\decaf\\lib\\site-packages\\sklearn\\neural_network\\_multilayer_perceptron.py:617: ConvergenceWarning: Stochastic Optimizer: Maximum iterations (200) reached and the optimization hasn't converged yet.\n",
      "  % self.max_iter, ConvergenceWarning)\n"
     ]
    },
    {
     "name": "stdout",
     "output_type": "stream",
     "text": [
      "5\n"
     ]
    },
    {
     "name": "stderr",
     "output_type": "stream",
     "text": [
      "C:\\Users\\zoepr\\anaconda3\\envs\\decaf\\lib\\site-packages\\sklearn\\neural_network\\_multilayer_perceptron.py:617: ConvergenceWarning: Stochastic Optimizer: Maximum iterations (200) reached and the optimization hasn't converged yet.\n",
      "  % self.max_iter, ConvergenceWarning)\n"
     ]
    },
    {
     "name": "stdout",
     "output_type": "stream",
     "text": [
      "5\n",
      "precision done\n",
      "recall done\n",
      "auroc done\n",
      "ftu done\n",
      "dp done\n",
      "Initialised adjacency matrix as parsed:\n",
      " Parameter containing:\n",
      "tensor([[0., 0., 0., 0., 0., 0., 0., 0., 0., 0., 0., 0., 0., 0., 0., 0.],\n",
      "        [0., 0., 0., 0., 0., 0., 0., 1., 0., 0., 0., 0., 0., 0., 0., 0.],\n",
      "        [0., 0., 0., 0., 0., 0., 0., 0., 0., 0., 0., 0., 0., 0., 1., 0.],\n",
      "        [0., 0., 0., 0., 0., 0., 0., 0., 0., 0., 0., 0., 0., 0., 0., 1.],\n",
      "        [0., 0., 0., 0., 0., 0., 0., 0., 0., 0., 0., 0., 0., 0., 0., 0.],\n",
      "        [0., 0., 0., 1., 0., 0., 0., 0., 0., 1., 0., 0., 0., 0., 0., 0.],\n",
      "        [0., 0., 0., 1., 0., 0., 0., 0., 0., 0., 0., 0., 0., 0., 0., 1.],\n",
      "        [0., 0., 0., 0., 0., 0., 0., 0., 0., 0., 1., 0., 0., 0., 0., 0.],\n",
      "        [0., 0., 0., 0., 0., 0., 0., 0., 0., 1., 1., 0., 0., 0., 0., 1.],\n",
      "        [0., 0., 1., 0., 1., 0., 0., 0., 0., 0., 0., 0., 1., 0., 0., 1.],\n",
      "        [0., 0., 1., 0., 0., 0., 0., 0., 0., 0., 0., 0., 0., 0., 0., 1.],\n",
      "        [0., 0., 0., 0., 0., 0., 0., 0., 0., 1., 0., 0., 0., 0., 0., 0.],\n",
      "        [0., 0., 0., 1., 0., 0., 0., 0., 0., 0., 0., 0., 0., 0., 0., 0.],\n",
      "        [0., 0., 0., 1., 0., 0., 0., 0., 0., 0., 0., 0., 0., 0., 0., 0.],\n",
      "        [0., 0., 0., 1., 0., 0., 0., 0., 0., 0., 0., 0., 0., 0., 0., 1.],\n",
      "        [0., 0., 0., 0., 0., 0., 0., 0., 0., 0., 0., 0., 0., 0., 0., 0.]])\n"
     ]
    },
    {
     "name": "stderr",
     "output_type": "stream",
     "text": [
      "C:\\Users\\zoepr\\anaconda3\\envs\\decaf\\lib\\site-packages\\sklearn\\neural_network\\_multilayer_perceptron.py:617: ConvergenceWarning: Stochastic Optimizer: Maximum iterations (200) reached and the optimization hasn't converged yet.\n",
      "  % self.max_iter, ConvergenceWarning)\n"
     ]
    },
    {
     "name": "stdout",
     "output_type": "stream",
     "text": [
      "5\n",
      "[0.926605504587156, 0.8784530386740331, 0.8911174785100286, 0.9159159159159159, 0.9259259259259259, 0.9129129129129129, 0.9233128834355828, 0.9146341463414634, 0.9093655589123867, 0.9287925696594427, 0.8950437317784257, 0.9287925696594427, 0.9077380952380952, 0.9202453987730062, 0.9202453987730062, 0.9093655589123867, 0.9230769230769231, 0.9147058823529411, 0.9259259259259259, 0.863013698630137, 0.9230769230769231, 0.8677685950413223, 0.9230769230769231, 0.9093655589123867, 0.908256880733945, 0.9259259259259259, 0.9202453987730062, 0.9072463768115943, 0.893491124260355, 0.9181818181818182, 0.9202453987730062, 0.9146341463414634, 0.9316770186335404, 0.8924418604651163, 0.9230769230769231, 0.9230769230769231, 0.9129129129129129, 0.9316770186335404, 0.9207317073170732, 0.8739495798319328, 0.9259259259259259, 0.8853868194842407, 0.9316770186335404, 0.9213483146067416, 0.9146341463414634, 0.9316770186335404, 0.9202453987730062, 0.8931750741839762, 0.9371069182389937, 0.9202453987730062, 0.9174311926605505, 0.9287925696594427, 0.9026548672566371]\n",
      "[0.926605504587156, 0.8784530386740331, 0.8911174785100286, 0.9159159159159159, 0.9259259259259259, 0.9129129129129129, 0.9233128834355828, 0.9146341463414634, 0.9093655589123867, 0.9287925696594427, 0.8950437317784257, 0.9287925696594427, 0.9077380952380952, 0.9202453987730062, 0.9202453987730062, 0.9093655589123867, 0.9230769230769231, 0.9147058823529411, 0.9259259259259259, 0.863013698630137, 0.9230769230769231, 0.8677685950413223, 0.9230769230769231, 0.9093655589123867, 0.908256880733945, 0.9259259259259259, 0.9202453987730062, 0.9072463768115943, 0.893491124260355, 0.9181818181818182, 0.9202453987730062, 0.9146341463414634, 0.9316770186335404, 0.8924418604651163, 0.9230769230769231, 0.9230769230769231, 0.9129129129129129, 0.9316770186335404, 0.9207317073170732, 0.8739495798319328, 0.9259259259259259, 0.8853868194842407, 0.9316770186335404, 0.9213483146067416, 0.9146341463414634, 0.9316770186335404, 0.9202453987730062, 0.8931750741839762, 0.9371069182389937, 0.9202453987730062, 0.9174311926605505, 0.9287925696594427, 0.9026548672566371]\n"
     ]
    },
    {
     "name": "stderr",
     "output_type": "stream",
     "text": [
      "C:\\Users\\zoepr\\anaconda3\\envs\\decaf\\lib\\site-packages\\sklearn\\neural_network\\_multilayer_perceptron.py:617: ConvergenceWarning: Stochastic Optimizer: Maximum iterations (200) reached and the optimization hasn't converged yet.\n",
      "  % self.max_iter, ConvergenceWarning)\n"
     ]
    },
    {
     "name": "stdout",
     "output_type": "stream",
     "text": [
      "5\n"
     ]
    },
    {
     "name": "stderr",
     "output_type": "stream",
     "text": [
      "C:\\Users\\zoepr\\anaconda3\\envs\\decaf\\lib\\site-packages\\sklearn\\neural_network\\_multilayer_perceptron.py:617: ConvergenceWarning: Stochastic Optimizer: Maximum iterations (200) reached and the optimization hasn't converged yet.\n",
      "  % self.max_iter, ConvergenceWarning)\n"
     ]
    },
    {
     "name": "stdout",
     "output_type": "stream",
     "text": [
      "5\n",
      "precision done\n",
      "recall done\n",
      "auroc done\n",
      "ftu done\n",
      "dp done\n",
      "Initialised adjacency matrix as parsed:\n",
      " Parameter containing:\n",
      "tensor([[0., 0., 0., 0., 0., 0., 0., 0., 0., 0., 0., 0., 0., 0., 0., 0.],\n",
      "        [0., 0., 0., 0., 0., 0., 0., 1., 0., 0., 0., 0., 0., 0., 0., 0.],\n",
      "        [0., 0., 0., 0., 0., 0., 0., 0., 0., 0., 0., 0., 0., 0., 1., 0.],\n",
      "        [0., 0., 0., 0., 0., 0., 0., 0., 0., 0., 0., 0., 0., 0., 0., 1.],\n",
      "        [0., 0., 0., 0., 0., 0., 0., 0., 0., 0., 0., 0., 0., 0., 0., 0.],\n",
      "        [0., 0., 0., 1., 0., 0., 0., 0., 0., 1., 0., 0., 0., 0., 0., 0.],\n",
      "        [0., 0., 0., 1., 0., 0., 0., 0., 0., 0., 0., 0., 0., 0., 0., 1.],\n",
      "        [0., 0., 0., 0., 0., 0., 0., 0., 0., 0., 1., 0., 0., 0., 0., 0.],\n",
      "        [0., 0., 0., 0., 0., 0., 0., 0., 0., 1., 1., 0., 0., 0., 0., 1.],\n",
      "        [0., 0., 1., 0., 1., 0., 0., 0., 0., 0., 0., 0., 1., 0., 0., 1.],\n",
      "        [0., 0., 1., 0., 0., 0., 0., 0., 0., 0., 0., 0., 0., 0., 0., 1.],\n",
      "        [0., 0., 0., 0., 0., 0., 0., 0., 0., 1., 0., 0., 0., 0., 0., 0.],\n",
      "        [0., 0., 0., 1., 0., 0., 0., 0., 0., 0., 0., 0., 0., 0., 0., 0.],\n",
      "        [0., 0., 0., 1., 0., 0., 0., 0., 0., 0., 0., 0., 0., 0., 0., 0.],\n",
      "        [0., 0., 0., 1., 0., 0., 0., 0., 0., 0., 0., 0., 0., 0., 0., 1.],\n",
      "        [0., 0., 0., 0., 0., 0., 0., 0., 0., 0., 0., 0., 0., 0., 0., 0.]])\n"
     ]
    },
    {
     "name": "stderr",
     "output_type": "stream",
     "text": [
      "C:\\Users\\zoepr\\anaconda3\\envs\\decaf\\lib\\site-packages\\sklearn\\neural_network\\_multilayer_perceptron.py:617: ConvergenceWarning: Stochastic Optimizer: Maximum iterations (200) reached and the optimization hasn't converged yet.\n",
      "  % self.max_iter, ConvergenceWarning)\n"
     ]
    },
    {
     "name": "stdout",
     "output_type": "stream",
     "text": [
      "5\n",
      "[0.926605504587156, 0.8784530386740331, 0.8911174785100286, 0.9159159159159159, 0.9259259259259259, 0.9129129129129129, 0.9233128834355828, 0.9146341463414634, 0.9093655589123867, 0.9287925696594427, 0.8950437317784257, 0.9287925696594427, 0.9077380952380952, 0.9202453987730062, 0.9202453987730062, 0.9093655589123867, 0.9230769230769231, 0.9147058823529411, 0.9259259259259259, 0.863013698630137, 0.9230769230769231, 0.8677685950413223, 0.9230769230769231, 0.9093655589123867, 0.908256880733945, 0.9259259259259259, 0.9202453987730062, 0.9072463768115943, 0.893491124260355, 0.9181818181818182, 0.9202453987730062, 0.9146341463414634, 0.9316770186335404, 0.8924418604651163, 0.9230769230769231, 0.9230769230769231, 0.9129129129129129, 0.9316770186335404, 0.9207317073170732, 0.8739495798319328, 0.9259259259259259, 0.8853868194842407, 0.9316770186335404, 0.9213483146067416, 0.9146341463414634, 0.9316770186335404, 0.9202453987730062, 0.8931750741839762, 0.9371069182389937, 0.9202453987730062, 0.9174311926605505, 0.9287925696594427, 0.9026548672566371, 0.906158357771261]\n",
      "[0.926605504587156, 0.8784530386740331, 0.8911174785100286, 0.9159159159159159, 0.9259259259259259, 0.9129129129129129, 0.9233128834355828, 0.9146341463414634, 0.9093655589123867, 0.9287925696594427, 0.8950437317784257, 0.9287925696594427, 0.9077380952380952, 0.9202453987730062, 0.9202453987730062, 0.9093655589123867, 0.9230769230769231, 0.9147058823529411, 0.9259259259259259, 0.863013698630137, 0.9230769230769231, 0.8677685950413223, 0.9230769230769231, 0.9093655589123867, 0.908256880733945, 0.9259259259259259, 0.9202453987730062, 0.9072463768115943, 0.893491124260355, 0.9181818181818182, 0.9202453987730062, 0.9146341463414634, 0.9316770186335404, 0.8924418604651163, 0.9230769230769231, 0.9230769230769231, 0.9129129129129129, 0.9316770186335404, 0.9207317073170732, 0.8739495798319328, 0.9259259259259259, 0.8853868194842407, 0.9316770186335404, 0.9213483146067416, 0.9146341463414634, 0.9316770186335404, 0.9202453987730062, 0.8931750741839762, 0.9371069182389937, 0.9202453987730062, 0.9174311926605505, 0.9287925696594427, 0.9026548672566371, 0.906158357771261]\n"
     ]
    },
    {
     "name": "stderr",
     "output_type": "stream",
     "text": [
      "C:\\Users\\zoepr\\anaconda3\\envs\\decaf\\lib\\site-packages\\sklearn\\neural_network\\_multilayer_perceptron.py:617: ConvergenceWarning: Stochastic Optimizer: Maximum iterations (200) reached and the optimization hasn't converged yet.\n",
      "  % self.max_iter, ConvergenceWarning)\n"
     ]
    },
    {
     "name": "stdout",
     "output_type": "stream",
     "text": [
      "5\n"
     ]
    },
    {
     "name": "stderr",
     "output_type": "stream",
     "text": [
      "C:\\Users\\zoepr\\anaconda3\\envs\\decaf\\lib\\site-packages\\sklearn\\neural_network\\_multilayer_perceptron.py:617: ConvergenceWarning: Stochastic Optimizer: Maximum iterations (200) reached and the optimization hasn't converged yet.\n",
      "  % self.max_iter, ConvergenceWarning)\n"
     ]
    },
    {
     "name": "stdout",
     "output_type": "stream",
     "text": [
      "5\n",
      "precision done\n",
      "recall done\n",
      "auroc done\n",
      "ftu done\n",
      "dp done\n",
      "Initialised adjacency matrix as parsed:\n",
      " Parameter containing:\n",
      "tensor([[0., 0., 0., 0., 0., 0., 0., 0., 0., 0., 0., 0., 0., 0., 0., 0.],\n",
      "        [0., 0., 0., 0., 0., 0., 0., 1., 0., 0., 0., 0., 0., 0., 0., 0.],\n",
      "        [0., 0., 0., 0., 0., 0., 0., 0., 0., 0., 0., 0., 0., 0., 1., 0.],\n",
      "        [0., 0., 0., 0., 0., 0., 0., 0., 0., 0., 0., 0., 0., 0., 0., 1.],\n",
      "        [0., 0., 0., 0., 0., 0., 0., 0., 0., 0., 0., 0., 0., 0., 0., 0.],\n",
      "        [0., 0., 0., 1., 0., 0., 0., 0., 0., 1., 0., 0., 0., 0., 0., 0.],\n",
      "        [0., 0., 0., 1., 0., 0., 0., 0., 0., 0., 0., 0., 0., 0., 0., 1.],\n",
      "        [0., 0., 0., 0., 0., 0., 0., 0., 0., 0., 1., 0., 0., 0., 0., 0.],\n",
      "        [0., 0., 0., 0., 0., 0., 0., 0., 0., 1., 1., 0., 0., 0., 0., 1.],\n",
      "        [0., 0., 1., 0., 1., 0., 0., 0., 0., 0., 0., 0., 1., 0., 0., 1.],\n",
      "        [0., 0., 1., 0., 0., 0., 0., 0., 0., 0., 0., 0., 0., 0., 0., 1.],\n",
      "        [0., 0., 0., 0., 0., 0., 0., 0., 0., 1., 0., 0., 0., 0., 0., 0.],\n",
      "        [0., 0., 0., 1., 0., 0., 0., 0., 0., 0., 0., 0., 0., 0., 0., 0.],\n",
      "        [0., 0., 0., 1., 0., 0., 0., 0., 0., 0., 0., 0., 0., 0., 0., 0.],\n",
      "        [0., 0., 0., 1., 0., 0., 0., 0., 0., 0., 0., 0., 0., 0., 0., 1.],\n",
      "        [0., 0., 0., 0., 0., 0., 0., 0., 0., 0., 0., 0., 0., 0., 0., 0.]])\n"
     ]
    },
    {
     "name": "stderr",
     "output_type": "stream",
     "text": [
      "C:\\Users\\zoepr\\anaconda3\\envs\\decaf\\lib\\site-packages\\sklearn\\neural_network\\_multilayer_perceptron.py:617: ConvergenceWarning: Stochastic Optimizer: Maximum iterations (200) reached and the optimization hasn't converged yet.\n",
      "  % self.max_iter, ConvergenceWarning)\n"
     ]
    },
    {
     "name": "stdout",
     "output_type": "stream",
     "text": [
      "5\n",
      "[0.926605504587156, 0.8784530386740331, 0.8911174785100286, 0.9159159159159159, 0.9259259259259259, 0.9129129129129129, 0.9233128834355828, 0.9146341463414634, 0.9093655589123867, 0.9287925696594427, 0.8950437317784257, 0.9287925696594427, 0.9077380952380952, 0.9202453987730062, 0.9202453987730062, 0.9093655589123867, 0.9230769230769231, 0.9147058823529411, 0.9259259259259259, 0.863013698630137, 0.9230769230769231, 0.8677685950413223, 0.9230769230769231, 0.9093655589123867, 0.908256880733945, 0.9259259259259259, 0.9202453987730062, 0.9072463768115943, 0.893491124260355, 0.9181818181818182, 0.9202453987730062, 0.9146341463414634, 0.9316770186335404, 0.8924418604651163, 0.9230769230769231, 0.9230769230769231, 0.9129129129129129, 0.9316770186335404, 0.9207317073170732, 0.8739495798319328, 0.9259259259259259, 0.8853868194842407, 0.9316770186335404, 0.9213483146067416, 0.9146341463414634, 0.9316770186335404, 0.9202453987730062, 0.8931750741839762, 0.9371069182389937, 0.9202453987730062, 0.9174311926605505, 0.9287925696594427, 0.9026548672566371, 0.906158357771261, 0.9202453987730062]\n",
      "[0.926605504587156, 0.8784530386740331, 0.8911174785100286, 0.9159159159159159, 0.9259259259259259, 0.9129129129129129, 0.9233128834355828, 0.9146341463414634, 0.9093655589123867, 0.9287925696594427, 0.8950437317784257, 0.9287925696594427, 0.9077380952380952, 0.9202453987730062, 0.9202453987730062, 0.9093655589123867, 0.9230769230769231, 0.9147058823529411, 0.9259259259259259, 0.863013698630137, 0.9230769230769231, 0.8677685950413223, 0.9230769230769231, 0.9093655589123867, 0.908256880733945, 0.9259259259259259, 0.9202453987730062, 0.9072463768115943, 0.893491124260355, 0.9181818181818182, 0.9202453987730062, 0.9146341463414634, 0.9316770186335404, 0.8924418604651163, 0.9230769230769231, 0.9230769230769231, 0.9129129129129129, 0.9316770186335404, 0.9207317073170732, 0.8739495798319328, 0.9259259259259259, 0.8853868194842407, 0.9316770186335404, 0.9213483146067416, 0.9146341463414634, 0.9316770186335404, 0.9202453987730062, 0.8931750741839762, 0.9371069182389937, 0.9202453987730062, 0.9174311926605505, 0.9287925696594427, 0.9026548672566371, 0.906158357771261, 0.9202453987730062]\n"
     ]
    },
    {
     "name": "stderr",
     "output_type": "stream",
     "text": [
      "C:\\Users\\zoepr\\anaconda3\\envs\\decaf\\lib\\site-packages\\sklearn\\neural_network\\_multilayer_perceptron.py:617: ConvergenceWarning: Stochastic Optimizer: Maximum iterations (200) reached and the optimization hasn't converged yet.\n",
      "  % self.max_iter, ConvergenceWarning)\n"
     ]
    },
    {
     "name": "stdout",
     "output_type": "stream",
     "text": [
      "5\n"
     ]
    },
    {
     "name": "stderr",
     "output_type": "stream",
     "text": [
      "C:\\Users\\zoepr\\anaconda3\\envs\\decaf\\lib\\site-packages\\sklearn\\neural_network\\_multilayer_perceptron.py:617: ConvergenceWarning: Stochastic Optimizer: Maximum iterations (200) reached and the optimization hasn't converged yet.\n",
      "  % self.max_iter, ConvergenceWarning)\n"
     ]
    },
    {
     "name": "stdout",
     "output_type": "stream",
     "text": [
      "5\n",
      "precision done\n",
      "recall done\n",
      "auroc done\n",
      "ftu done\n",
      "dp done\n",
      "Initialised adjacency matrix as parsed:\n",
      " Parameter containing:\n",
      "tensor([[0., 0., 0., 0., 0., 0., 0., 0., 0., 0., 0., 0., 0., 0., 0., 0.],\n",
      "        [0., 0., 0., 0., 0., 0., 0., 1., 0., 0., 0., 0., 0., 0., 0., 0.],\n",
      "        [0., 0., 0., 0., 0., 0., 0., 0., 0., 0., 0., 0., 0., 0., 1., 0.],\n",
      "        [0., 0., 0., 0., 0., 0., 0., 0., 0., 0., 0., 0., 0., 0., 0., 1.],\n",
      "        [0., 0., 0., 0., 0., 0., 0., 0., 0., 0., 0., 0., 0., 0., 0., 0.],\n",
      "        [0., 0., 0., 1., 0., 0., 0., 0., 0., 1., 0., 0., 0., 0., 0., 0.],\n",
      "        [0., 0., 0., 1., 0., 0., 0., 0., 0., 0., 0., 0., 0., 0., 0., 1.],\n",
      "        [0., 0., 0., 0., 0., 0., 0., 0., 0., 0., 1., 0., 0., 0., 0., 0.],\n",
      "        [0., 0., 0., 0., 0., 0., 0., 0., 0., 1., 1., 0., 0., 0., 0., 1.],\n",
      "        [0., 0., 1., 0., 1., 0., 0., 0., 0., 0., 0., 0., 1., 0., 0., 1.],\n",
      "        [0., 0., 1., 0., 0., 0., 0., 0., 0., 0., 0., 0., 0., 0., 0., 1.],\n",
      "        [0., 0., 0., 0., 0., 0., 0., 0., 0., 1., 0., 0., 0., 0., 0., 0.],\n",
      "        [0., 0., 0., 1., 0., 0., 0., 0., 0., 0., 0., 0., 0., 0., 0., 0.],\n",
      "        [0., 0., 0., 1., 0., 0., 0., 0., 0., 0., 0., 0., 0., 0., 0., 0.],\n",
      "        [0., 0., 0., 1., 0., 0., 0., 0., 0., 0., 0., 0., 0., 0., 0., 1.],\n",
      "        [0., 0., 0., 0., 0., 0., 0., 0., 0., 0., 0., 0., 0., 0., 0., 0.]])\n"
     ]
    },
    {
     "name": "stderr",
     "output_type": "stream",
     "text": [
      "C:\\Users\\zoepr\\anaconda3\\envs\\decaf\\lib\\site-packages\\sklearn\\neural_network\\_multilayer_perceptron.py:617: ConvergenceWarning: Stochastic Optimizer: Maximum iterations (200) reached and the optimization hasn't converged yet.\n",
      "  % self.max_iter, ConvergenceWarning)\n"
     ]
    },
    {
     "name": "stdout",
     "output_type": "stream",
     "text": [
      "5\n",
      "[0.926605504587156, 0.8784530386740331, 0.8911174785100286, 0.9159159159159159, 0.9259259259259259, 0.9129129129129129, 0.9233128834355828, 0.9146341463414634, 0.9093655589123867, 0.9287925696594427, 0.8950437317784257, 0.9287925696594427, 0.9077380952380952, 0.9202453987730062, 0.9202453987730062, 0.9093655589123867, 0.9230769230769231, 0.9147058823529411, 0.9259259259259259, 0.863013698630137, 0.9230769230769231, 0.8677685950413223, 0.9230769230769231, 0.9093655589123867, 0.908256880733945, 0.9259259259259259, 0.9202453987730062, 0.9072463768115943, 0.893491124260355, 0.9181818181818182, 0.9202453987730062, 0.9146341463414634, 0.9316770186335404, 0.8924418604651163, 0.9230769230769231, 0.9230769230769231, 0.9129129129129129, 0.9316770186335404, 0.9207317073170732, 0.8739495798319328, 0.9259259259259259, 0.8853868194842407, 0.9316770186335404, 0.9213483146067416, 0.9146341463414634, 0.9316770186335404, 0.9202453987730062, 0.8931750741839762, 0.9371069182389937, 0.9202453987730062, 0.9174311926605505, 0.9287925696594427, 0.9026548672566371, 0.906158357771261, 0.9202453987730062, 0.9212121212121213]\n",
      "[0.926605504587156, 0.8784530386740331, 0.8911174785100286, 0.9159159159159159, 0.9259259259259259, 0.9129129129129129, 0.9233128834355828, 0.9146341463414634, 0.9093655589123867, 0.9287925696594427, 0.8950437317784257, 0.9287925696594427, 0.9077380952380952, 0.9202453987730062, 0.9202453987730062, 0.9093655589123867, 0.9230769230769231, 0.9147058823529411, 0.9259259259259259, 0.863013698630137, 0.9230769230769231, 0.8677685950413223, 0.9230769230769231, 0.9093655589123867, 0.908256880733945, 0.9259259259259259, 0.9202453987730062, 0.9072463768115943, 0.893491124260355, 0.9181818181818182, 0.9202453987730062, 0.9146341463414634, 0.9316770186335404, 0.8924418604651163, 0.9230769230769231, 0.9230769230769231, 0.9129129129129129, 0.9316770186335404, 0.9207317073170732, 0.8739495798319328, 0.9259259259259259, 0.8853868194842407, 0.9316770186335404, 0.9213483146067416, 0.9146341463414634, 0.9316770186335404, 0.9202453987730062, 0.8931750741839762, 0.9371069182389937, 0.9202453987730062, 0.9174311926605505, 0.9287925696594427, 0.9026548672566371, 0.906158357771261, 0.9202453987730062, 0.9212121212121213]\n"
     ]
    },
    {
     "name": "stderr",
     "output_type": "stream",
     "text": [
      "C:\\Users\\zoepr\\anaconda3\\envs\\decaf\\lib\\site-packages\\sklearn\\neural_network\\_multilayer_perceptron.py:617: ConvergenceWarning: Stochastic Optimizer: Maximum iterations (200) reached and the optimization hasn't converged yet.\n",
      "  % self.max_iter, ConvergenceWarning)\n"
     ]
    },
    {
     "name": "stdout",
     "output_type": "stream",
     "text": [
      "5\n"
     ]
    },
    {
     "name": "stderr",
     "output_type": "stream",
     "text": [
      "C:\\Users\\zoepr\\anaconda3\\envs\\decaf\\lib\\site-packages\\sklearn\\neural_network\\_multilayer_perceptron.py:617: ConvergenceWarning: Stochastic Optimizer: Maximum iterations (200) reached and the optimization hasn't converged yet.\n",
      "  % self.max_iter, ConvergenceWarning)\n"
     ]
    },
    {
     "name": "stdout",
     "output_type": "stream",
     "text": [
      "5\n",
      "precision done\n",
      "recall done\n",
      "auroc done\n",
      "ftu done\n",
      "dp done\n",
      "Initialised adjacency matrix as parsed:\n",
      " Parameter containing:\n",
      "tensor([[0., 0., 0., 0., 0., 0., 0., 0., 0., 0., 0., 0., 0., 0., 0., 0.],\n",
      "        [0., 0., 0., 0., 0., 0., 0., 1., 0., 0., 0., 0., 0., 0., 0., 0.],\n",
      "        [0., 0., 0., 0., 0., 0., 0., 0., 0., 0., 0., 0., 0., 0., 1., 0.],\n",
      "        [0., 0., 0., 0., 0., 0., 0., 0., 0., 0., 0., 0., 0., 0., 0., 1.],\n",
      "        [0., 0., 0., 0., 0., 0., 0., 0., 0., 0., 0., 0., 0., 0., 0., 0.],\n",
      "        [0., 0., 0., 1., 0., 0., 0., 0., 0., 1., 0., 0., 0., 0., 0., 0.],\n",
      "        [0., 0., 0., 1., 0., 0., 0., 0., 0., 0., 0., 0., 0., 0., 0., 1.],\n",
      "        [0., 0., 0., 0., 0., 0., 0., 0., 0., 0., 1., 0., 0., 0., 0., 0.],\n",
      "        [0., 0., 0., 0., 0., 0., 0., 0., 0., 1., 1., 0., 0., 0., 0., 1.],\n",
      "        [0., 0., 1., 0., 1., 0., 0., 0., 0., 0., 0., 0., 1., 0., 0., 1.],\n",
      "        [0., 0., 1., 0., 0., 0., 0., 0., 0., 0., 0., 0., 0., 0., 0., 1.],\n",
      "        [0., 0., 0., 0., 0., 0., 0., 0., 0., 1., 0., 0., 0., 0., 0., 0.],\n",
      "        [0., 0., 0., 1., 0., 0., 0., 0., 0., 0., 0., 0., 0., 0., 0., 0.],\n",
      "        [0., 0., 0., 1., 0., 0., 0., 0., 0., 0., 0., 0., 0., 0., 0., 0.],\n",
      "        [0., 0., 0., 1., 0., 0., 0., 0., 0., 0., 0., 0., 0., 0., 0., 1.],\n",
      "        [0., 0., 0., 0., 0., 0., 0., 0., 0., 0., 0., 0., 0., 0., 0., 0.]])\n"
     ]
    },
    {
     "name": "stderr",
     "output_type": "stream",
     "text": [
      "C:\\Users\\zoepr\\anaconda3\\envs\\decaf\\lib\\site-packages\\sklearn\\neural_network\\_multilayer_perceptron.py:617: ConvergenceWarning: Stochastic Optimizer: Maximum iterations (200) reached and the optimization hasn't converged yet.\n",
      "  % self.max_iter, ConvergenceWarning)\n"
     ]
    },
    {
     "name": "stdout",
     "output_type": "stream",
     "text": [
      "5\n",
      "[0.926605504587156, 0.8784530386740331, 0.8911174785100286, 0.9159159159159159, 0.9259259259259259, 0.9129129129129129, 0.9233128834355828, 0.9146341463414634, 0.9093655589123867, 0.9287925696594427, 0.8950437317784257, 0.9287925696594427, 0.9077380952380952, 0.9202453987730062, 0.9202453987730062, 0.9093655589123867, 0.9230769230769231, 0.9147058823529411, 0.9259259259259259, 0.863013698630137, 0.9230769230769231, 0.8677685950413223, 0.9230769230769231, 0.9093655589123867, 0.908256880733945, 0.9259259259259259, 0.9202453987730062, 0.9072463768115943, 0.893491124260355, 0.9181818181818182, 0.9202453987730062, 0.9146341463414634, 0.9316770186335404, 0.8924418604651163, 0.9230769230769231, 0.9230769230769231, 0.9129129129129129, 0.9316770186335404, 0.9207317073170732, 0.8739495798319328, 0.9259259259259259, 0.8853868194842407, 0.9316770186335404, 0.9213483146067416, 0.9146341463414634, 0.9316770186335404, 0.9202453987730062, 0.8931750741839762, 0.9371069182389937, 0.9202453987730062, 0.9174311926605505, 0.9287925696594427, 0.9026548672566371, 0.906158357771261, 0.9202453987730062, 0.9212121212121213, 0.9202453987730062]\n",
      "[0.926605504587156, 0.8784530386740331, 0.8911174785100286, 0.9159159159159159, 0.9259259259259259, 0.9129129129129129, 0.9233128834355828, 0.9146341463414634, 0.9093655589123867, 0.9287925696594427, 0.8950437317784257, 0.9287925696594427, 0.9077380952380952, 0.9202453987730062, 0.9202453987730062, 0.9093655589123867, 0.9230769230769231, 0.9147058823529411, 0.9259259259259259, 0.863013698630137, 0.9230769230769231, 0.8677685950413223, 0.9230769230769231, 0.9093655589123867, 0.908256880733945, 0.9259259259259259, 0.9202453987730062, 0.9072463768115943, 0.893491124260355, 0.9181818181818182, 0.9202453987730062, 0.9146341463414634, 0.9316770186335404, 0.8924418604651163, 0.9230769230769231, 0.9230769230769231, 0.9129129129129129, 0.9316770186335404, 0.9207317073170732, 0.8739495798319328, 0.9259259259259259, 0.8853868194842407, 0.9316770186335404, 0.9213483146067416, 0.9146341463414634, 0.9316770186335404, 0.9202453987730062, 0.8931750741839762, 0.9371069182389937, 0.9202453987730062, 0.9174311926605505, 0.9287925696594427, 0.9026548672566371, 0.906158357771261, 0.9202453987730062, 0.9212121212121213, 0.9202453987730062]\n"
     ]
    },
    {
     "name": "stderr",
     "output_type": "stream",
     "text": [
      "C:\\Users\\zoepr\\anaconda3\\envs\\decaf\\lib\\site-packages\\sklearn\\neural_network\\_multilayer_perceptron.py:617: ConvergenceWarning: Stochastic Optimizer: Maximum iterations (200) reached and the optimization hasn't converged yet.\n",
      "  % self.max_iter, ConvergenceWarning)\n"
     ]
    },
    {
     "name": "stdout",
     "output_type": "stream",
     "text": [
      "5\n"
     ]
    },
    {
     "name": "stderr",
     "output_type": "stream",
     "text": [
      "C:\\Users\\zoepr\\anaconda3\\envs\\decaf\\lib\\site-packages\\sklearn\\neural_network\\_multilayer_perceptron.py:617: ConvergenceWarning: Stochastic Optimizer: Maximum iterations (200) reached and the optimization hasn't converged yet.\n",
      "  % self.max_iter, ConvergenceWarning)\n"
     ]
    },
    {
     "name": "stdout",
     "output_type": "stream",
     "text": [
      "5\n",
      "precision done\n",
      "recall done\n",
      "auroc done\n",
      "ftu done\n",
      "dp done\n",
      "Initialised adjacency matrix as parsed:\n",
      " Parameter containing:\n",
      "tensor([[0., 0., 0., 0., 0., 0., 0., 0., 0., 0., 0., 0., 0., 0., 0., 0.],\n",
      "        [0., 0., 0., 0., 0., 0., 0., 1., 0., 0., 0., 0., 0., 0., 0., 0.],\n",
      "        [0., 0., 0., 0., 0., 0., 0., 0., 0., 0., 0., 0., 0., 0., 1., 0.],\n",
      "        [0., 0., 0., 0., 0., 0., 0., 0., 0., 0., 0., 0., 0., 0., 0., 1.],\n",
      "        [0., 0., 0., 0., 0., 0., 0., 0., 0., 0., 0., 0., 0., 0., 0., 0.],\n",
      "        [0., 0., 0., 1., 0., 0., 0., 0., 0., 1., 0., 0., 0., 0., 0., 0.],\n",
      "        [0., 0., 0., 1., 0., 0., 0., 0., 0., 0., 0., 0., 0., 0., 0., 1.],\n",
      "        [0., 0., 0., 0., 0., 0., 0., 0., 0., 0., 1., 0., 0., 0., 0., 0.],\n",
      "        [0., 0., 0., 0., 0., 0., 0., 0., 0., 1., 1., 0., 0., 0., 0., 1.],\n",
      "        [0., 0., 1., 0., 1., 0., 0., 0., 0., 0., 0., 0., 1., 0., 0., 1.],\n",
      "        [0., 0., 1., 0., 0., 0., 0., 0., 0., 0., 0., 0., 0., 0., 0., 1.],\n",
      "        [0., 0., 0., 0., 0., 0., 0., 0., 0., 1., 0., 0., 0., 0., 0., 0.],\n",
      "        [0., 0., 0., 1., 0., 0., 0., 0., 0., 0., 0., 0., 0., 0., 0., 0.],\n",
      "        [0., 0., 0., 1., 0., 0., 0., 0., 0., 0., 0., 0., 0., 0., 0., 0.],\n",
      "        [0., 0., 0., 1., 0., 0., 0., 0., 0., 0., 0., 0., 0., 0., 0., 1.],\n",
      "        [0., 0., 0., 0., 0., 0., 0., 0., 0., 0., 0., 0., 0., 0., 0., 0.]])\n"
     ]
    },
    {
     "name": "stderr",
     "output_type": "stream",
     "text": [
      "C:\\Users\\zoepr\\anaconda3\\envs\\decaf\\lib\\site-packages\\sklearn\\neural_network\\_multilayer_perceptron.py:617: ConvergenceWarning: Stochastic Optimizer: Maximum iterations (200) reached and the optimization hasn't converged yet.\n",
      "  % self.max_iter, ConvergenceWarning)\n"
     ]
    },
    {
     "name": "stdout",
     "output_type": "stream",
     "text": [
      "5\n",
      "[0.926605504587156, 0.8784530386740331, 0.8911174785100286, 0.9159159159159159, 0.9259259259259259, 0.9129129129129129, 0.9233128834355828, 0.9146341463414634, 0.9093655589123867, 0.9287925696594427, 0.8950437317784257, 0.9287925696594427, 0.9077380952380952, 0.9202453987730062, 0.9202453987730062, 0.9093655589123867, 0.9230769230769231, 0.9147058823529411, 0.9259259259259259, 0.863013698630137, 0.9230769230769231, 0.8677685950413223, 0.9230769230769231, 0.9093655589123867, 0.908256880733945, 0.9259259259259259, 0.9202453987730062, 0.9072463768115943, 0.893491124260355, 0.9181818181818182, 0.9202453987730062, 0.9146341463414634, 0.9316770186335404, 0.8924418604651163, 0.9230769230769231, 0.9230769230769231, 0.9129129129129129, 0.9316770186335404, 0.9207317073170732, 0.8739495798319328, 0.9259259259259259, 0.8853868194842407, 0.9316770186335404, 0.9213483146067416, 0.9146341463414634, 0.9316770186335404, 0.9202453987730062, 0.8931750741839762, 0.9371069182389937, 0.9202453987730062, 0.9174311926605505, 0.9287925696594427, 0.9026548672566371, 0.906158357771261, 0.9202453987730062, 0.9212121212121213, 0.9202453987730062, 0.9207317073170732]\n",
      "[0.926605504587156, 0.8784530386740331, 0.8911174785100286, 0.9159159159159159, 0.9259259259259259, 0.9129129129129129, 0.9233128834355828, 0.9146341463414634, 0.9093655589123867, 0.9287925696594427, 0.8950437317784257, 0.9287925696594427, 0.9077380952380952, 0.9202453987730062, 0.9202453987730062, 0.9093655589123867, 0.9230769230769231, 0.9147058823529411, 0.9259259259259259, 0.863013698630137, 0.9230769230769231, 0.8677685950413223, 0.9230769230769231, 0.9093655589123867, 0.908256880733945, 0.9259259259259259, 0.9202453987730062, 0.9072463768115943, 0.893491124260355, 0.9181818181818182, 0.9202453987730062, 0.9146341463414634, 0.9316770186335404, 0.8924418604651163, 0.9230769230769231, 0.9230769230769231, 0.9129129129129129, 0.9316770186335404, 0.9207317073170732, 0.8739495798319328, 0.9259259259259259, 0.8853868194842407, 0.9316770186335404, 0.9213483146067416, 0.9146341463414634, 0.9316770186335404, 0.9202453987730062, 0.8931750741839762, 0.9371069182389937, 0.9202453987730062, 0.9174311926605505, 0.9287925696594427, 0.9026548672566371, 0.906158357771261, 0.9202453987730062, 0.9212121212121213, 0.9202453987730062, 0.9207317073170732]\n"
     ]
    },
    {
     "name": "stderr",
     "output_type": "stream",
     "text": [
      "C:\\Users\\zoepr\\anaconda3\\envs\\decaf\\lib\\site-packages\\sklearn\\neural_network\\_multilayer_perceptron.py:617: ConvergenceWarning: Stochastic Optimizer: Maximum iterations (200) reached and the optimization hasn't converged yet.\n",
      "  % self.max_iter, ConvergenceWarning)\n"
     ]
    },
    {
     "name": "stdout",
     "output_type": "stream",
     "text": [
      "5\n"
     ]
    },
    {
     "name": "stderr",
     "output_type": "stream",
     "text": [
      "C:\\Users\\zoepr\\anaconda3\\envs\\decaf\\lib\\site-packages\\sklearn\\neural_network\\_multilayer_perceptron.py:617: ConvergenceWarning: Stochastic Optimizer: Maximum iterations (200) reached and the optimization hasn't converged yet.\n",
      "  % self.max_iter, ConvergenceWarning)\n"
     ]
    },
    {
     "name": "stdout",
     "output_type": "stream",
     "text": [
      "5\n",
      "precision done\n",
      "recall done\n",
      "auroc done\n",
      "ftu done\n",
      "dp done\n",
      "Initialised adjacency matrix as parsed:\n",
      " Parameter containing:\n",
      "tensor([[0., 0., 0., 0., 0., 0., 0., 0., 0., 0., 0., 0., 0., 0., 0., 0.],\n",
      "        [0., 0., 0., 0., 0., 0., 0., 1., 0., 0., 0., 0., 0., 0., 0., 0.],\n",
      "        [0., 0., 0., 0., 0., 0., 0., 0., 0., 0., 0., 0., 0., 0., 1., 0.],\n",
      "        [0., 0., 0., 0., 0., 0., 0., 0., 0., 0., 0., 0., 0., 0., 0., 1.],\n",
      "        [0., 0., 0., 0., 0., 0., 0., 0., 0., 0., 0., 0., 0., 0., 0., 0.],\n",
      "        [0., 0., 0., 1., 0., 0., 0., 0., 0., 1., 0., 0., 0., 0., 0., 0.],\n",
      "        [0., 0., 0., 1., 0., 0., 0., 0., 0., 0., 0., 0., 0., 0., 0., 1.],\n",
      "        [0., 0., 0., 0., 0., 0., 0., 0., 0., 0., 1., 0., 0., 0., 0., 0.],\n",
      "        [0., 0., 0., 0., 0., 0., 0., 0., 0., 1., 1., 0., 0., 0., 0., 1.],\n",
      "        [0., 0., 1., 0., 1., 0., 0., 0., 0., 0., 0., 0., 1., 0., 0., 1.],\n",
      "        [0., 0., 1., 0., 0., 0., 0., 0., 0., 0., 0., 0., 0., 0., 0., 1.],\n",
      "        [0., 0., 0., 0., 0., 0., 0., 0., 0., 1., 0., 0., 0., 0., 0., 0.],\n",
      "        [0., 0., 0., 1., 0., 0., 0., 0., 0., 0., 0., 0., 0., 0., 0., 0.],\n",
      "        [0., 0., 0., 1., 0., 0., 0., 0., 0., 0., 0., 0., 0., 0., 0., 0.],\n",
      "        [0., 0., 0., 1., 0., 0., 0., 0., 0., 0., 0., 0., 0., 0., 0., 1.],\n",
      "        [0., 0., 0., 0., 0., 0., 0., 0., 0., 0., 0., 0., 0., 0., 0., 0.]])\n"
     ]
    },
    {
     "name": "stderr",
     "output_type": "stream",
     "text": [
      "C:\\Users\\zoepr\\anaconda3\\envs\\decaf\\lib\\site-packages\\sklearn\\neural_network\\_multilayer_perceptron.py:617: ConvergenceWarning: Stochastic Optimizer: Maximum iterations (200) reached and the optimization hasn't converged yet.\n",
      "  % self.max_iter, ConvergenceWarning)\n"
     ]
    },
    {
     "name": "stdout",
     "output_type": "stream",
     "text": [
      "5\n",
      "[0.926605504587156, 0.8784530386740331, 0.8911174785100286, 0.9159159159159159, 0.9259259259259259, 0.9129129129129129, 0.9233128834355828, 0.9146341463414634, 0.9093655589123867, 0.9287925696594427, 0.8950437317784257, 0.9287925696594427, 0.9077380952380952, 0.9202453987730062, 0.9202453987730062, 0.9093655589123867, 0.9230769230769231, 0.9147058823529411, 0.9259259259259259, 0.863013698630137, 0.9230769230769231, 0.8677685950413223, 0.9230769230769231, 0.9093655589123867, 0.908256880733945, 0.9259259259259259, 0.9202453987730062, 0.9072463768115943, 0.893491124260355, 0.9181818181818182, 0.9202453987730062, 0.9146341463414634, 0.9316770186335404, 0.8924418604651163, 0.9230769230769231, 0.9230769230769231, 0.9129129129129129, 0.9316770186335404, 0.9207317073170732, 0.8739495798319328, 0.9259259259259259, 0.8853868194842407, 0.9316770186335404, 0.9213483146067416, 0.9146341463414634, 0.9316770186335404, 0.9202453987730062, 0.8931750741839762, 0.9371069182389937, 0.9202453987730062, 0.9174311926605505, 0.9287925696594427, 0.9026548672566371, 0.906158357771261, 0.9202453987730062, 0.9212121212121213, 0.9202453987730062, 0.9207317073170732, 0.9230769230769231]\n",
      "[0.926605504587156, 0.8784530386740331, 0.8911174785100286, 0.9159159159159159, 0.9259259259259259, 0.9129129129129129, 0.9233128834355828, 0.9146341463414634, 0.9093655589123867, 0.9287925696594427, 0.8950437317784257, 0.9287925696594427, 0.9077380952380952, 0.9202453987730062, 0.9202453987730062, 0.9093655589123867, 0.9230769230769231, 0.9147058823529411, 0.9259259259259259, 0.863013698630137, 0.9230769230769231, 0.8677685950413223, 0.9230769230769231, 0.9093655589123867, 0.908256880733945, 0.9259259259259259, 0.9202453987730062, 0.9072463768115943, 0.893491124260355, 0.9181818181818182, 0.9202453987730062, 0.9146341463414634, 0.9316770186335404, 0.8924418604651163, 0.9230769230769231, 0.9230769230769231, 0.9129129129129129, 0.9316770186335404, 0.9207317073170732, 0.8739495798319328, 0.9259259259259259, 0.8853868194842407, 0.9316770186335404, 0.9213483146067416, 0.9146341463414634, 0.9316770186335404, 0.9202453987730062, 0.8931750741839762, 0.9371069182389937, 0.9202453987730062, 0.9174311926605505, 0.9287925696594427, 0.9026548672566371, 0.906158357771261, 0.9202453987730062, 0.9212121212121213, 0.9202453987730062, 0.9207317073170732, 0.9230769230769231]\n"
     ]
    },
    {
     "name": "stderr",
     "output_type": "stream",
     "text": [
      "C:\\Users\\zoepr\\anaconda3\\envs\\decaf\\lib\\site-packages\\sklearn\\neural_network\\_multilayer_perceptron.py:617: ConvergenceWarning: Stochastic Optimizer: Maximum iterations (200) reached and the optimization hasn't converged yet.\n",
      "  % self.max_iter, ConvergenceWarning)\n"
     ]
    },
    {
     "name": "stdout",
     "output_type": "stream",
     "text": [
      "5\n",
      "5\n",
      "precision done\n",
      "recall done\n",
      "auroc done\n",
      "ftu done\n",
      "dp done\n"
     ]
    },
    {
     "name": "stderr",
     "output_type": "stream",
     "text": [
      "C:\\Users\\zoepr\\anaconda3\\envs\\decaf\\lib\\site-packages\\sklearn\\neural_network\\_multilayer_perceptron.py:617: ConvergenceWarning: Stochastic Optimizer: Maximum iterations (200) reached and the optimization hasn't converged yet.\n",
      "  % self.max_iter, ConvergenceWarning)\n"
     ]
    }
   ],
   "source": [
    "for idx, beta in enumerate(betas):\n",
    "    models = []\n",
    "    for i in range(10):\n",
    "        models.append(\"logs/DECAF_credit{}/version_{}/checkpoints/epoch=249-step=2499.ckpt\".format(beta, i)) # to be added\n",
    "\n",
    "    for trained_model in models:\n",
    "        model = DECAF(input_dim=dm.dims[0])    \n",
    "        model = model.load_from_checkpoint(trained_model)\n",
    "\n",
    "        synthetic_data = model.gen_synthetic(dm.dataset.x, gen_order=model.get_gen_order(), biased_edges={}).detach().numpy()\n",
    "        calculate_scores_credit(synthetic_data, fairness_type=\"ND\", beta_idx=idx)\n",
    "\n",
    "        synthetic_data_FTU = model.gen_synthetic(dm.dataset.x, gen_order=model.get_gen_order(), biased_edges=bias_dict_credit_FTU).detach().numpy()\n",
    "        calculate_scores_credit(synthetic_data_FTU, fairness_type=\"FTU\", beta_idx=idx)\n",
    "\n",
    "        synthetic_data_DP = model.gen_synthetic(dm.dataset.x, gen_order=model.get_gen_order(), biased_edges=bias_dict_credit_DP).detach().numpy()    \n",
    "        calculate_scores_credit(synthetic_data_DP, fairness_type=\"DP\", beta_idx=idx)"
   ]
  },
  {
   "cell_type": "code",
   "execution_count": 7,
   "id": "2e5c7363",
   "metadata": {},
   "outputs": [
    {
     "name": "stdout",
     "output_type": "stream",
     "text": [
      "60\n",
      "[0.9151673791453359, 0.9151673791453359, 0.9151673791453359, 0.9151673791453359, 0.9151673791453359, 0.9151673791453359] [0.015276862193247321, 0.015276862193247321, 0.015276862193247321, 0.015276862193247321, 0.015276862193247321, 0.015276862193247321]\n"
     ]
    },
    {
     "data": {
      "image/png": "[encoded data removed]",
      "text/plain": [
       "<Figure size 432x288 with 1 Axes>"
      ]
     },
     "metadata": {
      "needs_background": "light"
     },
     "output_type": "display_data"
    },
    {
     "name": "stdout",
     "output_type": "stream",
     "text": [
      "[0.8092940125111707, 0.8092940125111707, 0.8092940125111707, 0.8092940125111707, 0.8092940125111707, 0.8092940125111707] [0.010987208882900903, 0.010987208882900903, 0.010987208882900903, 0.010987208882900903, 0.010987208882900903, 0.010987208882900903]\n"
     ]
    },
    {
     "data": {
      "image/png": "[encoded data removed]",
      "text/plain": [
       "<Figure size 432x288 with 1 Axes>"
      ]
     },
     "metadata": {
      "needs_background": "light"
     },
     "output_type": "display_data"
    },
    {
     "name": "stdout",
     "output_type": "stream",
     "text": [
      "[0.8803244993334213, 0.8803244993334213, 0.8803244993334213, 0.8803244993334213, 0.8803244993334213, 0.8803244993334213] [0.014576115195640107, 0.014576115195640107, 0.014576115195640107, 0.014576115195640107, 0.014576115195640107, 0.014576115195640107]\n"
     ]
    },
    {
     "data": {
      "image/png": "[encoded data removed]",
      "text/plain": [
       "<Figure size 432x288 with 1 Axes>"
      ]
     },
     "metadata": {
      "needs_background": "light"
     },
     "output_type": "display_data"
    },
    {
     "ename": "AssertionError",
     "evalue": "",
     "output_type": "error",
     "traceback": [
      "\u001b[1;31m---------------------------------------------------------------------------\u001b[0m",
      "\u001b[1;31mAssertionError\u001b[0m                            Traceback (most recent call last)",
      "\u001b[1;32m<ipython-input-7-c8a501bebb86>\u001b[0m in \u001b[0;36m<module>\u001b[1;34m\u001b[0m\n\u001b[0;32m      4\u001b[0m     \u001b[0mstds_ND\u001b[0m \u001b[1;33m=\u001b[0m \u001b[1;33m[\u001b[0m\u001b[1;33m]\u001b[0m\u001b[1;33m\u001b[0m\u001b[1;33m\u001b[0m\u001b[0m\n\u001b[0;32m      5\u001b[0m     \u001b[1;32mfor\u001b[0m \u001b[0mi\u001b[0m\u001b[1;33m,\u001b[0m \u001b[0mmean\u001b[0m \u001b[1;32min\u001b[0m \u001b[0menumerate\u001b[0m\u001b[1;33m(\u001b[0m\u001b[0mmeans_ND\u001b[0m\u001b[1;33m)\u001b[0m\u001b[1;33m:\u001b[0m\u001b[1;33m\u001b[0m\u001b[1;33m\u001b[0m\u001b[0m\n\u001b[1;32m----> 6\u001b[1;33m         \u001b[0mstds_ND\u001b[0m\u001b[1;33m.\u001b[0m\u001b[0mappend\u001b[0m\u001b[1;33m(\u001b[0m\u001b[0mstatistics\u001b[0m\u001b[1;33m.\u001b[0m\u001b[0mstdev\u001b[0m\u001b[1;33m(\u001b[0m\u001b[0mDECAF_Credit_ND\u001b[0m\u001b[1;33m[\u001b[0m\u001b[0mmetric\u001b[0m\u001b[1;33m]\u001b[0m\u001b[1;33m[\u001b[0m\u001b[0mi\u001b[0m\u001b[1;33m]\u001b[0m\u001b[1;33m,\u001b[0m \u001b[0mmean\u001b[0m\u001b[1;33m)\u001b[0m\u001b[1;33m)\u001b[0m\u001b[1;33m\u001b[0m\u001b[1;33m\u001b[0m\u001b[0m\n\u001b[0m\u001b[0;32m      7\u001b[0m     \u001b[0mmeans_FTU\u001b[0m \u001b[1;33m=\u001b[0m \u001b[1;33m[\u001b[0m\u001b[0mstatistics\u001b[0m\u001b[1;33m.\u001b[0m\u001b[0mmean\u001b[0m\u001b[1;33m(\u001b[0m\u001b[0mdata\u001b[0m\u001b[1;33m)\u001b[0m \u001b[1;32mfor\u001b[0m \u001b[0mdata\u001b[0m \u001b[1;32min\u001b[0m \u001b[0mDECAF_Credit_FTU\u001b[0m\u001b[1;33m[\u001b[0m\u001b[0mmetric\u001b[0m\u001b[1;33m]\u001b[0m\u001b[1;33m]\u001b[0m\u001b[1;33m\u001b[0m\u001b[1;33m\u001b[0m\u001b[0m\n\u001b[0;32m      8\u001b[0m     \u001b[0mstds_FTU\u001b[0m \u001b[1;33m=\u001b[0m \u001b[1;33m[\u001b[0m\u001b[1;33m]\u001b[0m\u001b[1;33m\u001b[0m\u001b[1;33m\u001b[0m\u001b[0m\n",
      "\u001b[1;32m~\\anaconda3\\envs\\decaf\\lib\\statistics.py\u001b[0m in \u001b[0;36mstdev\u001b[1;34m(data, xbar)\u001b[0m\n\u001b[0;32m    648\u001b[0m \u001b[1;33m\u001b[0m\u001b[0m\n\u001b[0;32m    649\u001b[0m     \"\"\"\n\u001b[1;32m--> 650\u001b[1;33m     \u001b[0mvar\u001b[0m \u001b[1;33m=\u001b[0m \u001b[0mvariance\u001b[0m\u001b[1;33m(\u001b[0m\u001b[0mdata\u001b[0m\u001b[1;33m,\u001b[0m \u001b[0mxbar\u001b[0m\u001b[1;33m)\u001b[0m\u001b[1;33m\u001b[0m\u001b[1;33m\u001b[0m\u001b[0m\n\u001b[0m\u001b[0;32m    651\u001b[0m     \u001b[1;32mtry\u001b[0m\u001b[1;33m:\u001b[0m\u001b[1;33m\u001b[0m\u001b[1;33m\u001b[0m\u001b[0m\n\u001b[0;32m    652\u001b[0m         \u001b[1;32mreturn\u001b[0m \u001b[0mvar\u001b[0m\u001b[1;33m.\u001b[0m\u001b[0msqrt\u001b[0m\u001b[1;33m(\u001b[0m\u001b[1;33m)\u001b[0m\u001b[1;33m\u001b[0m\u001b[1;33m\u001b[0m\u001b[0m\n",
      "\u001b[1;32m~\\anaconda3\\envs\\decaf\\lib\\statistics.py\u001b[0m in \u001b[0;36mvariance\u001b[1;34m(data, xbar)\u001b[0m\n\u001b[0;32m    587\u001b[0m     \u001b[1;32mif\u001b[0m \u001b[0mn\u001b[0m \u001b[1;33m<\u001b[0m \u001b[1;36m2\u001b[0m\u001b[1;33m:\u001b[0m\u001b[1;33m\u001b[0m\u001b[1;33m\u001b[0m\u001b[0m\n\u001b[0;32m    588\u001b[0m         \u001b[1;32mraise\u001b[0m \u001b[0mStatisticsError\u001b[0m\u001b[1;33m(\u001b[0m\u001b[1;34m'variance requires at least two data points'\u001b[0m\u001b[1;33m)\u001b[0m\u001b[1;33m\u001b[0m\u001b[1;33m\u001b[0m\u001b[0m\n\u001b[1;32m--> 589\u001b[1;33m     \u001b[0mT\u001b[0m\u001b[1;33m,\u001b[0m \u001b[0mss\u001b[0m \u001b[1;33m=\u001b[0m \u001b[0m_ss\u001b[0m\u001b[1;33m(\u001b[0m\u001b[0mdata\u001b[0m\u001b[1;33m,\u001b[0m \u001b[0mxbar\u001b[0m\u001b[1;33m)\u001b[0m\u001b[1;33m\u001b[0m\u001b[1;33m\u001b[0m\u001b[0m\n\u001b[0m\u001b[0;32m    590\u001b[0m     \u001b[1;32mreturn\u001b[0m \u001b[0m_convert\u001b[0m\u001b[1;33m(\u001b[0m\u001b[0mss\u001b[0m\u001b[1;33m/\u001b[0m\u001b[1;33m(\u001b[0m\u001b[0mn\u001b[0m\u001b[1;33m-\u001b[0m\u001b[1;36m1\u001b[0m\u001b[1;33m)\u001b[0m\u001b[1;33m,\u001b[0m \u001b[0mT\u001b[0m\u001b[1;33m)\u001b[0m\u001b[1;33m\u001b[0m\u001b[1;33m\u001b[0m\u001b[0m\n\u001b[0;32m    591\u001b[0m \u001b[1;33m\u001b[0m\u001b[0m\n",
      "\u001b[1;32m~\\anaconda3\\envs\\decaf\\lib\\statistics.py\u001b[0m in \u001b[0;36m_ss\u001b[1;34m(data, c)\u001b[0m\n\u001b[0;32m    538\u001b[0m     \u001b[1;31m# error may not.\u001b[0m\u001b[1;33m\u001b[0m\u001b[1;33m\u001b[0m\u001b[1;33m\u001b[0m\u001b[0m\n\u001b[0;32m    539\u001b[0m     \u001b[0mU\u001b[0m\u001b[1;33m,\u001b[0m \u001b[0mtotal2\u001b[0m\u001b[1;33m,\u001b[0m \u001b[0mcount2\u001b[0m \u001b[1;33m=\u001b[0m \u001b[0m_sum\u001b[0m\u001b[1;33m(\u001b[0m\u001b[1;33m(\u001b[0m\u001b[0mx\u001b[0m\u001b[1;33m-\u001b[0m\u001b[0mc\u001b[0m\u001b[1;33m)\u001b[0m \u001b[1;32mfor\u001b[0m \u001b[0mx\u001b[0m \u001b[1;32min\u001b[0m \u001b[0mdata\u001b[0m\u001b[1;33m)\u001b[0m\u001b[1;33m\u001b[0m\u001b[1;33m\u001b[0m\u001b[0m\n\u001b[1;32m--> 540\u001b[1;33m     \u001b[1;32massert\u001b[0m \u001b[0mT\u001b[0m \u001b[1;33m==\u001b[0m \u001b[0mU\u001b[0m \u001b[1;32mand\u001b[0m \u001b[0mcount\u001b[0m \u001b[1;33m==\u001b[0m \u001b[0mcount2\u001b[0m\u001b[1;33m\u001b[0m\u001b[1;33m\u001b[0m\u001b[0m\n\u001b[0m\u001b[0;32m    541\u001b[0m     \u001b[0mtotal\u001b[0m \u001b[1;33m-=\u001b[0m  \u001b[0mtotal2\u001b[0m\u001b[1;33m**\u001b[0m\u001b[1;36m2\u001b[0m\u001b[1;33m/\u001b[0m\u001b[0mlen\u001b[0m\u001b[1;33m(\u001b[0m\u001b[0mdata\u001b[0m\u001b[1;33m)\u001b[0m\u001b[1;33m\u001b[0m\u001b[1;33m\u001b[0m\u001b[0m\n\u001b[0;32m    542\u001b[0m     \u001b[1;32massert\u001b[0m \u001b[1;32mnot\u001b[0m \u001b[0mtotal\u001b[0m \u001b[1;33m<\u001b[0m \u001b[1;36m0\u001b[0m\u001b[1;33m,\u001b[0m \u001b[1;34m'negative sum of square deviations: %f'\u001b[0m \u001b[1;33m%\u001b[0m \u001b[0mtotal\u001b[0m\u001b[1;33m\u001b[0m\u001b[1;33m\u001b[0m\u001b[0m\n",
      "\u001b[1;31mAssertionError\u001b[0m: "
     ]
    }
   ],
   "source": [
    "print(len(DECAF_Credit_ND[\"Precision\"][0]))\n",
    "for metric in [\"Precision\", \"Recall\", \"AUROC\", \"FTU\", \"DP\"]:\n",
    "    means_ND = [statistics.mean(data) for data in DECAF_Credit_ND[metric]]\n",
    "    stds_ND = []\n",
    "    for i, mean in enumerate(means_ND):\n",
    "        stds_ND.append(statistics.stdev(DECAF_Credit_ND[metric][i], mean))\n",
    "    means_FTU = [statistics.mean(data) for data in DECAF_Credit_FTU[metric]]\n",
    "    stds_FTU = []\n",
    "    for i, mean in enumerate(means_FTU):\n",
    "        stds_FTU.append(statistics.stdev(DECAF_Credit_FTU[metric][i], mean))\n",
    "    means_DP = [statistics.mean(data) for data in DECAF_Credit_DP[metric]]\n",
    "    stds_DP = []\n",
    "    for i, mean in enumerate(means_DP):\n",
    "        stds_DP.append(statistics.stdev(DECAF_Credit_DP[metric][i], mean))\n",
    "    print(means_ND, stds_ND)\n",
    "    results = {\"DECAF-ND\": list(zip(means_ND, stds_ND)),\n",
    "                \"DECAF-FTU\": list(zip(means_FTU, stds_FTU)),\n",
    "                \"DECAF-DP\": list(zip(means_DP, stds_DP))}\n",
    "    plots.plot_errorbar(betas, metric, results)"
   ]
  },
  {
   "cell_type": "code",
   "execution_count": null,
   "id": "8a220c74",
   "metadata": {},
   "outputs": [],
   "source": []
  }
 ],
 "metadata": {
  "kernelspec": {
   "display_name": "Python (decaf)",
   "language": "python",
   "name": "decaf"
  },
  "language_info": {
   "codemirror_mode": {
    "name": "ipython",
    "version": 3
   },
   "file_extension": ".py",
   "mimetype": "text/x-python",
   "name": "python",
   "nbconvert_exporter": "python",
   "pygments_lexer": "ipython3",
   "version": "3.6.13"
  }
 },
 "nbformat": 4,
 "nbformat_minor": 5
}
