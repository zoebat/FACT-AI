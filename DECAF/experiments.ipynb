{
 "cells": [
  {
   "cell_type": "markdown",
   "id": "2fc24119",
   "metadata": {},
   "source": [
    "# Reproduction study - DECAF: Generating Fair Synthetic Data Using Causally-Aware Generative Networks"
   ]
  },
  {
   "cell_type": "markdown",
   "id": "7ed08807",
   "metadata": {},
   "source": [
    "This notebook can be used to run the experiments as described in our report. Note that this notebook uses pretrained models."
   ]
  },
  {
   "cell_type": "code",
   "execution_count": 27,
   "id": "a2187ee7",
   "metadata": {},
   "outputs": [],
   "source": [
    "from pyparsing import col\n",
    "import numpy as np\n",
    "import pandas as pd\n",
    "import pytorch_lightning as pl\n",
    "import torch\n",
    "import statistics\n",
    "import pickle\n",
    "\n",
    "from pytorch_lightning.loggers import TensorBoardLogger\n",
    "from sklearn.metrics import precision_score, recall_score, roc_auc_score\n",
    "from xgboost import XGBClassifier\n",
    "from sklearn.neural_network import MLPClassifier\n",
    "\n",
    "from util import data, metrics, adult_data, credit_data\n",
    "from model.DECAF import DECAF"
   ]
  },
  {
   "cell_type": "markdown",
   "id": "98c73713",
   "metadata": {},
   "source": [
    "## Experiment 1 - Debiasing Census Data"
   ]
  },
  {
   "cell_type": "markdown",
   "id": "c3d48156",
   "metadata": {},
   "source": [
    "First, load the adult data, the DAG and the biased edges for different fairness definitions."
   ]
  },
  {
   "cell_type": "code",
   "execution_count": 41,
   "id": "2fe5984a",
   "metadata": {},
   "outputs": [
    {
     "ename": "NameError",
     "evalue": "name 'float32' is not defined",
     "output_type": "error",
     "traceback": [
      "\u001b[1;31m---------------------------------------------------------------------------\u001b[0m",
      "\u001b[1;31mNameError\u001b[0m                                 Traceback (most recent call last)",
      "\u001b[1;32m~\\AppData\\Local\\Temp/ipykernel_14296/2196618354.py\u001b[0m in \u001b[0;36m<module>\u001b[1;34m\u001b[0m\n\u001b[0;32m      1\u001b[0m \u001b[0mdfr\u001b[0m\u001b[1;33m,\u001b[0m \u001b[0mXy\u001b[0m\u001b[1;33m,\u001b[0m \u001b[0mmin_max_scaler\u001b[0m \u001b[1;33m=\u001b[0m \u001b[0madult_data\u001b[0m\u001b[1;33m.\u001b[0m\u001b[0mload\u001b[0m\u001b[1;33m(\u001b[0m\u001b[1;33m)\u001b[0m\u001b[1;33m\u001b[0m\u001b[1;33m\u001b[0m\u001b[0m\n\u001b[1;32m----> 2\u001b[1;33m \u001b[0mX\u001b[0m \u001b[1;33m=\u001b[0m \u001b[0mXy\u001b[0m\u001b[1;33m[\u001b[0m\u001b[1;33m:\u001b[0m\u001b[1;33m,\u001b[0m \u001b[1;33m:\u001b[0m\u001b[1;33m-\u001b[0m\u001b[1;36m1\u001b[0m\u001b[1;33m]\u001b[0m\u001b[1;33m.\u001b[0m\u001b[0mastype\u001b[0m\u001b[1;33m(\u001b[0m\u001b[0mfloat32\u001b[0m\u001b[1;33m)\u001b[0m\u001b[1;33m\u001b[0m\u001b[1;33m\u001b[0m\u001b[0m\n\u001b[0m\u001b[0;32m      3\u001b[0m \u001b[0my\u001b[0m \u001b[1;33m=\u001b[0m \u001b[0mnp\u001b[0m\u001b[1;33m.\u001b[0m\u001b[0mround\u001b[0m\u001b[1;33m(\u001b[0m\u001b[0mXy\u001b[0m\u001b[1;33m[\u001b[0m\u001b[1;33m:\u001b[0m\u001b[1;33m,\u001b[0m \u001b[1;33m-\u001b[0m\u001b[1;36m1\u001b[0m\u001b[1;33m]\u001b[0m\u001b[1;33m)\u001b[0m\u001b[1;33m.\u001b[0m\u001b[0mastype\u001b[0m\u001b[1;33m(\u001b[0m\u001b[0mint\u001b[0m\u001b[1;33m)\u001b[0m\u001b[1;33m\u001b[0m\u001b[1;33m\u001b[0m\u001b[0m\n\u001b[0;32m      4\u001b[0m \u001b[0mdm\u001b[0m \u001b[1;33m=\u001b[0m \u001b[0mdata\u001b[0m\u001b[1;33m.\u001b[0m\u001b[0mDataModule\u001b[0m\u001b[1;33m(\u001b[0m\u001b[0mXy\u001b[0m\u001b[1;33m)\u001b[0m\u001b[1;33m\u001b[0m\u001b[1;33m\u001b[0m\u001b[0m\n\u001b[0;32m      5\u001b[0m \u001b[1;33m\u001b[0m\u001b[0m\n",
      "\u001b[1;31mNameError\u001b[0m: name 'float32' is not defined"
     ]
    }
   ],
   "source": [
    "dfr, Xy, min_max_scaler = adult_data.load()\n",
    "X = Xy[:, :-1].astype(float32)\n",
    "y = np.round(Xy[:, -1]).astype(int)\n",
    "dm = data.DataModule(Xy)\n",
    "\n",
    "dag_seed = [\n",
    "        [0, 6],\n",
    "        [0, 12],\n",
    "        [0, 14],\n",
    "        [0, 1],\n",
    "        [0, 5],\n",
    "        [0, 3],\n",
    "        [1, 14],\n",
    "        [3, 6],\n",
    "        [3, 12],\n",
    "        [3, 14],\n",
    "        [3, 1],\n",
    "        [3, 7],\n",
    "        [5, 6],\n",
    "        [5, 12],\n",
    "        [5, 14],\n",
    "        [5, 1],\n",
    "        [5, 7],\n",
    "        [5, 3],\n",
    "        [6, 14],\n",
    "        [7, 14],\n",
    "        [8, 6],\n",
    "        [8, 14],\n",
    "        [8, 12],\n",
    "        [8, 3],\n",
    "        [8, 5],\n",
    "        [9, 6],\n",
    "        [9, 5],\n",
    "        [9, 14],\n",
    "        [9, 12],\n",
    "        [9, 1],\n",
    "        [9, 3],\n",
    "        [9, 7],\n",
    "        [12, 14],\n",
    "        [13, 5],\n",
    "        [13, 12],\n",
    "        [13, 3],\n",
    "        [13, 1],\n",
    "        [13, 14],\n",
    "        [13, 7],\n",
    "    ]\n",
    "bias_dict_FTU = {14: [9]}\n",
    "bias_dict_CF = {14: [7, 9, 5]}\n",
    "bias_dict_DP = {14: [7, 13, 1, 9, 5, 12, 6]}"
   ]
  },
  {
   "cell_type": "code",
   "execution_count": null,
   "id": "df195883",
   "metadata": {},
   "outputs": [],
   "source": [
    "DECAF_ND = {\n",
    "    \"precision\": [],\n",
    "    \"recall\": [],\n",
    "    \"auroc\": [],\n",
    "    \"FTU\": [],\n",
    "    \"DP\": []\n",
    "}\n",
    "DECAF_FTU = {\n",
    "    \"precision\": [],\n",
    "    \"recall\": [],\n",
    "    \"auroc\": [],\n",
    "    \"FTU\": [],\n",
    "    \"DP\": []\n",
    "}\n",
    "DECAF_CF = {\n",
    "    \"precision\": [],\n",
    "    \"recall\": [],\n",
    "    \"auroc\": [],\n",
    "    \"FTU\": [],\n",
    "    \"DP\": []\n",
    "}\n",
    "DECAF_DP = {\n",
    "    \"precision\": [],\n",
    "    \"recall\": [],\n",
    "    \"auroc\": [],\n",
    "    \"FTU\": [],\n",
    "    \"DP\": []\n",
    "}\n",
    "\n",
    "def calculate_scores(Xy_synth, fairness_type):\n",
    "    ## Takes Xy_synthetic data (including label) of the adult data set and fairness type\n",
    "    ## Calculates the precision, recall, auroc, FTU and DP metrics\n",
    "    X_synth = Xy_synth[:, :14]\n",
    "    print(\"nan in X_synth\", np.isnan(X_synth).any())\n",
    "    y_synth = np.round(Xy_synth[:, 14]).astype(int)\n",
    "    print(\"nan in y_synth\", np.isnan(y_synth).any())    \n",
    "    \n",
    "    synth_clf = MLPClassifier().fit(X_synth, y_synth)\n",
    "    y_pred_synth = synth_clf.predict(X)\n",
    "    print(\"nan in y_pred_synth\", np.isnan(y_pred_synth).any())\n",
    "    y_pred_synth_proba = synth_clf.predict_proba(X)\n",
    "    print(\"nan in y_pred_synth_proba\", np.isnan(y_pred_synth_proba).any())\n",
    "    \n",
    "    if fairness_type == \"ND\":\n",
    "        DECAF_ND[\"precision\"].append(precision_score(y, y_pred_synth))\n",
    "        DECAF_ND[\"recall\"].append(recall_score(y, y_pred_synth))\n",
    "        DECAF_ND[\"auroc\"].append(roc_auc_score(y, y_pred_synth_proba[:, 1]))\n",
    "        DECAF_ND[\"FTU\"].append(metrics.ftu(synth_clf, X_synth, 4))\n",
    "        DECAF_ND[\"DP\"].append(metrics.dp(synth_clf, X_synth, 4))\n",
    "    elif fairness_type == \"FTU\":\n",
    "        DECAF_FTU[\"precision\"].append(precision_score(y, y_pred_synth))\n",
    "        DECAF_FTU[\"recall\"].append(recall_score(y, y_pred_synth))\n",
    "        DECAF_FTU[\"auroc\"].append(roc_auc_score(y, y_pred_synth_proba[:, 1]))\n",
    "        DECAF_FTU[\"FTU\"].append(metrics.ftu(synth_clf, X_synth, 4))\n",
    "        DECAF_FTU[\"DP\"].append(metrics.dp(synth_clf, X_synth, 4))\n",
    "    elif fairness_type == \"CF\":\n",
    "        DECAF_CF[\"precision\"].append(precision_score(y, y_pred_synth))\n",
    "        DECAF_CF[\"recall\"].append(recall_score(y, y_pred_synth))\n",
    "        DECAF_CF[\"auroc\"].append(roc_auc_score(y, y_pred_synth_proba[:, 1]))\n",
    "        DECAF_CF[\"FTU\"].append(metrics.ftu(synth_clf, X_synth, 4))\n",
    "        DECAF_CF[\"DP\"].append(metrics.dp(synth_clf, X_synth, 4))    \n",
    "    elif fairness_type == \"DP\":\n",
    "        DECAF_DP[\"precision\"].append(precision_score(y, y_pred_synth))\n",
    "        print(\"precision done\")\n",
    "        DECAF_DP[\"recall\"].append(recall_score(y, y_pred_synth))\n",
    "        print(\"recall done\")\n",
    "        DECAF_DP[\"auroc\"].append(roc_auc_score(y, y_pred_synth_proba[:, 1]))\n",
    "        print(\"auroc done\")\n",
    "        DECAF_DP[\"FTU\"].append(metrics.ftu(synth_clf, X_synth, 4))\n",
    "        print(\"ftu done\")\n",
    "        DECAF_DP[\"DP\"].append(metrics.dp(synth_clf, X_synth, 4))\n",
    "        print(\"dp done\")\n",
    "    else:\n",
    "        print(\"Warning: fairness_type not recognized\")\n",
    "    return"
   ]
  },
  {
   "cell_type": "markdown",
   "id": "9cebb8fd",
   "metadata": {},
   "source": [
    "If you would like to generate the synthetic data from the pre-trained models yourself, run the cell below. This will take approximately 1 hour for the 10 models (UPDATE THIS NUMBER). Otherwise, run the second cell."
   ]
  },
  {
   "cell_type": "code",
   "execution_count": null,
   "id": "9fa1bb0f",
   "metadata": {
    "scrolled": true
   },
   "outputs": [
    {
     "name": "stdout",
     "output_type": "stream",
     "text": [
      "Initialised adjacency matrix as parsed:\n",
      " Parameter containing:\n",
      "tensor([[0., 1., 0., 1., 0., 1., 1., 0., 0., 0., 0., 0., 1., 0., 1.],\n",
      "        [0., 0., 0., 0., 0., 0., 0., 0., 0., 0., 0., 0., 0., 0., 1.],\n",
      "        [0., 0., 0., 0., 0., 0., 0., 0., 0., 0., 0., 0., 0., 0., 0.],\n",
      "        [0., 1., 0., 0., 0., 0., 1., 1., 0., 0., 0., 0., 1., 0., 1.],\n",
      "        [0., 0., 0., 0., 0., 0., 0., 0., 0., 0., 0., 0., 0., 0., 0.],\n",
      "        [0., 1., 0., 1., 0., 0., 1., 1., 0., 0., 0., 0., 1., 0., 1.],\n",
      "        [0., 0., 0., 0., 0., 0., 0., 0., 0., 0., 0., 0., 0., 0., 1.],\n",
      "        [0., 0., 0., 0., 0., 0., 0., 0., 0., 0., 0., 0., 0., 0., 1.],\n",
      "        [0., 0., 0., 1., 0., 1., 1., 0., 0., 0., 0., 0., 1., 0., 1.],\n",
      "        [0., 1., 0., 1., 0., 1., 1., 1., 0., 0., 0., 0., 1., 0., 1.],\n",
      "        [0., 0., 0., 0., 0., 0., 0., 0., 0., 0., 0., 0., 0., 0., 0.],\n",
      "        [0., 0., 0., 0., 0., 0., 0., 0., 0., 0., 0., 0., 0., 0., 0.],\n",
      "        [0., 0., 0., 0., 0., 0., 0., 0., 0., 0., 0., 0., 0., 0., 1.],\n",
      "        [0., 1., 0., 1., 0., 1., 0., 1., 0., 0., 0., 0., 1., 0., 1.],\n",
      "        [0., 0., 0., 0., 0., 0., 0., 0., 0., 0., 0., 0., 0., 0., 0.]])\n",
      "nan in X_synth False\n",
      "nan in y_synth False\n",
      "nan in y_pred_synth False\n",
      "nan in y_pred_synth_proba False\n",
      "nan in X_synth False\n",
      "nan in y_synth False\n",
      "nan in y_pred_synth False\n",
      "nan in y_pred_synth_proba False\n",
      "nan in X_synth False\n",
      "nan in y_synth False\n",
      "nan in y_pred_synth False\n",
      "nan in y_pred_synth_proba False\n",
      "nan in X_synth False\n",
      "nan in y_synth False\n"
     ]
    }
   ],
   "source": [
    "# Run if you want to generate synthetic data yourself. Otherwise, skip this cell.\n",
    "\n",
    "# models = [\"logs/DECAF_adult/version_0/checkpoints/epoch=49-step=21249.ckpt\",\"logs/DECAF_adult/version_1/checkpoints/epoch=49-step=21249.ckpt\" ]\n",
    "models = [\"logs/DECAF_adult/version_2/checkpoints/epoch=49-step=21249.ckpt\", \"logs/DECAF_adult/version_4/checkpoints/epoch=49-step=21249.ckpt\"] # to be added\n",
    "# only version 1 & 3 has error\n",
    "\n",
    "data_all_models = [] # delete if file generated date already exists\n",
    "\n",
    "for trained_model in models:\n",
    "    model = DECAF(input_dim=dm.dims[0])    \n",
    "    model = model.load_from_checkpoint(trained_model)\n",
    "    \n",
    "    synthetic_data = model.gen_synthetic(dm.dataset.x, gen_order=model.get_gen_order(), biased_edges={}).detach().numpy()\n",
    "    calculate_scores(synthetic_data, fairness_type=\"ND\")\n",
    "    \n",
    "    synthetic_data_FTU = model.gen_synthetic(dm.dataset.x, gen_order=model.get_gen_order(), biased_edges=bias_dict_FTU).detach().numpy()\n",
    "    calculate_scores(synthetic_data_FTU, fairness_type=\"FTU\")\n",
    "    \n",
    "    synthetic_data_CF = model.gen_synthetic(dm.dataset.x, gen_order=model.get_gen_order(), biased_edges=bias_dict_CF).detach().numpy()\n",
    "    calculate_scores(synthetic_data_CF, fairness_type=\"CF\")\n",
    "    \n",
    "    synthetic_data_DP = model.gen_synthetic(dm.dataset.x, gen_order=model.get_gen_order(), biased_edges=bias_dict_DP).detach().numpy()    \n",
    "    calculate_scores(synthetic_data_DP, fairness_type=\"DP\")\n",
    "    \n",
    "#     synthetic_data_to_store = {}        \n",
    "#     synthetic_data_to_store[\"synthetic_data\"] = synthetic_data\n",
    "#     synthetic_data_to_store[\"synthetic_data_FTU\"] = synthetic_data_FTU\n",
    "#     synthetic_data_to_store[\"synthetic_data_CF\"] = synthetic_data_CF\n",
    "#     synthetic_data_to_store[\"synthetic_data_DP\"] = synthetic_data_DP\n",
    "    \n",
    "#     data_all_models.append(synthetic_data_to_store)\n",
    "    \n",
    "# with open('synthetic_data.pkl', 'wb') as f:\n",
    "#     pickle.dump(data_all_models, f)\n"
   ]
  },
  {
   "cell_type": "code",
   "execution_count": 41,
   "id": "c9074484",
   "metadata": {},
   "outputs": [],
   "source": [
    "# Run if you want to use pre-generated synthetic data\n",
    "\n",
    "with open('synthetic_data.pkl', 'rb') as f:\n",
    "    all_syn_data = pickle.load(f)\n",
    "\n",
    "for synthetic_data_stored in all_syn_data:\n",
    "    synthetic_data = synthetic_data_stored[\"synthetic_data\"]\n",
    "    calculate_scores(synthetic_data, fairness_type=\"ND\")\n",
    "    synthetic_data_FTU = synthetic_data_stored[\"synthetic_data_FTU\"]\n",
    "    calculate_scores(synthetic_data_FTU, fairness_type=\"FTU\")\n",
    "    synthetic_data_CF = synthetic_data_stored[\"synthetic_data_CF\"]\n",
    "    calculate_scores(synthetic_data_CF, fairness_type=\"CF\")\n",
    "    synthetic_data_DP = synthetic_data_stored[\"synthetic_data_DP\"]\n",
    "    calculate_scores(synthetic_data_DP, fairness_type=\"DP\")\n"
   ]
  },
  {
   "cell_type": "code",
   "execution_count": 40,
   "id": "82c49f10",
   "metadata": {},
   "outputs": [
    {
     "ename": "TypeError",
     "evalue": "don't know how to coerce float32 and float64",
     "output_type": "error",
     "traceback": [
      "\u001b[1;31m---------------------------------------------------------------------------\u001b[0m",
      "\u001b[1;31mTypeError\u001b[0m                                 Traceback (most recent call last)",
      "\u001b[1;32m~\\AppData\\Local\\Temp/ipykernel_14296/1916508532.py\u001b[0m in \u001b[0;36m<module>\u001b[1;34m\u001b[0m\n\u001b[0;32m     10\u001b[0m      \u001b[1;33m[\u001b[0m\u001b[1;34m\"GAN-PR\"\u001b[0m\u001b[1;33m,\u001b[0m \u001b[1;36m0\u001b[0m \u001b[1;33m,\u001b[0m\u001b[1;36m0\u001b[0m\u001b[1;33m,\u001b[0m\u001b[1;36m0\u001b[0m\u001b[1;33m,\u001b[0m\u001b[1;36m0\u001b[0m\u001b[1;33m,\u001b[0m\u001b[1;36m0\u001b[0m\u001b[1;33m]\u001b[0m\u001b[1;33m,\u001b[0m\u001b[1;33m\u001b[0m\u001b[1;33m\u001b[0m\u001b[0m\n\u001b[0;32m     11\u001b[0m      \u001b[1;33m[\u001b[0m\u001b[1;34m\"WGAN-GP-PR\"\u001b[0m\u001b[1;33m,\u001b[0m \u001b[1;36m0\u001b[0m \u001b[1;33m,\u001b[0m\u001b[1;36m0\u001b[0m\u001b[1;33m,\u001b[0m\u001b[1;36m0\u001b[0m\u001b[1;33m,\u001b[0m\u001b[1;36m0\u001b[0m\u001b[1;33m,\u001b[0m\u001b[1;36m0\u001b[0m\u001b[1;33m]\u001b[0m\u001b[1;33m,\u001b[0m\u001b[1;33m\u001b[0m\u001b[1;33m\u001b[0m\u001b[0m\n\u001b[1;32m---> 12\u001b[1;33m      \u001b[1;33m[\u001b[0m\u001b[1;34m\"DECAF-ND\"\u001b[0m\u001b[1;33m,\u001b[0m \u001b[0mcalc_metrics\u001b[0m\u001b[1;33m(\u001b[0m\u001b[0mDECAF_ND\u001b[0m\u001b[1;33m[\u001b[0m\u001b[1;34m\"precision\"\u001b[0m\u001b[1;33m]\u001b[0m\u001b[1;33m)\u001b[0m\u001b[1;33m,\u001b[0m \u001b[0mcalc_metrics\u001b[0m\u001b[1;33m(\u001b[0m\u001b[0mDECAF_ND\u001b[0m\u001b[1;33m[\u001b[0m\u001b[1;34m\"recall\"\u001b[0m\u001b[1;33m]\u001b[0m\u001b[1;33m)\u001b[0m\u001b[1;33m,\u001b[0m \u001b[0mcalc_metrics\u001b[0m\u001b[1;33m(\u001b[0m\u001b[0mDECAF_ND\u001b[0m\u001b[1;33m[\u001b[0m\u001b[1;34m\"auroc\"\u001b[0m\u001b[1;33m]\u001b[0m\u001b[1;33m)\u001b[0m\u001b[1;33m,\u001b[0m \u001b[0mcalc_metrics\u001b[0m\u001b[1;33m(\u001b[0m\u001b[0mDECAF_ND\u001b[0m\u001b[1;33m[\u001b[0m\u001b[1;34m\"FTU\"\u001b[0m\u001b[1;33m]\u001b[0m\u001b[1;33m)\u001b[0m\u001b[1;33m,\u001b[0m \u001b[0mcalc_metrics\u001b[0m\u001b[1;33m(\u001b[0m\u001b[0mDECAF_ND\u001b[0m\u001b[1;33m[\u001b[0m\u001b[1;34m\"DP\"\u001b[0m\u001b[1;33m]\u001b[0m\u001b[1;33m)\u001b[0m\u001b[1;33m]\u001b[0m\u001b[1;33m,\u001b[0m\u001b[1;33m\u001b[0m\u001b[1;33m\u001b[0m\u001b[0m\n\u001b[0m\u001b[0;32m     13\u001b[0m      \u001b[1;33m[\u001b[0m\u001b[1;34m\"DECAF-FTU\"\u001b[0m\u001b[1;33m,\u001b[0m \u001b[0mcalc_metrics\u001b[0m\u001b[1;33m(\u001b[0m\u001b[0mDECAF_FTU\u001b[0m\u001b[1;33m[\u001b[0m\u001b[1;34m\"precision\"\u001b[0m\u001b[1;33m]\u001b[0m\u001b[1;33m)\u001b[0m\u001b[1;33m,\u001b[0m \u001b[0mcalc_metrics\u001b[0m\u001b[1;33m(\u001b[0m\u001b[0mDECAF_FTU\u001b[0m\u001b[1;33m[\u001b[0m\u001b[1;34m\"recall\"\u001b[0m\u001b[1;33m]\u001b[0m\u001b[1;33m)\u001b[0m\u001b[1;33m,\u001b[0m \u001b[0mcalc_metrics\u001b[0m\u001b[1;33m(\u001b[0m\u001b[0mDECAF_FTU\u001b[0m\u001b[1;33m[\u001b[0m\u001b[1;34m\"auroc\"\u001b[0m\u001b[1;33m]\u001b[0m\u001b[1;33m)\u001b[0m\u001b[1;33m,\u001b[0m \u001b[0mcalc_metrics\u001b[0m\u001b[1;33m(\u001b[0m\u001b[0mDECAF_FTU\u001b[0m\u001b[1;33m[\u001b[0m\u001b[1;34m\"FTU\"\u001b[0m\u001b[1;33m]\u001b[0m\u001b[1;33m)\u001b[0m\u001b[1;33m,\u001b[0m \u001b[0mcalc_metrics\u001b[0m\u001b[1;33m(\u001b[0m\u001b[0mDECAF_FTU\u001b[0m\u001b[1;33m[\u001b[0m\u001b[1;34m\"DP\"\u001b[0m\u001b[1;33m]\u001b[0m\u001b[1;33m)\u001b[0m\u001b[1;33m]\u001b[0m\u001b[1;33m,\u001b[0m\u001b[1;33m\u001b[0m\u001b[1;33m\u001b[0m\u001b[0m\n\u001b[0;32m     14\u001b[0m      \u001b[1;33m[\u001b[0m\u001b[1;34m\"DECAF-CF\"\u001b[0m\u001b[1;33m,\u001b[0m \u001b[0mcalc_metrics\u001b[0m\u001b[1;33m(\u001b[0m\u001b[0mDECAF_CF\u001b[0m\u001b[1;33m[\u001b[0m\u001b[1;34m\"precision\"\u001b[0m\u001b[1;33m]\u001b[0m\u001b[1;33m)\u001b[0m\u001b[1;33m,\u001b[0m \u001b[0mcalc_metrics\u001b[0m\u001b[1;33m(\u001b[0m\u001b[0mDECAF_CF\u001b[0m\u001b[1;33m[\u001b[0m\u001b[1;34m\"recall\"\u001b[0m\u001b[1;33m]\u001b[0m\u001b[1;33m)\u001b[0m\u001b[1;33m,\u001b[0m \u001b[0mcalc_metrics\u001b[0m\u001b[1;33m(\u001b[0m\u001b[0mDECAF_CF\u001b[0m\u001b[1;33m[\u001b[0m\u001b[1;34m\"auroc\"\u001b[0m\u001b[1;33m]\u001b[0m\u001b[1;33m)\u001b[0m\u001b[1;33m,\u001b[0m \u001b[0mcalc_metrics\u001b[0m\u001b[1;33m(\u001b[0m\u001b[0mDECAF_CF\u001b[0m\u001b[1;33m[\u001b[0m\u001b[1;34m\"FTU\"\u001b[0m\u001b[1;33m]\u001b[0m\u001b[1;33m)\u001b[0m\u001b[1;33m,\u001b[0m \u001b[0mcalc_metrics\u001b[0m\u001b[1;33m(\u001b[0m\u001b[0mDECAF_CF\u001b[0m\u001b[1;33m[\u001b[0m\u001b[1;34m\"DP\"\u001b[0m\u001b[1;33m]\u001b[0m\u001b[1;33m)\u001b[0m\u001b[1;33m]\u001b[0m\u001b[1;33m,\u001b[0m\u001b[1;33m\u001b[0m\u001b[1;33m\u001b[0m\u001b[0m\n",
      "\u001b[1;32m~\\AppData\\Local\\Temp/ipykernel_14296/1916508532.py\u001b[0m in \u001b[0;36mcalc_metrics\u001b[1;34m(data)\u001b[0m\n\u001b[0;32m      1\u001b[0m \u001b[1;32mdef\u001b[0m \u001b[0mcalc_metrics\u001b[0m\u001b[1;33m(\u001b[0m\u001b[0mdata\u001b[0m\u001b[1;33m)\u001b[0m\u001b[1;33m:\u001b[0m\u001b[1;33m\u001b[0m\u001b[1;33m\u001b[0m\u001b[0m\n\u001b[0;32m      2\u001b[0m     \u001b[1;31m# Calculate mean and stdev of the data, returns a string\u001b[0m\u001b[1;33m\u001b[0m\u001b[1;33m\u001b[0m\u001b[1;33m\u001b[0m\u001b[0m\n\u001b[1;32m----> 3\u001b[1;33m     \u001b[0mmean\u001b[0m \u001b[1;33m=\u001b[0m \u001b[0mstatistics\u001b[0m\u001b[1;33m.\u001b[0m\u001b[0mmean\u001b[0m\u001b[1;33m(\u001b[0m\u001b[0mdata\u001b[0m\u001b[1;33m)\u001b[0m\u001b[1;33m\u001b[0m\u001b[1;33m\u001b[0m\u001b[0m\n\u001b[0m\u001b[0;32m      4\u001b[0m     \u001b[0mstdev\u001b[0m \u001b[1;33m=\u001b[0m \u001b[0mstatistics\u001b[0m\u001b[1;33m.\u001b[0m\u001b[0mstdev\u001b[0m\u001b[1;33m(\u001b[0m\u001b[0mdata\u001b[0m\u001b[1;33m,\u001b[0m \u001b[0mmean\u001b[0m\u001b[1;33m)\u001b[0m\u001b[1;33m\u001b[0m\u001b[1;33m\u001b[0m\u001b[0m\n\u001b[0;32m      5\u001b[0m     \u001b[1;32mreturn\u001b[0m \u001b[1;34m\"{:.3f}±{:.3f}\"\u001b[0m\u001b[1;33m.\u001b[0m\u001b[0mformat\u001b[0m\u001b[1;33m(\u001b[0m\u001b[0mmean\u001b[0m\u001b[1;33m,\u001b[0m \u001b[0mstdev\u001b[0m\u001b[1;33m)\u001b[0m\u001b[1;33m\u001b[0m\u001b[1;33m\u001b[0m\u001b[0m\n",
      "\u001b[1;32m~\\miniconda3\\lib\\statistics.py\u001b[0m in \u001b[0;36mmean\u001b[1;34m(data)\u001b[0m\n\u001b[0;32m    314\u001b[0m     \u001b[1;32mif\u001b[0m \u001b[0mn\u001b[0m \u001b[1;33m<\u001b[0m \u001b[1;36m1\u001b[0m\u001b[1;33m:\u001b[0m\u001b[1;33m\u001b[0m\u001b[1;33m\u001b[0m\u001b[0m\n\u001b[0;32m    315\u001b[0m         \u001b[1;32mraise\u001b[0m \u001b[0mStatisticsError\u001b[0m\u001b[1;33m(\u001b[0m\u001b[1;34m'mean requires at least one data point'\u001b[0m\u001b[1;33m)\u001b[0m\u001b[1;33m\u001b[0m\u001b[1;33m\u001b[0m\u001b[0m\n\u001b[1;32m--> 316\u001b[1;33m     \u001b[0mT\u001b[0m\u001b[1;33m,\u001b[0m \u001b[0mtotal\u001b[0m\u001b[1;33m,\u001b[0m \u001b[0mcount\u001b[0m \u001b[1;33m=\u001b[0m \u001b[0m_sum\u001b[0m\u001b[1;33m(\u001b[0m\u001b[0mdata\u001b[0m\u001b[1;33m)\u001b[0m\u001b[1;33m\u001b[0m\u001b[1;33m\u001b[0m\u001b[0m\n\u001b[0m\u001b[0;32m    317\u001b[0m     \u001b[1;32massert\u001b[0m \u001b[0mcount\u001b[0m \u001b[1;33m==\u001b[0m \u001b[0mn\u001b[0m\u001b[1;33m\u001b[0m\u001b[1;33m\u001b[0m\u001b[0m\n\u001b[0;32m    318\u001b[0m     \u001b[1;32mreturn\u001b[0m \u001b[0m_convert\u001b[0m\u001b[1;33m(\u001b[0m\u001b[0mtotal\u001b[0m \u001b[1;33m/\u001b[0m \u001b[0mn\u001b[0m\u001b[1;33m,\u001b[0m \u001b[0mT\u001b[0m\u001b[1;33m)\u001b[0m\u001b[1;33m\u001b[0m\u001b[1;33m\u001b[0m\u001b[0m\n",
      "\u001b[1;32m~\\miniconda3\\lib\\statistics.py\u001b[0m in \u001b[0;36m_sum\u001b[1;34m(data, start)\u001b[0m\n\u001b[0;32m    163\u001b[0m     \u001b[0mT\u001b[0m \u001b[1;33m=\u001b[0m \u001b[0m_coerce\u001b[0m\u001b[1;33m(\u001b[0m\u001b[0mint\u001b[0m\u001b[1;33m,\u001b[0m \u001b[0mtype\u001b[0m\u001b[1;33m(\u001b[0m\u001b[0mstart\u001b[0m\u001b[1;33m)\u001b[0m\u001b[1;33m)\u001b[0m\u001b[1;33m\u001b[0m\u001b[1;33m\u001b[0m\u001b[0m\n\u001b[0;32m    164\u001b[0m     \u001b[1;32mfor\u001b[0m \u001b[0mtyp\u001b[0m\u001b[1;33m,\u001b[0m \u001b[0mvalues\u001b[0m \u001b[1;32min\u001b[0m \u001b[0mgroupby\u001b[0m\u001b[1;33m(\u001b[0m\u001b[0mdata\u001b[0m\u001b[1;33m,\u001b[0m \u001b[0mtype\u001b[0m\u001b[1;33m)\u001b[0m\u001b[1;33m:\u001b[0m\u001b[1;33m\u001b[0m\u001b[1;33m\u001b[0m\u001b[0m\n\u001b[1;32m--> 165\u001b[1;33m         \u001b[0mT\u001b[0m \u001b[1;33m=\u001b[0m \u001b[0m_coerce\u001b[0m\u001b[1;33m(\u001b[0m\u001b[0mT\u001b[0m\u001b[1;33m,\u001b[0m \u001b[0mtyp\u001b[0m\u001b[1;33m)\u001b[0m  \u001b[1;31m# or raise TypeError\u001b[0m\u001b[1;33m\u001b[0m\u001b[1;33m\u001b[0m\u001b[0m\n\u001b[0m\u001b[0;32m    166\u001b[0m         \u001b[1;32mfor\u001b[0m \u001b[0mn\u001b[0m\u001b[1;33m,\u001b[0m \u001b[0md\u001b[0m \u001b[1;32min\u001b[0m \u001b[0mmap\u001b[0m\u001b[1;33m(\u001b[0m\u001b[0m_exact_ratio\u001b[0m\u001b[1;33m,\u001b[0m \u001b[0mvalues\u001b[0m\u001b[1;33m)\u001b[0m\u001b[1;33m:\u001b[0m\u001b[1;33m\u001b[0m\u001b[1;33m\u001b[0m\u001b[0m\n\u001b[0;32m    167\u001b[0m             \u001b[0mcount\u001b[0m \u001b[1;33m+=\u001b[0m \u001b[1;36m1\u001b[0m\u001b[1;33m\u001b[0m\u001b[1;33m\u001b[0m\u001b[0m\n",
      "\u001b[1;32m~\\miniconda3\\lib\\statistics.py\u001b[0m in \u001b[0;36m_coerce\u001b[1;34m(T, S)\u001b[0m\n\u001b[0;32m    214\u001b[0m     \u001b[1;31m# Any other combination is disallowed.\u001b[0m\u001b[1;33m\u001b[0m\u001b[1;33m\u001b[0m\u001b[1;33m\u001b[0m\u001b[0m\n\u001b[0;32m    215\u001b[0m     \u001b[0mmsg\u001b[0m \u001b[1;33m=\u001b[0m \u001b[1;34m\"don't know how to coerce %s and %s\"\u001b[0m\u001b[1;33m\u001b[0m\u001b[1;33m\u001b[0m\u001b[0m\n\u001b[1;32m--> 216\u001b[1;33m     \u001b[1;32mraise\u001b[0m \u001b[0mTypeError\u001b[0m\u001b[1;33m(\u001b[0m\u001b[0mmsg\u001b[0m \u001b[1;33m%\u001b[0m \u001b[1;33m(\u001b[0m\u001b[0mT\u001b[0m\u001b[1;33m.\u001b[0m\u001b[0m__name__\u001b[0m\u001b[1;33m,\u001b[0m \u001b[0mS\u001b[0m\u001b[1;33m.\u001b[0m\u001b[0m__name__\u001b[0m\u001b[1;33m)\u001b[0m\u001b[1;33m)\u001b[0m\u001b[1;33m\u001b[0m\u001b[1;33m\u001b[0m\u001b[0m\n\u001b[0m\u001b[0;32m    217\u001b[0m \u001b[1;33m\u001b[0m\u001b[0m\n\u001b[0;32m    218\u001b[0m \u001b[1;33m\u001b[0m\u001b[0m\n",
      "\u001b[1;31mTypeError\u001b[0m: don't know how to coerce float32 and float64"
     ]
    }
   ],
   "source": [
    "def calc_metrics(data):\n",
    "    # Calculate mean and stdev of the data, returns a string\n",
    "    mean = statistics.mean(data)\n",
    "    stdev = statistics.stdev(data, mean)\n",
    "    return \"{:.3f}±{:.3f}\".format(mean, stdev)\n",
    "    \n",
    "d = [ [\"Original Data\", 0 ,0,0,0,0],\n",
    "     [\"GAN\", 0 ,0,0,0,0],\n",
    "     [\"WGAN-GP\", 0 ,0,0,0,0],\n",
    "     [\"GAN-PR\", 0 ,0,0,0,0],\n",
    "     [\"WGAN-GP-PR\", 0 ,0,0,0,0],\n",
    "     [\"DECAF-ND\", calc_metrics(DECAF_ND[\"precision\"]), calc_metrics(DECAF_ND[\"recall\"]), calc_metrics(DECAF_ND[\"auroc\"]), calc_metrics(DECAF_ND[\"FTU\"]), calc_metrics(DECAF_ND[\"DP\"])],\n",
    "     [\"DECAF-FTU\", calc_metrics(DECAF_FTU[\"precision\"]), calc_metrics(DECAF_FTU[\"recall\"]), calc_metrics(DECAF_FTU[\"auroc\"]), calc_metrics(DECAF_FTU[\"FTU\"]), calc_metrics(DECAF_FTU[\"DP\"])],\n",
    "     [\"DECAF-CF\", calc_metrics(DECAF_CF[\"precision\"]), calc_metrics(DECAF_CF[\"recall\"]), calc_metrics(DECAF_CF[\"auroc\"]), calc_metrics(DECAF_CF[\"FTU\"]), calc_metrics(DECAF_CF[\"DP\"])],\n",
    "     [\"DECAF-DP\", calc_metrics(DECAF_DP[\"precision\"]), calc_metrics(DECAF_DP[\"recall\"]), calc_metrics(DECAF_DP[\"auroc\"]), calc_metrics(DECAF_DP[\"FTU\"]), calc_metrics(DECAF_DP[\"DP\"])]\n",
    "]\n",
    "\n",
    "df = pd.DataFrame(d, columns = [\"Model\", \"Precision\", \"Recall\", \"AUROC\", \"FTU\", \"DP\"])\n",
    "df"
   ]
  },
  {
   "cell_type": "markdown",
   "id": "93211ab6",
   "metadata": {},
   "source": [
    "## Experiment 2 - Fair Credit Approval"
   ]
  },
  {
   "cell_type": "markdown",
   "id": "0618a94a",
   "metadata": {},
   "source": [
    "First, load the credit data, the DAG and the biased edges for different fairness definitions of the credit data."
   ]
  },
  {
   "cell_type": "code",
   "execution_count": 5,
   "id": "a19a8776",
   "metadata": {},
   "outputs": [
    {
     "name": "stdout",
     "output_type": "stream",
     "text": [
      "             male         age        debt     married  bankcustomer  \\\n",
      "count  678.000000  678.000000  678.000000  678.000000    678.000000   \n",
      "mean     1.659292   31.568171    4.777625    2.213864      1.463127   \n",
      "std      0.510302   11.957862    4.997240    0.476927      0.858168   \n",
      "min      0.000000   13.750000    0.000000    0.000000      0.000000   \n",
      "25%      1.000000   22.602500    1.000000    2.000000      1.000000   \n",
      "50%      2.000000   28.460000    2.750000    2.000000      1.000000   \n",
      "75%      2.000000   38.230000    7.437500    2.000000      1.000000   \n",
      "90%      2.000000   48.524000   12.000000    3.000000      3.000000   \n",
      "95%      2.000000   56.432000   14.075000    3.000000      3.000000   \n",
      "99%      2.000000   68.785000   21.615000    3.000000      3.000000   \n",
      "max      2.000000   80.250000   28.000000    3.000000      3.000000   \n",
      "\n",
      "       educationlevel   ethnicity  yearsemployed  priordefault    employed  \\\n",
      "count      678.000000  678.000000     678.000000    678.000000  678.000000   \n",
      "mean         6.675516    0.609145       2.209226      0.523599    0.780236   \n",
      "std          4.326179    0.488302       3.350755      0.499812    0.414392   \n",
      "min          0.000000    0.000000       0.000000      0.000000    0.000000   \n",
      "25%          2.000000    0.000000       0.165000      0.000000    1.000000   \n",
      "50%          6.000000    1.000000       1.000000      1.000000    1.000000   \n",
      "75%         11.000000    1.000000       2.573750      1.000000    1.000000   \n",
      "90%         13.000000    1.000000       5.750000      1.000000    1.000000   \n",
      "95%         14.000000    1.000000       8.631000      1.000000    1.000000   \n",
      "99%         14.000000    1.000000      15.115000      1.000000    1.000000   \n",
      "max         14.000000    1.000000      28.500000      1.000000    1.000000   \n",
      "\n",
      "       creditscore  driverslicense     citizen         zip         income  \\\n",
      "count   678.000000      678.000000  678.000000  678.000000     678.000000   \n",
      "mean      2.435103        0.455752    0.174041   58.700590    1021.240413   \n",
      "std       4.896966        0.498406    0.553575   47.565056    5251.971453   \n",
      "min       0.000000        0.000000    0.000000    0.000000       0.000000   \n",
      "25%       0.000000        0.000000    0.000000   23.000000       0.000000   \n",
      "50%       0.000000        0.000000    0.000000   52.000000       5.000000   \n",
      "75%       3.000000        1.000000    0.000000   96.000000     395.500000   \n",
      "90%       9.000000        1.000000    0.000000  129.000000    1965.000000   \n",
      "95%      11.000000        1.000000    2.000000  150.150000    4084.200000   \n",
      "99%      17.000000        1.000000    2.000000  168.000000   15024.840000   \n",
      "max      67.000000        1.000000    2.000000  168.000000  100000.000000   \n",
      "\n",
      "         approved  \n",
      "count  678.000000  \n",
      "mean     0.550147  \n",
      "std      0.497846  \n",
      "min      0.000000  \n",
      "25%      0.000000  \n",
      "50%      1.000000  \n",
      "75%      1.000000  \n",
      "90%      1.000000  \n",
      "95%      1.000000  \n",
      "99%      1.000000  \n",
      "max      1.000000  \n"
     ]
    }
   ],
   "source": [
    "X, y, dfr, Xy, min_max_scaler = credit_data.load(0.5)\n",
    "dm = data.DataModule(Xy)\n",
    "\n",
    "dag_seed = [[1, 7], [8, 1], [10, 2], [6, 1], [7, 10], [13, 2], [7, 2], [9, 10], [9, 15], [8, 7], [14, 15], [4, 9], [4, 3], [8, 15], [7, 11], [13, 11], [12, 9], [9, 8]]\n",
    "bias_dict_FT = {15: [6]}\n",
    "bias_dict_DP = {15: [6, 3]}"
   ]
  },
  {
   "cell_type": "code",
   "execution_count": 1,
   "id": "de2cb4b1",
   "metadata": {},
   "outputs": [],
   "source": []
  },
  {
   "cell_type": "code",
   "execution_count": 2,
   "id": "c3fc40f3",
   "metadata": {},
   "outputs": [],
   "source": []
  },
  {
   "cell_type": "markdown",
   "id": "33ede9e1",
   "metadata": {},
   "source": []
  },
  {
   "cell_type": "code",
   "execution_count": null,
   "id": "6af2c6a9",
   "metadata": {},
   "outputs": [],
   "source": []
  },
  {
   "cell_type": "code",
   "execution_count": null,
   "id": "2e5c7363",
   "metadata": {},
   "outputs": [],
   "source": []
  },
  {
   "cell_type": "code",
   "execution_count": null,
   "id": "8a220c74",
   "metadata": {},
   "outputs": [],
   "source": []
  }
 ],
 "metadata": {
  "kernelspec": {
   "display_name": "Python 3 (ipykernel)",
   "language": "python",
   "name": "python3"
  },
  "language_info": {
   "codemirror_mode": {
    "name": "ipython",
    "version": 3
   },
   "file_extension": ".py",
   "mimetype": "text/x-python",
   "name": "python",
   "nbconvert_exporter": "python",
   "pygments_lexer": "ipython3",
   "version": "3.9.5"
  }
 },
 "nbformat": 4,
 "nbformat_minor": 5
}
